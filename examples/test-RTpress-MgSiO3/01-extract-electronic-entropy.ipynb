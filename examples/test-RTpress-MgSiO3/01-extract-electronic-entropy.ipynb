{
 "cells": [
  {
   "cell_type": "markdown",
   "metadata": {},
   "source": [
    "# Extracting electronic entropy\n",
    "* electronic entropy may play an important role at high temperatures (especially at low pressure)\n",
    "* The electronic contribution can only be constrained by first principles electronic calculations\n",
    "* We derive the electronic model from deKoker et al. 2009, refitting the model presented there to the electronic entropy data in Figure 3a.\n",
    "* This fitted model can then fully reproduce the electonic contributions in deKoker 2009."
   ]
  },
  {
   "cell_type": "code",
   "execution_count": null,
   "metadata": {},
   "outputs": [],
   "source": [
    "import numpy as np\n",
    "import pandas as pd\n",
    "import pickle\n",
    "from scipy import optimize\n",
    "\n",
    "import matplotlib.pyplot as plt\n",
    "%matplotlib notebook\n",
    "\n",
    "\n",
    "import xmeos\n",
    "from xmeos import models\n",
    "from xmeos import datamod\n",
    "CONSTS = models.CONSTS\n",
    "import copy\n",
    "\n",
    "\n",
    "kboltz = CONSTS['kboltz']"
   ]
  },
  {
   "cell_type": "code",
   "execution_count": null,
   "metadata": {},
   "outputs": [],
   "source": [
    "analysis_file = 'data/analysis.pkl'\n",
    "try:\n",
    "    with open(analysis_file, 'rb') as f:\n",
    "        analysis = pickle.load(f)\n",
    "except:\n",
    "    analysis = {}"
   ]
  },
  {
   "cell_type": "code",
   "execution_count": null,
   "metadata": {},
   "outputs": [],
   "source": []
  },
  {
   "cell_type": "code",
   "execution_count": null,
   "metadata": {},
   "outputs": [],
   "source": [
    "dat = pd.read_csv('data/MgSiO3-electron-entropy-deKoker2009.csv')"
   ]
  },
  {
   "cell_type": "code",
   "execution_count": null,
   "metadata": {},
   "outputs": [],
   "source": []
  },
  {
   "cell_type": "code",
   "execution_count": null,
   "metadata": {},
   "outputs": [],
   "source": [
    "eos_mod = models.ElectronicEos(kind='CvPowLaw')\n",
    "eos_mod.entropy(50,8000)/xmeos.models.CONSTS['kboltz']\n",
    "\n",
    "eos_mod.set_param_values(param_names=['V0', 'Tel0', 'TelExp', 'CvelFac0', 'CvelFacExp' ],\n",
    "                        param_values=[12.97, 3000, -.3, 2.7e-4,+.6])\n",
    "param0 = eos_mod.get_param_values(param_names=['Tel0', 'TelExp', 'CvelFac0', 'CvelFacExp'])\n",
    "V0, = eos_mod.get_param_values(param_names=['V0']) \n",
    "\n",
    "Vfrac = np.linspace(.35,1.25,1001)\n",
    "Vmod = V0*Vfrac"
   ]
  },
  {
   "cell_type": "code",
   "execution_count": null,
   "metadata": {},
   "outputs": [],
   "source": []
  },
  {
   "cell_type": "code",
   "execution_count": null,
   "metadata": {},
   "outputs": [],
   "source": [
    "# Initial fit by hand\n",
    "\n",
    "plt.figure()\n",
    "\n",
    "\n",
    "T0_ref = 4000\n",
    "\n",
    "cmap = plt.get_cmap('coolwarm',7)\n",
    "plt.scatter(dat['Vratio'],dat['S'],c=dat['T'],cmap=cmap)\n",
    "\n",
    "\n",
    "Tmod = [2000,3000,4000,5000,6000,7000,8000]\n",
    "\n",
    "for T in Tmod:\n",
    "    plt.plot(Vfrac, eos_mod.entropy(Vmod,T)/kboltz,':',\n",
    "             color=cmap((T-2000)/(8000-2000)))\n",
    "    \n",
    "# plt.colorbar()\n",
    "plt.clim(1500,8500)\n",
    "plt.xlabel('V/V0')\n",
    "plt.ylabel('S_elec / N kB')"
   ]
  },
  {
   "cell_type": "code",
   "execution_count": null,
   "metadata": {},
   "outputs": [],
   "source": []
  },
  {
   "cell_type": "code",
   "execution_count": null,
   "metadata": {},
   "outputs": [],
   "source": [
    "plt.figure()\n",
    "\n",
    "for T in Tmod:\n",
    "    plt.plot(Vfrac, eos_mod.heat_capacity(Vmod,T)/kboltz,'-',\n",
    "             color=cmap((T-2000)/(8000-2000)))\n",
    "    \n",
    "    \n",
    "\n",
    "plt.xlabel('V/V0')\n",
    "plt.ylabel('Cv_elec / N kB')"
   ]
  },
  {
   "cell_type": "code",
   "execution_count": null,
   "metadata": {},
   "outputs": [],
   "source": [
    "def resid_S_elec(param, Vratio=dat['Vratio'], T=dat['T'], S=dat['S'], eos_mod=eos_mod):\n",
    "\n",
    "    param_names = ['Tel0', 'TelExp', 'CvelFac0', 'CvelFacExp']\n",
    "    eos_mod.set_param_values(param_names=param_names, param_values=param)\n",
    "    V0, = eos_mod.get_param_values(param_names=['V0']) \n",
    "    V = Vratio*V0\n",
    "    \n",
    "    Smodel = eos_mod.entropy(V, T)/kboltz\n",
    "    resid_S = Smodel-S\n",
    "    \n",
    "    return resid_S"
   ]
  },
  {
   "cell_type": "code",
   "execution_count": null,
   "metadata": {},
   "outputs": [],
   "source": [
    "results = optimize.leastsq(resid_S_elec,param0)\n",
    "paramf = results[0]\n",
    "param_names = ['Tel0', 'TelExp', 'CvelFac0', 'CvelFacExp']\n",
    "eos_mod.set_param_values(param_names=param_names, param_values=paramf)\n",
    "\n",
    "print(param_names)\n",
    "print(paramf)\n"
   ]
  },
  {
   "cell_type": "code",
   "execution_count": null,
   "metadata": {},
   "outputs": [],
   "source": [
    "# Store data for later use\n",
    "analysis['eos_electronic'] = eos_mod\n",
    "analysis['electronic_param_names'] = param_names\n",
    "analysis['electronic_param_values'] = paramf\n",
    "\n",
    " \n",
    "with open(analysis_file, 'wb') as f:\n",
    "    pickle.dump(analysis, f)"
   ]
  },
  {
   "cell_type": "code",
   "execution_count": null,
   "metadata": {},
   "outputs": [],
   "source": []
  },
  {
   "cell_type": "code",
   "execution_count": null,
   "metadata": {},
   "outputs": [],
   "source": [
    "\n",
    "plt.figure()\n",
    "\n",
    "plt.scatter(dat['Vratio'],dat['S'],c=dat['T'],cmap=cmap)\n",
    "\n",
    "Tmod = [2000,3000,4000,5000,6000,7000,8000]\n",
    "\n",
    "for T in Tmod:\n",
    "    plt.plot(Vfrac, eos_mod.entropy(Vmod,T)/kboltz,':',\n",
    "             color=cmap((T-2000)/(8000-2000)))\n",
    "\n",
    "plt.colorbar()\n",
    "plt.clim(1500,8500)\n",
    "plt.xlabel('V/V0')\n",
    "plt.ylabel('S_elec / N kB')"
   ]
  },
  {
   "cell_type": "code",
   "execution_count": null,
   "metadata": {},
   "outputs": [],
   "source": []
  },
  {
   "cell_type": "code",
   "execution_count": null,
   "metadata": {},
   "outputs": [],
   "source": [
    "plt.figure()\n",
    "\n",
    "for T in Tmod:\n",
    "    plt.plot(Vfrac, eos_mod.energy(Vmod,T),'-',\n",
    "             color=cmap((T-2000)/(8000-2000)))\n",
    "\n",
    "\n",
    "plt.xlabel('V/V0')\n",
    "plt.ylabel('E_elec [eV / atom]')"
   ]
  },
  {
   "cell_type": "code",
   "execution_count": null,
   "metadata": {},
   "outputs": [],
   "source": []
  },
  {
   "cell_type": "code",
   "execution_count": null,
   "metadata": {},
   "outputs": [],
   "source": [
    "V0, = eos_mod.get_param_values(param_names=['V0'])\n",
    "plt.figure()\n",
    "\n",
    "for T in Tmod:\n",
    "    plt.plot(Vfrac, eos_mod.press(Vfrac*V0,T),'-',\n",
    "             color=cmap((T-2000)/(8000-2000)))\n",
    "    \n",
    "plt.xlabel('V/V0')\n",
    "plt.ylabel('P_elec [GPa]')"
   ]
  },
  {
   "cell_type": "code",
   "execution_count": null,
   "metadata": {},
   "outputs": [],
   "source": []
  },
  {
   "cell_type": "code",
   "execution_count": null,
   "metadata": {},
   "outputs": [],
   "source": []
  }
 ],
 "metadata": {
  "kernelspec": {
   "display_name": "Python 3",
   "language": "python",
   "name": "python3"
  },
  "language_info": {
   "codemirror_mode": {
    "name": "ipython",
    "version": 3
   },
   "file_extension": ".py",
   "mimetype": "text/x-python",
   "name": "python",
   "nbconvert_exporter": "python",
   "pygments_lexer": "ipython3",
   "version": "3.6.2"
  }
 },
 "nbformat": 4,
 "nbformat_minor": 2
}
