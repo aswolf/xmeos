{
 "cells": [
  {
   "cell_type": "code",
   "execution_count": null,
   "metadata": {},
   "outputs": [],
   "source": [
    "import matplotlib.pyplot as plt\n",
    "%matplotlib notebook\n",
    "import numpy as np\n",
    "import pandas as pd\n",
    "from scipy import interpolate\n",
    "import pickle\n",
    "\n",
    "import xmeos\n",
    "from xmeos import models\n",
    "from xmeos import datamod\n",
    "\n",
    "CONSTS = models.CONSTS"
   ]
  },
  {
   "cell_type": "code",
   "execution_count": null,
   "metadata": {},
   "outputs": [],
   "source": [
    "analysis_file = 'data/analysis.pkl'\n",
    "with open(analysis_file, 'rb') as f:\n",
    "    analysis = pickle.load(f)"
   ]
  },
  {
   "cell_type": "code",
   "execution_count": null,
   "metadata": {},
   "outputs": [],
   "source": []
  },
  {
   "cell_type": "code",
   "execution_count": null,
   "metadata": {},
   "outputs": [],
   "source": [
    "eos_mod = analysis['eos_mod']\n",
    "data = analysis['datasets']['Spera2011']\n",
    "eos_electronic = analysis['eos_electronic']\n",
    "# data = analysis['datasets']['multi']\n",
    "\n",
    "param_tex_str = analysis['param_tex_str']\n",
    "params_init = analysis['params_init']\n",
    "\n",
    "eos_mod.set_params(params_init)\n",
    "# display(eos_mod.get_params())\n",
    "datamodel = datamod.init_datamodel(data, eos_mod)\n"
   ]
  },
  {
   "cell_type": "code",
   "execution_count": null,
   "metadata": {},
   "outputs": [],
   "source": [
    "# datamodel"
   ]
  },
  {
   "cell_type": "code",
   "execution_count": null,
   "metadata": {},
   "outputs": [],
   "source": []
  },
  {
   "cell_type": "code",
   "execution_count": null,
   "metadata": {},
   "outputs": [],
   "source": [
    "print('Calc Params')\n",
    "print('===========')\n",
    "eos_mod.get_calc_params()"
   ]
  },
  {
   "cell_type": "code",
   "execution_count": null,
   "metadata": {},
   "outputs": [],
   "source": []
  },
  {
   "cell_type": "code",
   "execution_count": null,
   "metadata": {},
   "outputs": [],
   "source": [
    "fit_calcs = ['compress','refstate','gamma','bcoef','thermal']\n",
    "fix_params = ['S0','Cvlimfac','mexp']\n",
    "# fix_params = ['S0','mexp']\n",
    "# fix_params = ['S0','Cvlimfac']\n",
    "datamodel['eos_mod'].set_param_values([3/5,1], param_names=['mexp','Cvlimfac'])\n",
    "datamod.select_fit_params(datamodel, fit_calcs, fix_params=fix_params)"
   ]
  },
  {
   "cell_type": "code",
   "execution_count": null,
   "metadata": {},
   "outputs": [],
   "source": []
  },
  {
   "cell_type": "code",
   "execution_count": null,
   "metadata": {},
   "outputs": [],
   "source": [
    "datamod.fit(datamodel)\n",
    "datamod.fit(datamodel, apply_bulk_mod_wt=True, wt_vol=.5)"
   ]
  },
  {
   "cell_type": "code",
   "execution_count": null,
   "metadata": {},
   "outputs": [],
   "source": [
    "R2fit = datamodel['posterior']['R2fit']\n",
    "display('R2fit = ', R2fit)\n",
    "display('R2avg = ', 0.5*R2fit['E']+.25*R2fit['P']+.25*R2fit['E'])\n",
    "display('Model Residual Error = ', datamodel['posterior']['fit_err'])\n",
    "display(datamodel['posterior']['param_tbl'])"
   ]
  },
  {
   "cell_type": "code",
   "execution_count": null,
   "metadata": {},
   "outputs": [],
   "source": [
    "display('R2fit = ', datamodel['posterior']['R2fit'])\n",
    "display('Model Residual Error = ', datamodel['posterior']['fit_err'])\n",
    "display(datamodel['posterior']['param_tbl'])"
   ]
  },
  {
   "cell_type": "code",
   "execution_count": null,
   "metadata": {},
   "outputs": [],
   "source": [
    ".5*(0.9997647071840597+.5*0.9998527429587041+.5*0.9986048490791933)"
   ]
  },
  {
   "cell_type": "code",
   "execution_count": null,
   "metadata": {},
   "outputs": [],
   "source": [
    ".5*(0.999759019439001+.5*0.99985949101627+.5*0.9986848263745852)"
   ]
  },
  {
   "cell_type": "code",
   "execution_count": null,
   "metadata": {},
   "outputs": [],
   "source": [
    ".999516-.999497"
   ]
  },
  {
   "cell_type": "code",
   "execution_count": null,
   "metadata": {},
   "outputs": [],
   "source": [
    "# Save fitted model\n",
    "analysis['datamodel'] = datamodel\n",
    "with open(analysis_file, 'wb') as f:\n",
    "    pickle.dump(analysis, f)"
   ]
  },
  {
   "cell_type": "code",
   "execution_count": null,
   "metadata": {},
   "outputs": [],
   "source": []
  },
  {
   "cell_type": "code",
   "execution_count": null,
   "metadata": {},
   "outputs": [],
   "source": [
    "plt.figure()\n",
    "\n",
    "posterior = datamodel['posterior']\n",
    "corr = posterior['corr']\n",
    "if corr is not None:\n",
    "\n",
    "    param_labels = [param_tex_str[name] for name in posterior['param_names']]\n",
    "\n",
    "\n",
    "    cmap = plt.get_cmap('coolwarm')\n",
    "    Nparam = len(param_labels)\n",
    "\n",
    "    corr_plt = np.flipud(np.ma.masked_where(np.eye(Nparam),corr))\n",
    "    plt.pcolormesh(corr_plt,cmap=cmap)\n",
    "\n",
    "\n",
    "    # plt.imshow(corr, cmap=cmap)\n",
    "    plt.clim(-1,1)\n",
    "    plt.colorbar(label=r'Correlation Coefficient')\n",
    "\n",
    "    plt.xticks(.5+np.arange(len(param_labels)),param_labels)\n",
    "    plt.yticks(np.flipud(.5+np.arange(len(param_labels))),param_labels)\n",
    "\n",
    "    for (index,val) in np.ndenumerate(np.flipud(corr)):\n",
    "        if index[1]!=Nparam-1-index[0]:\n",
    "            plt.text(index[1]+.5,index[0]+.5,'%+.2f'%(val),fontsize=9,\n",
    "                     horizontalalignment='center', verticalalignment='center')\n",
    "\n",
    "    plt.setp(plt.gca().get_xticklines(),visible=False);\n",
    "    plt.setp(plt.gca().get_yticklines(),visible=False);\n",
    "\n",
    "\n",
    "#plt.plot((0,11),(5,5),'k-',linewidth=2)\n",
    "#plt.plot((0,11),(7,7),'k-',linewidth=2)\n",
    "#plt.plot((4,4),(0,11),'k-',linewidth=2)\n",
    "#plt.plot((6,6),(0,11),'k-',linewidth=2)\n",
    "#plt.show()\n",
    "\n"
   ]
  },
  {
   "cell_type": "code",
   "execution_count": null,
   "metadata": {},
   "outputs": [],
   "source": []
  },
  {
   "cell_type": "code",
   "execution_count": null,
   "metadata": {},
   "outputs": [],
   "source": [
    "eos_mod = datamodel['eos_mod']\n",
    "T0 = eos_mod.get_refstate()['T0']\n",
    "V0 = eos_mod.get_params()['V0']\n",
    "tbl = datamodel['data']['table']\n",
    "Tlbl = data['T_labels']\n",
    "delT = Tlbl[1]-Tlbl[0]\n",
    "\n",
    "cmap = plt.get_cmap('coolwarm',len(Tlbl))\n",
    "clims = [Tlbl[0]-delT/2,Tlbl[-1]+delT/2]\n",
    "\n",
    "Vmod = V0*np.linspace(.3,1.2,1001)"
   ]
  },
  {
   "cell_type": "code",
   "execution_count": null,
   "metadata": {},
   "outputs": [],
   "source": [
    "plt.figure()\n",
    "for iT in data['T_avg']:\n",
    "    icol = cmap((iT-clims[0])/(clims[1]-clims[0]))\n",
    "    plt.plot(Vmod/V0, eos_mod.press(Vmod,iT), '-', color=icol)\n",
    "\n",
    "\n",
    "Tbnd = 1773\n",
    "Tbnd = 1673\n",
    "Pbnd = eos_mod.press(Vmod,Tbnd)\n",
    "# indbnd = np.argmin(Pbnd)\n",
    "indbnd = np.argmin(Pbnd**2)\n",
    "\n",
    "\n",
    "plt.plot(Vmod[:indbnd]/V0, Pbnd[:indbnd],'-.',color=[.5,.5,.5])\n",
    "    \n",
    "plt.scatter(tbl['V']/V0,tbl['P'],c=tbl['T'], cmap=cmap)\n",
    "plt.clim(clims)\n",
    "plt.xlabel(r'$V$ / $V_0$')\n",
    "plt.ylabel(r'Pressure  [GPa]')\n",
    "cbar = plt.colorbar(label='Temperature [K]')\n",
    "cbar.set_ticks(Tlbl)\n",
    "\n",
    "#plt.ylim(-2,15);\n",
    "plt.plot(Vmod/V0,0*Vmod,'k-')\n",
    "\n",
    "\n"
   ]
  },
  {
   "cell_type": "code",
   "execution_count": null,
   "metadata": {},
   "outputs": [],
   "source": []
  },
  {
   "cell_type": "code",
   "execution_count": null,
   "metadata": {},
   "outputs": [],
   "source": [
    "plt.figure()\n",
    "for iT in data['T_avg']:\n",
    "    icol = cmap((iT-clims[0])/(clims[1]-clims[0]))\n",
    "    plt.plot(Vmod/V0, eos_mod.internal_energy(Vmod,iT), '-', color=icol)\n",
    "    \n",
    "plt.scatter(tbl['V']/V0,tbl['E'],c=tbl['T'], cmap=cmap)\n",
    "plt.xlabel(r'$V$ / $V_0$')\n",
    "plt.ylabel(r'Energy  [eV/atom]')\n",
    "cbar = plt.colorbar()\n",
    "plt.clim(clims)\n",
    "cbar.set_ticks(Tlbl)\n",
    "plt.ylim(-21,-19)"
   ]
  },
  {
   "cell_type": "code",
   "execution_count": null,
   "metadata": {},
   "outputs": [],
   "source": [
    "plt.figure()\n",
    "for iT in data['T_avg']:\n",
    "    icol = cmap((iT-clims[0])/(clims[1]-clims[0]))\n",
    "    plt.plot(eos_mod.press(Vmod,iT), eos_mod.internal_energy(Vmod,iT), '-', color=icol)\n",
    "    \n",
    "plt.scatter(tbl['P'], tbl['E'], c=tbl['T'], cmap=cmap)\n",
    "plt.clim(clims)\n",
    "plt.xlabel(r'Pressure  [GPa]')\n",
    "plt.ylabel(r'Energy  [eV / atom]')\n",
    "cbar = plt.colorbar(label='Temperature [K]')\n",
    "cbar.set_ticks(Tlbl)\n",
    "\n",
    "plt.xlim(-5, 200)\n",
    "plt.ylim(-21, -19)"
   ]
  },
  {
   "cell_type": "code",
   "execution_count": null,
   "metadata": {},
   "outputs": [],
   "source": []
  },
  {
   "cell_type": "code",
   "execution_count": null,
   "metadata": {},
   "outputs": [],
   "source": [
    "eos_electronic.set_param_values(param_names='V0', param_values=V0)\n",
    "E_elec = eos_electronic.energy(tbl['V'], tbl['T'])\n",
    "P_elec = eos_electronic.press(tbl['V'], tbl['T'])"
   ]
  },
  {
   "cell_type": "code",
   "execution_count": null,
   "metadata": {},
   "outputs": [],
   "source": [
    "T_avg = data['T_avg']\n",
    "# T_avg.append(8000)"
   ]
  },
  {
   "cell_type": "code",
   "execution_count": null,
   "metadata": {},
   "outputs": [],
   "source": [
    "plt.figure()\n",
    "for iT in T_avg:\n",
    "    icol = cmap((iT-clims[0])/(clims[1]-clims[0]))\n",
    "    plt.plot(Vmod/V0, eos_mod.internal_energy(Vmod,iT), '-', color=icol)\n",
    "    plt.plot(Vmod/V0, eos_mod.internal_energy(Vmod,iT)+eos_electronic.energy(Vmod, iT), ':', color=icol)\n",
    "    \n",
    "plt.scatter(tbl['V']/V0,tbl['E'],c=tbl['T'], cmap=cmap)\n",
    "plt.xlabel(r'$V$ / $V_0$')\n",
    "plt.ylabel(r'Energy  [eV/atom]')\n",
    "cbar = plt.colorbar()\n",
    "plt.clim(clims)\n",
    "cbar.set_ticks(Tlbl)\n",
    "plt.ylim(-21,-19)"
   ]
  },
  {
   "cell_type": "code",
   "execution_count": null,
   "metadata": {},
   "outputs": [],
   "source": [
    "plt.figure()\n",
    "for iT in data['T_avg']:\n",
    "    icol = cmap((iT-clims[0])/(clims[1]-clims[0]))\n",
    "    plt.plot(Vmod/V0, eos_mod.press(Vmod,iT), '-', color=icol)\n",
    "    plt.plot(Vmod/V0, eos_mod.press(Vmod,iT)+eos_electronic.press(Vmod, iT), ':', color=icol)\n",
    "\n",
    "\n",
    "Tbnd = 1773\n",
    "Tbnd = 1673\n",
    "Pbnd = eos_mod.press(Vmod,Tbnd)\n",
    "# indbnd = np.argmin(Pbnd)\n",
    "indbnd = np.argmin(Pbnd**2)\n",
    "\n",
    "\n",
    "plt.plot(Vmod[:indbnd]/V0, Pbnd[:indbnd],'-.',color=[.5,.5,.5])\n",
    "    \n",
    "plt.scatter(tbl['V']/V0,tbl['P'],c=tbl['T'], cmap=cmap)\n",
    "plt.clim(clims)\n",
    "plt.xlabel(r'$V$ / $V_0$')\n",
    "plt.ylabel(r'Pressure  [GPa]')\n",
    "cbar = plt.colorbar(label='Temperature [K]')\n",
    "cbar.set_ticks(Tlbl)\n",
    "\n",
    "#plt.ylim(-2,15);\n",
    "plt.plot(Vmod/V0,0*Vmod,'k-')"
   ]
  },
  {
   "cell_type": "code",
   "execution_count": null,
   "metadata": {},
   "outputs": [],
   "source": []
  },
  {
   "cell_type": "code",
   "execution_count": null,
   "metadata": {},
   "outputs": [],
   "source": [
    ".91*12.95"
   ]
  },
  {
   "cell_type": "code",
   "execution_count": null,
   "metadata": {},
   "outputs": [],
   "source": []
  }
 ],
 "metadata": {
  "kernelspec": {
   "display_name": "Python 3",
   "language": "python",
   "name": "python3"
  },
  "language_info": {
   "codemirror_mode": {
    "name": "ipython",
    "version": 3
   },
   "file_extension": ".py",
   "mimetype": "text/x-python",
   "name": "python",
   "nbconvert_exporter": "python",
   "pygments_lexer": "ipython3",
   "version": "3.6.2"
  }
 },
 "nbformat": 4,
 "nbformat_minor": 2
}
