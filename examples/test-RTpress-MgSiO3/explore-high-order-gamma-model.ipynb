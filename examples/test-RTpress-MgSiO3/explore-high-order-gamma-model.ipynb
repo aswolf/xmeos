{
 "cells": [
  {
   "cell_type": "markdown",
   "metadata": {},
   "source": [
    "# Exploration of higher order gamma model\n",
    "* Additional Taylor coefficents can better match observed shape of gamma model for MD data\n",
    "* But the coefficients are not well constrained and yield unphysical behavior at very high pressures beyond the data range\n",
    "  * gamma tends toward negative infinity at high compression"
   ]
  },
  {
   "cell_type": "code",
   "execution_count": null,
   "metadata": {},
   "outputs": [],
   "source": [
    "import matplotlib.pyplot as plt\n",
    "%matplotlib notebook\n",
    "import numpy as np\n",
    "import pandas as pd\n",
    "from scipy import interpolate\n",
    "import pickle\n",
    "from scipy import optimize\n",
    "\n",
    "\n",
    "import xmeos\n",
    "from xmeos import models\n",
    "from xmeos import datamod"
   ]
  },
  {
   "cell_type": "code",
   "execution_count": null,
   "metadata": {},
   "outputs": [],
   "source": [
    "analysis_file = 'data/analysis.pkl'\n",
    "with open(analysis_file, 'rb') as f:\n",
    "    analysis = pickle.load(f)\n",
    "    \n",
    "gamma_avg_md = analysis['gamma_avg_md']"
   ]
  },
  {
   "cell_type": "code",
   "execution_count": null,
   "metadata": {},
   "outputs": [],
   "source": [
    "V0 = 12.97\n",
    "a1=6*.134\n",
    "a2=-12*.1+36*.1**2-18*(-2.113)\n",
    "a3=0\n",
    "a4=0\n",
    "a5=0\n",
    "# params0 = [a1,a2,a3]\n",
    "#params0 = [a1,a2]\n",
    "\n",
    "\n",
    "\n",
    "\n",
    "def calc_gamma(V, params, V0=V0):\n",
    "    a = np.zeros(4)\n",
    "    a[0:len(params)] = params\n",
    "    \n",
    "    fstr = .5*((V0/V)**(2/3)-1)\n",
    "    gamma = 1/6*(2*fstr+1)*(\n",
    "        a[0]+a[1]*fstr+1/2*a[2]*fstr**2+1/6*a[3]*fstr**3)/(\n",
    "        1+a[0]*fstr+.5*a[1]*fstr**2+1/6*a[2]*fstr**3+1/24*a[3]*fstr**4)\n",
    "    return gamma\n",
    "\n",
    "def calc_adiabatic_temp(V, params, V0=V0, T0=1):\n",
    "    a = np.zeros(4)\n",
    "    a[0:len(params)] = params\n",
    "    fstr = .5*((V0/V)**(2/3)-1)\n",
    "    Tad = T0*np.sqrt(\n",
    "        1+a[0]*fstr+.5*a[1]*fstr**2+1/6*a[2]*fstr**3+1/24*a[3]*fstr**4)\n",
    "    return Tad\n",
    "                     \n",
    "\n",
    "\n",
    "def resid(params, gamma_dat=gamma_avg_md['gamma'], \n",
    "          V=gamma_avg_md['V'], V0=V0):\n",
    "    gamma_mod = calc_gamma(V, params, V0=V0)\n",
    "    resid = gamma_mod-gamma_dat\n",
    "    return resid\n",
    "params0_simp = [a1,a2]\n",
    "params0 = [a1,a2,a3,a4]\n",
    "\n",
    "\n",
    "# params0 = [a1,a2,a3]\n",
    "fit_tup = optimize.leastsq(resid, params0)\n",
    "paramsf = fit_tup[0]\n",
    "# paramsf[2]=0\n",
    "\n",
    "fit_tup_simp = optimize.leastsq(resid, params0_simp)\n",
    "paramsf_simp = fit_tup_simp[0]\n",
    "\n",
    "Vmod = V0*np.linspace(.32,1.2,1001)\n",
    "gamma_f = calc_gamma(Vmod, paramsf)\n",
    "gamma_f_simp = calc_gamma(Vmod, paramsf_simp)\n",
    "gamma_init = calc_gamma(Vmod,params0)\n",
    "print(paramsf)\n",
    "    \n",
    "# logTad = np.log(calc_adiabatic_temp(Vmod, paramsf))\n",
    "# gamma_grad = -np.diff(logTad)/np.diff(np.log(Vmod))\n",
    "\n",
    "plt.figure()\n",
    "plt.plot(Vmod,gamma_f_simp,'r-',\n",
    "         gamma_avg_md['V'], gamma_avg_md['gamma'],'ko', \n",
    "         Vmod, gamma_f, 'k--')\n",
    "\n"
   ]
  },
  {
   "cell_type": "code",
   "execution_count": null,
   "metadata": {},
   "outputs": [],
   "source": []
  }
 ],
 "metadata": {
  "kernelspec": {
   "display_name": "Python 3",
   "language": "python",
   "name": "python3"
  },
  "language_info": {
   "codemirror_mode": {
    "name": "ipython",
    "version": 3
   },
   "file_extension": ".py",
   "mimetype": "text/x-python",
   "name": "python",
   "nbconvert_exporter": "python",
   "pygments_lexer": "ipython3",
   "version": "3.6.2"
  }
 },
 "nbformat": 4,
 "nbformat_minor": 2
}
