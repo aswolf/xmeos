{
 "cells": [
  {
   "cell_type": "code",
   "execution_count": null,
   "metadata": {},
   "outputs": [],
   "source": [
    "import matplotlib.pyplot as plt\n",
    "from mpl_toolkits.axes_grid1 import make_axes_locatable\n",
    "%matplotlib notebook\n",
    "import numpy as np\n",
    "import pandas as pd\n",
    "from scipy import interpolate\n",
    "import scipy as sp\n",
    "import pickle\n",
    "\n",
    "import xmeos\n",
    "from xmeos import models\n",
    "from xmeos import datamod\n",
    "from xmeos import eoslib\n",
    "\n",
    "from collections import OrderedDict\n",
    "CONSTS = models.CONSTS"
   ]
  },
  {
   "cell_type": "code",
   "execution_count": null,
   "metadata": {},
   "outputs": [],
   "source": [
    "mgpv_eos = eoslib.MgPv_Mosenfelder2009()"
   ]
  },
  {
   "cell_type": "code",
   "execution_count": null,
   "metadata": {},
   "outputs": [],
   "source": [
    "T20 = 2500\n",
    "T120 = 4500\n",
    "poly_liq = np.polyfit([20,120], [2500, 4500], 1)\n",
    "\n",
    "V20 = mgpv_eos.volume(20,T20)\n",
    "V80 = mgpv_eos.volume(80,T80)\n",
    "V120 = mgpv_eos.volume(120,T120)"
   ]
  },
  {
   "cell_type": "code",
   "execution_count": null,
   "metadata": {},
   "outputs": [],
   "source": [
    "mgpv_eos.thermal_exp(V20,T20)"
   ]
  },
  {
   "cell_type": "code",
   "execution_count": null,
   "metadata": {},
   "outputs": [],
   "source": [
    "Pmod = np.linspace(20,150, 11)\n",
    "# Tmod = np.polyval(poly_liq, Pmod)\n",
    "Tmod = 300*np.ones(Pmod.shape)\n",
    "Vmod = np.zeros(Pmod.shape)\n",
    "\n",
    "for ind, (iP, iT) in enumerate(zip(Pmod, Tmod)):\n",
    "    iV = mgpv_eos.volume(iP, iT)\n",
    "    Vmod[ind] = iV\n",
    "\n",
    "plt.figure()\n",
    "plt.plot(Pmod,Vmod,'r-o')"
   ]
  },
  {
   "cell_type": "code",
   "execution_count": null,
   "metadata": {},
   "outputs": [],
   "source": [
    "alpha_mod = mgpv_eos.thermal_exp(Vmod, Tmod)\n",
    "KT_mod = mgpv_eos.bulk_mod(Vmod, Tmod)"
   ]
  },
  {
   "cell_type": "code",
   "execution_count": null,
   "metadata": {},
   "outputs": [],
   "source": [
    "plt.figure()\n",
    "plt.plot(Vmod, 1e3*alpha_mod*KT_mod, '-')"
   ]
  },
  {
   "cell_type": "code",
   "execution_count": null,
   "metadata": {},
   "outputs": [],
   "source": []
  },
  {
   "cell_type": "code",
   "execution_count": null,
   "metadata": {},
   "outputs": [],
   "source": []
  },
  {
   "cell_type": "code",
   "execution_count": null,
   "metadata": {},
   "outputs": [],
   "source": [
    "analysis_file = 'data/analysis.pkl'\n",
    "with open(analysis_file, 'rb') as f:\n",
    "    analysis = pickle.load(f)"
   ]
  },
  {
   "cell_type": "code",
   "execution_count": null,
   "metadata": {},
   "outputs": [],
   "source": [
    "datamodel = analysis['datamodel']\n",
    "datamodel_dK09 = analysis['datamodel_dK09']\n",
    "liq_eos = datamodel['eos_mod']\n",
    "liq_eos_dK09 = datamodel_dK09['eos_mod']\n",
    "\n",
    "\n",
    "# data = datamodel['data']\n",
    "# data_dK09 = datamodel_dK09['data']\n",
    "# props_Lange = analysis['props_Lange']\n",
    "# props_Ghiorso = analysis['props_Ghiorso']\n",
    "\n",
    "liq_eos.apply_electronic = False\n",
    "liq_eos_dK09.apply_electronic = False\n"
   ]
  },
  {
   "cell_type": "code",
   "execution_count": null,
   "metadata": {},
   "outputs": [],
   "source": [
    "def volume(P, T, eos_mod, Vinit=None, TOL=1e-3, bounds_error=True):\n",
    "\n",
    "\n",
    "    def press_diff(V, P=P, T=T):\n",
    "        return eos_mod.press(V, T) - P\n",
    "\n",
    "    def press_diff_sqr(V, P=P, T=T):\n",
    "        return (eos_mod.press(V, T) - P)**2\n",
    "\n",
    "    def press_deriv(V, P=P, T=T):\n",
    "        K = eos_mod.bulk_mod(V, T)\n",
    "        dPdV = -K/V\n",
    "        return dPdV\n",
    "\n",
    "    \n",
    "    if Vinit is None:\n",
    "        V0, = eos_mod.get_param_values(param_names='V0')\n",
    "        V_min0 = 0.8*V0\n",
    "    else:\n",
    "        V_min0 = Vinit\n",
    "        \n",
    "    V_min = sp.optimize.fmin(press_diff, V_min0, disp=False)\n",
    "\n",
    "    #assert np.isscalar(Vinit), 'Vinit must be a scalar val.'\n",
    "    # V = sp.optimize.fsolve(press_diff, Vinit, fprime=press_deriv)\n",
    "    \n",
    "    #V_min = sp.optimize.fmin(press_diff, Vinit, disp=False)\n",
    "\n",
    "    if +press_diff(V_min) > +TOL:\n",
    "        if bounds_error:\n",
    "            raise ValueError(\n",
    "                'The EOS is being sampled at an unphysical '\n",
    "                'location! The target pressure is not accesible '\n",
    "                'at this temperature.'\n",
    "            )\n",
    "        V = np.nan\n",
    "\n",
    "    elif Vinit is None:\n",
    "        output = sp.optimize.minimize(\n",
    "            press_diff_sqr, [0.8*V_min], bounds=[(None, V_min)],\n",
    "            options={'disp':False})\n",
    "        V, = output.x\n",
    "\n",
    "    else:\n",
    "        #output = sp.optimize.minimize(\n",
    "        #    press_diff_sqr, [Vinit], bounds=[(None, V_min)],\n",
    "        #    options={'disp':False})\n",
    "        #V, = output.x\n",
    "        V = sp.optimize.fsolve(press_diff, Vinit, fprime=press_deriv)\n",
    "    return V\n"
   ]
  },
  {
   "cell_type": "code",
   "execution_count": null,
   "metadata": {},
   "outputs": [],
   "source": []
  },
  {
   "cell_type": "markdown",
   "metadata": {},
   "source": [
    "## Adjust liquid entropy to be realistic at reference point on melting curve"
   ]
  },
  {
   "cell_type": "code",
   "execution_count": null,
   "metadata": {},
   "outputs": [],
   "source": [
    "def adjust_melting_entropy(P_fus0, T_fus0, sol_eos, liq_eos, dS_fus=1.5, Vliq_init=9.1):\n",
    "    Vliq_fus0 = volume(P_fus0, T_fus0, liq_eos, Vinit=9)\n",
    "    Vsol_fus0 = volume(P_fus0, T_fus0, sol_eos)\n",
    "    \n",
    "    # print(Vliq_fus0)\n",
    "    # print(Vsol_fus0)\n",
    "\n",
    "    # print(liq_eos.press(Vliq_fus0, T_fus0))\n",
    "    # print(sol_eos.press(Vsol_fus0, T_fus0))\n",
    "\n",
    "    liq_eos.set_param_values(0, param_names='S0')\n",
    "\n",
    "    Sliq_fus0_init = liq_eos.entropy(Vliq_fus0, T_fus0)\n",
    "    Ssol_fus0 = sol_eos.entropy(Vsol_fus0, T_fus0)\n",
    "\n",
    "    S0 = Ssol_fus0 + dS_fus*CONSTS['kboltz'] - Sliq_fus0_init\n",
    "    liq_eos.set_param_values(S0, param_names='S0')\n",
    "    \n",
    "    TOL = 1e-5\n",
    "    S_error = (liq_eos.entropy(Vliq_fus0, T_fus0)\n",
    "               - sol_eos.entropy(Vsol_fus0, T_fus0))/CONSTS['kboltz']-dS_fus\n",
    "    assert np.abs(S_error)<TOL, (\n",
    "        'fusion entropy does not match expectation... something wrong here.'\n",
    "    )\n",
    "    pass"
   ]
  },
  {
   "cell_type": "code",
   "execution_count": null,
   "metadata": {},
   "outputs": [],
   "source": [
    "liq_eos_dK09.press(9.1,2900)"
   ]
  },
  {
   "cell_type": "code",
   "execution_count": null,
   "metadata": {},
   "outputs": [],
   "source": [
    "P_fus0 = 25\n",
    "T_fus0 = 2900\n",
    "\n",
    "adjust_melting_entropy(P_fus0, T_fus0, mgpv_eos, liq_eos, dS_fus=1.5)\n",
    "adjust_melting_entropy(P_fus0, T_fus0, mgpv_eos, liq_eos_dK09, dS_fus=1.5)"
   ]
  },
  {
   "cell_type": "code",
   "execution_count": null,
   "metadata": {},
   "outputs": [],
   "source": [
    "liq_eos.get_param_values(param_names='S0')"
   ]
  },
  {
   "cell_type": "code",
   "execution_count": null,
   "metadata": {},
   "outputs": [],
   "source": [
    "liq_eos_dK09.get_param_values(param_names='S0')"
   ]
  },
  {
   "cell_type": "code",
   "execution_count": null,
   "metadata": {},
   "outputs": [],
   "source": []
  },
  {
   "cell_type": "code",
   "execution_count": null,
   "metadata": {},
   "outputs": [],
   "source": []
  },
  {
   "cell_type": "code",
   "execution_count": null,
   "metadata": {},
   "outputs": [],
   "source": [
    "\n"
   ]
  },
  {
   "cell_type": "code",
   "execution_count": null,
   "metadata": {},
   "outputs": [],
   "source": [
    "def trace_phase_bound(Pinit, Tinit, Plim, phase1_eos, phase2_eos, \n",
    "                      Vinit1=None, Vinit2=None, N=100):\n",
    "    \n",
    "    Pbound = np.linspace(Pinit, Plim, N)\n",
    "    Tbound = np.zeros(N)\n",
    "    Tbound[0] = Tinit\n",
    "    \n",
    "    dP = Pbound[1]-Pbound[0]\n",
    "    \n",
    "    Vphase1_init = volume(Pinit, Tinit, phase1_eos, Vinit=Vinit1)\n",
    "    Vphase2_init = volume(Pinit, Tinit, phase2_eos, Vinit=Vinit2)\n",
    "\n",
    "    for ind, (P, T) in enumerate(zip(Pbound[:-1], Tbound[:-1])):\n",
    "        Vphase1 = volume(P, T, phase1_eos, Vinit=Vphase1_init)\n",
    "        Vphase2 = volume(P, T, phase2_eos, Vinit=Vphase2_init)\n",
    "        \n",
    "        dV = Vphase2-Vphase1\n",
    "        dS = (phase2_eos.entropy(Vphase2, T) \n",
    "              - phase1_eos.entropy(Vphase1, T))[0]\n",
    "        \n",
    "        dTdP = dV/dS/CONSTS['PV_ratio']\n",
    "        dT = dTdP*dP\n",
    "        \n",
    "        Pbound[ind+1] = P+dP\n",
    "        Tbound[ind+1] = T+dT\n",
    "        \n",
    "        Vphase1_init = Vphase1\n",
    "        Vphase2_init = Vphase2\n",
    "\n",
    "    return Pbound, Tbound"
   ]
  },
  {
   "cell_type": "code",
   "execution_count": null,
   "metadata": {},
   "outputs": [],
   "source": [
    "P_fus, T_fus =  trace_phase_bound(P_fus0, T_fus0, 136, mgpv_eos, liq_eos)\n",
    "P_fus_dK09, T_fus_dK09 =  trace_phase_bound(P_fus0, T_fus0, 136, \n",
    "                                            mgpv_eos, liq_eos_dK09, Vinit2=9)\n"
   ]
  },
  {
   "cell_type": "code",
   "execution_count": null,
   "metadata": {},
   "outputs": [],
   "source": []
  },
  {
   "cell_type": "code",
   "execution_count": null,
   "metadata": {},
   "outputs": [],
   "source": [
    "plt.figure()\n",
    "plt.plot(P_fus, T_fus-2900, 'b-',\n",
    "        P_fus_dK09, (T_fus_dK09-2900), 'r-')\n",
    "\n",
    "plt.figure()\n",
    "plt.plot(P_fus, T_fus-2900, 'b-',\n",
    "        P_fus_dK09, (T_fus_dK09-2900)/1.5, 'r--')\n",
    "\n",
    "#plt.ylim(2500,5000)"
   ]
  },
  {
   "cell_type": "code",
   "execution_count": null,
   "metadata": {},
   "outputs": [],
   "source": []
  },
  {
   "cell_type": "code",
   "execution_count": null,
   "metadata": {},
   "outputs": [],
   "source": [
    "plt.figure()\n",
    "plt.plot(P_fus, Vfus_sol, 'b-o')\n",
    "\n",
    "plt.plot(Pfus, Vfus_liq, 'r-o')"
   ]
  },
  {
   "cell_type": "code",
   "execution_count": null,
   "metadata": {},
   "outputs": [],
   "source": [
    "\n",
    "plt.figure()\n",
    "plt.plot(Pfus, Tfus-300, 'k-o')"
   ]
  },
  {
   "cell_type": "code",
   "execution_count": null,
   "metadata": {},
   "outputs": [],
   "source": []
  },
  {
   "cell_type": "code",
   "execution_count": null,
   "metadata": {},
   "outputs": [],
   "source": [
    "CONSTS"
   ]
  },
  {
   "cell_type": "code",
   "execution_count": null,
   "metadata": {},
   "outputs": [],
   "source": []
  },
  {
   "cell_type": "code",
   "execution_count": null,
   "metadata": {},
   "outputs": [],
   "source": [
    "Pgrid = np.arange(0,1.01e3,10)\n",
    "Tfoot_grid = np.arange(1e3,4401,200)\n",
    "Vad_grid, Tad_grid = eos_mod.adiabatic_path_grid(Tfoot_grid,Pgrid)\n",
    "props = eos_mod.material_properties(Vad_grid, Tad_grid)"
   ]
  },
  {
   "cell_type": "code",
   "execution_count": null,
   "metadata": {},
   "outputs": [],
   "source": [
    "\n",
    "cmap = plt.get_cmap('coolwarm', len(Tfoot_grid))\n",
    "        \n",
    "colors = cmap(np.linspace(0,1,len(Tfoot_grid)))"
   ]
  },
  {
   "cell_type": "code",
   "execution_count": null,
   "metadata": {},
   "outputs": [],
   "source": []
  },
  {
   "cell_type": "code",
   "execution_count": null,
   "metadata": {},
   "outputs": [],
   "source": []
  },
  {
   "cell_type": "code",
   "execution_count": null,
   "metadata": {},
   "outputs": [],
   "source": [
    "plt.figure()\n",
    "[plt.plot(iP,irho,color=icol) for iP,irho,icol \n",
    " in zip(props['P'],props['rho'], colors)]\n",
    "plt.xlabel('P [GPa]')\n",
    "plt.ylabel('rho [g/cc]')\n",
    "\n",
    "plt.figure()\n",
    "[plt.plot(iP,igamma,color=icol) for iP,igamma,icol \n",
    " in zip(props['P'],props['gamma'], colors)]\n",
    "plt.xlabel('P [GPa]')\n",
    "plt.ylabel('gamma')\n",
    "\n",
    "plt.figure()\n",
    "lines_Cv = [plt.plot(iP,iCv/models.CONSTS['kboltz'],':', label='Cv', \n",
    "                     color=icol)[0] for iP,iCv,icol in \n",
    "            zip(props['P'], props['C_V'], colors)]\n",
    "lines_Cp = [plt.plot(iP,iCp/models.CONSTS['kboltz'],'-', label='Cp', \n",
    "                     color=icol)[0] for iP,iCp,icol in \n",
    "            zip(props['P'], props['C_P'], colors)]\n",
    "\n",
    "plt.xlabel('P [GPa]')\n",
    "plt.ylabel('Heat Capacity [kB]')\n",
    "plt.legend([lines_Cp[0],lines_Cv[0]], ['Cp','Cv'])\n",
    "\n",
    "plt.figure()\n",
    "[plt.plot(iP,ialpha*1e5,color=icol) \n",
    " for iP,ialpha,icol in zip(props['P'], props['alpha'], colors)]\n",
    "plt.xlabel('P [GPa]')\n",
    "plt.ylabel('alpha [1e-5/K]')\n",
    "\n",
    "\n",
    "plt.figure()\n",
    "lines_KT = [plt.plot(iP,iKT,':', color=icol)[0]\n",
    " for iP,iKT,icol in zip(props['P'], props['K_T'], colors)]\n",
    "lines_KS = [plt.plot(iP,iKS,'-', color=icol)[0]\n",
    " for iP,iKS,icol in zip(props['P'], props['K_S'], colors)]\n",
    "plt.xlabel('P [GPa]')\n",
    "plt.ylabel('Bulk Modulus [GPa]')\n",
    "plt.legend([lines_KS[0],lines_KT[0]], ['KS','KT'])\n",
    "\n",
    "plt.figure()\n",
    "[plt.plot(iP,idTdPs,color=icol) \n",
    " for iP,idTdPs,icol in zip(props['P'], props['dTdP_S'], colors)]\n",
    "plt.xlabel('P [GPa]')\n",
    "plt.ylabel('adiabatic gradient [K/GPa]')\n"
   ]
  },
  {
   "cell_type": "code",
   "execution_count": null,
   "metadata": {},
   "outputs": [],
   "source": []
  },
  {
   "cell_type": "code",
   "execution_count": null,
   "metadata": {},
   "outputs": [],
   "source": []
  },
  {
   "cell_type": "code",
   "execution_count": null,
   "metadata": {},
   "outputs": [],
   "source": []
  },
  {
   "cell_type": "code",
   "execution_count": null,
   "metadata": {},
   "outputs": [],
   "source": []
  },
  {
   "cell_type": "code",
   "execution_count": null,
   "metadata": {},
   "outputs": [],
   "source": []
  },
  {
   "cell_type": "code",
   "execution_count": null,
   "metadata": {},
   "outputs": [],
   "source": [
    "Pgrid = np.arange(0,150.1,10)\n",
    "Vgrid, Tgrid = eos_mod.adiabatic_path(4000,Pgrid)\n",
    "\n",
    "Sgrid = eos_mod.entropy(Vgrid, Tgrid)\n",
    "plt.figure()\n",
    "plt.plot(Pgrid, Tgrid, '-')\n",
    "\n",
    "plt.figure()\n",
    "plt.plot(Pgrid, Sgrid/models.CONSTS['kboltz'], '-')"
   ]
  },
  {
   "cell_type": "code",
   "execution_count": null,
   "metadata": {},
   "outputs": [],
   "source": []
  },
  {
   "cell_type": "code",
   "execution_count": null,
   "metadata": {},
   "outputs": [],
   "source": []
  },
  {
   "cell_type": "code",
   "execution_count": null,
   "metadata": {},
   "outputs": [],
   "source": []
  },
  {
   "cell_type": "code",
   "execution_count": null,
   "metadata": {},
   "outputs": [],
   "source": []
  },
  {
   "cell_type": "code",
   "execution_count": null,
   "metadata": {},
   "outputs": [],
   "source": []
  },
  {
   "cell_type": "code",
   "execution_count": null,
   "metadata": {},
   "outputs": [],
   "source": []
  },
  {
   "cell_type": "code",
   "execution_count": null,
   "metadata": {},
   "outputs": [],
   "source": []
  },
  {
   "cell_type": "code",
   "execution_count": null,
   "metadata": {},
   "outputs": [],
   "source": [
    "Pgrid = np.arange(0,550.1,10)\n",
    "Vgrid, Tgrid = eos_mod.adiabatic_path(4000,Pgrid)\n",
    "Sgrid = eos_mod.entropy(Vgrid, Tgrid)\n",
    "plt.figure()\n",
    "plt.plot(Pgrid, Tgrid, 'ko-')\n",
    "\n",
    "plt.figure()\n",
    "plt.plot(Pgrid,Sgrid-np.mean(Sgrid),'r-')"
   ]
  },
  {
   "cell_type": "code",
   "execution_count": null,
   "metadata": {},
   "outputs": [],
   "source": []
  },
  {
   "cell_type": "code",
   "execution_count": null,
   "metadata": {},
   "outputs": [],
   "source": [
    "eos_mod.apply_electronic = False\n",
    "Pgrid = np.arange(0,1.01e3,10)\n",
    "Tfoot_grid = np.arange(1e3,4401,200)\n",
    "\n",
    "#Tfoot_grid = np.arange(1e3,10.1e3,1000)\n",
    "Vad_grid, Tad_grid = eos_mod.adiabatic_path_grid(Tfoot_grid,Pgrid)\n",
    "props = eos_mod.material_properties(Vad_grid, Tad_grid)"
   ]
  },
  {
   "cell_type": "code",
   "execution_count": null,
   "metadata": {},
   "outputs": [],
   "source": [
    "props['gamma']"
   ]
  },
  {
   "cell_type": "code",
   "execution_count": null,
   "metadata": {},
   "outputs": [],
   "source": []
  },
  {
   "cell_type": "code",
   "execution_count": null,
   "metadata": {},
   "outputs": [],
   "source": [
    "Vad_grid, Tad_grid = eos_mod.adiabatic_path_grid(Tfoot_grid,Pgrid)\n",
    "\n",
    "Sad_grid = eos_mod.entropy(Vad_grid,Tad_grid)\n",
    "Pad_grid = eos_mod.press(Vad_grid,Tad_grid)\n",
    "Cv = eos_mod.heat_capacity(Vad_grid,Tad_grid)\n",
    "alpha = eos_mod.thermal_exp(Vad_grid,Tad_grid)\n",
    "gamma = eos_mod.gamma(Vad_grid, Tad_grid)\n",
    "KT = eos_mod.bulk_mod(Vad_grid, Tad_grid)\n",
    "\n",
    "Cp = Cv*(1+alpha*gamma*Tad_grid)\n",
    "KS = KT*(1+alpha*gamma*Tad_grid)\n",
    "dTdPs = gamma*Tad_grid/KS\n",
    "rho = eos_mod.molar_mass/Vad_grid*CONSTS['ang3percc']/CONSTS['Nmol']"
   ]
  },
  {
   "cell_type": "code",
   "execution_count": null,
   "metadata": {},
   "outputs": [],
   "source": []
  },
  {
   "cell_type": "code",
   "execution_count": null,
   "metadata": {},
   "outputs": [],
   "source": []
  },
  {
   "cell_type": "code",
   "execution_count": null,
   "metadata": {},
   "outputs": [],
   "source": []
  },
  {
   "cell_type": "code",
   "execution_count": null,
   "metadata": {},
   "outputs": [],
   "source": []
  },
  {
   "cell_type": "code",
   "execution_count": null,
   "metadata": {},
   "outputs": [],
   "source": [
    "\n",
    "# Tfoot_grid = np.arange(2000,9001,1000)\n",
    "# Tlbl = [2000,2250,2500,2750,3000,3250,3500]\n",
    "Tlbl = [2000,3500]\n",
    "delT = Tlbl[1]-Tlbl[0]\n",
    "clims = [Tlbl[0]-delT/2,Tlbl[-1]+delT/2]\n",
    "Tfoot_grid = Tlbl\n",
    "Pgrid = np.arange(0,550.1,1)\n",
    "eos_mod.apply_electronic = True\n",
    "Vad_grid, Tad_grid = eos_mod.adiabatic_path_grid(Tfoot_grid, Pgrid)\n",
    "\n",
    "# eos_mod_dK09.apply_electronic = True\n",
    "# Vad_grid_dK09, Tad_grid_dK09 = eos_mod_dK09.adiabatic_path_grid(Tfoot_grid, Pgrid)"
   ]
  },
  {
   "cell_type": "code",
   "execution_count": null,
   "metadata": {},
   "outputs": [],
   "source": []
  },
  {
   "cell_type": "code",
   "execution_count": null,
   "metadata": {},
   "outputs": [],
   "source": [
    "Vad_grid.shape"
   ]
  },
  {
   "cell_type": "code",
   "execution_count": null,
   "metadata": {},
   "outputs": [],
   "source": [
    "Tad_grid.shape"
   ]
  },
  {
   "cell_type": "code",
   "execution_count": null,
   "metadata": {},
   "outputs": [],
   "source": [
    "Pgrid.shape"
   ]
  },
  {
   "cell_type": "code",
   "execution_count": null,
   "metadata": {},
   "outputs": [],
   "source": [
    "rho_grid = eos_mod.molar_mass/Vad_grid*CONSTS['ang3percc']/CONSTS['Nmol']\n",
    "rho_grid.shape"
   ]
  },
  {
   "cell_type": "code",
   "execution_count": null,
   "metadata": {},
   "outputs": [],
   "source": [
    "Tad_grid.shape"
   ]
  },
  {
   "cell_type": "code",
   "execution_count": null,
   "metadata": {},
   "outputs": [],
   "source": [
    "plt.figure()\n",
    "plt.plot(eos_mod.entropy(Vad_grid.T,Tad_grid.T))"
   ]
  },
  {
   "cell_type": "code",
   "execution_count": null,
   "metadata": {},
   "outputs": [],
   "source": [
    "71-58"
   ]
  },
  {
   "cell_type": "code",
   "execution_count": null,
   "metadata": {},
   "outputs": [],
   "source": []
  },
  {
   "cell_type": "code",
   "execution_count": null,
   "metadata": {},
   "outputs": [],
   "source": [
    "eos_mod.molar_mass/Vad_grid"
   ]
  },
  {
   "cell_type": "code",
   "execution_count": null,
   "metadata": {},
   "outputs": [],
   "source": [
    "cmap = plt.get_cmap('coolwarm',len(Tlbl))\n",
    "plot_adiabat_melting_curve(Tlbl, Pgrid, Tad_grid, Tad_grid_dK09, \n",
    "              Vad_grid, Vad_grid_dK09)\n",
    "\n",
    "fig = plt.gcf()\n",
    "\n",
    "\n",
    "ax_sub = fig.add_axes([.49,.36,.29,.2])\n",
    "for Vad, Vad_dK09, Tad, Tad_dK09, iTpot in zip(\n",
    "    Vad_grid, Vad_grid_dK09, Tad_grid, Tad_grid_dK09, Tlbl):\n",
    "    icol = cmap((iTpot-clims[0])/(clims[1]-clims[0]))\n",
    "    igamma_ad = eos_mod.gamma(Vad,Tad)\n",
    "    igamma_ad_dK09 = eos_mod_dK09.gamma(Vad_dK09,Tad_dK09)\n",
    "    ax_sub.plot(Pgrid,igamma_ad, '-', color=icol,lw=1)\n",
    "    \n",
    "ax_sub.set_ylim(0,1.25)\n",
    "ax_sub.set_xlim(-5,135)\n",
    "ax_sub.set_xlabel('P [GPa]')\n",
    "ax_sub.set_ylabel(r'$\\gamma$')\n",
    "# plt.savefig('figs/adiabat-comparison.eps', dpi=450)"
   ]
  },
  {
   "cell_type": "code",
   "execution_count": null,
   "metadata": {},
   "outputs": [],
   "source": []
  }
 ],
 "metadata": {
  "kernelspec": {
   "display_name": "Python 3",
   "language": "python",
   "name": "python3"
  },
  "language_info": {
   "codemirror_mode": {
    "name": "ipython",
    "version": 3
   },
   "file_extension": ".py",
   "mimetype": "text/x-python",
   "name": "python",
   "nbconvert_exporter": "python",
   "pygments_lexer": "ipython3",
   "version": "3.6.2"
  }
 },
 "nbformat": 4,
 "nbformat_minor": 2
}
