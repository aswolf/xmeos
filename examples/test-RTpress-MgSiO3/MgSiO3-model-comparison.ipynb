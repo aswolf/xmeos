{
 "cells": [
  {
   "cell_type": "markdown",
   "metadata": {},
   "source": [
    "# Compare MgSiO3 Models dK09 and S11\n",
    "* compare resulting ambient properties to experiment-based models of Ghiorso and Lange"
   ]
  },
  {
   "cell_type": "code",
   "execution_count": null,
   "metadata": {},
   "outputs": [],
   "source": [
    "import matplotlib.pyplot as plt\n",
    "%matplotlib notebook\n",
    "import numpy as np\n",
    "import pandas as pd\n",
    "import pickle\n",
    "\n",
    "from collections import OrderedDict\n",
    "\n",
    "import xmeos\n",
    "from xmeos import models\n",
    "from xmeos import datamod\n",
    "from xmeos import modfit\n",
    "CONSTS = models.CONSTS\n",
    "import copy"
   ]
  },
  {
   "cell_type": "code",
   "execution_count": null,
   "metadata": {},
   "outputs": [],
   "source": [
    "analysis_file = 'data/analysis.pkl'\n",
    "with open(analysis_file, 'rb') as f:\n",
    "    analysis = pickle.load(f)\n",
    "    \n",
    "datasets = analysis['datasets']\n",
    "param_tex_str = analysis['param_tex_str']\n",
    "eos_electronic = analysis['eos_electronic']\n",
    "\n"
   ]
  },
  {
   "cell_type": "code",
   "execution_count": null,
   "metadata": {},
   "outputs": [],
   "source": []
  },
  {
   "cell_type": "code",
   "execution_count": null,
   "metadata": {},
   "outputs": [],
   "source": [
    "data_dK09 = datasets['deKoker2009']\n",
    "data_S11 = datasets['Spera2011']\n",
    "\n",
    "eos_mod_dK09 = analysis['datamodel_dK09']['eos_mod']\n",
    "eos_mod_S11 = analysis['datamodel']['eos_mod']\n",
    "# View data tables\n",
    "# tbl = data['table']\n",
    "# tbl"
   ]
  },
  {
   "cell_type": "code",
   "execution_count": null,
   "metadata": {},
   "outputs": [],
   "source": [
    "Texp = 1773\n",
    "\n",
    "\n",
    "# Properties of MgSiO3 melt\n",
    "mass_avg = (24.31+28.09+3*16.0)/5.0 # g/(mol atom)\n",
    "natom=5\n",
    "\n",
    "\n",
    "rho_conv = 2.35023*14.1735882\n",
    "ang_cc_mol = CONSTS['ang3percc']/natom/CONSTS['Nmol'] # (ang^3/atom) / (cc/mol)\n",
    "\n",
    "def exp_properties_Ghiorso(T, Vconv=ang_cc_mol):\n",
    "    \"\"\"\n",
    "    Ghiorso and Kress 2004\n",
    "    \"\"\"\n",
    "    nmol = 2\n",
    "    dVdT_SiO2 = 1.007e-3\n",
    "    dVdT_MgO = 2.887e-3\n",
    "    dVdT = 0.5*dVdT_SiO2 + 0.5*dVdT_MgO\n",
    "    \n",
    "    VT0_SiO2 = 26.71\n",
    "    VT0_MgO = 12.015\n",
    "    \n",
    "    VT0 = 0.5*VT0_SiO2 + 0.5*VT0_MgO\n",
    "    alpha = dVdT/VT0\n",
    "    \n",
    "    VT = VT0*np.exp(alpha*(T-1673))\n",
    "    print(VT)\n",
    "\n",
    "    c_MgO = 3349.96\n",
    "    c_SiO2 = 2321.75\n",
    "    dcdT_MgO = 275.64e-3\n",
    "    dcdT_SiO2 = 399.34e-3\n",
    "    \n",
    "    c = 0.5*(c_MgO + dcdT_MgO*(T-1673)) + 0.5*(c_SiO2 + dcdT_SiO2*(T-1673))\n",
    "    \n",
    "    rho = 1e3*mass_avg/(VT*nmol/5)\n",
    "    betaS = 1e9/rho/c**2\n",
    "    KS = 1/betaS\n",
    "    \n",
    "    \n",
    "    #betaT_MgO = 0.5*VT_MgO/VT*0.615e-2\n",
    "    #betaT_SiO2 = 0.5*VT_SiO2/VT*7.15e-2\n",
    "    #betaT = betaT_MgO + betaT_SiO2\n",
    "    #K = 1/betaT\n",
    "    \n",
    "    props = {}\n",
    "    props['P'] = 0\n",
    "    props['T'] = T\n",
    "    props['V'] = VT*nmol*Vconv\n",
    "    props['alpha'] = alpha\n",
    "    props['c'] = c\n",
    "    props['rho'] = rho\n",
    "    props['betaS'] = betaS\n",
    "    props['KS'] = KS\n",
    "    return props\n",
    "\n",
    "def exp_properties_Lange(T, Vconv=ang_cc_mol):\n",
    "    \"\"\"\n",
    "    Lange 1997 and Ai and Lange 2004\n",
    "    \"\"\"\n",
    "    nmol = 2\n",
    "\n",
    "    # V0T = +12.02\n",
    "    dVdT = (0.5*0+0.5*3.27)*1e-3\n",
    "    \n",
    "    VT_SiO2 = 26.86\n",
    "    VT_MgO = 12.02 + 3.27e-3*(T-1773)\n",
    "    \n",
    "    VT = 0.5*VT_SiO2 + 0.5*VT_MgO\n",
    "    \n",
    "    alpha = dVdT/VT\n",
    "    # print(VT)\n",
    "    \n",
    "    betaT_MgO = 0.5*VT_MgO/VT*0.615e-2\n",
    "    betaT_SiO2 = 0.5*VT_SiO2/VT*7.15e-2\n",
    "    betaT = betaT_MgO + betaT_SiO2\n",
    "    # print(1/betaT)\n",
    "    # dVdP = (0.5*-1.922 + 0.5*-.073)\n",
    "    # K = -VT/dVdP\n",
    "    K = 1/betaT\n",
    " \n",
    "    \n",
    "    props = {}\n",
    "    props['P'] = 0\n",
    "    props['T'] = T\n",
    "    props['V'] = nmol*VT*Vconv\n",
    "    props['dVdT'] = dVdT\n",
    "    props['alpha'] = alpha\n",
    "    props['betaT'] = betaT\n",
    "    props['KT'] = K\n",
    "    return props\n",
    "    \n",
    "    pass\n",
    "    \n",
    "\n",
    "\n",
    "props_Ghiorso = exp_properties_Ghiorso(Texp)\n",
    "props_Lange = exp_properties_Lange(Texp)\n",
    "\n",
    "display(props_Lange)\n",
    "display(props_Ghiorso)\n"
   ]
  },
  {
   "cell_type": "code",
   "execution_count": null,
   "metadata": {},
   "outputs": [],
   "source": []
  },
  {
   "cell_type": "code",
   "execution_count": null,
   "metadata": {},
   "outputs": [],
   "source": []
  },
  {
   "cell_type": "code",
   "execution_count": null,
   "metadata": {},
   "outputs": [],
   "source": [
    "data_1bar = pd.DataFrame(columns=['prop','val','err'])\n",
    "\n",
    "data_1bar = data_1bar.append({'prop':'V','val':props_Lange['V'],'err':0}, ignore_index=True)\n",
    "data_1bar = data_1bar.append({'prop':'K_T','val':props_Lange['KT'],'err':0}, ignore_index=True)\n",
    "data_1bar = data_1bar.append({'prop':'C_V','val':4.2,'err':.2}, ignore_index=True)\n",
    "data_1bar = data_1bar.append({'prop':'gamma','val':0.37,'err':.14}, ignore_index=True)\n",
    "\n",
    "data_1bar"
   ]
  },
  {
   "cell_type": "code",
   "execution_count": null,
   "metadata": {},
   "outputs": [],
   "source": [
    "pd.concat?"
   ]
  },
  {
   "cell_type": "code",
   "execution_count": null,
   "metadata": {},
   "outputs": [],
   "source": []
  },
  {
   "cell_type": "code",
   "execution_count": null,
   "metadata": {},
   "outputs": [],
   "source": [
    "props_Lange = analysis['props_Lange']\n",
    "props_Lange"
   ]
  },
  {
   "cell_type": "code",
   "execution_count": null,
   "metadata": {},
   "outputs": [],
   "source": [
    "eos_mod = eos_mod_dK09\n",
    "# eos_mod = eos_mod_S11\n",
    "Tref = 1673\n",
    "    \n",
    "    \n",
    "Vref = eos_mod.volume(0, Tref)\n",
    "Kref = eos_mod.bulk_mod(Vref, Tref)\n",
    "alpharef = eos_mod.thermal_exp(Vref, Tref)*1e5\n",
    "CVref = eos_mod.heat_capacity(Vref, Tref)\n",
    "gamma_ref = eos_mod.gamma(Vref, Tref)\n",
    "\n",
    "print('Vref', Vref)\n",
    "print('Kref', Kref)\n",
    "print('alpharef', alpharef)\n",
    "print('CVref', CVref/CONSTS['kboltz'])\n",
    "print('gammaref', gamma_ref)"
   ]
  },
  {
   "cell_type": "code",
   "execution_count": null,
   "metadata": {},
   "outputs": [],
   "source": []
  },
  {
   "cell_type": "code",
   "execution_count": null,
   "metadata": {},
   "outputs": [],
   "source": []
  },
  {
   "cell_type": "code",
   "execution_count": null,
   "metadata": {},
   "outputs": [],
   "source": []
  },
  {
   "cell_type": "code",
   "execution_count": null,
   "metadata": {},
   "outputs": [],
   "source": []
  },
  {
   "cell_type": "code",
   "execution_count": null,
   "metadata": {},
   "outputs": [],
   "source": []
  },
  {
   "cell_type": "code",
   "execution_count": null,
   "metadata": {},
   "outputs": [],
   "source": []
  },
  {
   "cell_type": "code",
   "execution_count": null,
   "metadata": {},
   "outputs": [],
   "source": [
    "def calc_thermal_data_derivs(data, remove_elec=False, eos_electronic=eos_electronic):\n",
    "    tbl = data['table']\n",
    "    dEdT = []\n",
    "    dPdT = []\n",
    "    Tavg = []\n",
    "    Vavg = []\n",
    "\n",
    "    # plt.figure()\n",
    "    for Vlbl in np.round(data['V_labels'],2):\n",
    "        mask = tbl['V_label']==Vlbl\n",
    "        \n",
    "        iE = tbl['E'][mask]\n",
    "        iT = tbl['T'][mask]\n",
    "        iP = tbl['P'][mask]\n",
    "        iV = np.round(tbl['V'][mask],decimals=2)\n",
    "        \n",
    "        if remove_elec:\n",
    "            iE -= eos_electronic.energy(iV, iT)\n",
    "            iP -= eos_electronic.press(iV, iT)\n",
    "    \n",
    "        idEdT = np.diff(iE)/np.diff(iT)\n",
    "        idPdT = np.diff(iP)/np.diff(iT)\n",
    "    \n",
    "        dEdT.extend(list(idEdT))\n",
    "        dPdT.extend(list(idPdT))\n",
    "    \n",
    "        Tavg.extend(list(0.5*(np.array(iT[:-1]) + np.array(iT[1:]))))\n",
    "        Vavg.extend(list(iV[:-1]))\n",
    "    \n",
    "        # plt.plot(tbl['T'][mask], tbl['E'][mask], 'ko-')\n",
    "\n",
    "    Vavg = np.array(Vavg)\n",
    "    Tavg = np.array(Tavg)\n",
    "    dEdT = np.array(dEdT)\n",
    "    dPdT = np.array(dPdT)\n",
    "    \n",
    "    thermal_deriv = OrderedDict()\n",
    "    thermal_deriv['Vavg'] = Vavg\n",
    "    thermal_deriv['Tavg'] = Tavg\n",
    "    thermal_deriv['dEdT'] = dEdT\n",
    "    thermal_deriv['dPdT'] = dPdT\n",
    "    \n",
    "    return thermal_deriv\n",
    "\n",
    "def calc_heat_capacity(data, remove_elec=False, eos_electronic=eos_electronic):\n",
    "    tbl = data['table']\n",
    "    Cv = []\n",
    "    T = []\n",
    "    V = []\n",
    "\n",
    "    # plt.figure()\n",
    "    for Vlbl in np.round(data['V_labels'],2):\n",
    "        mask = tbl['V_label']==Vlbl\n",
    "        \n",
    "        iE = tbl['E'][mask]\n",
    "        iT = tbl['T'][mask]\n",
    "        iV = np.round(tbl['V'][mask],decimals=2)\n",
    "        \n",
    "        if remove_elec:\n",
    "            iE -= eos_electronic.energy(iV, iT)\n",
    "    \n",
    "        iCv = np.diff(iE)/np.diff(iT)\n",
    "        # /CONSTS['kboltz']\n",
    "    \n",
    "        Cv.extend(list(iCv))\n",
    "    \n",
    "        T.extend(list(0.5*(np.array(iT[:-1]) + np.array(iT[1:]))))\n",
    "        V.extend(list(iV[:-1]))\n",
    "    \n",
    "        # plt.plot(tbl['T'][mask], tbl['E'][mask], 'ko-')\n",
    "\n",
    "    V = np.array(V)\n",
    "    T = np.array(T)\n",
    "    Cv = np.array(Cv)\n",
    "    \n",
    "    heat_capacity_data = datamod.load_data(\n",
    "        title='CV_S11', datasource='heat capacity data, Spera 2011',\n",
    "        V=V, T=T, Cv=Cv, mass_avg=data_dK09['mass_avg'])\n",
    "    \n",
    "    # heat_capacity_data = pd.DataFrame()\n",
    "    # heat_capacity_data['V'] = V\n",
    "    # heat_capacity_data['T'] = T\n",
    "    # heat_capacity_data['Cv'] = Cv\n",
    "    \n",
    "    \n",
    "    return heat_capacity_data\n",
    "\n",
    "def filter_compress_data(data, T0=3000, remove_elec=False, eos_electronic=eos_electronic):\n",
    "    tbl = data['table'].copy()\n",
    "    mask_T0 = tbl['T']==T0\n",
    "    \n",
    "    if remove_elec:\n",
    "        # tbl['E'] -= eos_electronic.energy(tbl['V'], tbl['T'])\n",
    "        tbl['P'] -= eos_electronic.press(tbl['V'], tbl['T'])\n",
    "\n",
    "        \n",
    "    tbl_T0 = tbl.loc[mask_T0]\n",
    "    tbl_T0.reset_index(inplace=True, drop=True)\n",
    "    \n",
    "    compress_T0_data = datamod.load_data(\n",
    "        title='T0_compress_dK09', datasource='3000K isotherm, deKoker2009',\n",
    "        V=tbl_T0['V'], T=tbl_T0['T'], P=tbl_T0['P'], E=tbl_T0['E'],\n",
    "        mass_avg=data_dK09['mass_avg'])\n",
    "\n",
    "    # compress_T0_data = pd.DataFrame()\n",
    "    # compress_T0_data['V'] = \n",
    "    # compress_T0_data['P'] = tbl.loc[mask_T0, 'P']\n",
    "    # compress_T0_data['E'] = tbl.loc[mask_T0, 'E']\n",
    "    # compress_T0_data.reset_index(inplace=True, drop=True)\n",
    "\n",
    "    tbl_therm = tbl.loc[~mask_T0]\n",
    "    tbl_therm.reset_index(inplace=True, drop=True)\n",
    "    \n",
    "    thermal_compress_data = datamod.load_data(\n",
    "        title='thermal_compress_dK09', datasource='thermal pressure, deKoker2009',\n",
    "        V=tbl_therm['V'], T=tbl_therm['T'], P=tbl_therm['P'], \n",
    "        mass_avg=data_dK09['mass_avg']\n",
    "    )\n",
    "    \n",
    "    # thermal_compress_data = pd.DataFrame()\n",
    "    # thermal_compress_data['V'] = tbl.loc[~mask_T0, 'V']\n",
    "    # thermal_compress_data['T'] = tbl.loc[~mask_T0, 'T']\n",
    "    # thermal_compress_data['P'] = tbl.loc[~mask_T0, 'P']\n",
    "    # thermal_compress_data['Ptherm'] = \n",
    "    # thermal_compress_data.reset_index(inplace=True, drop=True)\n",
    "    \n",
    "    return compress_T0_data, thermal_compress_data\n",
    "\n",
    "def extract_thermal_press(thermal_compress_data, datamodel_T0):\n",
    "    tbl = thermal_compress_data['table']\n",
    "    eos_mod = datamodel_T0['eos_mod']\n",
    "    T0 = np.mean(datamodel_T0['data']['table']['T'])\n",
    "\n",
    "    dP_therm = tbl['P']-eos_mod.press(tbl['V'], tbl['T'])\n",
    "    tbl['P_thermal'] = dP_therm\n",
    "    tbl.drop('P', axis=1, inplace=True)\n",
    "    pass\n"
   ]
  },
  {
   "cell_type": "code",
   "execution_count": null,
   "metadata": {},
   "outputs": [],
   "source": []
  },
  {
   "cell_type": "code",
   "execution_count": null,
   "metadata": {},
   "outputs": [],
   "source": [
    "eos_mod_dK09.volume(0,1600)"
   ]
  },
  {
   "cell_type": "code",
   "execution_count": null,
   "metadata": {},
   "outputs": [],
   "source": []
  },
  {
   "cell_type": "code",
   "execution_count": null,
   "metadata": {},
   "outputs": [],
   "source": [
    "print(analysis['props_Lange'])\n",
    "dPdT_ref = 8.5e-5*19.35*1e3\n",
    "V_ref = 12.8\n",
    "T_ref = 1673"
   ]
  },
  {
   "cell_type": "code",
   "execution_count": null,
   "metadata": {},
   "outputs": [],
   "source": []
  },
  {
   "cell_type": "code",
   "execution_count": null,
   "metadata": {},
   "outputs": [],
   "source": [
    "VLange_1773 = 38.88*CONSTS['ang3percc']/CONSTS['Nmol']/5\n",
    "\n",
    "heat_capacity_1bar = datamod.load_data(\n",
    "        title='CV_1bar', datasource='heat capacity, vol data, Lange, Stebbins',\n",
    "        V=[VLange_1773], T=[1773], Cv=[4.2], Cverr=[0.2], mass_avg=data_dK09['mass_avg'])"
   ]
  },
  {
   "cell_type": "code",
   "execution_count": null,
   "metadata": {},
   "outputs": [],
   "source": [
    "heat_capacity_1bar"
   ]
  },
  {
   "cell_type": "code",
   "execution_count": null,
   "metadata": {},
   "outputs": [],
   "source": []
  },
  {
   "cell_type": "code",
   "execution_count": null,
   "metadata": {},
   "outputs": [],
   "source": []
  },
  {
   "cell_type": "code",
   "execution_count": null,
   "metadata": {},
   "outputs": [],
   "source": []
  },
  {
   "cell_type": "code",
   "execution_count": null,
   "metadata": {},
   "outputs": [],
   "source": []
  },
  {
   "cell_type": "code",
   "execution_count": null,
   "metadata": {},
   "outputs": [],
   "source": []
  },
  {
   "cell_type": "code",
   "execution_count": null,
   "metadata": {},
   "outputs": [],
   "source": []
  },
  {
   "cell_type": "code",
   "execution_count": null,
   "metadata": {},
   "outputs": [],
   "source": []
  },
  {
   "cell_type": "code",
   "execution_count": null,
   "metadata": {},
   "outputs": [],
   "source": [
    "compress_T0_data, thermal_compress_data = filter_compress_data(data_dK09, remove_elec=True)\n",
    "display(compress_T0_data)\n",
    "display(thermal_compress_data)"
   ]
  },
  {
   "cell_type": "code",
   "execution_count": null,
   "metadata": {},
   "outputs": [],
   "source": []
  },
  {
   "cell_type": "code",
   "execution_count": null,
   "metadata": {},
   "outputs": [],
   "source": [
    "extract_thermal_press(thermal_compress_data, datamodel_T0)"
   ]
  },
  {
   "cell_type": "code",
   "execution_count": null,
   "metadata": {},
   "outputs": [],
   "source": [
    "heat_capacity_data = calc_heat_capacity(data_S11, remove_elec=False)\n",
    "# heat_capacity_data\n",
    "tbl = heat_capacity_data['table']"
   ]
  },
  {
   "cell_type": "code",
   "execution_count": null,
   "metadata": {},
   "outputs": [],
   "source": []
  },
  {
   "cell_type": "code",
   "execution_count": null,
   "metadata": {},
   "outputs": [],
   "source": []
  },
  {
   "cell_type": "code",
   "execution_count": null,
   "metadata": {},
   "outputs": [],
   "source": []
  },
  {
   "cell_type": "code",
   "execution_count": null,
   "metadata": {},
   "outputs": [],
   "source": []
  },
  {
   "cell_type": "code",
   "execution_count": null,
   "metadata": {},
   "outputs": [],
   "source": []
  },
  {
   "cell_type": "code",
   "execution_count": null,
   "metadata": {},
   "outputs": [],
   "source": []
  },
  {
   "cell_type": "code",
   "execution_count": null,
   "metadata": {},
   "outputs": [],
   "source": [
    "kind_compress='Vinet'\n",
    "eos_compress = models.CompressEos(kind=kind_compress, path_const='T')\n",
    "V0, K0, KP0 = eos_mod_dK09.get_param_values(param_names=['V0','K0','KP0'])\n",
    "\n",
    "T0 = 3000\n",
    "eos_compress.set_param_values([V0,K0,KP0],param_names=['V0','K0','KP0'])"
   ]
  },
  {
   "cell_type": "code",
   "execution_count": null,
   "metadata": {},
   "outputs": [],
   "source": [
    "Vmod = np.linspace(6,16,101)\n",
    "\n",
    "print(V0,K0,KP0)\n",
    "Pmod0 = eos_compress.press(Vmod, T0)"
   ]
  },
  {
   "cell_type": "code",
   "execution_count": null,
   "metadata": {},
   "outputs": [],
   "source": [
    "datamodel_T0 = datamod.init_datamodel(compress_T0_data, eos_compress)\n",
    "\n",
    "\n",
    "fit_calcs = ['compress']\n",
    "# fix_params = ['S0','Cvlimfac','mexp']\n",
    "# datamodel['eos_mod'].set_param_values([3/5,1], param_names=['mexp','Cvlimfac'])\n",
    "eos_fit_params = datamod.select_eos_fit_params(datamodel_T0, fit_calcs)\n",
    "print(eos_fit_params)"
   ]
  },
  {
   "cell_type": "code",
   "execution_count": null,
   "metadata": {},
   "outputs": [],
   "source": [
    "compress_prior = modfit.ModelPDF(['V0', 'K0', 'KP0'], \n",
    "                                 [15,  12,  7.5], [4, 5, 4])\n",
    "datamod.set_model_pdf(datamodel_T0, compress_prior)"
   ]
  },
  {
   "cell_type": "code",
   "execution_count": null,
   "metadata": {},
   "outputs": [],
   "source": [
    "# datamod.impose_prior_constraints(datamodel_T0, ['V0','K0','KP0'], \n",
    "#                                  [15,  12,  7.5], [4, 5, 4])"
   ]
  },
  {
   "cell_type": "code",
   "execution_count": null,
   "metadata": {},
   "outputs": [],
   "source": []
  },
  {
   "cell_type": "code",
   "execution_count": null,
   "metadata": {},
   "outputs": [],
   "source": []
  },
  {
   "cell_type": "code",
   "execution_count": null,
   "metadata": {},
   "outputs": [],
   "source": [
    "Pbounds_prior, Pdraw_prior = datamod.model_pdf_prediction(Vmod, T0, 'press', datamodel_T0, Ndraw=1000)"
   ]
  },
  {
   "cell_type": "code",
   "execution_count": null,
   "metadata": {},
   "outputs": [],
   "source": [
    "datamod.fit(datamodel_T0, apply_bulk_mod_wt=True, ignore_datatypes=['E'])\n",
    "Pmod_fit = datamodel_T0['eos_mod'].press(Vmod, T0)"
   ]
  },
  {
   "cell_type": "code",
   "execution_count": null,
   "metadata": {},
   "outputs": [],
   "source": [
    "display(datamodel_T0['model_pdf'].param_table)\n",
    "display(datamodel_T0['model_pdf'].param_corr)"
   ]
  },
  {
   "cell_type": "code",
   "execution_count": null,
   "metadata": {},
   "outputs": [],
   "source": [
    "datamodel_T0['eos_mod'].param_names"
   ]
  },
  {
   "cell_type": "code",
   "execution_count": null,
   "metadata": {},
   "outputs": [],
   "source": []
  },
  {
   "cell_type": "code",
   "execution_count": null,
   "metadata": {},
   "outputs": [],
   "source": []
  },
  {
   "cell_type": "code",
   "execution_count": null,
   "metadata": {},
   "outputs": [],
   "source": [
    "Pbounds, Pdraw = datamod.model_pdf_prediction(Vmod, T0, 'press', datamodel_T0, Ndraw=1000)\n",
    "# Pbounds, Pdraw = datamod.model_pdf_prediction(Vmod, T0, 'press', datamodel_T0, \n",
    "#                                               Ndraw=1000, percentile=[2.5,97.5])"
   ]
  },
  {
   "cell_type": "code",
   "execution_count": null,
   "metadata": {},
   "outputs": [],
   "source": [
    "\n",
    "plt.figure()\n",
    "plt.fill_between(Vmod, Pbounds_prior[0], Pbounds_prior[-1], color=[1,.9,.9])\n",
    "plt.fill_between(Vmod, Pbounds[0], Pbounds[-1], color=[.7,.7,.7])\n",
    "# plt.plot(Vmod, Pmod_fit, 'r-')\n",
    "plt.plot(compress_T0_data['table']['V'], compress_T0_data['table']['P'], 'ko')\n",
    "plt.ylim([-5,200])\n"
   ]
  },
  {
   "cell_type": "code",
   "execution_count": null,
   "metadata": {},
   "outputs": [],
   "source": []
  },
  {
   "cell_type": "code",
   "execution_count": null,
   "metadata": {},
   "outputs": [],
   "source": [
    "\n"
   ]
  },
  {
   "cell_type": "code",
   "execution_count": null,
   "metadata": {},
   "outputs": [],
   "source": []
  },
  {
   "cell_type": "code",
   "execution_count": null,
   "metadata": {},
   "outputs": [],
   "source": [
    "RT_eos = copy.deepcopy(analysis['datamodel']['eos_mod'])\n",
    "RT_eos.apply_electronic = False\n",
    "RT_eos.heat_capacity(10,3500)/CONSTS['kboltz']\n",
    "Cv_mod = RT_eos.heat_capacity(tbl['V'], tbl['T'])\n",
    "Cv_ref_mod = RT_eos.heat_capacity(V_ref, 1773)/CONSTS['kboltz']"
   ]
  },
  {
   "cell_type": "code",
   "execution_count": null,
   "metadata": {},
   "outputs": [],
   "source": []
  },
  {
   "cell_type": "code",
   "execution_count": null,
   "metadata": {},
   "outputs": [],
   "source": [
    "datamodel_Cv = datamod.init_datamodel(heat_capacity_data, RT_eos)\n",
    "\n",
    "fit_calcs = ['bcoef', 'thermal']\n",
    "fix_params = ['Cvlimfac','mexp', 'V0']\n",
    "# datamodel['eos_mod'].set_param_values([3/5,1], param_names=['mexp','Cvlimfac'])\n",
    "eos_fit_params = datamod.select_eos_fit_params(datamodel_Cv, fit_calcs, fix_params=fix_params)\n",
    "eos_fit_params"
   ]
  },
  {
   "cell_type": "code",
   "execution_count": null,
   "metadata": {},
   "outputs": [],
   "source": []
  },
  {
   "cell_type": "code",
   "execution_count": null,
   "metadata": {},
   "outputs": [],
   "source": [
    "param_init = [1, 1, 1, 1, 1]\n",
    "# param_init = [1.009, 0.7, -1.4, -15.2, -17.3]\n",
    "\n",
    "Cv_prior = modfit.ModelPDF(\n",
    "    ['_bcoef_0', '_bcoef_1', '_bcoef_2', '_bcoef_3', '_bcoef_4'], \n",
    "    param_init, [0.3,10,10,10,10])\n",
    "\n",
    "\n",
    "datamod.set_model_pdf(datamodel_Cv, Cv_prior)"
   ]
  },
  {
   "cell_type": "code",
   "execution_count": null,
   "metadata": {},
   "outputs": [],
   "source": [
    "model_pdf_all = datamodel_T0['model_pdf'].expand(\n",
    "    datamodel_Cv['model_pdf'])\n",
    "datamod.set_model_pdf(datamodel_Cv, model_pdf_all)"
   ]
  },
  {
   "cell_type": "code",
   "execution_count": null,
   "metadata": {},
   "outputs": [],
   "source": []
  },
  {
   "cell_type": "code",
   "execution_count": null,
   "metadata": {},
   "outputs": [],
   "source": [
    "print(model_pdf_all.param_names)\n",
    "print(np.round(model_pdf_all.param_corr, decimals=2))\n",
    "print(np.round(model_pdf_all.param_errors, decimals=2))\n",
    "\n",
    "plt.figure()\n",
    "plt.imshow(model_pdf_all.param_corr, cmap='seismic')\n",
    "plt.clim(-1,1)"
   ]
  },
  {
   "cell_type": "code",
   "execution_count": null,
   "metadata": {},
   "outputs": [],
   "source": []
  },
  {
   "cell_type": "code",
   "execution_count": null,
   "metadata": {},
   "outputs": [],
   "source": [
    "datamod.fit(datamodel_Cv, apply_bulk_mod_wt=False)\n",
    "#Cvmod_fit = datamodel_Cv['eos_mod'].heat_capacity(Vmod, T0)\n",
    "eos_fit = datamodel_Cv['eos_mod']\n",
    "Cv_fit = eos_fit.heat_capacity(tbl['V'], tbl['T'])\n",
    "Cv_ref_fit = eos_fit.heat_capacity(V_ref, 1773)/CONSTS['kboltz']"
   ]
  },
  {
   "cell_type": "code",
   "execution_count": null,
   "metadata": {},
   "outputs": [],
   "source": []
  },
  {
   "cell_type": "code",
   "execution_count": null,
   "metadata": {},
   "outputs": [],
   "source": []
  },
  {
   "cell_type": "code",
   "execution_count": null,
   "metadata": {},
   "outputs": [],
   "source": [
    "datamodel_Cv['model_pdf'].param_table"
   ]
  },
  {
   "cell_type": "code",
   "execution_count": null,
   "metadata": {},
   "outputs": [],
   "source": [
    "plt.figure()\n",
    "plt.imshow(datamodel_Cv['model_pdf'].param_corr, cmap='seismic')\n",
    "plt.clim(-1,1)\n",
    "plt.colorbar()"
   ]
  },
  {
   "cell_type": "code",
   "execution_count": null,
   "metadata": {},
   "outputs": [],
   "source": []
  },
  {
   "cell_type": "code",
   "execution_count": null,
   "metadata": {},
   "outputs": [],
   "source": []
  },
  {
   "cell_type": "code",
   "execution_count": null,
   "metadata": {},
   "outputs": [],
   "source": []
  },
  {
   "cell_type": "code",
   "execution_count": null,
   "metadata": {},
   "outputs": [],
   "source": [
    "Vuniq = np.unique(tbl['V'])\n",
    "Tmod = np.linspace(1500,5000,101)\n",
    "Vbnds = [5,15]\n",
    "\n",
    "def display_Cv_data_fit(Vmodel, Tmodel, Vbounds, tbl,\n",
    "                        Vthresh=10, dV_sign=+1):\n",
    "    \n",
    "    \n",
    "    if dV_sign>0:\n",
    "        Vmask = tbl['V']>=Vthresh\n",
    "        Vmodel_show = Vmodel[Vmodel>=Vthresh]\n",
    "        if V_ref >= Vthresh:\n",
    "            show_ref = True\n",
    "        else:\n",
    "            show_ref = False\n",
    "    elif dV_sign<0:\n",
    "        Vmask = tbl['V']<Vthresh\n",
    "        Vmodel_show = Vmodel[Vmodel<Vthresh]\n",
    "        if V_ref < Vthresh:\n",
    "            show_ref = True\n",
    "        else:\n",
    "            show_ref = False\n",
    "    else:\n",
    "        Vmask = np.tile(True, len(tbl['V']))\n",
    "        Vmodel_show = Vmodel\n",
    "        show_ref = True\n",
    "        \n",
    "        \n",
    "    cmap = plt.get_cmap('gist_earth')\n",
    "    #cmap = plt.get_cmap('magma')\n",
    "    # cmap = plt.get_cmap('viridis')\n",
    "    #cmap = plt.get_cmap('magma')\n",
    "    col_ref = (V_ref-Vbounds[0])/(Vbounds[1]-Vbounds[0])\n",
    "\n",
    "\n",
    "    plt.figure()\n",
    "    plt.scatter(tbl['T'][Vmask],tbl['Cv'][Vmask]/CONSTS['kboltz'], \n",
    "                c=tbl['V'][Vmask], cmap=cmap, edgecolor='k', s=100)\n",
    "\n",
    "    plt.clim(Vbnds)\n",
    "    \n",
    "    for iV in Vmodel_show:\n",
    "        icol = (iV-Vbnds[0])/(Vbnds[-1]-Vbnds[0])\n",
    "        plt.plot(Tmod, eos_fit.heat_capacity(iV, Tmod)/CONSTS['kboltz'],\n",
    "             '-', color=cmap(icol))\n",
    "    \n",
    "    \n",
    "    if show_ref:\n",
    "        plt.plot(1773,4.2,'*', color=cmap(col_ref))\n",
    "\n",
    "\n",
    "    plt.ylabel('Cv/Nk')\n",
    "    plt.xlabel('Temperature [K]')\n",
    "    plt.colorbar(label='V')\n",
    "    return\n"
   ]
  },
  {
   "cell_type": "code",
   "execution_count": null,
   "metadata": {},
   "outputs": [],
   "source": [
    "Vmodel = np.unique(tbl['V'])\n",
    "Tmodel = np.linspace(1500,5000,101)\n",
    "Vbounds = [5,15]\n",
    "\n",
    "display_Cv_data_fit(Vmodel, Tmodel, Vbounds, tbl, Vthresh=10, dV_sign=+1)\n",
    "display_Cv_data_fit(Vmodel, Tmodel, Vbounds, tbl, Vthresh=10, dV_sign=-1)"
   ]
  },
  {
   "cell_type": "code",
   "execution_count": null,
   "metadata": {},
   "outputs": [],
   "source": [
    "display_Cv_data_fit(Vmodel, Tmodel, Vbounds, tbl, dV_sign=0)"
   ]
  },
  {
   "cell_type": "code",
   "execution_count": null,
   "metadata": {},
   "outputs": [],
   "source": []
  },
  {
   "cell_type": "code",
   "execution_count": null,
   "metadata": {},
   "outputs": [],
   "source": [
    "dP_therm_Lange = (props_Lange['T']-T0)*props_Lange['KT']*props_Lange['alpha']\n"
   ]
  },
  {
   "cell_type": "code",
   "execution_count": null,
   "metadata": {},
   "outputs": [],
   "source": []
  },
  {
   "cell_type": "code",
   "execution_count": null,
   "metadata": {},
   "outputs": [],
   "source": [
    "RTpress_eos = copy.deepcopy(analysis['datamodel']['eos_mod'])\n",
    "RTpress_eos.apply_electronic = False"
   ]
  },
  {
   "cell_type": "code",
   "execution_count": null,
   "metadata": {},
   "outputs": [],
   "source": [
    "datamodel_P_thermal = datamod.init_datamodel(thermal_compress_data, RTpress_eos)\n",
    "\n",
    "fit_calcs = [ 'gamma']\n",
    "fix_params = ['V0']\n",
    "# datamodel['eos_mod'].set_param_values([3/5,1], param_names=['mexp','Cvlimfac'])\n",
    "eos_fit_params = datamod.select_eos_fit_params(datamodel_P_thermal, fit_calcs, fix_params=fix_params)\n",
    "eos_fit_params"
   ]
  },
  {
   "cell_type": "code",
   "execution_count": null,
   "metadata": {},
   "outputs": [],
   "source": [
    "RTpress_eos"
   ]
  },
  {
   "cell_type": "code",
   "execution_count": null,
   "metadata": {},
   "outputs": [],
   "source": [
    "param_init = [1, -1]\n",
    "# param_init = [1.009, 0.7, -1.4, -15.2, -17.3]\n",
    "\n",
    "gamma_prior = modfit.ModelPDF(\n",
    "    ['gamma0', 'gammap0'], param_init, [2,2])\n",
    "\n",
    "\n",
    "datamod.set_model_pdf(datamodel_P_thermal, gamma_prior)"
   ]
  },
  {
   "cell_type": "code",
   "execution_count": null,
   "metadata": {},
   "outputs": [],
   "source": [
    "model_pdf_all = datamodel_Cv['model_pdf'].expand(\n",
    "    datamodel_P_thermal['model_pdf'])\n",
    "datamod.set_model_pdf(datamodel_P_thermal, model_pdf_all)"
   ]
  },
  {
   "cell_type": "code",
   "execution_count": null,
   "metadata": {},
   "outputs": [],
   "source": []
  },
  {
   "cell_type": "code",
   "execution_count": null,
   "metadata": {},
   "outputs": [],
   "source": [
    "print(model_pdf_all.param_names)\n",
    "print(np.round(model_pdf_all.param_corr, decimals=2))\n",
    "print(np.round(model_pdf_all.param_errors, decimals=2))\n",
    "\n",
    "plt.figure()\n",
    "plt.imshow(model_pdf_all.param_corr, cmap='seismic')\n",
    "plt.clim(-1,1)"
   ]
  },
  {
   "cell_type": "code",
   "execution_count": null,
   "metadata": {},
   "outputs": [],
   "source": [
    "datamod.fit(datamodel_P_thermal)\n",
    "eos_fit = datamodel_P_thermal['eos_mod']\n",
    "\n",
    "T0 = eos_fit.refstate.ref_temp()\n",
    "\n",
    "P_thermal_fit = eos_fit.press(tbl['V'], tbl['T'])-eos_fit.press(tbl['V'], T0)\n"
   ]
  },
  {
   "cell_type": "code",
   "execution_count": null,
   "metadata": {},
   "outputs": [],
   "source": []
  },
  {
   "cell_type": "code",
   "execution_count": null,
   "metadata": {},
   "outputs": [],
   "source": [
    "plt.figure()\n",
    "tbl = thermal_compress_data['table']\n",
    "\n",
    "\n",
    "plt.scatter(tbl['V'], tbl['P_thermal'], c=tbl['T']-T0, cmap=plt.get_cmap('coolwarm',11))\n",
    "plt.clim(-5500,5500)\n",
    "plt.scatter(tbl['V'], P_thermal_fit, c=tbl['T']-T0, marker='^', edgecolor='k',cmap=plt.get_cmap('coolwarm',11))\n",
    "plt.clim(-5500,5500)\n",
    "plt.plot(props_Lange['V'], dP_therm_Lange, 'kx')\n",
    "plt.colorbar()\n",
    "\n",
    "plt.figure()\n",
    "\n",
    "plt.scatter(tbl['T']-T0, tbl['P_thermal'], c=tbl['V'],  cmap=plt.get_cmap('jet'))\n",
    "plt.clim(5,15)\n",
    "plt.scatter(tbl['T']-T0, P_thermal_fit, c=tbl['V'],  marker='^', edgecolor='k', cmap=plt.get_cmap('jet'))\n",
    "plt.clim(5,15)\n",
    "plt.plot( props_Lange['T']-T0, dP_therm_Lange,  'kx')\n",
    "plt.plot(0,0,'k+')\n",
    "plt.colorbar()"
   ]
  },
  {
   "cell_type": "code",
   "execution_count": null,
   "metadata": {},
   "outputs": [],
   "source": []
  },
  {
   "cell_type": "code",
   "execution_count": null,
   "metadata": {},
   "outputs": [],
   "source": [
    "datamodel_P_thermal['model_pdf'].param_table"
   ]
  },
  {
   "cell_type": "code",
   "execution_count": null,
   "metadata": {},
   "outputs": [],
   "source": [
    "plt.figure()\n",
    "plt.imshow(datamodel_P_thermal['model_pdf'].param_corr, cmap='seismic')\n",
    "plt.clim(-1,1)\n",
    "plt.colorbar()"
   ]
  },
  {
   "cell_type": "code",
   "execution_count": null,
   "metadata": {},
   "outputs": [],
   "source": []
  },
  {
   "cell_type": "code",
   "execution_count": null,
   "metadata": {},
   "outputs": [],
   "source": [
    "def load_shock_data(datafile='data/shock-data-Mosenfelder2009.csv'):\n",
    "    shock_dat = pd.read_csv(datafile,delimiter=',')\n",
    "    melt_en_mask = ((shock_dat['Starting Material']=='Enstatite')&(shock_dat['Phase State']=='melt'))\n",
    "    melt_glass_mask = ((shock_dat['Starting Material']=='Glass')&(shock_dat['Phase State']=='melt'))\n",
    "\n",
    "    melt_enpor_mask = ((shock_dat['Starting Material']=='Porous Enstatite')&(shock_dat['Phase State']=='melt'))\n",
    "    melt_oxmix_mask = ((shock_dat['Starting Material']=='Oxide mix')&(shock_dat['Phase State']=='melt'))\n",
    "\n",
    "    shock_dat_melt_glass = shock_dat.loc[melt_glass_mask]\n",
    "    shock_dat_melt_en = shock_dat.loc[melt_en_mask]\n",
    "    \n",
    "    return shock_dat_melt_glass, shock_dat_melt_en\n",
    "\n",
    "def get_melt_rxn_info():    \n",
    "    shock_dat_melt_glass, shock_dat_melt_en = load_shock_data()\n",
    "    \n",
    "    # Data on pre-melting behavior of enstatite from \n",
    "    \n",
    "    Tmelt = 1816\n",
    "    \n",
    "\n",
    "    # Enstatite Hugoniot\n",
    "    rhoinit_en=np.mean(shock_dat_melt_en['rho0'])\n",
    "    # rhofaclims_en = [1.59, 1.84]\n",
    "    rhofaclims_en = np.array([1.6, 1.8])\n",
    "    # Etrans_en = 2.192455e6*1e-3/const_d['JperHa']*const_d['eVperHa']*eos_d['param_d']['mass_avg']/const_d['Nmol']\n",
    "    \n",
    "    #Tmelt_en = 300\n",
    "    Efus_en = 73.2*1e3/5/CONSTS['JperHa']*CONSTS['eVperHa']/CONSTS['Nmol']\n",
    "    \n",
    "    # This should probably be integrated from 300K not 273....\n",
    "    # Eheat_en = 126*(Tmelt-273)/5/CONSTS['JperHa']*CONSTS['eVperHa']/CONSTS['Nmol']\n",
    "    Eheat_en = (126*(Tmelt-273) - 80*(300-273))/5/CONSTS['JperHa']*CONSTS['eVperHa']/CONSTS['Nmol']\n",
    "    Etrans_en = Eheat_en+Efus_en\n",
    "\n",
    "    melt_rxn_en = {}\n",
    "    melt_rxn_en['Tmelt'] = Tmelt    \n",
    "    melt_rxn_en['rhoinit'] = rhoinit_en\n",
    "    melt_rxn_en['rhofaclims'] = rhofaclims_en\n",
    "    melt_rxn_en['Etrans'] = Etrans_en\n",
    "\n",
    "    # Glass Hugoniot\n",
    "    rhoinit_glass = np.mean(shock_dat_melt_glass['rho0'])\n",
    "    # rhofaclims_glass = [1.65, 1.94]\n",
    "    rhofaclims_glass = [1.65, 1.9]\n",
    "    # Etrans_glass = 1.862455e6*1e-3/const_d['JperHa']*const_d['eVperHa']*eos_d['param_d']['mass_avg']/const_d['Nmol']\n",
    "    \n",
    "    # delE_glass = (2.192455e6-1.862455e6)*1e-3/CONSTS['JperHa']*CONSTS['eVperHa']*eos_mod.molar_mass/CONSTS['Nmol']\n",
    "    # Etrans_glass = Etrans_en - delE_glass\n",
    "    \n",
    "    Efus_glass = Efus_en = (73.2-42.1)*1e3/5/CONSTS['JperHa']*CONSTS['eVperHa']/CONSTS['Nmol']\n",
    "    Etrans_glass = Eheat_en + Efus_glass\n",
    "    \n",
    "    melt_rxn_glass = {}\n",
    "    melt_rxn_glass['Tmelt'] = Tmelt    \n",
    "    melt_rxn_glass['rhoinit'] = rhoinit_glass\n",
    "    melt_rxn_glass['rhofaclims'] = rhofaclims_glass\n",
    "    melt_rxn_glass['Etrans'] = Etrans_glass\n",
    "    \n",
    "    return melt_rxn_glass, melt_rxn_en\n",
    "\n",
    "def calc_hugoniot(eos_mod, melt_rxn, Tinit=300):\n",
    "    hugoniot = eos_mod.hugoniot(\n",
    "        melt_rxn['rhofaclims'], melt_rxn['rhoinit'], Tinit, \n",
    "        Etrans=melt_rxn['Etrans'], Ttrans=melt_rxn['Tmelt'],\n",
    "        isobar_trans=True)\n",
    "    \n",
    "    return hugoniot"
   ]
  },
  {
   "cell_type": "code",
   "execution_count": null,
   "metadata": {},
   "outputs": [],
   "source": []
  },
  {
   "cell_type": "code",
   "execution_count": null,
   "metadata": {},
   "outputs": [],
   "source": [
    "shock_dat_melt_glass, shock_dat_melt_en = load_shock_data()\n",
    "melt_rxn_glass, melt_rxn_en = get_melt_rxn_info()\n",
    "\n",
    "hugoniot_glass = calc_hugoniot(eos_fit, melt_rxn_glass)\n",
    "hugoniot_en = calc_hugoniot(eos_fit, melt_rxn_en)\n",
    "\n"
   ]
  },
  {
   "cell_type": "code",
   "execution_count": null,
   "metadata": {},
   "outputs": [],
   "source": [
    "def plot_hugoniot(shock_dat_melt_glass, shock_dat_melt_en,\n",
    "                  hugoniot_glass_S11, hugoniot_en_S11,\n",
    "                  hugoniot_glass_dK09, hugoniot_en_dK09,\n",
    "                  Plim=[50,225], col_glass=[0,0,0], col_en=[.5,.5,.5]):\n",
    "    \n",
    "    f, ax_a = plt.subplots(2, 1, sharex='col')\n",
    "\n",
    "    ax_a[0].errorbar(shock_dat_melt_glass['P'], shock_dat_melt_glass['rho'],\n",
    "                     xerr=shock_dat_melt_glass['P err'],\n",
    "                     yerr=shock_dat_melt_glass['rho err'],\n",
    "                     fmt='.',color=col_glass)\n",
    "    ax_a[0].errorbar(shock_dat_melt_en['P'], shock_dat_melt_en['rho'],\n",
    "                     xerr=shock_dat_melt_en['P err'],\n",
    "                     yerr=shock_dat_melt_en['rho err'],\n",
    "                     fmt='.',color=col_en)\n",
    "\n",
    "    ax_a[0].plot(hugoniot_glass_S11['P_a'],hugoniot_glass_S11['rho_a'],\n",
    "                 '-',color=col_glass)\n",
    "    ax_a[0].plot(hugoniot_en_S11['P_a'],hugoniot_en_S11['rho_a'],\n",
    "                 '-',color=col_en)\n",
    "\n",
    "    ax_a[0].plot(hugoniot_glass_dK09['P_a'],hugoniot_glass_dK09['rho_a'],\n",
    "                 '--',color=col_glass)\n",
    "    ax_a[0].plot(hugoniot_en_dK09['P_a'],hugoniot_en_dK09['rho_a'],\n",
    "                 '--',color=col_en)\n",
    "\n",
    "    ax_a[0].set_xlim(Plim[0],Plim[1])\n",
    "    ax_a[0].set_ylabel(u'Density [g/cm$^3$]')\n",
    "\n",
    "    \n",
    "    \n",
    "    ax_a[1].plot(hugoniot_glass_S11['P_a'],hugoniot_glass_S11['T_a'],\n",
    "                 '-',color=col_glass)\n",
    "    ax_a[1].plot(hugoniot_en_S11['P_a'],hugoniot_en_S11['T_a'],\n",
    "                 '-',color=col_en)\n",
    "\n",
    "    ax_a[1].plot(hugoniot_glass_dK09['P_a'],hugoniot_glass_dK09['T_a'],\n",
    "                 '--',color=col_glass)\n",
    "    ax_a[1].plot(hugoniot_en_dK09['P_a'],hugoniot_en_dK09['T_a'],\n",
    "                 '--',color=col_en)\n",
    "\n",
    "    ax_a[1].errorbar(shock_dat_melt_glass['P'], shock_dat_melt_glass['TH'],\n",
    "                     xerr=shock_dat_melt_glass['P err'],\n",
    "                     yerr=shock_dat_melt_glass['TH err'],\n",
    "                     fmt='.',color=col_glass)\n",
    "    ax_a[1].errorbar(shock_dat_melt_en['P'], shock_dat_melt_en['TH'],\n",
    "                     xerr=shock_dat_melt_en['P err'],\n",
    "                     yerr=shock_dat_melt_en['TH err'],\n",
    "                     fmt='.',color=col_en)\n",
    "    \n",
    "    ax_a[1].set_xlim(Plim[0],Plim[1])\n",
    "    ax_a[1].set_xlabel('Pressure  [GPa]')\n",
    "    ax_a[1].set_ylabel('Temperature  [K]')\n",
    "    ax_a[1].set_ylim(2000,8000)\n",
    "\n",
    "    ax_a[0].text(80,4.78,'glass hugoniot',fontsize=12,color=col_glass,\n",
    "                 verticalalignment='center',horizontalalignment='center',rotation=20)\n",
    "    ax_a[0].text(150,5.5,'enstatite hugoniot',fontsize=12,color=col_en,\n",
    "                 verticalalignment='center',horizontalalignment='center',rotation=15)\n",
    "\n",
    "    ax_a[0].axvspan(136,Plim[1],color = [.95,.95,.95])\n",
    "    ax_a[1].axvspan(136,Plim[1],color = [.95,.95,.95])\n",
    "\n",
    "\n",
    "    ax_a[1].text(90,7000,'Terrestrial Mantle\\nRegion',fontsize=14,color='k',\n",
    "                 verticalalignment='top',horizontalalignment='center',weight='bold')\n",
    "\n",
    "    plt.draw()\n",
    "    plt.tight_layout(h_pad=.15)\n",
    "    pass"
   ]
  },
  {
   "cell_type": "code",
   "execution_count": null,
   "metadata": {},
   "outputs": [],
   "source": [
    "plot_hugoniot(shock_dat_melt_glass, shock_dat_melt_en,\n",
    "                  hugoniot_glass, hugoniot_en,\n",
    "                  hugoniot_glass, hugoniot_en)"
   ]
  },
  {
   "cell_type": "code",
   "execution_count": null,
   "metadata": {},
   "outputs": [],
   "source": []
  },
  {
   "cell_type": "code",
   "execution_count": null,
   "metadata": {},
   "outputs": [],
   "source": []
  },
  {
   "cell_type": "code",
   "execution_count": null,
   "metadata": {},
   "outputs": [],
   "source": []
  },
  {
   "cell_type": "code",
   "execution_count": null,
   "metadata": {},
   "outputs": [],
   "source": []
  },
  {
   "cell_type": "code",
   "execution_count": null,
   "metadata": {},
   "outputs": [],
   "source": [
    "Vbnds = [5,15]\n",
    "\n",
    "cmap = plt.get_cmap('gist_earth')\n",
    "cmap = plt.get_cmap('magma')\n",
    "# cmap = plt.get_cmap('viridis')\n",
    "col_ref = (V_ref-Vbnds[0])/(Vbnds[1]-Vbnds[0])\n",
    "\n",
    "plt.figure()\n",
    "plt.scatter(thermal_deriv_S11['Tavg'],thermal_deriv_S11['dEdT']/CONSTS['kboltz'], \n",
    "            c=thermal_deriv_S11['Vavg'], cmap=cmap, edgecolor='k', s=100)\n",
    "plt.scatter(thermal_deriv_dK09['Tavg'],thermal_deriv_dK09['dEdT']/CONSTS['kboltz'],\n",
    "            c=thermal_deriv_dK09['Vavg'], marker='s', cmap=cmap, edgecolor='k', s=100)\n",
    "plt.plot(1773,4.2,'*', color=cmap(col_ref))\n",
    "plt.ylabel('Cv/Nk')\n",
    "plt.colorbar(label='V')\n",
    "\n",
    "plt.figure()\n",
    "plt.scatter(thermal_deriv_S11['Tavg'],thermal_deriv_S11['dPdT']*1e3, \n",
    "            c=thermal_deriv_S11['Vavg'], cmap=cmap, edgecolor='k', s=100,\n",
    "            vmin=Vbnds[0],vmax=Vbnds[1])\n",
    "\n",
    "plt.scatter(thermal_deriv_dK09['Tavg'],thermal_deriv_dK09['dPdT']*1e3, \n",
    "            c=thermal_deriv_dK09['Vavg'], marker='s', cmap=cmap, edgecolor='k', s=100,\n",
    "           vmin=Vbnds[0],vmax=Vbnds[1])\n",
    "\n",
    "\n",
    "plt.plot(T_ref, dPdT_ref,'*', color=cmap(col_ref))\n",
    "plt.ylabel('dP/dT  [GPa/1000K]')\n",
    "plt.colorbar(label='V')"
   ]
  },
  {
   "cell_type": "code",
   "execution_count": null,
   "metadata": {},
   "outputs": [],
   "source": [
    "plt.figure()\n",
    "plt.scatter(np.random.randn(len(thermal_deriv_S11['dPdT'])),thermal_deriv_S11['dPdT']*1e3, \n",
    "            c=thermal_deriv_S11['Vavg'], cmap=cmap, edgecolor='k', s=100,\n",
    "            vmin=Vbnds[0],vmax=Vbnds[1])\n",
    "\n",
    "plt.scatter(np.random.randn(len(thermal_deriv_dK09['dPdT'])),thermal_deriv_dK09['dPdT']*1e3, \n",
    "            c=thermal_deriv_dK09['Vavg'], marker='s', cmap=cmap, edgecolor='k', s=100,\n",
    "           vmin=Vbnds[0],vmax=Vbnds[1])\n",
    "\n",
    "\n",
    "plt.plot(dPdT_ref,'*', color=cmap(col_ref))\n",
    "plt.ylabel('dP/dT  [GPa/1000K]')\n",
    "plt.colorbar(label='V')"
   ]
  },
  {
   "cell_type": "code",
   "execution_count": null,
   "metadata": {},
   "outputs": [],
   "source": []
  },
  {
   "cell_type": "code",
   "execution_count": null,
   "metadata": {},
   "outputs": [],
   "source": [
    "\n",
    "plt.figure()\n",
    "Vavg = np.unique(thermal_deriv_S11['Vavg'])\n",
    "for iV in Vavg:\n",
    "    icol = (iV-Vbnds[0])/(Vbnds[1]-Vbnds[0])\n",
    "    #icol = (iV-Vavg[0])/(Vavg[-1]-Vavg[0])\n",
    "    mask = thermal_deriv_S11['Vavg']==iV\n",
    "    plt.plot(thermal_deriv_S11['Tavg'][mask],thermal_deriv_S11['dEdT'][mask]/CONSTS['kboltz'], \n",
    "            'o-', markeredgecolor='k',color = cmap(icol))\n",
    "\n",
    "Vavg = np.unique(thermal_deriv_dK09['Vavg'])\n",
    "for iV in Vavg:\n",
    "    icol = (iV-Vbnds[0])/(Vbnds[1]-Vbnds[0])\n",
    "    #icol = (iV-Vavg[0])/(Vavg[-1]-Vavg[0])\n",
    "    mask = thermal_deriv_dK09['Vavg']==iV\n",
    "    plt.plot(thermal_deriv_dK09['Tavg'][mask],thermal_deriv_dK09['dEdT'][mask]/CONSTS['kboltz'], \n",
    "            's--', markeredgecolor='k',color = cmap(icol))\n",
    "    \n",
    "plt.ylabel('Cv/Nk')\n",
    "plt.xlabel('T  [K]')\n",
    "#plt.colorbar(label='V')"
   ]
  },
  {
   "cell_type": "code",
   "execution_count": null,
   "metadata": {},
   "outputs": [],
   "source": [
    "plt.figure()\n",
    "Vavg = np.unique(thermal_deriv_S11['Vavg'])\n",
    "for iV in Vavg:\n",
    "    # icol = (iV-Vavg[0])/(Vavg[-1]-Vavg[0])\n",
    "    icol = (iV-Vbnds[0])/(Vbnds[1]-Vbnds[0])\n",
    "    mask = thermal_deriv_S11['Vavg']==iV\n",
    "    plt.plot(thermal_deriv_S11['Tavg'][mask],thermal_deriv_S11['dPdT'][mask]*1e3, \n",
    "            'o-', markeredgecolor='k',color = cmap(icol))\n",
    "\n",
    "Vavg = np.unique(thermal_deriv_dK09['Vavg'])\n",
    "for iV in Vavg:\n",
    "    icol = (iV-Vbnds[0])/(Vbnds[1]-Vbnds[0])\n",
    "    #icol = (iV-Vavg[0])/(Vavg[-1]-Vavg[0])\n",
    "    mask = thermal_deriv_dK09['Vavg']==iV\n",
    "    plt.plot(thermal_deriv_dK09['Tavg'][mask],thermal_deriv_dK09['dPdT'][mask]*1e3, \n",
    "            's--', markeredgecolor='k',color = cmap(icol))\n",
    "    \n",
    "plt.ylabel('dP/dT  [GPa/1000K]')\n",
    "plt.xlabel('T [K]')\n",
    "#plt.colorbar(label='V')"
   ]
  },
  {
   "cell_type": "code",
   "execution_count": null,
   "metadata": {},
   "outputs": [],
   "source": []
  },
  {
   "cell_type": "code",
   "execution_count": null,
   "metadata": {},
   "outputs": [],
   "source": [
    "tbl_dK09 = data_dK09['table']\n",
    "mask_T3K = tbl_dK09['T']==3000\n",
    "\n",
    "compress_T0_data = pd.DataFrame()\n",
    "compress_T0_data['V'] = tbl_dK09.loc[mask_T3K, 'V']\n",
    "compress_T0_data['P'] = tbl_dK09.loc[mask_T3K, 'P']\n",
    "\n",
    "compress_T0_data.reset_index(inplace=True, drop=True)\n",
    "\n",
    "thermal_compress_data = tbl_dK09.loc[~mask_T3K]\n",
    "thermal_compress_data.reset_index(inplace=True, drop=True)\n",
    "thermal_compress_data\n",
    "\n"
   ]
  },
  {
   "cell_type": "code",
   "execution_count": null,
   "metadata": {},
   "outputs": [],
   "source": []
  },
  {
   "cell_type": "code",
   "execution_count": null,
   "metadata": {},
   "outputs": [],
   "source": []
  },
  {
   "cell_type": "code",
   "execution_count": null,
   "metadata": {},
   "outputs": [],
   "source": []
  }
 ],
 "metadata": {
  "kernelspec": {
   "display_name": "Python 3",
   "language": "python",
   "name": "python3"
  },
  "language_info": {
   "codemirror_mode": {
    "name": "ipython",
    "version": 3
   },
   "file_extension": ".py",
   "mimetype": "text/x-python",
   "name": "python",
   "nbconvert_exporter": "python",
   "pygments_lexer": "ipython3",
   "version": "3.6.2"
  }
 },
 "nbformat": 4,
 "nbformat_minor": 2
}
