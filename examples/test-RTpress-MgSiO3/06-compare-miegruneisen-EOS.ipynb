{
 "cells": [
  {
   "cell_type": "code",
   "execution_count": null,
   "metadata": {},
   "outputs": [],
   "source": [
    "import matplotlib.pyplot as plt\n",
    "%matplotlib notebook\n",
    "import numpy as np\n",
    "import pandas as pd\n",
    "import pickle\n",
    "\n",
    "import xmeos\n",
    "from xmeos import models\n",
    "from xmeos import datamod\n",
    "CONSTS = models.CONSTS\n",
    "import copy\n",
    "\n",
    "from mpltools import annotation\n",
    "\n",
    "from collections import OrderedDict"
   ]
  },
  {
   "cell_type": "code",
   "execution_count": null,
   "metadata": {},
   "outputs": [],
   "source": []
  },
  {
   "cell_type": "code",
   "execution_count": null,
   "metadata": {},
   "outputs": [],
   "source": [
    "analysis_file = 'data/analysis.pkl'\n",
    "with open(analysis_file, 'rb') as f:\n",
    "    analysis = pickle.load(f)"
   ]
  },
  {
   "cell_type": "code",
   "execution_count": null,
   "metadata": {},
   "outputs": [],
   "source": []
  },
  {
   "cell_type": "code",
   "execution_count": null,
   "metadata": {},
   "outputs": [],
   "source": []
  },
  {
   "cell_type": "code",
   "execution_count": null,
   "metadata": {},
   "outputs": [],
   "source": [
    "datamodel = analysis['datamodel']\n",
    "data = datamodel['data']\n",
    "eos_mod = datamodel['eos_mod']"
   ]
  },
  {
   "cell_type": "code",
   "execution_count": null,
   "metadata": {},
   "outputs": [],
   "source": [
    "T0 = eos_mod.get_refstate()['T0']\n"
   ]
  },
  {
   "cell_type": "code",
   "execution_count": null,
   "metadata": {},
   "outputs": [],
   "source": []
  },
  {
   "cell_type": "code",
   "execution_count": null,
   "metadata": {},
   "outputs": [],
   "source": [
    "# Extract reference isotherm and roughly estimate \n",
    "#   compression parameters using interpolation\n",
    "\n",
    "S0 = 0 # Ignore absolute entropy for simplicity\n",
    "\n",
    "kind_thermal='Debye'\n",
    "kind_thermal='ConstHeatCap'\n",
    "kind_gamma = 'GammaFiniteStrain'\n",
    "kind_compress = 'Vinet'\n",
    "compress_path_const = 'S'\n",
    "# compress_path_const = 'T'\n",
    "ref_energy_type='E0'\n",
    "# ref_energy_type='F0'\n",
    "natom = 1\n",
    "molar_mass = (24.31+28.09+3*16.0)/5.0 # g/(mol atom)\n",
    "\n",
    "eos_mod_mgd = models.MieGruneisenEos(\n",
    "    kind_thermal=kind_thermal, kind_gamma=kind_gamma, \n",
    "    kind_compress=kind_compress, compress_path_const=compress_path_const,\n",
    "    natom=natom, ref_energy_type=ref_energy_type)\n",
    "\n",
    "eos_mod_mgd.ndof=3\n",
    "\n",
    "eos_mod_mgd.refstate.ref_state['T0'] = T0\n",
    "eos_mod_mgd.set_param_values(S0, param_names='S0')"
   ]
  },
  {
   "cell_type": "code",
   "execution_count": null,
   "metadata": {},
   "outputs": [],
   "source": [
    "datamodel_mgd = datamod.init_datamodel(data, eos_mod_mgd)"
   ]
  },
  {
   "cell_type": "code",
   "execution_count": null,
   "metadata": {},
   "outputs": [],
   "source": [
    "datamodel_mgd['eos_mod']"
   ]
  },
  {
   "cell_type": "code",
   "execution_count": null,
   "metadata": {},
   "outputs": [],
   "source": [
    "compress_param_names0 = ['V0','K0','KP0','E0']\n",
    "compress_param_names = ['V0','K0','KP0','E0']\n",
    "gamma_param_names = ['gamma0', 'gammap0']\n",
    "\n",
    "compress_param_vals = eos_mod.get_param_values(\n",
    "    param_names=compress_param_names0)\n",
    "gamma_param_vals = eos_mod.get_param_values(\n",
    "    param_names=gamma_param_names)\n",
    "\n",
    "eos_mod_mgd.set_param_values(param_names=compress_param_names,\n",
    "                             param_values=compress_param_vals)\n",
    "eos_mod_mgd.set_param_values(param_names=gamma_param_names,\n",
    "                             param_values=gamma_param_vals)"
   ]
  },
  {
   "cell_type": "code",
   "execution_count": null,
   "metadata": {},
   "outputs": [],
   "source": []
  },
  {
   "cell_type": "code",
   "execution_count": null,
   "metadata": {},
   "outputs": [],
   "source": [
    "tbl = datamodel_mgd['data']['table']\n",
    "err_scale = datamodel['err_scale']\n",
    "# tbl['E']"
   ]
  },
  {
   "cell_type": "code",
   "execution_count": null,
   "metadata": {},
   "outputs": [],
   "source": []
  },
  {
   "cell_type": "code",
   "execution_count": null,
   "metadata": {},
   "outputs": [],
   "source": [
    "resid=datamod.calc_resid(datamodel_mgd)\n",
    "residP = resid[0:79]\n",
    "residE = resid[79:]"
   ]
  },
  {
   "cell_type": "code",
   "execution_count": null,
   "metadata": {},
   "outputs": [],
   "source": []
  },
  {
   "cell_type": "code",
   "execution_count": null,
   "metadata": {},
   "outputs": [],
   "source": [
    "residP_a = (eos_mod_mgd.press(tbl['V'],tbl['T'])-tbl['P'])/datamodel['err_scale']['P']\n",
    "residE_a = (eos_mod_mgd.internal_energy(tbl['V'],tbl['T'])-tbl['E'])/datamodel['err_scale']['E']\n",
    "# residE_a-residE\n",
    "# residP_a-residP"
   ]
  },
  {
   "cell_type": "code",
   "execution_count": null,
   "metadata": {},
   "outputs": [],
   "source": []
  },
  {
   "cell_type": "code",
   "execution_count": null,
   "metadata": {},
   "outputs": [],
   "source": [
    "datamodel_mgd['eos_mod']"
   ]
  },
  {
   "cell_type": "code",
   "execution_count": null,
   "metadata": {},
   "outputs": [],
   "source": [
    "# datamodel_mgd"
   ]
  },
  {
   "cell_type": "code",
   "execution_count": null,
   "metadata": {},
   "outputs": [],
   "source": [
    "eos_mod_mgd.set_param_values(param_names=['Cvlimfac'],param_values=[1.55])"
   ]
  },
  {
   "cell_type": "code",
   "execution_count": null,
   "metadata": {},
   "outputs": [],
   "source": [
    "display(eos_mod_mgd.get_params())\n",
    "display(eos_mod_mgd.get_refstate())"
   ]
  },
  {
   "cell_type": "code",
   "execution_count": null,
   "metadata": {},
   "outputs": [],
   "source": [
    "T0 = eos_mod_mgd.get_refstate()['T0']\n",
    "V0 = eos_mod_mgd.get_params()['V0']\n",
    "eos_mod_mgd.internal_energy(V0,T0)\n",
    "# eos_mod_mgd.press(V0,T0)"
   ]
  },
  {
   "cell_type": "code",
   "execution_count": null,
   "metadata": {},
   "outputs": [],
   "source": [
    "# datamodel_mgd['data']['exp_constraint']=None"
   ]
  },
  {
   "cell_type": "code",
   "execution_count": null,
   "metadata": {},
   "outputs": [],
   "source": []
  },
  {
   "cell_type": "code",
   "execution_count": null,
   "metadata": {},
   "outputs": [],
   "source": [
    "fit_calcs = ['compress','gamma','refstate','thermal']\n",
    "fix_params = ['S0','theta0']"
   ]
  },
  {
   "cell_type": "code",
   "execution_count": null,
   "metadata": {},
   "outputs": [],
   "source": [
    "datamod.select_fit_params(datamodel_mgd, fit_calcs, fix_params=fix_params)"
   ]
  },
  {
   "cell_type": "code",
   "execution_count": null,
   "metadata": {},
   "outputs": [],
   "source": [
    "datamodel_mgd['fit_params']"
   ]
  },
  {
   "cell_type": "code",
   "execution_count": null,
   "metadata": {},
   "outputs": [],
   "source": []
  },
  {
   "cell_type": "code",
   "execution_count": null,
   "metadata": {},
   "outputs": [],
   "source": [
    "datamod.fit(datamodel_mgd)\n",
    "datamod.fit(datamodel_mgd, apply_bulk_mod_wt=True, wt_vol=.5)"
   ]
  },
  {
   "cell_type": "code",
   "execution_count": null,
   "metadata": {},
   "outputs": [],
   "source": []
  },
  {
   "cell_type": "code",
   "execution_count": null,
   "metadata": {},
   "outputs": [],
   "source": [
    "display('R2fit = ', datamodel_mgd['posterior']['R2fit'])\n",
    "display('Model Residual Error = ', datamodel_mgd['posterior']['fit_err'])\n",
    "display(datamodel_mgd['posterior']['param_tbl'])"
   ]
  },
  {
   "cell_type": "code",
   "execution_count": null,
   "metadata": {},
   "outputs": [],
   "source": []
  },
  {
   "cell_type": "code",
   "execution_count": null,
   "metadata": {},
   "outputs": [],
   "source": [
    "def fit_param_symbols():\n",
    "    param_tex_sym = OrderedDict()\n",
    "    param_tex_sym['V0'] = r\"$V_0$\"\n",
    "    param_tex_sym['K0'] = r\"$K_0$\"\n",
    "    param_tex_sym['KP0'] = r\"$K'_0$\"\n",
    "    param_tex_sym['E0'] = r\"$E_0$\"\n",
    "    param_tex_sym['gamma0'] = r\"$\\gamma_0$\"\n",
    "    param_tex_sym['gammap0'] = r\"$\\gamma'_0$\"\n",
    "    param_tex_sym['Cvlimfac'] = r\"$C_V^\\textrm{lim}$\"\n",
    "    \n",
    "    return param_tex_sym\n",
    "\n",
    "\n",
    "param_tex_sym = fit_param_symbols()"
   ]
  },
  {
   "cell_type": "code",
   "execution_count": null,
   "metadata": {},
   "outputs": [],
   "source": []
  },
  {
   "cell_type": "code",
   "execution_count": null,
   "metadata": {},
   "outputs": [],
   "source": [
    "tbl = datamodel_mgd['data']['table']\n",
    "\n",
    "Tlbl = data['T_labels']\n",
    "delT = Tlbl[1]-Tlbl[0]\n",
    "clims = [Tlbl[0]-delT/2,Tlbl[-1]+delT/2]\n",
    "cmap = plt.get_cmap('coolwarm',len(Tlbl))\n",
    "\n",
    "T0 = eos_mod_mgd.get_refstate()['T0']\n",
    "V0 = eos_mod_mgd.get_params()['V0']\n",
    "Vmod = V0*np.linspace(.3,1.2,1001)\n",
    "\n",
    "plt.figure()\n",
    "for iT in data['T_avg']:\n",
    "    icol = cmap((iT-clims[0])/(clims[1]-clims[0]))\n",
    "    plt.plot(Vmod/V0, eos_mod_mgd.internal_energy(Vmod,iT), '-', color=icol)\n",
    "    \n",
    "plt.scatter(tbl['V']/V0,tbl['E'],c=tbl['T'], cmap=cmap)\n",
    "plt.xlabel(r'$V$ / $V_0$')\n",
    "plt.ylabel(r'Energy  [eV/atom]')\n",
    "cbar = plt.colorbar()\n",
    "plt.clim(clims)\n",
    "cbar.set_ticks(Tlbl)\n",
    "plt.ylim(-21,-19)"
   ]
  },
  {
   "cell_type": "code",
   "execution_count": null,
   "metadata": {},
   "outputs": [],
   "source": []
  },
  {
   "cell_type": "code",
   "execution_count": null,
   "metadata": {},
   "outputs": [],
   "source": [
    "plt.figure()\n",
    "for iT in data['T_avg']:\n",
    "    icol = cmap((iT-clims[0])/(clims[1]-clims[0]))\n",
    "    plt.plot(Vmod/V0, eos_mod_mgd.press(Vmod,iT), '-', color=icol)\n",
    "\n",
    "\n",
    "Tbnd = 1773\n",
    "Tbnd = 1673\n",
    "Pbnd = eos_mod_mgd.press(Vmod,Tbnd)\n",
    "# indbnd = np.argmin(Pbnd)\n",
    "indbnd = np.argmin(Pbnd**2)\n",
    "\n",
    "\n",
    "plt.plot(Vmod[:indbnd]/V0, Pbnd[:indbnd],'-.',color=[.5,.5,.5])\n",
    "    \n",
    "plt.scatter(tbl['V']/V0,tbl['P'],c=tbl['T'], cmap=cmap)\n",
    "plt.clim(clims)\n",
    "plt.xlabel(r'$V$ / $V_0$')\n",
    "plt.ylabel(r'Pressure  [GPa]')\n",
    "cbar = plt.colorbar(label='Temperature [K]')\n",
    "cbar.set_ticks(Tlbl)\n",
    "\n",
    "#plt.ylim(-2,15);\n",
    "plt.plot(Vmod/V0,0*Vmod,'k-')"
   ]
  },
  {
   "cell_type": "code",
   "execution_count": null,
   "metadata": {},
   "outputs": [],
   "source": []
  },
  {
   "cell_type": "code",
   "execution_count": null,
   "metadata": {},
   "outputs": [],
   "source": [
    "Tlbl = [2000,2250,2500,2750,3000,3250,3500]\n",
    "delT = Tlbl[1]-Tlbl[0]\n",
    "clims = [Tlbl[0]-delT/2,Tlbl[-1]+delT/2]\n",
    "Tfoot_grid = Tlbl\n",
    "Pgrid = np.arange(0,550.1,1)\n",
    "eos_mod.apply_electronic = False\n",
    "Vad_grid, Tad_grid = eos_mod.adiabatic_path_grid(Tfoot_grid, Pgrid)\n",
    "\n",
    "Vad_grid_mgd, Tad_grid_mgd = eos_mod_mgd.adiabatic_path_grid(Tfoot_grid, Pgrid)"
   ]
  },
  {
   "cell_type": "code",
   "execution_count": null,
   "metadata": {},
   "outputs": [],
   "source": [
    "plt.figure()\n",
    "\n",
    "for Tad, Tad_mgd in zip(Tad_grid, Tad_grid_mgd):\n",
    "    plt.plot(Pgrid,Tad,'-')\n",
    "    plt.plot(Pgrid,Tad_mgd,':')"
   ]
  },
  {
   "cell_type": "code",
   "execution_count": null,
   "metadata": {},
   "outputs": [],
   "source": []
  },
  {
   "cell_type": "code",
   "execution_count": null,
   "metadata": {},
   "outputs": [],
   "source": [
    "eos_mod_mgd.gamma(Vmod,3000)\n",
    "eos_mod_mgd.heat_capacity(Vmod,3000)\n",
    "eos_mod_mgd."
   ]
  },
  {
   "cell_type": "code",
   "execution_count": null,
   "metadata": {},
   "outputs": [],
   "source": []
  }
 ],
 "metadata": {
  "kernelspec": {
   "display_name": "Python 3",
   "language": "python",
   "name": "python3"
  },
  "language_info": {
   "codemirror_mode": {
    "name": "ipython",
    "version": 3
   },
   "file_extension": ".py",
   "mimetype": "text/x-python",
   "name": "python",
   "nbconvert_exporter": "python",
   "pygments_lexer": "ipython3",
   "version": "3.6.2"
  }
 },
 "nbformat": 4,
 "nbformat_minor": 2
}
