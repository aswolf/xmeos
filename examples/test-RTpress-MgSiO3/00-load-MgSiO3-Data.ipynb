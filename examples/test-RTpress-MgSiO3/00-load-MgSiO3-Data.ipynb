{
 "cells": [
  {
   "cell_type": "markdown",
   "metadata": {},
   "source": [
    "# Load and Visualize MgSiO3 melt Data\n",
    "* Focus on classical simulations of Spera et al. (2011)\n",
    "    * we only analyze simulations produced with high-pressure potential set of Oganov et al. (2000)\n",
    "* Also load First Principles MD data from deKoker et al. (2009)"
   ]
  },
  {
   "cell_type": "code",
   "execution_count": 1,
   "metadata": {
    "collapsed": true
   },
   "outputs": [],
   "source": [
    "# Set experimental reference based on Ghiorso and Kress (2004)\n",
    "Pexp = 0\n",
    "Texp = 1673\n",
    "wt_exp_constraint=10\n",
    "# wt_exp_constraint=30\n",
    "# Vadj_empirical = 1.03\n",
    "Vadj_empirical = 1.0\n",
    "Padj_empirical = 0\n"
   ]
  },
  {
   "cell_type": "code",
   "execution_count": 2,
   "metadata": {
    "collapsed": true
   },
   "outputs": [],
   "source": [
    "import matplotlib.pyplot as plt\n",
    "%matplotlib ipympl\n",
    "import numpy as np\n",
    "import pandas as pd\n",
    "import pickle\n",
    "# import emcee\n",
    "\n",
    "import xmeos\n",
    "from xmeos import models\n",
    "from xmeos import datamod\n",
    "\n",
    "CONSTS = models.CONSTS"
   ]
  },
  {
   "cell_type": "markdown",
   "metadata": {},
   "source": [
    "## Load Analysis File\n",
    "* This pickle file stores all of the intermediate results from the notebooks"
   ]
  },
  {
   "cell_type": "code",
   "execution_count": null,
   "metadata": {
    "collapsed": true
   },
   "outputs": [],
   "source": []
  },
  {
   "cell_type": "code",
   "execution_count": 3,
   "metadata": {},
   "outputs": [
    {
     "name": "stdout",
     "output_type": "stream",
     "text": [
      "19.3625\n"
     ]
    },
    {
     "data": {
      "text/plain": [
       "{'KT': 19.3500111762087,\n",
       " 'P': 0,\n",
       " 'T': 1673,\n",
       " 'V': 12.803751383249672,\n",
       " 'alpha': 8.481830207765933e-05,\n",
       " 'betaT': 0.05167955671413378,\n",
       " 'dVdT': 0.001635}"
      ]
     },
     "metadata": {},
     "output_type": "display_data"
    },
    {
     "data": {
      "text/plain": [
       "{'KS': 20.850204971850488,\n",
       " 'P': 0,\n",
       " 'T': 1673,\n",
       " 'V': 12.860873922038328,\n",
       " 'alpha': 0.0001005551969012266,\n",
       " 'betaS': 0.047961159199637761,\n",
       " 'c': 2835.855,\n",
       " 'rho': 2592.6404131697873}"
      ]
     },
     "metadata": {},
     "output_type": "display_data"
    },
    {
     "data": {
      "text/plain": [
       "{'KT': 21.24339187023094,\n",
       " 'P': 0,\n",
       " 'T': 3000,\n",
       " 'V': 14.244863367785806,\n",
       " 'alpha': 7.623747764458367e-05,\n",
       " 'betaT': 0.04707346200214537,\n",
       " 'dVdT': 0.001635}"
      ]
     },
     "metadata": {},
     "output_type": "display_data"
    }
   ],
   "source": [
    "# Properties of MgSiO3 melt\n",
    "mass_avg = (24.31+28.09+3*16.0)/5.0 # g/(mol atom)\n",
    "natom=5\n",
    "\n",
    "\n",
    "rho_conv = 2.35023*14.1735882\n",
    "ang_cc_mol = CONSTS['ang3percc']/natom/CONSTS['Nmol'] # (ang^3/atom) / (cc/mol)\n",
    "\n",
    "def exp_properties_Ghiorso(T, Vconv=ang_cc_mol):\n",
    "    \"\"\"\n",
    "    Ghiorso and Kress 2004\n",
    "    \"\"\"\n",
    "    nmol = 2\n",
    "    dVdT_SiO2 = 1.007e-3\n",
    "    dVdT_MgO = 2.887e-3\n",
    "    dVdT = 0.5*dVdT_SiO2 + 0.5*dVdT_MgO\n",
    "    \n",
    "    VT0_SiO2 = 26.71\n",
    "    VT0_MgO = 12.015\n",
    "    \n",
    "    VT0 = 0.5*VT0_SiO2 + 0.5*VT0_MgO\n",
    "    alpha = dVdT/VT0\n",
    "    \n",
    "    VT = VT0*np.exp(alpha*(T-1673))\n",
    "    print(VT)\n",
    "\n",
    "    c_MgO = 3349.96\n",
    "    c_SiO2 = 2321.75\n",
    "    dcdT_MgO = 275.64e-3\n",
    "    dcdT_SiO2 = 399.34e-3\n",
    "    \n",
    "    c = 0.5*(c_MgO + dcdT_MgO*(T-1673)) + 0.5*(c_SiO2 + dcdT_SiO2*(T-1673))\n",
    "    \n",
    "    rho = 1e3*mass_avg/(VT*nmol/5)\n",
    "    betaS = 1e9/rho/c**2\n",
    "    KS = 1/betaS\n",
    "    \n",
    "    \n",
    "    #betaT_MgO = 0.5*VT_MgO/VT*0.615e-2\n",
    "    #betaT_SiO2 = 0.5*VT_SiO2/VT*7.15e-2\n",
    "    #betaT = betaT_MgO + betaT_SiO2\n",
    "    #K = 1/betaT\n",
    "    \n",
    "    props = {}\n",
    "    props['P'] = 0\n",
    "    props['T'] = T\n",
    "    props['V'] = VT*nmol*Vconv\n",
    "    props['alpha'] = alpha\n",
    "    props['c'] = c\n",
    "    props['rho'] = rho\n",
    "    props['betaS'] = betaS\n",
    "    props['KS'] = KS\n",
    "    return props\n",
    "\n",
    "def exp_properties_Lange(T, Vconv=ang_cc_mol):\n",
    "    \"\"\"\n",
    "    Lange 1997 and Ai and Lange 2004\n",
    "    \"\"\"\n",
    "    nmol = 2\n",
    "\n",
    "    # V0T = +12.02\n",
    "    dVdT = (0.5*0+0.5*3.27)*1e-3\n",
    "    \n",
    "    VT_SiO2 = 26.86\n",
    "    VT_MgO = 12.02 + 3.27e-3*(T-1773)\n",
    "    \n",
    "    VT = 0.5*VT_SiO2 + 0.5*VT_MgO\n",
    "    \n",
    "    alpha = dVdT/VT\n",
    "    # print(VT)\n",
    "    \n",
    "    betaT_MgO = 0.5*VT_MgO/VT*0.615e-2\n",
    "    betaT_SiO2 = 0.5*VT_SiO2/VT*7.15e-2\n",
    "    betaT = betaT_MgO + betaT_SiO2\n",
    "    # print(1/betaT)\n",
    "    # dVdP = (0.5*-1.922 + 0.5*-.073)\n",
    "    # K = -VT/dVdP\n",
    "    K = 1/betaT\n",
    " \n",
    "    \n",
    "    props = {}\n",
    "    props['P'] = 0\n",
    "    props['T'] = T\n",
    "    props['V'] = nmol*VT*Vconv\n",
    "    props['dVdT'] = dVdT\n",
    "    props['alpha'] = alpha\n",
    "    props['betaT'] = betaT\n",
    "    props['KT'] = K\n",
    "    return props\n",
    "    \n",
    "    pass\n",
    "    \n",
    "\n",
    "props_3000 = exp_properties_Lange(3000)\n",
    "props_Ghiorso = exp_properties_Ghiorso(Texp)\n",
    "props_Lange = exp_properties_Lange(Texp)\n",
    "\n",
    "display(props_Lange)\n",
    "display(props_Ghiorso)\n",
    "display(props_3000)\n",
    "exp_props = props_Lange"
   ]
  },
  {
   "cell_type": "code",
   "execution_count": 4,
   "metadata": {
    "collapsed": true
   },
   "outputs": [],
   "source": [
    "# props"
   ]
  },
  {
   "cell_type": "code",
   "execution_count": null,
   "metadata": {
    "collapsed": true
   },
   "outputs": [],
   "source": []
  },
  {
   "cell_type": "code",
   "execution_count": 5,
   "metadata": {
    "collapsed": true
   },
   "outputs": [
    {
     "name": "stderr",
     "output_type": "stream",
     "text": [
      "/Users/aswolf/anaconda/envs/py36/lib/python3.6/site-packages/ipykernel_launcher.py:119: FutureWarning: Sorting because non-concatenation axis is not aligned. A future version\n",
      "of pandas will change to not sort by default.\n",
      "\n",
      "To accept the future behavior, pass 'sort=False'.\n",
      "\n",
      "To retain the current behavior and silence the warning, pass 'sort=True'.\n",
      "\n"
     ]
    }
   ],
   "source": [
    "\n",
    "def read_data_Spera2011(exp_props=exp_props):\n",
    "    title = 'Spera2011'\n",
    "    delT = 500\n",
    "    datasource = 'data/MgSiO3-Oganov-md-Spera2011.csv'\n",
    "    data = pd.read_csv(datasource)\n",
    "    natom = 5\n",
    "    \n",
    "    # Vconv = CONSTS['ang3percc']*mass_avg/CONSTS['Nmol'] # (ang^3/atom) / (cc/g)\n",
    "    Econv = 1/CONSTS['kJ_molpereV']/natom # (eV/atom) / (kJ/mol formula)\n",
    "    Vconv = 1\n",
    "    \n",
    "\n",
    "    V = data['V [ang3/atom]']\n",
    "    P = data['P [GPa]']\n",
    "    trust = np.tile(True, data.shape[0])\n",
    "    # trust[V>11] = False\n",
    "\n",
    "    data = datamod.load_data(P=P,V=V, \n",
    "                             T=data['T [K]'], E=data['Etot [kJ/mol]'],\n",
    "                             Perr=data['P_err [GPa]'],\n",
    "                             Terr=data['T_err [K]'], \n",
    "                             Eerr=data['Etot_err [kJ/mol]'],\n",
    "                             trust=trust,\n",
    "                             title=title, datasource=datasource,\n",
    "                             Vconv=Vconv, Econv=Econv, mass_avg=mass_avg)\n",
    "    \n",
    "    \n",
    "    KT_exp = exp_props['KT']\n",
    "    alpha = exp_props['alpha']\n",
    "    \n",
    "    KT_exp = None\n",
    "    alpha = None\n",
    "    \n",
    "    datamod.set_exp_constraint(data, exp_props['V'], exp_props['T'], \n",
    "                               exp_props['P'], KT=KT_exp,\n",
    "                               alpha=alpha, wt=wt_exp_constraint)\n",
    "    \n",
    "    # datamod.set_uncertainty_scale(data)\n",
    "    tbl = data['table']\n",
    "    \n",
    "    tbl['T_label'] = delT*np.round(tbl['T']/delT)\n",
    "    Tlbl = np.unique(tbl['T_label'])\n",
    "    T_avg = []\n",
    "    for iTlbl in Tlbl:\n",
    "        iTmask = tbl['T_label']==iTlbl\n",
    "        T_avg.append(np.mean(tbl['T'][iTmask]))\n",
    "        \n",
    "    data['T_avg'] = T_avg\n",
    "    data['T_labels'] = Tlbl\n",
    "    \n",
    "    Vlbl = np.unique(tbl['V'])\n",
    "    tbl['V_label'] = np.round(tbl['V'], decimals=2)\n",
    "    data['V_labels'] = Vlbl\n",
    "    \n",
    "    return data\n",
    "\n",
    "def read_data_deKoker2009(exp_props=exp_props):\n",
    "    title = 'deKoker2009'\n",
    "    delT = 1000\n",
    "    datasource = 'data/MgSiO3-fpmd-deKoker2009.csv'\n",
    "    VX = 38.9 #cc^3/mol formula (From Stixrude and ddKarki 2005)\n",
    "    natom = 5\n",
    "    \n",
    "    # E = [kJ/mol formula]\n",
    "    Vconv = CONSTS['ang3percc']/natom/CONSTS['Nmol'] # (ang^3/atom) / (cc/mol)\n",
    "    Econv = 1/natom/CONSTS['kJ_molpereV'] # (eV/atom) / (kJ/mol)\n",
    "    \n",
    "    data = pd.read_csv(datasource)\n",
    "    data = datamod.load_data(V=VX*data['V/VX'], P=data['P'],\n",
    "                             T=data['T'], E=data['E'],\n",
    "                             title=title, datasource=datasource,\n",
    "                             Vconv=Vconv, Econv=Econv, mass_avg=mass_avg)\n",
    "    \n",
    "    KT_exp = exp_props['KT']\n",
    "    KT_exp = None\n",
    "    \n",
    "    datamod.set_exp_constraint(data, exp_props['V'], exp_props['T'], \n",
    "                               exp_props['P'], KT=KT_exp,\n",
    "                               wt=wt_exp_constraint)\n",
    "\n",
    "    tbl = data['table']\n",
    "    \n",
    "    tbl['T_label'] = delT*np.round(tbl['T']/delT)\n",
    "    Tlbl = np.unique(tbl['T_label'])\n",
    "    T_avg = []\n",
    "    for iTlbl in Tlbl:\n",
    "        iTmask = tbl['T_label']==iTlbl\n",
    "        T_avg.append(np.mean(tbl['T'][iTmask]))\n",
    "        \n",
    "    data['T_avg'] = T_avg\n",
    "    data['T_labels'] = Tlbl\n",
    "    \n",
    "    delT = np.min(np.diff(Tlbl))\n",
    "    Tlbl = np.arange(Tlbl[0],Tlbl[-1]+delT/2,delT)\n",
    "    data['T_labels'] = Tlbl\n",
    "    \n",
    "    Vlbl = np.unique(tbl['V'])\n",
    "    tbl['V_label'] = np.round(tbl['V'], decimals=2)\n",
    "    data['V_labels'] = Vlbl\n",
    "    \n",
    "    return data\n",
    "\n",
    "def make_multi_dataset(datasets):\n",
    "    title = 'multi'\n",
    "    datasource = 'multi'\n",
    "    \n",
    "    delT = 500\n",
    "    tbl_S11 = datasets['Spera2011']['table']\n",
    "    tbl_dK09= datasets['deKoker2009']['table'].copy()\n",
    "    tbl_dK09['E'] = np.nan\n",
    "\n",
    "\n",
    "    tbl_hiP = tbl_dK09.loc[tbl_dK09['V']<6]\n",
    "    \n",
    "\n",
    "    tbl = pd.concat((tbl_S11.loc[tbl_S11['V']<11],\n",
    "                             tbl_dK09.loc[tbl_dK09['V']>14],\n",
    "                             tbl_hiP.loc[tbl_hiP['T']<7500]\n",
    "                            ))\n",
    "\n",
    "    data = datamod.load_data(V=tbl['V'], P=tbl['P'],\n",
    "                             T=tbl['T'], E=tbl['E'],\n",
    "                             title=title, datasource=datasource,\n",
    "                             mass_avg=mass_avg)\n",
    "\n",
    "    KT_exp = exp_props['KT']\n",
    "    # KT_exp = None\n",
    "    # alpha = exp_props['alpha']\n",
    "    alpha = None\n",
    "    datamod.set_exp_constraint(data, exp_props['V'], exp_props['T'], \n",
    "                               exp_props['P'], KT=KT_exp,\n",
    "                               alpha=alpha, wt=wt_exp_constraint)\n",
    "    \n",
    "    tbl['T_label'] = delT*np.round(tbl['T']/delT)\n",
    "    Tlbl = np.unique(tbl['T_label'])\n",
    "    T_avg = []\n",
    "    for iTlbl in Tlbl:\n",
    "        iTmask = tbl['T_label']==iTlbl\n",
    "        T_avg.append(np.mean(tbl['T'][iTmask]))\n",
    "        \n",
    "    data['T_avg'] = T_avg\n",
    "    data['T_labels'] = Tlbl\n",
    "    \n",
    "    delT = np.min(np.diff(Tlbl))\n",
    "    Tlbl = np.arange(Tlbl[0],Tlbl[-1]+delT/2,delT)\n",
    "    data['T_labels'] = Tlbl\n",
    "    \n",
    "    Vlbl = np.unique(tbl['V'])\n",
    "    tbl['V_label'] = np.round(tbl['V'], decimals=2)\n",
    "    data['V_labels'] = Vlbl\n",
    "    \n",
    "\n",
    "    return data\n",
    "        \n",
    "def load_datasets():\n",
    "    datasets = {}\n",
    "    datasets['Spera2011'] = read_data_Spera2011()\n",
    "    datasets['deKoker2009'] = read_data_deKoker2009()\n",
    "    datasets['multi'] = make_multi_dataset(datasets)\n",
    "    return datasets\n",
    "\n",
    "datasets = load_datasets()\n"
   ]
  },
  {
   "cell_type": "code",
   "execution_count": 6,
   "metadata": {
    "collapsed": true
   },
   "outputs": [],
   "source": [
    "# datasets['multi']"
   ]
  },
  {
   "cell_type": "code",
   "execution_count": 7,
   "metadata": {
    "collapsed": true
   },
   "outputs": [],
   "source": [
    "\n",
    "# plt.figure()\n",
    "# plt.scatter(tbl_multi['V'], tbl_multi['P'],c=tbl_multi['T'])\n",
    "\n",
    "# plt.figure()\n",
    "# plt.scatter(tbl_multi['V'], tbl_multi['E'],c=tbl_multi['T'])\n"
   ]
  },
  {
   "cell_type": "code",
   "execution_count": null,
   "metadata": {
    "collapsed": true
   },
   "outputs": [],
   "source": []
  },
  {
   "cell_type": "code",
   "execution_count": null,
   "metadata": {
    "collapsed": true
   },
   "outputs": [],
   "source": []
  },
  {
   "cell_type": "code",
   "execution_count": 8,
   "metadata": {
    "collapsed": true
   },
   "outputs": [],
   "source": [
    "analysis_file = 'data/analysis.pkl'\n",
    "try:\n",
    "    with open(analysis_file, 'rb') as f:\n",
    "        analysis = pickle.load(f)\n",
    "except:\n",
    "    analysis = {}"
   ]
  },
  {
   "cell_type": "code",
   "execution_count": null,
   "metadata": {
    "collapsed": true
   },
   "outputs": [],
   "source": [
    "\n"
   ]
  },
  {
   "cell_type": "code",
   "execution_count": 9,
   "metadata": {
    "scrolled": true
   },
   "outputs": [
    {
     "data": {
      "text/html": [
       "<div>\n",
       "<style scoped>\n",
       "    .dataframe tbody tr th:only-of-type {\n",
       "        vertical-align: middle;\n",
       "    }\n",
       "\n",
       "    .dataframe tbody tr th {\n",
       "        vertical-align: top;\n",
       "    }\n",
       "\n",
       "    .dataframe thead th {\n",
       "        text-align: right;\n",
       "    }\n",
       "</style>\n",
       "<table border=\"1\" class=\"dataframe\">\n",
       "  <thead>\n",
       "    <tr style=\"text-align: right;\">\n",
       "      <th></th>\n",
       "      <th>V</th>\n",
       "      <th>T</th>\n",
       "      <th>P</th>\n",
       "      <th>E</th>\n",
       "      <th>trust</th>\n",
       "      <th>Verr</th>\n",
       "      <th>Terr</th>\n",
       "      <th>Perr</th>\n",
       "      <th>Eerr</th>\n",
       "      <th>T_label</th>\n",
       "      <th>V_label</th>\n",
       "    </tr>\n",
       "  </thead>\n",
       "  <tbody>\n",
       "    <tr>\n",
       "      <th>0</th>\n",
       "      <td>14.173588</td>\n",
       "      <td>2559</td>\n",
       "      <td>-0.88</td>\n",
       "      <td>-20.738626</td>\n",
       "      <td>True</td>\n",
       "      <td>0</td>\n",
       "      <td>19</td>\n",
       "      <td>0.19</td>\n",
       "      <td>0.000083</td>\n",
       "      <td>2500.0</td>\n",
       "      <td>14.17</td>\n",
       "    </tr>\n",
       "    <tr>\n",
       "      <th>1</th>\n",
       "      <td>14.173588</td>\n",
       "      <td>3058</td>\n",
       "      <td>-0.77</td>\n",
       "      <td>-20.569655</td>\n",
       "      <td>True</td>\n",
       "      <td>0</td>\n",
       "      <td>22</td>\n",
       "      <td>0.21</td>\n",
       "      <td>0.000021</td>\n",
       "      <td>3000.0</td>\n",
       "      <td>14.17</td>\n",
       "    </tr>\n",
       "    <tr>\n",
       "      <th>2</th>\n",
       "      <td>14.173588</td>\n",
       "      <td>3537</td>\n",
       "      <td>-0.59</td>\n",
       "      <td>-20.409099</td>\n",
       "      <td>True</td>\n",
       "      <td>0</td>\n",
       "      <td>24</td>\n",
       "      <td>0.21</td>\n",
       "      <td>0.000021</td>\n",
       "      <td>3500.0</td>\n",
       "      <td>14.17</td>\n",
       "    </tr>\n",
       "    <tr>\n",
       "      <th>3</th>\n",
       "      <td>14.173588</td>\n",
       "      <td>4005</td>\n",
       "      <td>-0.33</td>\n",
       "      <td>-20.256400</td>\n",
       "      <td>True</td>\n",
       "      <td>0</td>\n",
       "      <td>29</td>\n",
       "      <td>0.24</td>\n",
       "      <td>0.000041</td>\n",
       "      <td>4000.0</td>\n",
       "      <td>14.17</td>\n",
       "    </tr>\n",
       "    <tr>\n",
       "      <th>4</th>\n",
       "      <td>14.173588</td>\n",
       "      <td>4484</td>\n",
       "      <td>0.01</td>\n",
       "      <td>-20.106291</td>\n",
       "      <td>True</td>\n",
       "      <td>0</td>\n",
       "      <td>32</td>\n",
       "      <td>0.24</td>\n",
       "      <td>0.000021</td>\n",
       "      <td>4500.0</td>\n",
       "      <td>14.17</td>\n",
       "    </tr>\n",
       "  </tbody>\n",
       "</table>\n",
       "</div>"
      ],
      "text/plain": [
       "           V     T     P          E  trust  Verr  Terr  Perr      Eerr  \\\n",
       "0  14.173588  2559 -0.88 -20.738626   True     0    19  0.19  0.000083   \n",
       "1  14.173588  3058 -0.77 -20.569655   True     0    22  0.21  0.000021   \n",
       "2  14.173588  3537 -0.59 -20.409099   True     0    24  0.21  0.000021   \n",
       "3  14.173588  4005 -0.33 -20.256400   True     0    29  0.24  0.000041   \n",
       "4  14.173588  4484  0.01 -20.106291   True     0    32  0.24  0.000021   \n",
       "\n",
       "   T_label  V_label  \n",
       "0   2500.0    14.17  \n",
       "1   3000.0    14.17  \n",
       "2   3500.0    14.17  \n",
       "3   4000.0    14.17  \n",
       "4   4500.0    14.17  "
      ]
     },
     "execution_count": 9,
     "metadata": {},
     "output_type": "execute_result"
    }
   ],
   "source": [
    "data = datasets['Spera2011']\n",
    "# data = datasets['multi']\n",
    "# View data tables\n",
    "tbl = data['table']\n",
    "tbl.head()"
   ]
  },
  {
   "cell_type": "code",
   "execution_count": null,
   "metadata": {
    "collapsed": true
   },
   "outputs": [],
   "source": []
  },
  {
   "cell_type": "code",
   "execution_count": 10,
   "metadata": {
    "collapsed": true
   },
   "outputs": [],
   "source": [
    "def estimate_data_adjustment(data, Pthresh=50):\n",
    "    eos_compress = models.CompressEos(kind='Vinet', path_const='T')\n",
    "    tbl = data['table']\n",
    "    \n",
    "    VT0 = np.zeros(len(data['T_avg']))\n",
    "    PT0 = np.zeros(len(data['T_avg']))\n",
    "\n",
    "    for ind, iT in enumerate(data['T_labels']):\n",
    "        imsk_T = tbl['T_label']==iT\n",
    "        itbl = tbl.loc[imsk_T]\n",
    "        iV = itbl['V']\n",
    "        iP = itbl['P']\n",
    "\n",
    "        idata = datamod.load_data(V=iV[iP<Pthresh], P=iP[iP<Pthresh])\n",
    "        idatamodel = datamod.init_datamodel(idata, eos_compress)\n",
    "   \n",
    "        fit_calcs = ['compress']\n",
    "        datamod.select_fit_params(idatamodel, fit_calcs)\n",
    "    \n",
    "        datamod.fit(idatamodel)\n",
    "        iVT0, iKT0, iKPT0 = idatamodel['eos_mod'].get_param_values(param_names=['V0','K0','KP0'])\n",
    "\n",
    "        VT0[ind] = iVT0\n",
    "        PT0[ind] = idatamodel['eos_mod'].press(data['exp_constraint']['V'])\n",
    "\n",
    "    poly_VT0 = np.polyfit(data['T_avg'], VT0,2);\n",
    "    poly_PT0 = np.polyfit(data['T_avg'], PT0,2)\n",
    "    \n",
    "    Vscale = data['exp_constraint']['V']/np.polyval(\n",
    "        poly_VT0, data['exp_constraint']['T'])\n",
    "    Pshift = -np.polyval(poly_PT0,data['exp_constraint']['T'])\n",
    "    return Vscale, Pshift\n",
    "\n",
    "def apply_data_adjustment(data, Vscale=None, Pshift=None):\n",
    "    tbl = data['table']\n",
    "    \n",
    "    if Vscale is not None:\n",
    "        tbl['V'] = Vscale*tbl['V']\n",
    "        return\n",
    "    \n",
    "    if Pshift is not None:\n",
    "        tbl['P'] = tbl['P']+Pshift\n",
    "        return\n",
    "\n",
    "# apply_data_adjustment(data, Vscale=Vadj_empirical, Pshift=Padj_empirical)"
   ]
  },
  {
   "cell_type": "code",
   "execution_count": null,
   "metadata": {
    "collapsed": true
   },
   "outputs": [],
   "source": []
  },
  {
   "cell_type": "code",
   "execution_count": 11,
   "metadata": {
    "collapsed": true
   },
   "outputs": [],
   "source": [
    "# Store data for later use\n",
    "analysis['composition'] = 'MgSiO3'\n",
    "analysis['datasets'] = datasets\n",
    "analysis['props_Ghiorso'] = props_Ghiorso\n",
    "analysis['props_Lange'] = props_Lange\n",
    "analysis['props_3000'] = props_3000\n",
    "\n",
    "with open(analysis_file, 'wb') as f:\n",
    "    pickle.dump(analysis, f)\n"
   ]
  },
  {
   "cell_type": "markdown",
   "metadata": {},
   "source": [
    "## Visualize MD data of Spera et al. (2011)"
   ]
  },
  {
   "cell_type": "code",
   "execution_count": 12,
   "metadata": {},
   "outputs": [
    {
     "data": {
      "image/png": "[encoded data removed]",
      "text/plain": [
       "<matplotlib.figure.Figure at 0x180efd45f8>"
      ]
     },
     "metadata": {
      "needs_background": "light"
     },
     "output_type": "display_data"
    },
    {
     "data": {
      "image/png": "[encoded data removed]",
      "text/plain": [
       "<matplotlib.figure.Figure at 0x181c095be0>"
      ]
     },
     "metadata": {
      "needs_background": "light"
     },
     "output_type": "display_data"
    }
   ],
   "source": [
    "# Set colorbar temperature properties\n",
    "cmap = plt.get_cmap('coolwarm',len(data['T_labels']))\n",
    "delT = np.diff(data['T_labels'])[0]\n",
    "\n",
    "\n",
    "\n",
    "plt.figure()\n",
    "plt.scatter(tbl['V'],tbl['P'],c=tbl['T'], cmap=cmap)\n",
    "plt.xlabel(r'Volume  [$\\AA^3$/atom]')\n",
    "plt.ylabel(r'Pressure  [GPa]')\n",
    "cbar = plt.colorbar()\n",
    "cbar.set_ticks(data['T_labels'])\n",
    "cbar.set_label('Temperature [K]')\n",
    "plt.clim(data['T_labels'][0]-delT/2,data['T_labels'][-1]+delT/2)\n",
    "\n",
    "\n",
    "plt.figure()\n",
    "plt.scatter(tbl['V'],tbl['E'],c=tbl['T'], cmap=cmap)\n",
    "plt.xlabel(r'Volume  [$\\AA^3$/atom]')\n",
    "plt.ylabel(r'Energy  [eV/atom]')\n",
    "cbar = plt.colorbar()\n",
    "cbar.set_ticks(data['T_labels'])\n",
    "cbar.set_label('Temperature [K]')\n",
    "plt.clim(data['T_labels'][0]-delT/2,data['T_labels'][-1]+delT/2)"
   ]
  },
  {
   "cell_type": "code",
   "execution_count": null,
   "metadata": {
    "collapsed": true
   },
   "outputs": [],
   "source": []
  },
  {
   "cell_type": "markdown",
   "metadata": {},
   "source": [
    "## Visualize MD data of deKoker et al. (2009)"
   ]
  },
  {
   "cell_type": "code",
   "execution_count": 13,
   "metadata": {},
   "outputs": [
    {
     "data": {
      "image/png": "[encoded data removed]",
      "text/plain": [
       "<matplotlib.figure.Figure at 0x181c6b95c0>"
      ]
     },
     "metadata": {
      "needs_background": "light"
     },
     "output_type": "display_data"
    },
    {
     "data": {
      "image/png": "[encoded data removed]",
      "text/plain": [
       "<matplotlib.figure.Figure at 0x180ef669b0>"
      ]
     },
     "metadata": {
      "needs_background": "light"
     },
     "output_type": "display_data"
    }
   ],
   "source": [
    "# Set colorbar temperature properties\n",
    "\n",
    "data_dK09 = datasets['deKoker2009']\n",
    "# data = datasets['multi']\n",
    "# View data tables\n",
    "tbl_dK09 = data_dK09['table']\n",
    "\n",
    "cmap = plt.get_cmap('coolwarm',len(data_dK09['T_labels']))\n",
    "delT = np.diff(data_dK09['T_labels'])[0]\n",
    "\n",
    "\n",
    "\n",
    "plt.figure()\n",
    "plt.scatter(tbl_dK09['V'],tbl_dK09['P'],c=tbl_dK09['T'], cmap=cmap)\n",
    "plt.xlabel(r'Volume  [$\\AA^3$/atom]')\n",
    "plt.ylabel(r'Pressure  [GPa]')\n",
    "cbar = plt.colorbar()\n",
    "cbar.set_ticks(data_dK09['T_labels'])\n",
    "cbar.set_label('Temperature [K]')\n",
    "plt.clim(data_dK09['T_labels'][0]-delT/2,data_dK09['T_labels'][-1]+delT/2)\n",
    "\n",
    "\n",
    "plt.figure()\n",
    "plt.scatter(tbl_dK09['V'],tbl_dK09['E'],c=tbl_dK09['T'], cmap=cmap)\n",
    "plt.xlabel(r'Volume  [$\\AA^3$/atom]')\n",
    "plt.ylabel(r'Energy  [eV/atom]')\n",
    "cbar = plt.colorbar()\n",
    "cbar.set_ticks(data_dK09['T_labels'])\n",
    "cbar.set_label('Temperature [K]')\n",
    "plt.clim(data_dK09['T_labels'][0]-delT/2,data_dK09['T_labels'][-1]+delT/2)"
   ]
  },
  {
   "cell_type": "code",
   "execution_count": null,
   "metadata": {
    "collapsed": true
   },
   "outputs": [],
   "source": []
  }
 ],
 "metadata": {
  "kernelspec": {
   "display_name": "Python 3",
   "language": "python",
   "name": "python3"
  },
  "language_info": {
   "codemirror_mode": {
    "name": "ipython",
    "version": 3
   },
   "file_extension": ".py",
   "mimetype": "text/x-python",
   "name": "python",
   "nbconvert_exporter": "python",
   "pygments_lexer": "ipython3",
   "version": "3.6.2"
  }
 },
 "nbformat": 4,
 "nbformat_minor": 2
}
