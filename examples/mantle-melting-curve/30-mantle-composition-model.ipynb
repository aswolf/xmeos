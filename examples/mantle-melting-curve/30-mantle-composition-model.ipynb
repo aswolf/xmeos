{
 "cells": [
  {
   "cell_type": "code",
   "execution_count": null,
   "metadata": {},
   "outputs": [],
   "source": [
    "import numpy as np\n",
    "import matplotlib.pyplot as plt\n",
    "import copy\n",
    "\n",
    "# %matplotlib inline\n",
    "%matplotlib notebook\n"
   ]
  },
  {
   "cell_type": "code",
   "execution_count": null,
   "metadata": {},
   "outputs": [],
   "source": [
    "from scipy import random\n",
    "from scipy import stats"
   ]
  },
  {
   "cell_type": "code",
   "execution_count": null,
   "metadata": {},
   "outputs": [],
   "source": [
    "import thermoengine\n",
    "from thermoengine import chem\n",
    "\n",
    "plt.style.use('presentation')\n",
    "        "
   ]
  },
  {
   "cell_type": "code",
   "execution_count": null,
   "metadata": {},
   "outputs": [],
   "source": []
  },
  {
   "cell_type": "code",
   "execution_count": null,
   "metadata": {},
   "outputs": [],
   "source": [
    "chem.oxide_props['oxides']"
   ]
  },
  {
   "cell_type": "code",
   "execution_count": null,
   "metadata": {},
   "outputs": [],
   "source": []
  },
  {
   "cell_type": "code",
   "execution_count": null,
   "metadata": {},
   "outputs": [],
   "source": [
    "# Load BSE composition from Lyubetskaya2007\n",
    "oxide_names = np.array(['SiO2', 'Al2O3', 'FeO', 'MgO', 'CaO', 'Na2O'] )\n",
    "elem_names = np.array(['Si', 'Al', 'Fe', 'Mg', 'Ca', 'Na', 'O'] )\n",
    "MOL_OXIDE_TO_ELEM = np.array([\n",
    "    [1,0,0,0,0,0,2],\n",
    "    [0,2,0,0,0,0,3],\n",
    "    [0,0,1,0,0,0,1],\n",
    "    [0,0,0,1,0,0,1],\n",
    "    [0,0,0,0,1,0,1],\n",
    "    [0,0,0,0,0,2,1],\n",
    "])\n",
    "oxide_wts = np.array([60.0848, 101.96128, 71.8464, 40.3044, 56.0794, 61.97894])\n",
    "elem_wts = np.array([28.085, 26.982, 55.845, 24.305, 40.078, 22.990, 15.999])\n"
   ]
  },
  {
   "cell_type": "code",
   "execution_count": null,
   "metadata": {},
   "outputs": [],
   "source": [
    "oxide_names = np.array(['SiO2', 'Al2O3', 'FeO', 'MgO', 'CaO', 'Na2O', \n",
    "                        'TiO2', 'Cr2O3', 'MnO', 'NiO', 'K2O', 'P2O5'] )\n",
    "elem_names = np.array(['Si', 'Al', 'Fe', 'Mg', 'Ca', 'Na', \n",
    "                       'Ti', 'Cr', 'Mn', 'Ni', 'K', 'P', 'O'] )\n",
    "MOL_OXIDE_TO_ELEM = np.array([\n",
    "    [1,0,0,0,0,0,0,0,0,0,0,0,2],\n",
    "    [0,2,0,0,0,0,0,0,0,0,0,0,3],\n",
    "    [0,0,1,0,0,0,0,0,0,0,0,0,1],\n",
    "    [0,0,0,1,0,0,0,0,0,0,0,0,1],\n",
    "    [0,0,0,0,1,0,0,0,0,0,0,0,1],\n",
    "    [0,0,0,0,0,2,0,0,0,0,0,0,1],\n",
    "    [0,0,0,0,0,0,1,0,0,0,0,0,2],\n",
    "    [0,0,0,0,0,0,0,2,0,0,0,0,3],\n",
    "    [0,0,0,0,0,0,0,0,1,0,0,0,1],\n",
    "    [0,0,0,0,0,0,0,0,0,1,0,0,1],\n",
    "    [0,0,0,0,0,0,0,0,0,0,2,0,1],\n",
    "    [0,0,0,0,0,0,0,0,0,0,0,2,5],\n",
    "])\n",
    "oxide_wts = np.array([60.0848, 101.96128, 71.8464, 40.3044, 56.0794, 61.97894,\n",
    "                      79.8988, 151.9902, 70.9374, 74.7094, 94.1954, 141.94452])\n",
    "\n",
    "elem_wts = np.array([28.085, 26.982, 55.845, 24.305, 40.078, 22.990,\n",
    "                     47.867, 51.996, 54.938, 58.693, 39.098, 30.974,  \n",
    "                     15.999])"
   ]
  },
  {
   "cell_type": "code",
   "execution_count": null,
   "metadata": {},
   "outputs": [],
   "source": []
  },
  {
   "cell_type": "code",
   "execution_count": null,
   "metadata": {},
   "outputs": [],
   "source": [
    "# oxide_wts_BSE = np.array([44.95, 3.52, 7.97, 39.50, 2.79, 0.298])\n",
    "oxide_wts_BSE = np.array([44.95, 3.52, 7.97, 39.50, 2.79, 0.298,0,0,0,0,0,0])\n",
    "\n",
    "oxide_wts_BSE = np.array([44.95, 3.52, 7.97, 39.50, 2.79, 0.298,\n",
    "                          .158, .385, .131, .252, .023, .015])\n",
    "\n",
    "mol_oxides_BSE = oxide_wts_BSE/oxide_wts\n",
    "mol_oxides_BSE = mol_oxides_BSE /np.sum(mol_oxides_BSE )\n",
    "mol_oxides_BSE"
   ]
  },
  {
   "cell_type": "code",
   "execution_count": null,
   "metadata": {},
   "outputs": [],
   "source": [
    "mol_elems_BSE = np.dot(mol_oxides_BSE, MOL_OXIDE_TO_ELEM)\n",
    "mol_elems_BSE = mol_elems_BSE/np.sum(mol_elems_BSE)\n",
    "mol_elems_BSE"
   ]
  },
  {
   "cell_type": "code",
   "execution_count": null,
   "metadata": {},
   "outputs": [],
   "source": [
    "mass_elems_BSE = mol_elems_BSE*elem_wts\n",
    "mass_elems_BSE = mass_elems_BSE/np.sum(mass_elems_BSE)\n",
    "mass_elems_BSE"
   ]
  },
  {
   "cell_type": "code",
   "execution_count": null,
   "metadata": {},
   "outputs": [],
   "source": []
  },
  {
   "cell_type": "code",
   "execution_count": null,
   "metadata": {},
   "outputs": [],
   "source": [
    "# oxide_wts_MB = np.array([50.3, 15.5, 0.0, 10.73, 23.5, 0.0])\n",
    "oxide_wts_MB = np.array([50.3, 15.5, 0.0, 10.73, 23.5, 0,0,0,0,0,0,0])\n",
    "\n",
    "mol_oxides_MB = oxide_wts_MB/oxide_wts\n",
    "mol_oxides_MB = mol_oxides_MB /np.sum(mol_oxides_MB )\n",
    "mol_oxides_MB"
   ]
  },
  {
   "cell_type": "code",
   "execution_count": null,
   "metadata": {},
   "outputs": [],
   "source": [
    "mol_elems_MB = np.dot(mol_oxides_MB, MOL_OXIDE_TO_ELEM)\n",
    "mol_elems_MB = mol_elems_MB/np.sum(mol_elems_MB)\n",
    "mol_elems_MB\n"
   ]
  },
  {
   "cell_type": "code",
   "execution_count": null,
   "metadata": {},
   "outputs": [],
   "source": []
  },
  {
   "cell_type": "code",
   "execution_count": null,
   "metadata": {},
   "outputs": [],
   "source": []
  },
  {
   "cell_type": "code",
   "execution_count": null,
   "metadata": {},
   "outputs": [],
   "source": [
    "# mol_oxides_Brg = np.array([1,0,0,1,0,0])\n",
    "mol_oxides_Brg = np.array([1,0,0,1,0,0,0,0,0,0,0,0])\n",
    "\n",
    "mol_oxides_Brg = mol_oxides_Brg/np.sum(mol_oxides_Brg)\n",
    "mol_elems_Brg = np.dot(mol_oxides_Brg, MOL_OXIDE_TO_ELEM)\n",
    "mol_elems_Brg = mol_elems_Brg/np.sum(mol_elems_Brg)\n",
    "\n",
    "mol_elems_Brg"
   ]
  },
  {
   "cell_type": "code",
   "execution_count": null,
   "metadata": {},
   "outputs": [],
   "source": [
    "mol_cats_BSE = mol_elems_BSE[:-1]/(1-mol_elems_BSE[-1])\n",
    "mol_cats_Brg = mol_elems_Brg[:-1]/(1-mol_elems_Brg[-1])\n",
    "mol_cats_MB = mol_elems_MB[:-1]/(1-mol_elems_MB[-1])"
   ]
  },
  {
   "cell_type": "code",
   "execution_count": null,
   "metadata": {},
   "outputs": [],
   "source": []
  },
  {
   "cell_type": "code",
   "execution_count": null,
   "metadata": {},
   "outputs": [],
   "source": [
    "display(elem_names)\n",
    "\n",
    "display('mol_elems_Brg', mol_elems_Brg)\n",
    "display('mol_elems_BSE', mol_elems_BSE)\n",
    "display('mol_elems_MB', mol_elems_MB)\n",
    "\n",
    "display('mol_cats_Brg', mol_cats_Brg)\n",
    "display('mol_cats_BSE', mol_cats_BSE)\n",
    "display('mol_cats_MB', mol_cats_MB)"
   ]
  },
  {
   "cell_type": "code",
   "execution_count": null,
   "metadata": {},
   "outputs": [],
   "source": []
  },
  {
   "cell_type": "code",
   "execution_count": null,
   "metadata": {},
   "outputs": [],
   "source": []
  },
  {
   "cell_type": "code",
   "execution_count": null,
   "metadata": {},
   "outputs": [],
   "source": [
    "def nlogx(X, dn):\n",
    "    logX = np.log(X)\n",
    "    logX[np.isinf(logX)] = 0\n",
    "    return -dn*logX\n",
    "    \n"
   ]
  },
  {
   "cell_type": "code",
   "execution_count": null,
   "metadata": {},
   "outputs": [],
   "source": [
    "dn_rxn = mol_elems_Brg[:-1]\n",
    "dn_rxn"
   ]
  },
  {
   "cell_type": "code",
   "execution_count": null,
   "metadata": {},
   "outputs": [],
   "source": [
    "print(nlogx(mol_cats_BSE, dn_rxn))\n",
    "print(nlogx(mol_cats_Brg, dn_rxn))"
   ]
  },
  {
   "cell_type": "code",
   "execution_count": null,
   "metadata": {},
   "outputs": [],
   "source": [
    "dSmix_comp = np.sum(nlogx(mol_cats_BSE, dn_rxn) - nlogx(mol_cats_Brg, dn_rxn))\n",
    "dSmix_comp"
   ]
  },
  {
   "cell_type": "code",
   "execution_count": null,
   "metadata": {},
   "outputs": [],
   "source": [
    "mol_elems_Resid"
   ]
  },
  {
   "cell_type": "code",
   "execution_count": null,
   "metadata": {},
   "outputs": [],
   "source": [
    "elem_ratio = mol_elems_BSE/mol_elems_Brg\n",
    "ind_limit = np.argmin(elem_ratio)\n",
    "frac_Brg = elem_ratio[ind_limit]\n",
    "frac_Brg\n"
   ]
  },
  {
   "cell_type": "code",
   "execution_count": null,
   "metadata": {},
   "outputs": [],
   "source": [
    "mol_elems_Resid = mol_elems_BSE-frac_Brg*mol_elems_Brg\n",
    "mol_elems_Resid = mol_elems_Resid/(1-frac_Brg)\n",
    "np.sum(mol_elems_Resid)"
   ]
  },
  {
   "cell_type": "code",
   "execution_count": null,
   "metadata": {},
   "outputs": [],
   "source": []
  },
  {
   "cell_type": "code",
   "execution_count": null,
   "metadata": {},
   "outputs": [],
   "source": [
    "mol_cats_BSE = mol_elems_BSE[:-1]/(1-mol_elems_BSE[-1])\n",
    "mol_cats_Brg = mol_elems_Brg[:-1]/(1-mol_elems_Brg[-1])\n",
    "mol_cats_Resid = mol_elems_Resid[:-1]/(1-mol_elems_Resid[-1])\n",
    "\n",
    "\n",
    "print('mol_cats_BSE = ', mol_cats_BSE)\n",
    "display()\n",
    "print('mol_cats_Brg = ')\n",
    "display(mol_cats_Brg)\n",
    "print('mol_cats_Resid = ')\n",
    "display(mol_cats_Resid)"
   ]
  },
  {
   "cell_type": "code",
   "execution_count": null,
   "metadata": {},
   "outputs": [],
   "source": []
  },
  {
   "cell_type": "code",
   "execution_count": null,
   "metadata": {},
   "outputs": [],
   "source": [
    "mol_elems_Resid"
   ]
  },
  {
   "cell_type": "code",
   "execution_count": null,
   "metadata": {},
   "outputs": [],
   "source": [
    "elem_names"
   ]
  },
  {
   "cell_type": "code",
   "execution_count": null,
   "metadata": {},
   "outputs": [],
   "source": [
    "import pandas as pd\n",
    "mantle_comp_df = pd.DataFrame([\n",
    "    pd.Series(data=mol_cats_BSE, index=elem_names[:-1]),\n",
    "    pd.Series(data=mol_cats_Brg, index=elem_names[:-1]),\n",
    "    pd.Series(data=mol_cats_Resid, index=elem_names[:-1])],\n",
    "    index=['BSE','Brg','Resid']).T\n",
    "display(np.round(100*mantle_comp_df, decimals=2))\n",
    "print('frac_Brg = ', 100*frac_Brg)"
   ]
  },
  {
   "cell_type": "code",
   "execution_count": null,
   "metadata": {},
   "outputs": [],
   "source": [
    "\n",
    "display(np.round(100*mantle_comp_df[0:6], decimals=2))"
   ]
  },
  {
   "cell_type": "code",
   "execution_count": null,
   "metadata": {},
   "outputs": [],
   "source": [
    "mol_wt_BSE = np.sum(mol_elems_BSE*elem_wts)\n",
    "mol_wt_Brg = np.sum(mol_elems_Brg*elem_wts)\n",
    "mol_wt_Resid = np.sum(mol_elems_Resid*elem_wts)"
   ]
  },
  {
   "cell_type": "code",
   "execution_count": null,
   "metadata": {},
   "outputs": [],
   "source": [
    "print('wt(BSE/Brg): ', np.round(mol_wt_BSE/mol_wt_Brg, decimals=4))\n",
    "print('wt(Resid/Brg): ',np.round(mol_wt_Resid/mol_wt_Brg, decimals=4))"
   ]
  },
  {
   "cell_type": "code",
   "execution_count": null,
   "metadata": {},
   "outputs": [],
   "source": [
    "xtal_frac = np.linspace(0,frac_Brg,101)\n",
    "\n",
    "frac_Brg_evolv = (frac_Brg-xtal_frac)/(1-xtal_frac)\n",
    "\n",
    "plt.figure()\n",
    "plt.plot(xtal_frac, frac_Brg_evolv , 'k-', label='Brg Frac')\n",
    "# plt.plot(xtal_frac, (1-frac_Brg)/(1-xtal_frac), 'r-', label='Resid Frac')\n",
    "\n",
    "plt.plot([.6,.6],[0,1], 'r--')\n",
    "\n",
    "plt.ylim(0,1)\n",
    "plt.xlim(0,.8)\n",
    "ax = plt.gca()\n",
    "ax.set_yticklabels(['Resid',.2,.4,.6,.8,'Brg'])\n",
    "plt.xlabel('Crystallization Fraction')\n",
    "plt.ylabel('Composition Fraction')\n",
    "#plt.legend()\n",
    "plt.tight_layout()\n",
    "plt.savefig('figs/composition-evo-magma-ocean.png')"
   ]
  },
  {
   "cell_type": "code",
   "execution_count": null,
   "metadata": {},
   "outputs": [],
   "source": [
    "wt_evolv = frac_Brg_evolv*mol_wt_Brg + (1-frac_Brg_evolv)*mol_wt_Resid\n",
    "\n",
    "\n",
    "plt.figure()\n",
    "plt.plot(xtal_frac, wt_evolv/mol_wt_Brg , 'k-', label='Brg Frac')\n",
    "\n",
    "\n",
    "plt.figure()\n",
    "plt.plot(xtal_frac, 100*(wt_evolv/mol_wt_Brg-1) , 'k-', label='Brg Frac')\n",
    "# plt.plot(xtal_frac, (1-frac_Brg)/(1-xtal_frac), 'r-', label='Resid Frac')\n",
    "\n",
    "plt.plot([.6,.6],[0,25], 'r--')\n",
    "\n",
    "\n",
    "plt.ylim(0,25)\n",
    "plt.xlim(0,0.8)\n",
    "plt.xlabel('Crystallization Fraction')\n",
    "plt.ylabel('Molar mass Increase [%]')\n",
    "#plt.legend()\n",
    "plt.tight_layout()\n",
    "plt.savefig('figs/magma-ocean-mass-evo.png')"
   ]
  },
  {
   "cell_type": "code",
   "execution_count": null,
   "metadata": {},
   "outputs": [],
   "source": []
  },
  {
   "cell_type": "code",
   "execution_count": null,
   "metadata": {},
   "outputs": [],
   "source": []
  },
  {
   "cell_type": "code",
   "execution_count": null,
   "metadata": {},
   "outputs": [],
   "source": []
  },
  {
   "cell_type": "code",
   "execution_count": null,
   "metadata": {},
   "outputs": [],
   "source": [
    "X = np.linspace(0,1,101)\n",
    "ymax=1.5\n",
    "soln_ex= ymax*4*X*(1-X)\n",
    "\n",
    "X_resid = 1-frac_Brg\n",
    "BSE_ex = ymax*4*X_resid*(1-X_resid)\n",
    "BSE_partial_ex = BSE_ex - ymax*X_resid*4*(1-2*X_resid)\n",
    "\n"
   ]
  },
  {
   "cell_type": "code",
   "execution_count": null,
   "metadata": {},
   "outputs": [],
   "source": [
    "\n",
    "\n",
    "plt.figure()\n",
    "plt.clf()\n",
    "\n",
    "\n",
    "\n",
    "plt.plot(X, soln_ex, 'k-' )\n",
    "plt.plot([1-frac_Brg, 1-frac_Brg], [0, BSE_ex], 'k:')\n",
    "plt.plot(1-frac_Brg, BSE_ex, 'ro' )\n",
    "plt.plot(0, BSE_partial_ex, 'rx', clip_on=False )\n",
    "plt.plot([0, X_resid], [BSE_partial_ex, BSE_ex], 'r--' )\n",
    "plt.xlim(0,1)\n",
    "plt.xlabel('Composition')\n",
    "plt.ylabel('Volume Excess  [%]')\n",
    "plt.ylim(0,1.55)\n",
    "plt.text(.22,0.03, 'BSE', fontsize=16)\n",
    "\n",
    "ax=plt.gca()\n",
    "ax.set_xticklabels(['Brg',0.2,0.4,0.6,0.8,'Resid'])\n",
    "print('Partial Molar Correction = ', BSE_partial_ex)\n",
    "plt.tight_layout()\n",
    "\n",
    "plt.savefig('/Users/aswolf/vol-excess-error.png')"
   ]
  },
  {
   "cell_type": "code",
   "execution_count": null,
   "metadata": {},
   "outputs": [],
   "source": [
    "BSE_partial_ex/2.5"
   ]
  },
  {
   "cell_type": "code",
   "execution_count": null,
   "metadata": {},
   "outputs": [],
   "source": []
  }
 ],
 "metadata": {
  "anaconda-cloud": {},
  "kernelspec": {
   "display_name": "Python 3",
   "language": "python",
   "name": "python3"
  },
  "language_info": {
   "codemirror_mode": {
    "name": "ipython",
    "version": 3
   },
   "file_extension": ".py",
   "mimetype": "text/x-python",
   "name": "python",
   "nbconvert_exporter": "python",
   "pygments_lexer": "ipython3",
   "version": "3.6.2"
  }
 },
 "nbformat": 4,
 "nbformat_minor": 1
}
