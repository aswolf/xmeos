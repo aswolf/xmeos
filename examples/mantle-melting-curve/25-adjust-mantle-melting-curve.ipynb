{
 "cells": [
  {
   "cell_type": "markdown",
   "metadata": {},
   "source": [
    "# Integrate melting curve of pure MgSiO3\n",
    "* use direct clapeyron slope integration\n",
    "* electronic contribution ignored due to bug in adiabatic calculation"
   ]
  },
  {
   "cell_type": "code",
   "execution_count": null,
   "metadata": {},
   "outputs": [],
   "source": [
    "%run core.ipynb\n",
    "\n",
    "analysis = load_analysis()\n",
    "liq_eos_hybrid = analysis['liq_eos_hybrid']\n",
    "liq_eos_S11 = analysis['liq_eos_S11']\n",
    "liq_eos_dK09 = analysis['liq_eos_dK09']\n",
    "sol_eos = analysis['sol_eos']\n",
    "\n",
    "P_fus0 = analysis['P_fus0']\n",
    "T_fus0 = analysis['T_fus0']\n",
    "dS_fus_kB = analysis['dS_fus0']\n",
    "S_fus0 = analysis['S_fus0']\n"
   ]
  },
  {
   "cell_type": "code",
   "execution_count": null,
   "metadata": {},
   "outputs": [],
   "source": [
    "import matplotlib\n",
    "matplotlib.get_configdir()\n",
    "# plt.style.available"
   ]
  },
  {
   "cell_type": "code",
   "execution_count": null,
   "metadata": {},
   "outputs": [],
   "source": [
    "# import matplotlib\n",
    "matplotlib.get_configdir()\n",
    "plt.style.use('presentation')\n",
    "# plt.style.use('seaborn-talk')\n"
   ]
  },
  {
   "cell_type": "code",
   "execution_count": null,
   "metadata": {},
   "outputs": [],
   "source": []
  },
  {
   "cell_type": "code",
   "execution_count": null,
   "metadata": {},
   "outputs": [],
   "source": [
    "# liq_eos_S11.apply_electronic = False\n",
    "# liq_eos_dK09.apply_electronic = False\n",
    "# \n",
    "# liq_eos_S11.apply_electronic = True\n",
    "# liq_eos_dK09.apply_electronic = True"
   ]
  },
  {
   "cell_type": "code",
   "execution_count": null,
   "metadata": {},
   "outputs": [],
   "source": []
  },
  {
   "cell_type": "code",
   "execution_count": null,
   "metadata": {},
   "outputs": [],
   "source": []
  },
  {
   "cell_type": "code",
   "execution_count": null,
   "metadata": {},
   "outputs": [],
   "source": [
    "# P_fus0 = 23;\n",
    "# T_fus0_adj = 2500;\n",
    "\n",
    "P_fus0 = 25;\n",
    "T_fus0_adj = 2700;\n",
    "\n",
    "#T_fus0 = 2900;\n",
    "#T_fus0 = 2700;\n",
    "print(P_fus0, ' GPa, ',  T_fus0_adj, ' K')"
   ]
  },
  {
   "cell_type": "code",
   "execution_count": null,
   "metadata": {},
   "outputs": [],
   "source": []
  },
  {
   "cell_type": "code",
   "execution_count": null,
   "metadata": {},
   "outputs": [],
   "source": [
    "# liq_eos_hybrid0 = liq_eos_hybrid\n",
    "# liq_compress_eos = liq_eos_hybrid0.compress_eos\n",
    "# liq_thermal_eos = liq_eos_hybrid0.thermal_eos"
   ]
  },
  {
   "cell_type": "code",
   "execution_count": null,
   "metadata": {},
   "outputs": [],
   "source": [
    "# liq_eos_hybrid = HybridEos(liq_compress_eos, liq_thermal_eos, \n",
    "#                        PTS_fus0=(P_fus0, T_fus0, S_fus0), fix_ref_adiabat=True)"
   ]
  },
  {
   "cell_type": "code",
   "execution_count": null,
   "metadata": {},
   "outputs": [],
   "source": []
  },
  {
   "cell_type": "code",
   "execution_count": null,
   "metadata": {},
   "outputs": [],
   "source": [
    "from scipy import interpolate\n",
    "def fun_deriv(y, x, fac=0.01):\n",
    "    dx = fac*np.median(np.diff(x))\n",
    "    fun = interpolate.interp1d(x, y, kind='cubic', fill_value='extrapolate')\n",
    "    df = fun(x+.5*dx)-fun(x-0.5*dx)\n",
    "    dfdx = df/dx\n",
    "    return dfdx"
   ]
  },
  {
   "cell_type": "code",
   "execution_count": null,
   "metadata": {},
   "outputs": [],
   "source": []
  },
  {
   "cell_type": "code",
   "execution_count": null,
   "metadata": {},
   "outputs": [],
   "source": [
    "\n",
    "PT_sol_Stx09 = pd.read_csv('data/Stixrude2009-solidus.csv')\n",
    "PT_sol_Hmn13 = pd.read_csv('data/Hamano2013-solidus.csv')"
   ]
  },
  {
   "cell_type": "code",
   "execution_count": null,
   "metadata": {},
   "outputs": [],
   "source": [
    "PT_liq_Stx09 = pd.read_csv('data/Stixrude2009-liquidus.csv')\n",
    "PT_liq_Hmn13 = pd.read_csv('data/Hamano2013-liquidus.csv')\n",
    "PT_liq_And11 = pd.read_csv('data/Andrault2011-liquidus.csv')"
   ]
  },
  {
   "cell_type": "markdown",
   "metadata": {},
   "source": [
    "## Calculate melting curve"
   ]
  },
  {
   "cell_type": "code",
   "execution_count": null,
   "metadata": {},
   "outputs": [],
   "source": [
    "def melting_curve_deriv(P, TVlVs, liq_eos, sol_eos, dS_fus_kB=None, \n",
    "                        dS_adj=0):\n",
    "    PV_ratio = xmeos.models.CONSTS['PV_ratio']\n",
    "    T, Vliq, Vsol = TVlVs[0], TVlVs[1], TVlVs[2]\n",
    "    # print('P', P, ', T', T, ', Vliq', Vliq, ', Vsol',Vsol)\n",
    "    \n",
    "    if dS_fus_kB is None:\n",
    "        dS = liq_eos.entropy(Vliq, T) - sol_eos.entropy(Vsol, T)\n",
    "    else:\n",
    "        dS = dS_fus_kB*xmeos.models.CONSTS['kboltz']\n",
    "        \n",
    "    dS = dS + dS_adj*xmeos.models.CONSTS['kboltz']\n",
    "    # print('T = ',T,'   dS = ', dS)\n",
    "    dV = Vliq - Vsol\n",
    "     \n",
    "    \n",
    "    alpha_sol = sol_eos.thermal_exp(Vsol, T)\n",
    "    alpha_liq = liq_eos.thermal_exp(Vliq, T)\n",
    "    \n",
    "    KT_sol = sol_eos.bulk_mod(Vsol, T)\n",
    "    KT_liq = liq_eos.bulk_mod(Vliq, T)\n",
    "    \n",
    "    dTdP = dV/dS/PV_ratio\n",
    "    # print('  dTdP = ', dTdP)\n",
    "    dVdP_sol = Vsol*(alpha_sol*dTdP - 1.0/KT_sol)\n",
    "    dVdP_liq = Vliq*(alpha_liq*dTdP - 1.0/KT_liq)\n",
    "    TVV_deriv = np.hstack((dTdP, dVdP_liq, dVdP_sol))\n",
    "    return TVV_deriv"
   ]
  },
  {
   "cell_type": "code",
   "execution_count": null,
   "metadata": {},
   "outputs": [],
   "source": []
  },
  {
   "cell_type": "code",
   "execution_count": null,
   "metadata": {},
   "outputs": [],
   "source": [
    "\n",
    "def calc_melting_curve(Pinit, Tinit, liq_eos, sol_eos, \n",
    "                       Pmax=150.0, Pmin=0.0, N=101, Vinit=9.0, \n",
    "                       dS_adj=0,\n",
    "                       dS_fus_kB=None):\n",
    "    Vinit_liq = volume(Pinit, Tinit, liq_eos, Vinit=Vinit)\n",
    "    Vinit_sol = volume(Pinit, Tinit, sol_eos)\n",
    "    \n",
    "    # print(liq_eos.press(Vinit_liq, Tinit))\n",
    "    # print(sol_eos.press(Vinit_sol, Tinit))\n",
    "    \n",
    "    deriv_fun = (lambda P, TVlVs, liq_eos=liq_eos, sol_eos=sol_eos, \n",
    "                 dS_fus_kB=dS_fus_kB: (melting_curve_deriv(\n",
    "                     P, TVlVs, liq_eos, sol_eos, dS_fus_kB=dS_fus_kB, \n",
    "                     dS_adj=dS_adj) ))\n",
    "    \n",
    "    # Vinit = volume(Pinit, Tinit, eos, Vinit=Vinit_guess)\n",
    "    # Vinit = eos.volume(Pinit, Tinit, Vinit_guess)\n",
    "    def zero_temp(t, y): \n",
    "        T, Vliq, Vsol = y[0], y[1], y[2]\n",
    "        dS = liq_eos.entropy(Vliq, T) - sol_eos.entropy(Vsol, T)\n",
    "        if np.isnan(T):\n",
    "            T = 0\n",
    "            \n",
    "        return T\n",
    "    \n",
    "    zero_temp.terminal = True\n",
    "    zero_temp.direction = -1\n",
    "    \n",
    "    def zero_dS_fus(t, y, liq_eos=liq_eos, sol_eos=sol_eos): \n",
    "        T, Vliq, Vsol = y[0], y[1], y[2]\n",
    "        dS = liq_eos.entropy(Vliq, T) - sol_eos.entropy(Vsol, T)\n",
    "        if np.isnan(dS):\n",
    "            dS = 0\n",
    "        \n",
    "        return dS\n",
    "        \n",
    "    \n",
    "    zero_dS_fus.terminal = True\n",
    "    zero_dS_fus.direction = -1\n",
    "    \n",
    "    \n",
    "    P_path = np.linspace(Pinit, Pmax, N)\n",
    "    output = sp.integrate.solve_ivp(deriv_fun, P_path[[0,-1]] , \n",
    "                                    np.array([Tinit, Vinit_liq, Vinit_sol]), \n",
    "                                    t_eval=P_path, vectorized=True, events=[zero_temp, zero_dS_fus])\n",
    "    T_fus_pos, V_fus_liq_pos, V_fus_sol_pos = (\n",
    "        output['y'][0], output['y'][1], output['y'][2])\n",
    "    P_path = output.t\n",
    "    \n",
    "    \n",
    "    P_path_neg = np.linspace(P_fus0, Pmin, N)\n",
    "    output_neg = sp.integrate.solve_ivp(deriv_fun, P_path_neg[[0,-1]] , \n",
    "                                    np.array([Tinit, Vinit_liq, Vinit_sol]), \n",
    "                                    t_eval=P_path_neg, vectorized=True, events=[zero_temp, zero_dS_fus])\n",
    "    T_fus_neg, V_fus_liq_neg, V_fus_sol_neg = (\n",
    "        output_neg['y'][0], output_neg['y'][1], output_neg['y'][2])\n",
    "    \n",
    "    P_path_neg = output_neg.t\n",
    "    \n",
    "    # P_fus = np.hstack((P_path))\n",
    "    # T_fus = np.hstack((T_fus_pos))\n",
    "    # V_fus_liq = np.hstack((V_fus_liq_pos))\n",
    "    # V_fus_sol = np.hstack((V_fus_sol_pos))\n",
    "    \n",
    "    P_fus = np.hstack((P_path_neg[::-1][:-1], P_path))\n",
    "    T_fus = np.hstack((T_fus_neg[::-1][:-1], T_fus_pos))\n",
    "    V_fus_liq = np.hstack((V_fus_liq_neg[::-1][:-1], V_fus_liq_pos))\n",
    "    V_fus_sol = np.hstack((V_fus_sol_neg[::-1][:-1], V_fus_sol_pos))\n",
    "    \n",
    "    return P_fus, T_fus, V_fus_liq, V_fus_sol\n",
    "    "
   ]
  },
  {
   "cell_type": "code",
   "execution_count": null,
   "metadata": {},
   "outputs": [],
   "source": []
  },
  {
   "cell_type": "code",
   "execution_count": null,
   "metadata": {},
   "outputs": [],
   "source": [
    ".16-.058"
   ]
  },
  {
   "cell_type": "code",
   "execution_count": null,
   "metadata": {},
   "outputs": [],
   "source": []
  },
  {
   "cell_type": "code",
   "execution_count": null,
   "metadata": {},
   "outputs": [],
   "source": [
    "dS_adj = 0.058\n",
    "dS_adj = 0.16\n",
    "\n",
    "\n",
    "Pmin=20\n",
    "# Pmax = 136\n",
    "Pmax = 150"
   ]
  },
  {
   "cell_type": "code",
   "execution_count": null,
   "metadata": {},
   "outputs": [],
   "source": [
    "\n",
    "\n",
    "P_fus_S11, T_fus_S11, V_fus_liq_S11, V_fus_sol_S11 = (\n",
    "    calc_melting_curve(P_fus0, T_fus0_adj, liq_eos_S11, sol_eos, \n",
    "                       Pmin=Pmin, Pmax=Pmax,  dS_adj=dS_adj))\n",
    "P_fus_dK09, T_fus_dK09, V_fus_liq_dK09, V_fus_sol_dK09 = (\n",
    "    calc_melting_curve(P_fus0, T_fus0_adj, liq_eos_dK09, sol_eos,\n",
    "                       Pmin=Pmin, Pmax=Pmax, dS_adj=dS_adj))\n",
    "\n",
    "P_fus_S11_fix, T_fus_S11_fix, V_fus_liq_S11_fix, V_fus_sol_S11_fix = (\n",
    "    calc_melting_curve(P_fus0, T_fus0_adj, liq_eos_S11, sol_eos, \n",
    "                       dS_fus_kB=dS_fus_kB, Pmin=Pmin, Pmax=Pmax, \n",
    "                       dS_adj=dS_adj))\n",
    "P_fus_dK09_fix, T_fus_dK09_fix, V_fus_liq_dK09_fix, V_fus_sol_dK09_fix = (\n",
    "    calc_melting_curve(P_fus0, T_fus0_adj, liq_eos_dK09, sol_eos, \n",
    "                       dS_fus_kB=dS_fus_kB, Pmin=Pmin, Pmax=Pmax, \n",
    "                       dS_adj=dS_adj))\n",
    "\n"
   ]
  },
  {
   "cell_type": "code",
   "execution_count": null,
   "metadata": {},
   "outputs": [],
   "source": [
    "# P_fus_hyb, T_fus_hyb, V_fus_liq_hyb, V_fus_sol_hyb = calc_melting_curve(\n",
    "#     P_fus0, T_fus0_adj, liq_eos_hybrid, sol_eos, Pmin = 15)"
   ]
  },
  {
   "cell_type": "code",
   "execution_count": null,
   "metadata": {},
   "outputs": [],
   "source": []
  },
  {
   "cell_type": "code",
   "execution_count": null,
   "metadata": {},
   "outputs": [],
   "source": [
    "\n",
    "dVdP_sol = fun_deriv(V_fus_sol_dK09, P_fus_dK09)\n",
    "dVdP_liq = fun_deriv(V_fus_liq_dK09, P_fus_dK09)\n",
    "\n",
    "beta_fac = (dVdP_liq/dVdP_sol)/(V_fus_liq_dK09/V_fus_sol_dK09)\n",
    "\n",
    "# plt.figure()\n",
    "# plt.plot(P_fus_dK09, beta_fac,'k-')\n",
    "# plt.ylim(1,3.5)\n",
    "# \n",
    "# \n",
    "# plt.figure()\n",
    "# plt.plot(P_fus_dK09, V_fus_sol_dK09,'k-')\n",
    "# plt.plot(P_fus_dK09, V_fus_liq_dK09,'r-')\n"
   ]
  },
  {
   "cell_type": "code",
   "execution_count": null,
   "metadata": {},
   "outputs": [],
   "source": []
  },
  {
   "cell_type": "code",
   "execution_count": null,
   "metadata": {},
   "outputs": [],
   "source": []
  },
  {
   "cell_type": "code",
   "execution_count": null,
   "metadata": {},
   "outputs": [],
   "source": [
    "# liq_eos_S11.press(V_fus_liq_S11, T_fus_S11)\n",
    "# liq_eos_dK09.press(V_fus_liq_dK09, T_fus_dK09)\n",
    "# sol_eos.press(V_fus_sol_S11, T_fus_S11)\n",
    "# sol_eos.press(V_fus_sol_dK09, T_fus_dK09)"
   ]
  },
  {
   "cell_type": "code",
   "execution_count": null,
   "metadata": {},
   "outputs": [],
   "source": []
  },
  {
   "cell_type": "code",
   "execution_count": null,
   "metadata": {},
   "outputs": [],
   "source": [
    "# P_ad_hybrid, V_ad_hybrid, T_ad_hybrid = integrate_adiabat(\n",
    "#     P_fus0, T_fus0, liq_eos_hybrid)\n",
    "\n",
    "P_ad_dK09, V_ad_dK09, T_ad_dK09 = integrate_adiabat(\n",
    "    P_fus0, T_fus0, liq_eos_dK09)\n",
    "\n",
    "P_ad_S11, V_ad_S11, T_ad_S11 = integrate_adiabat(\n",
    "    P_fus0, T_fus0, liq_eos_S11)\n",
    "\n",
    "P_sol_ad, V_sol_ad, T_sol_ad = integrate_adiabat(\n",
    "    P_fus0, T_fus0, sol_eos)"
   ]
  },
  {
   "cell_type": "code",
   "execution_count": null,
   "metadata": {},
   "outputs": [],
   "source": []
  },
  {
   "cell_type": "code",
   "execution_count": null,
   "metadata": {},
   "outputs": [],
   "source": [
    "plt.figure()\n",
    "# plt.plot(P_fus_hyb, T_fus_hyb, 'k-', lw=2, label='Melt Curve (hybrid)')\n",
    "plt.plot(P_fus_dK09, T_fus_dK09, 'r-', lw=2, label='Melt Curve (dK09)')\n",
    "plt.plot(P_fus_S11, T_fus_S11, 'b-', lw=2, label='Melt Curve (S11)')\n",
    "\n",
    "plt.plot(P_fus_dK09_fix, T_fus_dK09_fix, 'r:', lw=2, label='Melt Curve (dK09-fix)')\n",
    "plt.plot(P_fus_S11_fix, T_fus_S11_fix, 'b:', lw=2, label='Melt Curve (S11-fix)')\n",
    "\n",
    "plt.plot(PT_liq_Stx09['P'], PT_liq_Stx09['T'], 'r:', label='Melt Curve (Stixrude09)')\n",
    "plt.plot(PT_liq_Hmn13['P'], PT_liq_Hmn13['T'], 'b:', label='Melt Curve (Hamano13)')\n",
    "plt.plot(PT_liq_And11['P'], PT_liq_And11['T'], 'g:', label='Melt Curve (Andrault11)')\n",
    "\n",
    "# plt.plot(P_ad_hybrid, T_ad_hybrid, 'k--', lw=3, label='Adiabat (hybrid)')\n",
    "plt.plot(P_ad_dK09, T_ad_dK09, 'r--', label='Adiabat (dK09)')\n",
    "plt.plot(P_ad_S11, T_ad_S11, 'b--', label='Adiabat (S11)')\n",
    "plt.plot(P_sol_ad, T_sol_ad, 'g-.', label='Adiabat (solid)')\n",
    "\n",
    "\n",
    "plt.title('MgSiO3 Melting curve predictions')\n",
    "plt.xlabel('Pressure  [ GPa ]')\n",
    "plt.ylabel('Temperature  [ K ]')\n",
    "plt.legend()\n",
    "plt.tight_layout()"
   ]
  },
  {
   "cell_type": "code",
   "execution_count": null,
   "metadata": {},
   "outputs": [],
   "source": []
  },
  {
   "cell_type": "code",
   "execution_count": null,
   "metadata": {},
   "outputs": [],
   "source": [
    "Pad_ref = 25\n",
    "Tad_ref = 3450\n",
    "Tad_ref = 3400\n",
    "# Tad_ref = 3350\n",
    "P_ad_dK09, V_ad_dK09, T_ad_dK09 = integrate_adiabat(\n",
    "    Pad_ref, Tad_ref, liq_eos_dK09)\n",
    "\n",
    "P_ad_S11, V_ad_S11, T_ad_S11 = integrate_adiabat(\n",
    "    Pad_ref, Tad_ref, liq_eos_S11)\n",
    "\n",
    "P_sol_ad, V_sol_ad, T_sol_ad = integrate_adiabat(\n",
    "    Pad_ref, Tad_ref, sol_eos)"
   ]
  },
  {
   "cell_type": "code",
   "execution_count": null,
   "metadata": {},
   "outputs": [],
   "source": [
    "plt.figure()\n",
    "# plt.plot(P_fus_hyb, T_fus_hyb, 'k-', lw=2, label='Melt Curve (hybrid)')\n",
    "plt.plot(P_fus_dK09, T_fus_dK09, 'k-', lw=2, label='This study')\n",
    "# plt.plot(P_fus_S11, T_fus_S11, 'b-', lw=2, label='Melt Curve (S11)')\n",
    "\n",
    "# plt.plot(P_fus_dK09_fix, T_fus_dK09_fix, 'k:', lw=2, label='This study (Sfus=1.5)') \n",
    "# plt.plot(P_fus_S11_fix, T_fus_S11_fix, 'b:', lw=2, label='Melt Curve (S11-fix)')\n",
    "\n",
    "plt.plot(PT_liq_Stx09['P'], PT_liq_Stx09['T'], 'r:', label='Stixrude09')\n",
    "plt.plot(PT_liq_Hmn13['P'], PT_liq_Hmn13['T'], 'g-', label='Melt Curve (Hamano13)')\n",
    "plt.plot(PT_liq_And11['P'], PT_liq_And11['T'], 'b:', label='Andrault11')\n",
    "\n",
    "# plt.plot(P_ad_hybrid, T_ad_hybrid, 'k--', lw=3, label='Adiabat (hybrid)')\n",
    "# plt.plot(P_ad_dK09, T_ad_dK09, 'r-.', label='Liquid Adiabat (dK09)')\n",
    "plt.plot(P_ad_dK09, T_ad_dK09, '--', color=[.5,.5,.5],label='Liquid Adiabat (Wolf2018)')\n",
    "# plt.plot(P_ad_S11, T_ad_S11, 'b--', label='Adiabat (S11)')\n",
    "# plt.plot(P_sol_ad, T_sol_ad, 'g-.', label='Adiabat (solid)')\n",
    "\n",
    "plt.plot(PT_sol_Stx09['P'], PT_sol_Stx09['T'], 'b-', label='Stixrude09')\n",
    "plt.plot(PT_sol_Hmn13['P'], PT_sol_Hmn13['T'], 'g-', label='Hamano13')\n",
    "\n",
    "\n",
    "# plt.title('Rough Mantle Liquidus')\n",
    "plt.xlabel('Pressure  [ GPa ]')\n",
    "plt.ylabel('Temperature  [ K ]')\n",
    "plt.legend()\n",
    "\n",
    "plt.tight_layout()\n",
    "\n",
    "plt.savefig('figs/magma-ocean-liquidus.png')"
   ]
  },
  {
   "cell_type": "code",
   "execution_count": null,
   "metadata": {},
   "outputs": [],
   "source": []
  },
  {
   "cell_type": "code",
   "execution_count": null,
   "metadata": {},
   "outputs": [],
   "source": []
  },
  {
   "cell_type": "code",
   "execution_count": null,
   "metadata": {},
   "outputs": [],
   "source": []
  },
  {
   "cell_type": "code",
   "execution_count": null,
   "metadata": {},
   "outputs": [],
   "source": []
  },
  {
   "cell_type": "code",
   "execution_count": null,
   "metadata": {},
   "outputs": [],
   "source": [
    "\n",
    "\n",
    "S_fus_liq_S11 = liq_eos_S11.entropy(V_fus_liq_S11, T_fus_S11) \n",
    "S_fus_sol_S11 = sol_eos.entropy(V_fus_sol_S11, T_fus_S11) \n",
    "dS_fus_S11 = (S_fus_liq_S11-S_fus_sol_S11)/xmeos.models.CONSTS['kboltz']\n",
    "\n",
    "S_fus_liq_dK09 = liq_eos_dK09.entropy(V_fus_liq_dK09, T_fus_dK09) \n",
    "S_fus_sol_dK09 = sol_eos.entropy(V_fus_sol_dK09, T_fus_dK09)\n",
    "dS_fus_dK09 = (S_fus_liq_dK09-S_fus_sol_dK09)/xmeos.models.CONSTS['kboltz']\n",
    "\n",
    "# S_fus_liq_hyb = liq_eos_hybrid.entropy(V_fus_liq_hyb, T_fus_hyb) \n",
    "# S_fus_sol_hyb = sol_eos.entropy(V_fus_sol_hyb, T_fus_hyb)\n",
    "# dS_fus_hyb = (S_fus_liq_hyb-S_fus_sol_hyb)/xmeos.models.CONSTS['kboltz']\n"
   ]
  },
  {
   "cell_type": "code",
   "execution_count": null,
   "metadata": {},
   "outputs": [],
   "source": []
  },
  {
   "cell_type": "code",
   "execution_count": null,
   "metadata": {},
   "outputs": [],
   "source": [
    "mantle_liquidus = pd.DataFrame({'P':P_fus_dK09, 'T':T_fus_dK09, 'S/kB': S_fus_liq_dK09/xmeos.models.CONSTS['kboltz']})\n",
    "T_solidus = T_fus_dK09/1.09\n",
    "V_solidus = np.hstack([volume(iP, iT, liq_eos_dK09, Vinit=8) for (iP, iT) \n",
    "                       in zip(P_fus_dK09, T_solidus)])\n",
    "S_fus_sol_dK09 = liq_eos_dK09.entropy(V_solidus, T_solidus) \n",
    "\n",
    "mantle_solidus = pd.DataFrame({'P':P_fus_dK09, 'T':T_solidus, 'S/kB': S_fus_sol_dK09/xmeos.models.CONSTS['kboltz']})"
   ]
  },
  {
   "cell_type": "code",
   "execution_count": null,
   "metadata": {},
   "outputs": [],
   "source": []
  },
  {
   "cell_type": "code",
   "execution_count": null,
   "metadata": {},
   "outputs": [],
   "source": [
    "# mantle_liquidus.to_csv('figs/mantle_liquidus_path.csv')\n",
    "# mantle_solidus.to_csv('figs/mantle_solidus_path.csv')"
   ]
  },
  {
   "cell_type": "code",
   "execution_count": null,
   "metadata": {},
   "outputs": [],
   "source": [
    "def write_output( file_name, data_tbl_a, data_units_a,\n",
    "                 param_d, comment=\"\" ):\n",
    "\n",
    "    '''Write output.'''\n",
    "\n",
    "    file_path = param_d['datadir']+file_name\n",
    "    data_units = ' '.join([np.str(unit_val) for unit_val in data_units_a])\n",
    "    header = param_d['header_default']+data_units\n",
    "    size = '5 ' + str(int(data_tbl_a.shape[0])) + '\\n'\n",
    "    header = size + header\n",
    "    if comment is not \"\":\n",
    "        header = header + '\\n' + comment\n",
    "    np.savetxt( file_path, data_tbl_a, header=header)\n",
    "\n",
    "#====================================================================\n",
    "def write_data_table( file_name, data_cols_L, data_units_L,\n",
    "                     param_d, comment=\"\" ):\n",
    "\n",
    "    '''Write data table with scale factors for each column.\n",
    "\n",
    "    Input:\n",
    "        file_name: string giving path to data file\n",
    "        data_cols_L: list of arrays defining each column\n",
    "        data_units_L: list of scale factors or string IDs (keys for param_d)\n",
    "            referring to each scale factor\n",
    "        param_d: dictionary containing output header and scale \n",
    "            factor info'''\n",
    "\n",
    "    data_units_a = []\n",
    "    for units in data_units_L:\n",
    "        if isinstance( units, str ):\n",
    "            data_units_a.append( param_d[units] )\n",
    "        else:\n",
    "            data_units_a.append( units )\n",
    "\n",
    "    data_units_a = np.array( data_units_a )\n",
    "    data_tbl_a = np.vstack( data_cols_L ).T\n",
    "    write_output( file_name, data_tbl_a, data_units_a, param_d, comment=comment )\n",
    "    \n",
    "    \n",
    "def get_output_constants(mass_avg, datadir):\n",
    "    Nmol=6.0221413e+23\n",
    "    output_d = OrderedDict()\n",
    "    output_d['header_default'] = \"Pressure, Entropy, Quantity\\n\"\\\n",
    "        \"column * scaling factor should be SI units\\n\"\\\n",
    "        \"scaling factors (constant) for each column given on line below\\n\"\n",
    "    #output_d['datadir'] = 'data/lookup/lookup-rough/'\n",
    "    #output_d['datadir'] = 'data/lookup/lookup-hires/'\n",
    "    # output_d['datadir'] = 'data/lookup/lookup-hires-RTmelt/'\n",
    "    output_d['datadir'] = datadir\n",
    "\n",
    "    # NOTE: All extensive quantities changed from per atom to per unit mass\n",
    "    # assert 'mass_avg' in param_d, \"'mass_avg' must be set in param_d \" \\\n",
    "    #     \"in order to report extensive quantities per unit mass\"\n",
    "    # assert 'Nmol' in param_d, \"'Nmol' is unset in param_d\"\n",
    "\n",
    "    # All output constants in mks units\n",
    "    output_d['1'] = 1 # No unit change\n",
    "    output_d['g'] = 1e-3 # mass [g] -> [kg]\n",
    "    output_d['per_mass']  = Nmol/(mass_avg*output_d['g'])\n",
    "\n",
    "    output_d['GPa'] = 1e9 # P:  [GPa] -> [Pa]\n",
    "    output_d['GPa-1'] = 1e-9 # 1/P:  [1/GPa] -> [1/Pa]\n",
    "    output_d['eV'] = 1.60217657e-19 \\\n",
    "        *output_d['per_mass'] # E, H, T*S, T*Cp:  [eV/atom] -> [J/kg]\n",
    "    output_d['g_cc'] = 1e3 # rho:  [g/cc] -> [kg/m^3]\n",
    "    return output_d\n",
    "\n",
    "\n",
    "def write_all_data_tables(phasename, props, datadir='./'):\n",
    "    \"\"\"\n",
    "    Write phase-specific data files\n",
    "    \"\"\"\n",
    "\n",
    "    output = get_output_constants(props['molar_mass'], datadir)\n",
    "    \n",
    "    write_data_table('temperature_' + phasename + '.dat',\n",
    "                     (props[key].ravel() for key in \n",
    "                      ('P', 'S', 'T')),\n",
    "                     ('GPa', 'eV', 1), output)\n",
    "    write_data_table('density_' + phasename + '.dat',\n",
    "                     (props[key].ravel() for key in \n",
    "                      ('P', 'S', 'rho')),\n",
    "                     ('GPa', 'eV','g_cc'), output)\n",
    "    write_data_table('heat_capacity_' + phasename + '.dat',\n",
    "                     (props[key].ravel() for key in \n",
    "                      ('P', 'S', 'C_P')),\n",
    "                     ('GPa','eV','eV'), output)\n",
    "    write_data_table('thermal_exp_' + phasename + '.dat',\n",
    "                     (props[key].ravel() for key in \n",
    "                      ('P', 'S', 'alpha')),\n",
    "                     ('GPa','eV',1), output)\n",
    "    write_data_table('adiabat_temp_grad_'+phasename+'.dat',\n",
    "                     (props[key].ravel() for key in \n",
    "                      ('P', 'S', 'dTdP_S')),\n",
    "                     ('GPa','eV','GPa-1'), output)\n",
    "    pass"
   ]
  },
  {
   "cell_type": "code",
   "execution_count": null,
   "metadata": {},
   "outputs": [],
   "source": [
    "H13_liq = pd.read_csv('data/Hamano2013-liquidus.csv')\n",
    "H13_sol = pd.read_csv('data/Hamano2013-solidus.csv')\n",
    "\n",
    "S09_liq = pd.read_csv('data/Stixrude2009-liquidus.csv')\n",
    "S09_sol = pd.read_csv('data/Stixrude2009-solidus.csv')\n"
   ]
  },
  {
   "cell_type": "code",
   "execution_count": null,
   "metadata": {},
   "outputs": [],
   "source": [
    "def overwrite_zero_val(table):\n",
    "    y0 = sp.interpolate.interp1d(table['P'], table['T'], fill_value='extrapolate')(0)\n",
    "    table['P'][0] = 0.0\n",
    "    table['T'][0] = y0\n",
    "    \n",
    "overwrite_zero_val(H13_liq)\n",
    "overwrite_zero_val(H13_sol)\n",
    "overwrite_zero_val(S09_liq)\n",
    "overwrite_zero_val(S09_sol)"
   ]
  },
  {
   "cell_type": "code",
   "execution_count": null,
   "metadata": {},
   "outputs": [],
   "source": []
  },
  {
   "cell_type": "code",
   "execution_count": null,
   "metadata": {},
   "outputs": [],
   "source": [
    "# mantle_liquidus = pd.DataFrame({'P':P_fus_dK09, 'T':T_fus_dK09, 'S/kB': S_fus_liq_dK09/xmeos.models.CONSTS['kboltz']})\n",
    "# mantle_solidus = pd.DataFrame({'P':P_fus_dK09, 'T':T_solidus, 'S/kB': S_fus_sol_dK09/xmeos.models.CONSTS['kboltz']})\n",
    "\n",
    "Pgrid = P_fus_dK09\n",
    "T_liq = T_fus_dK09\n",
    "T_sol = T_solidus"
   ]
  },
  {
   "cell_type": "code",
   "execution_count": null,
   "metadata": {},
   "outputs": [],
   "source": [
    "Pgrid"
   ]
  },
  {
   "cell_type": "code",
   "execution_count": null,
   "metadata": {},
   "outputs": [],
   "source": []
  },
  {
   "cell_type": "code",
   "execution_count": null,
   "metadata": {
    "code_folding": [
     8
    ]
   },
   "outputs": [],
   "source": [
    "# def join_curves(x_low, y_low, x_hi, y_hi, x_thresh):\n",
    "#     x_tot = np.hstack([x_low[x_low < x_thresh], \n",
    "#                        x_hi[x_hi >= x_thresh]])\n",
    "#     y_tot = np.hstack([y_low[x_low < x_thresh], \n",
    "#                        y_hi[x_hi >= x_thresh]])\n",
    "#     return x_tot, y_tot\n",
    "\n",
    "\n",
    "def bounded_curves(xgrids, ygrids, thresh_vals):\n",
    "    thresh_vals = np.array(thresh_vals)\n",
    "    if len(thresh_vals.shape)==0:\n",
    "        thresh_vals = np.array([thresh_vals])\n",
    "        \n",
    "    thresh_vals = np.hstack([-np.infty, thresh_vals, np.infty])\n",
    "        \n",
    "    x_tot = []\n",
    "    y_tot = []\n",
    "    for ind in np.arange(len(thresh_vals)-1):\n",
    "        xbnds = [thresh_vals[ind], thresh_vals[ind+1]]\n",
    "        x, y = xgrids[ind], ygrids[ind]\n",
    "        \n",
    "        mask = (x >= xbnds[0]) & (x < xbnds[1])\n",
    "        # x_tot[ind] = x[mask]\n",
    "        # y_tot[ind] = y[mask]\n",
    "        \n",
    "        x_tot.append(x[mask])\n",
    "        y_tot.append(y[mask])\n",
    "        \n",
    "    x_tot = np.hstack(x_tot)\n",
    "    y_tot = np.hstack(y_tot)\n",
    "    \n",
    "    return x_tot, y_tot\n",
    "\n",
    "\n",
    "# Plow_liq, Tlow_liq, Plow_sol, Tlow_sol = (H13_liq['P'], H13_liq['T'], \n",
    "#                                           H13_sol['P'], H13_sol['T'])\n",
    "\n",
    "\n",
    "Pth_liq = 23.0\n",
    "Pth_sol = 24.2\n",
    "\n",
    "Plow_liq, Tlow_liq, Plow_sol, Tlow_sol = (S09_liq['P'], S09_liq['T'], \n",
    "                                          S09_sol['P'], S09_sol['T'])\n",
    "\n",
    "\n",
    "# Pmantle_liq, Tmantle_liq = join_curves(Plow_liq, Tlow_liq, Pgrid, T_liq, Pth_liq)\n",
    "# Pmantle_sol, Tmantle_sol = join_curves(Plow_sol, Tlow_sol, Pgrid, T_sol, Pth_sol)\n",
    "\n",
    "\n",
    "Pmantle_liq, Tmantle_liq = bounded_curves([Plow_liq, Pgrid], [Tlow_liq, T_liq], Pth_liq)\n",
    "Pmantle_sol, Tmantle_sol = bounded_curves([Plow_sol, Pgrid], [Tlow_sol, T_sol], Pth_sol)\n",
    "\n",
    "    \n",
    "\n",
    "# Pmantle_liq = np.hstack([H13_liq['P'][H13_liq['P']<Pth_liq], \n",
    "#                          Pgrid[Pgrid>Pth_liq]])\n",
    "# Tmantle_liq = np.hstack([H13_liq['T'][H13_liq['P']<Pth_liq], \n",
    "#                          T_liq[Pgrid>Pth_liq]])\n",
    "# Pmantle_sol = np.hstack([H13_sol['P'][H13_sol['P']<Pth_sol], \n",
    "#                          Pgrid[Pgrid>Pth_sol]])\n",
    "# Tmantle_sol = np.hstack([H13_sol['T'][H13_sol['P']<Pth_sol], \n",
    "#                          T_sol[Pgrid>Pth_sol]])\n",
    "\n",
    "plt.figure()\n",
    "\n",
    "plt.plot(Pgrid, T_liq, 'm-')\n",
    "plt.plot(Plow_liq, Tlow_liq, 'c-')\n",
    "\n",
    "\n",
    "plt.plot(Pgrid, T_sol, 'm-')\n",
    "plt.plot(Plow_sol, Tlow_sol, 'c-')\n",
    "\n",
    "plt.plot(Pmantle_liq, Tmantle_liq, 'r--',\n",
    "        Pmantle_sol, Tmantle_sol, 'b--', lw=1)\n",
    "\n",
    "plt.xlim(0, 150)\n",
    "plt.ylim(1500,5000)\n",
    "plt.xlabel('P')\n",
    "plt.ylabel('T')"
   ]
  },
  {
   "cell_type": "code",
   "execution_count": null,
   "metadata": {},
   "outputs": [],
   "source": []
  },
  {
   "cell_type": "code",
   "execution_count": null,
   "metadata": {
    "code_folding": [
     0,
     59
    ]
   },
   "outputs": [],
   "source": [
    "def poly_smooth_curve(xbnds, fun_left, fun_right, coef4=0.0, coef5=0.0):\n",
    "    \n",
    "    \n",
    "    xfrac=.01\n",
    "    dx = 0.5*xfrac*np.diff(xbnds)\n",
    "    x0, x1 = xbnds[:]\n",
    "    \n",
    "    # remap x to [-1,1] range\n",
    "    \n",
    "    y0 = fun_left(x0)\n",
    "    y1 = fun_right(x1)\n",
    "    \n",
    "    \n",
    "    \n",
    "    # dydx0 = (y0-fun_left(x0-dx))/dx\n",
    "    # dydx1 = (y1-fun_right(x1-dx))/dx\n",
    "    dydx0 = (y0-fun_left(x0-dx))/xfrac\n",
    "    dydx1 = (y1-fun_right(x1-dx))/xfrac\n",
    "    \n",
    "    # yfit = np.array([y0, dydx0, y1, dydx1])\n",
    "    # Mfit = np.array([\n",
    "    #     [x0**3, x0**2, x0, 1.0],\n",
    "    #     [3*x0**2, 2*x0, 1.0, 0.0],\n",
    "    #     [x1**3, x1**2, x1, 1.0],\n",
    "    #     [3*x1**2, 2*x1, 1.0, 0.0]\n",
    "    # ])\n",
    "    \n",
    "    # Mfit = np.array([\n",
    "    #     [-1, +1, -1, 1],\n",
    "    #     [3*(+1), 2*(-1), 1, 0],\n",
    "    #     [+1, +1, +1, 1],\n",
    "    #     [3*(+1), 2*(+1), 1, 0]\n",
    "    # ])\n",
    "    \n",
    "    yfit = np.array([y0, dydx0, y1, dydx1, coef4, coef5])\n",
    "    Mfit = np.array([\n",
    "        [-1, +1, -1, +1, -1, 1],\n",
    "        [5*(+1), 4*(-1), 3*(+1), 2*(-1), 1, 0],\n",
    "        [+1, +1, +1, +1, +1, 1],\n",
    "        [5*(+1), 4*(+1), 3*(+1), 2*(+1), 1, 0],\n",
    "        [0, 1, 0, 0, 0, 0],\n",
    "        [1, 0, 0, 0, 0, 0]\n",
    "    ])\n",
    "    \n",
    "    # print(Mfit)\n",
    "    \n",
    "    # coef = np.linalg.solve(Mfit, yfit)\n",
    "    output = sp.linalg.lstsq(Mfit, yfit)\n",
    "    coef = output[0]\n",
    "    \n",
    "    def fun(x, xbnds=xbnds, coef=coef):\n",
    "        xrange = np.diff(xbnds)\n",
    "        xfrac = (x-xbnds[0])/xrange\n",
    "        xscl = 2*xfrac - 1\n",
    "        y = np.polyval(coef, xscl)\n",
    "        return y\n",
    "    \n",
    "    return fun, coef\n",
    "\n",
    "def constrain_poly_smooth_curve(xbnds, fun_left, fun_right, order=5):\n",
    "    \n",
    "    \n",
    "    xfrac=.01\n",
    "    dx = 0.5*xfrac*np.diff(xbnds)\n",
    "    x0, x1 = xbnds[:]\n",
    "    \n",
    "    # remap x to [-1,1] range\n",
    "    \n",
    "    y0 = fun_left(x0)\n",
    "    y1 = fun_right(x1)\n",
    "    \n",
    "    \n",
    "    \n",
    "    # dydx0 = (y0-fun_left(x0-dx))/dx\n",
    "    # dydx1 = (y1-fun_right(x1-dx))/dx\n",
    "    dydx0 = (y0-fun_left(x0-dx))/xfrac\n",
    "    dydx1 = (y1-fun_right(x1-dx))/xfrac\n",
    "    \n",
    "    # yfit = np.array([y0, dydx0, y1, dydx1])\n",
    "    # Mfit = np.array([\n",
    "    #     [x0**3, x0**2, x0, 1.0],\n",
    "    #     [3*x0**2, 2*x0, 1.0, 0.0],\n",
    "    #     [x1**3, x1**2, x1, 1.0],\n",
    "    #     [3*x1**2, 2*x1, 1.0, 0.0]\n",
    "    # ])\n",
    "    \n",
    "    # Mfit = np.array([\n",
    "    #     [-1, +1, -1, 1],\n",
    "    #     [3*(+1), 2*(-1), 1, 0],\n",
    "    #     [+1, +1, +1, 1],\n",
    "    #     [3*(+1), 2*(+1), 1, 0]\n",
    "    # ])\n",
    "    \n",
    "    coef_exp = np.arange(order,0)\n",
    "    -np.ones(order+1)\n",
    "    \n",
    "    yfit = np.array([y0, dydx0, y1, dydx1, coef4, coef5])\n",
    "    Mfit = np.array([\n",
    "        [-1, +1, -1, +1, -1, 1],\n",
    "        [5*(+1), 4*(-1), 3*(+1), 2*(-1), 1, 0],\n",
    "        [+1, +1, +1, +1, +1, 1],\n",
    "        [5*(+1), 4*(+1), 3*(+1), 2*(+1), 1, 0],\n",
    "        [0, 1, 0, 0, 0, 0],\n",
    "        [1, 0, 0, 0, 0, 0]\n",
    "    ])\n",
    "    \n",
    "    # print(Mfit)\n",
    "    \n",
    "    # coef = np.linalg.solve(Mfit, yfit)\n",
    "    output = sp.linalg.lstsq(Mfit, yfit)\n",
    "    coef = output[0]\n",
    "    \n",
    "    def fun(x, xbnds=xbnds, coef=coef):\n",
    "        xrange = np.diff(xbnds)\n",
    "        xfrac = (x-xbnds[0])/xrange\n",
    "        xscl = 2*xfrac - 1\n",
    "        y = np.polyval(coef, xscl)\n",
    "        return y\n",
    "    \n",
    "    return fun, coef"
   ]
  },
  {
   "cell_type": "code",
   "execution_count": null,
   "metadata": {},
   "outputs": [],
   "source": [
    "# Smoothing bounds leaving Trans Zone intact\n",
    "# Pbnds_smth_liq = [11.5, 23.0]\n",
    "# Pbnds_smth_sol = [21.5, 25.5]\n",
    "\n",
    "# Smoothing bounds masking transition zone/upper mantle variability in entropy\n",
    "# Smoothing bounds masking transition zone/upper mantle variability in entropy\n",
    "Pbnds_smth_liq = [4.0, 23.0]\n",
    "# Pbnds_smth_sol = [7.0, 30.0]\n",
    "Pbnds_smth_sol = [4.0, 28.0]\n",
    "# coef4=-120, coef5=+55\n",
    "# 8, -10, +20"
   ]
  },
  {
   "cell_type": "code",
   "execution_count": null,
   "metadata": {},
   "outputs": [],
   "source": []
  },
  {
   "cell_type": "code",
   "execution_count": null,
   "metadata": {},
   "outputs": [],
   "source": [
    "\n",
    "Pbnds_smth_liq = [6.0, 26.0]\n",
    "Pbnds_smth_sol = [6.0, 30.0]\n",
    "\n",
    "fun_liq_loP = sp.interpolate.interp1d(Plow_liq, Tlow_liq, \n",
    "                                      kind='cubic', fill_value='extrapolate' )\n",
    "fun_liq_hiP = sp.interpolate.interp1d(Pgrid, T_liq,\n",
    "                                      kind='cubic', fill_value='extrapolate' )\n",
    "\n",
    "\n",
    "fun_liq, coef_liq = poly_smooth_curve(Pbnds_smth_liq, fun_liq_loP, fun_liq_hiP)\n",
    "coef_liq\n",
    "\n",
    "\n",
    "\n",
    "\n",
    "fun_sol_loP = sp.interpolate.interp1d(Plow_sol, Tlow_sol, \n",
    "                                      kind='cubic', fill_value='extrapolate' )\n",
    "fun_sol_hiP = sp.interpolate.interp1d(Pgrid, T_sol,\n",
    "                                      kind='cubic', fill_value='extrapolate' )\n",
    "\n",
    "fun_sol, coef_sol = poly_smooth_curve(Pbnds_smth_sol, fun_sol_loP, fun_sol_hiP, coef4=-135, coef5=+68)\n",
    "coef_sol"
   ]
  },
  {
   "cell_type": "code",
   "execution_count": null,
   "metadata": {},
   "outputs": [],
   "source": [
    "Pmod_liq = np.linspace(*Pbnds_smth_liq, 101)\n",
    "Pmod_sol = np.linspace(*Pbnds_smth_sol, 101)\n",
    "plt.figure()\n",
    "plt.plot(Pmantle_liq, Tmantle_liq, 'r-',\n",
    "        Pmantle_sol, Tmantle_sol, 'b-')\n",
    "plt.plot(Pmod_liq, fun_liq(Pmod_liq), 'c-', lw=1)\n",
    "plt.plot(Pmod_sol, fun_sol(Pmod_sol), 'c-', lw=1)\n",
    "plt.xlim(0, 150)\n",
    "plt.ylim(1500,5000)\n",
    "plt.xlabel('P')\n",
    "plt.ylabel('T')"
   ]
  },
  {
   "cell_type": "code",
   "execution_count": null,
   "metadata": {},
   "outputs": [],
   "source": [
    "def eval_vol(Pvals, Tvals, mod_eos, Vinit=10.0):\n",
    "    Vvals = np.zeros(Pvals.size)\n",
    "    iV = Vinit\n",
    "    for ind, (iP, iT) in enumerate(zip(Pvals, Tvals)):\n",
    "        iV = volume(iP, iT, mod_eos, Vinit=iV)\n",
    "        Vvals[ind] = iV\n",
    "        \n",
    "    return Vvals, Pvals, Tvals"
   ]
  },
  {
   "cell_type": "code",
   "execution_count": null,
   "metadata": {},
   "outputs": [],
   "source": []
  },
  {
   "cell_type": "code",
   "execution_count": null,
   "metadata": {},
   "outputs": [],
   "source": [
    "Pmantle_liq_adj, Tmantle_liq_adj = bounded_curves(\n",
    "    [Pmantle_liq, Pmod_liq, Pmantle_liq], \n",
    "    [Tmantle_liq, fun_liq(Pmod_liq), Tmantle_liq],\n",
    "    [Pmod_liq[0], Pmod_liq[-1]])\n",
    "\n",
    "Pmantle_sol_adj, Tmantle_sol_adj = bounded_curves(\n",
    "    [Pmantle_sol, Pmod_sol, Pmantle_sol], \n",
    "    [Tmantle_sol, fun_sol(Pmod_sol), Tmantle_sol],\n",
    "    [Pmod_sol[0], Pmod_sol[-1]])\n",
    "\n",
    "fun_liq_adj = sp.interpolate.interp1d(Pmantle_liq_adj, Tmantle_liq_adj)\n",
    "fun_sol_adj = sp.interpolate.interp1d(Pmantle_sol_adj, Tmantle_sol_adj)\n"
   ]
  },
  {
   "cell_type": "code",
   "execution_count": null,
   "metadata": {},
   "outputs": [],
   "source": [
    "Pvals = np.arange(0,150,1)\n",
    "# Pvals = np.arange(0,50,.5)\n",
    "Tvals_liq = fun_liq_adj(Pvals)\n",
    "Tvals_sol = fun_sol_adj(Pvals)"
   ]
  },
  {
   "cell_type": "code",
   "execution_count": null,
   "metadata": {},
   "outputs": [],
   "source": []
  },
  {
   "cell_type": "code",
   "execution_count": null,
   "metadata": {},
   "outputs": [],
   "source": [
    "Vsol, Psol, Tsol = eval_vol(Pvals, Tvals_sol, sol_eos, Vinit=9.0)\n",
    "Vliq, Pliq, Tliq = eval_vol(Pvals, Tvals_liq, liq_eos_dK09, Vinit=12.0)\n",
    "\n",
    "Ssol = sol_eos.entropy(Vsol, Tsol)\n",
    "Sliq = liq_eos_dK09.entropy(Vliq, Tliq)"
   ]
  },
  {
   "cell_type": "code",
   "execution_count": null,
   "metadata": {},
   "outputs": [],
   "source": []
  },
  {
   "cell_type": "code",
   "execution_count": null,
   "metadata": {},
   "outputs": [],
   "source": []
  },
  {
   "cell_type": "code",
   "execution_count": null,
   "metadata": {},
   "outputs": [],
   "source": [
    "\n",
    "plt.figure()\n",
    "plt.plot(Psol, Tsol, 'b-')\n",
    "plt.plot(Pliq, Tliq, 'r-')\n",
    "plt.xlabel('P')\n",
    "plt.ylabel('T')\n",
    "\n",
    "plt.figure()\n",
    "plt.plot(Psol, Ssol/models.CONSTS['kboltz'], 'b-')\n",
    "plt.plot(Pliq, Sliq/models.CONSTS['kboltz'], 'r-')\n",
    "plt.xlabel('P')\n",
    "plt.ylabel('S')"
   ]
  },
  {
   "cell_type": "code",
   "execution_count": null,
   "metadata": {},
   "outputs": [],
   "source": [
    "datadir='./data_tables/dK09-elec-free/'\n",
    "molar_mass = sol_eos.molar_mass\n",
    "output = get_output_constants(molar_mass, datadir)\n",
    "write_data_table('solidus_smth_perturb.dat', (Psol, Ssol), ('GPa', 'eV'), output)\n",
    "write_data_table('liquidus_smth_perturb.dat', (Pliq, Sliq), ('GPa', 'eV'), output)"
   ]
  },
  {
   "cell_type": "code",
   "execution_count": null,
   "metadata": {},
   "outputs": [],
   "source": []
  },
  {
   "cell_type": "code",
   "execution_count": null,
   "metadata": {},
   "outputs": [],
   "source": []
  },
  {
   "cell_type": "code",
   "execution_count": null,
   "metadata": {},
   "outputs": [],
   "source": []
  },
  {
   "cell_type": "code",
   "execution_count": null,
   "metadata": {},
   "outputs": [],
   "source": [
    "\n",
    "Vliq_low, Pliq_low, Tliq_low = eval_vol(Plow_liq, Tlow_liq, liq_eos_dK09, Vinit=12.0)\n",
    "Vliq_hi, Pliq_hi, Tliq_hi = eval_vol(Pgrid, T_liq, liq_eos_dK09, Vinit=12.0)\n",
    "\n",
    "Vsol_low, Psol_low, Tsol_low = eval_vol(Plow_sol, Tlow_sol, sol_eos, Vinit=9.0)\n",
    "Vsol_hi, Psol_hi, Tsol_hi = eval_vol(Pgrid, T_sol, sol_eos, Vinit=9.0)\n",
    "\n",
    "Ssol_low = sol_eos.entropy(Vsol_low, Tsol_low)\n",
    "Ssol_hi = sol_eos.entropy(Vsol_hi, Tsol_hi)\n",
    "\n",
    "Sliq_low = liq_eos_dK09.entropy(Vliq_low, Tliq_low)\n",
    "Sliq_hi = liq_eos_dK09.entropy(Vliq_hi, Tliq_hi)\n",
    "\n",
    "    \n",
    "    "
   ]
  },
  {
   "cell_type": "code",
   "execution_count": null,
   "metadata": {},
   "outputs": [],
   "source": [
    "plt.figure()\n",
    "plt.plot(Psol_low, Tsol_low, 'c-')\n",
    "plt.plot(Psol_hi, Tsol_hi, 'm-')\n",
    "\n",
    "plt.plot(Pliq_low, Tliq_low, 'c-')\n",
    "plt.plot(Pliq_hi, Tliq_hi, 'm-')\n",
    "plt.xlabel('P')\n",
    "plt.ylabel('T')\n",
    "\n",
    "plt.figure()\n",
    "plt.plot(Psol_low, Ssol_low/models.CONSTS['kboltz'], 'c-')\n",
    "plt.plot(Psol_hi, Ssol_hi/models.CONSTS['kboltz'], 'm-')\n",
    "\n",
    "plt.plot(Pliq_low, Sliq_low/models.CONSTS['kboltz'], 'c-')\n",
    "plt.plot(Pliq_hi, Sliq_hi/models.CONSTS['kboltz'], 'm-')\n",
    "plt.xlabel('P')\n",
    "plt.ylabel('S')\n",
    "\n"
   ]
  },
  {
   "cell_type": "code",
   "execution_count": null,
   "metadata": {},
   "outputs": [],
   "source": [
    "plt.figure()\n",
    "plt.plot(Psol, Tsol, 'b-')\n",
    "plt.plot(Pliq, Tliq, 'r-')\n",
    "plt.xlabel('P')\n",
    "plt.ylabel('T')\n",
    "\n",
    "plt.figure()\n",
    "plt.plot(Psol, Ssol/models.CONSTS['kboltz'], 'b-')\n",
    "plt.plot(Pliq, Sliq/models.CONSTS['kboltz'], 'r-')\n",
    "plt.xlabel('P')\n",
    "plt.ylabel('S')\n",
    "\n"
   ]
  },
  {
   "cell_type": "code",
   "execution_count": null,
   "metadata": {},
   "outputs": [],
   "source": []
  },
  {
   "cell_type": "code",
   "execution_count": null,
   "metadata": {},
   "outputs": [],
   "source": [
    "dV_fus_dK09 = V_fus_liq_dK09 -  V_fus_sol_dK09\n",
    "dV_fus_dK09/V_fus_liq_dK09\n",
    "plt.figure()\n",
    "plt.plot(P_fus_dK09, 100*dV_fus_dK09/V_fus_liq_dK09, 'k-' )\n",
    "plt.ylim(0,15)\n",
    "plt.fill_between([0,150], [0.268, 0.268], color=[1,.5,.5])\n",
    "plt.xlim(20,136)\n",
    "\n",
    "plt.xlabel('Pressure [GPa]')\n",
    "plt.ylabel('Volume of Fusion [%]')\n",
    "\n",
    "plt.tight_layout()\n",
    "plt.savefig('figs/vol_fusion.png')\n"
   ]
  },
  {
   "cell_type": "code",
   "execution_count": null,
   "metadata": {},
   "outputs": [],
   "source": [
    "m_vib = (0.067-0.104)/(135-25)\n",
    "b_vib = 0.104 - 25*m_vib\n",
    "S_vib = m_vib*P_fus_dK09 + b_vib\n",
    "\n",
    "\n",
    "S_mix = 0.058"
   ]
  },
  {
   "cell_type": "code",
   "execution_count": null,
   "metadata": {},
   "outputs": [],
   "source": [
    "\n",
    "plt.figure()\n",
    "plt.plot(P_fus_dK09, dS_fus_dK09+S_vib+S_mix, 'k-', label = 'This work')\n",
    "plt.plot(P_fus_dK09, 1.5*np.ones(P_fus_dK09.size), 'r:', lw=2, label='Stixrude09')\n",
    "plt.plot(P_fus_dK09, dS_fus_dK09, 'k--', lw=2, label='Brg fusion')\n",
    "plt.plot(P_fus_dK09, S_vib, 'm--', lw=2, label = 'vibration')\n",
    "plt.plot(P_fus_dK09, S_mix*np.ones(P_fus_dK09.size), 'c--', lw=2, label = 'mixing')\n",
    "plt.ylim(0,2.5)\n",
    "# plt.fill_between([0,150], [0.268, 0.268], color=[1,.5,.5])\n",
    "plt.xlim(20,136)\n",
    "\n",
    "plt.legend(loc='lower right')\n",
    "plt.xlabel('Pressure [GPa]')\n",
    "plt.ylabel('Entropy of Fusion [$k_B$/atom]')\n",
    "\n",
    "plt.tight_layout()\n",
    "plt.savefig('/Users/aswolf/entropy_fusion.png')\n"
   ]
  },
  {
   "cell_type": "code",
   "execution_count": null,
   "metadata": {},
   "outputs": [],
   "source": [
    "P_liq_And = np.linspace(np.ceil(PT_liq_And11['P'][0]), np.floor(np.array(PT_liq_And11['P'])[-1]), 101)\n",
    "coef_And = np.polyfit(PT_liq_And11['P'], PT_liq_And11['T'], 5)\n",
    "T_liq_And = np.polyval(coef_And, P_liq_And)\n",
    "\n"
   ]
  },
  {
   "cell_type": "code",
   "execution_count": null,
   "metadata": {},
   "outputs": [],
   "source": []
  },
  {
   "cell_type": "code",
   "execution_count": null,
   "metadata": {},
   "outputs": [],
   "source": [
    "def extract_sol_liq_vols(P, T, sol_eos, dS=1.5):\n",
    "    dTdP_fus = fun_deriv(T, P)\n",
    "    \n",
    "    Vfus_sol = np.hstack([volume(iP, iT, sol_eos, Vinit=8) for (iP, iT) in zip(P, T)])\n",
    "    dVfus = dTdP_fus*dS*xmeos.models.CONSTS['kboltz']*xmeos.models.CONSTS['PV_ratio']\n",
    "    Vfus_liq = dVfus+Vfus_sol\n",
    "    \n",
    "    return Vfus_sol, Vfus_liq\n",
    "\n",
    "Vfus_sol_And, Vfus_liq_And = extract_sol_liq_vols(P_liq_And, T_liq_And, sol_eos, dS=1.5)\n",
    "Vfus_sol_dK09, Vfus_liq_dK09 = extract_sol_liq_vols(P_fus_dK09, T_fus_dK09, sol_eos, dS=1.5)\n"
   ]
  },
  {
   "cell_type": "code",
   "execution_count": null,
   "metadata": {},
   "outputs": [],
   "source": [
    "def compressibility_ratio(P, Vfus_sol, Vfus_liq):\n",
    "    dVdP_sol = fun_deriv(Vfus_sol, P)\n",
    "    dVdP_liq = fun_deriv(Vfus_liq, P)\n",
    "    beta_fac = (dVdP_liq/dVdP_sol)/(Vfus_liq/Vfus_sol)\n",
    "    return beta_fac\n",
    "\n",
    "beta_fac_And = compressibility_ratio(P_liq_And, Vfus_sol_And, Vfus_liq_And)\n",
    "beta_fac_dK09_approx = compressibility_ratio(P_fus_dK09, Vfus_sol_dK09, Vfus_liq_dK09)\n",
    "    "
   ]
  },
  {
   "cell_type": "code",
   "execution_count": null,
   "metadata": {},
   "outputs": [],
   "source": [
    "\n"
   ]
  },
  {
   "cell_type": "code",
   "execution_count": null,
   "metadata": {},
   "outputs": [],
   "source": [
    "# dS = 1.5*xmeos.models.CONSTS['kboltz']\n",
    "# \n",
    "# \n",
    "# dTdP_fus_dK09 = fun_deriv(T_fus_dK09, P_fus_dK09)\n",
    "# dTdP_fus_And = fun_deriv(T_liq_And, P_liq_And)\n",
    "# \n",
    "# # Vfus_sol_And = np.hstack([volume(iP, iT, sol_eos, Vinit=9) for (iP, iT) in zip(PT_liq_And11['P'], PT_liq_And11['T'])])\n",
    "# \n",
    "# \n",
    "# Vfus_sol_And = np.hstack([volume(iP, iT, sol_eos, Vinit=8) for (iP, iT) in zip(P_liq_And, T_liq_And)])\n",
    "# dVfus_And = dTdP_fus_And*dS*xmeos.models.CONSTS['PV_ratio']\n",
    "# Vfus_liq_And = dVfus_And+Vfus_sol_And\n",
    "# \n",
    "# \n",
    "# # dVdP_sol_And = fun_deriv(Vfus_sol_And, PT_liq_And11['P'])\n",
    "# # dVdP_liq_And = fun_deriv(Vfus_liq_And, PT_liq_And11['P'])\n",
    "# dVdP_sol_And = fun_deriv(Vfus_sol_And, P_liq_And)\n",
    "# dVdP_liq_And = fun_deriv(Vfus_liq_And, P_liq_And)\n",
    "# beta_fac_And = (dVdP_liq_And/dVdP_sol_And)/(Vfus_liq_And/Vfus_sol_And)\n"
   ]
  },
  {
   "cell_type": "code",
   "execution_count": null,
   "metadata": {},
   "outputs": [],
   "source": []
  },
  {
   "cell_type": "code",
   "execution_count": null,
   "metadata": {},
   "outputs": [],
   "source": [
    "\n",
    "\n",
    "# plt.figure()\n",
    "# plt.plot(P_fus_dK09, dS*dTdP_fus_dK09*xmeos.models.CONSTS['PV_ratio'], 'k-')\n",
    "# plt.plot(P_liq_And, dS*dTdP_fus_And*xmeos.models.CONSTS['PV_ratio'], 'k--')\n",
    "\n",
    "\n",
    "\n",
    "\n",
    "plt.figure()\n",
    "plt.plot(P_fus_dK09, beta_fac,'k-', label='This study')\n",
    "plt.plot(P_fus_dK09, beta_fac_dK09_approx,'r--', label='Stixrude09')\n",
    "plt.plot(P_liq_And, beta_fac_And,'b--', label='Andrault11')\n",
    "plt.xlabel('Pressure  [GPa]')\n",
    "plt.ylabel('Compressibility Ratio')\n",
    "plt.legend()\n",
    "\n",
    "\n",
    "plt.fill_between(P_liq_And,0, 1, color=[1,.8,.8])\n",
    "plt.ylim(.5,3.5)\n",
    "plt.xlim(15,140)\n",
    "plt.tight_layout()\n",
    "\n",
    "plt.savefig('/Users/aswolf/compressibility_ratio.png')\n"
   ]
  },
  {
   "cell_type": "code",
   "execution_count": null,
   "metadata": {},
   "outputs": [],
   "source": [
    "\n",
    "\n",
    "# plt.figure()\n",
    "# plt.plot(P_fus_dK09, dS*dTdP_fus_dK09*xmeos.models.CONSTS['PV_ratio'], 'k-')\n",
    "# plt.plot(P_liq_And, dS*dTdP_fus_And*xmeos.models.CONSTS['PV_ratio'], 'k--')\n",
    "\n",
    "\n",
    "\n",
    "\n",
    "plt.figure()\n",
    "plt.plot(Vfus_liq_dK09/Vfus_sol_dK09-1, beta_fac,'k-')\n",
    "plt.plot(Vfus_liq_dK09/Vfus_sol_dK09-1, beta_fac_dK09_approx,'k--')\n",
    "plt.plot(Vfus_liq_And/Vfus_sol_And-1, beta_fac_And,'b--')\n",
    "plt.ylim(.5,3.5)\n",
    "#plt.xlim(15,140)\n"
   ]
  },
  {
   "cell_type": "code",
   "execution_count": null,
   "metadata": {},
   "outputs": [],
   "source": []
  },
  {
   "cell_type": "code",
   "execution_count": null,
   "metadata": {},
   "outputs": [],
   "source": [
    "plt.figure()\n",
    "dTdP_ad_dK09 = fun_deriv(T_ad_dK09, P_ad_dK09)\n",
    "dTdP_fus_dK09 = fun_deriv(T_fus_dK09, P_fus_dK09)\n",
    "err_env = 0.268/100*V_fus_liq_dK09/dV_fus_dK09\n",
    "\n",
    "\n",
    "plt.plot(P_ad_dK09, dTdP_ad_dK09, '--', color=[.5,.5,.5], label='Liquid Adiabat (dK09)')\n",
    "\n",
    "plt.plot(P_fus_dK09, dTdP_fus_dK09, 'r-', label='This Study', lw=1)\n",
    "plt.fill_between(P_fus_dK09, (1+err_env)*dTdP_fus_dK09, (1-err_env)*dTdP_fus_dK09, color=[1,.7,.7] )\n",
    "plt.xlabel('Pressure [GPa]')\n",
    "plt.ylabel('$dT/dP$   [K/GPa]')\n",
    "plt.legend()\n",
    "# plt.plot(P_fus_dK09, (1+err_env)*dTdP_fus_dK09, 'k--', label='dK09')\n",
    "# plt.plot(P_fus_dK09, (1-err_env)*dTdP_fus_dK09, 'k--', label='dK09')\n",
    "\n",
    "plt.ylim(0, 60)\n",
    "plt.xlim(20, 140)\n",
    "\n",
    "\n",
    "a = plt.axes([.55, .45, .35, .35])\n",
    "plt.plot(P_ad_dK09, dTdP_ad_dK09, '--', color=[.5,.5,.5], label='Liquid Adiabat (dK09)')\n",
    "plt.plot(P_fus_dK09, dTdP_fus_dK09, 'r-', label='This Study', lw=1)\n",
    "plt.fill_between(P_fus_dK09, (1+err_env)*dTdP_fus_dK09, (1-err_env)*dTdP_fus_dK09, color=[1,.7,.7] )\n",
    "plt.plot([101.5,101.5],[0,8.9],'k:',lw=1)\n",
    "plt.plot([94.5,94.5],[0,9.3],'k:',lw=1)\n",
    "plt.plot([108.5,108.5],[0,8.7],'k:',lw=1)\n",
    "# plt.xticks([95,100,110])\n",
    "\n",
    "plt.xlim(90,115)\n",
    "plt.ylim(8,10.5)\n",
    "plt.tight_layout()\n",
    "plt.savefig('/Users/aswolf/dTdP_liquidus.png')"
   ]
  },
  {
   "cell_type": "code",
   "execution_count": null,
   "metadata": {},
   "outputs": [],
   "source": [
    "101.5 +/- 7"
   ]
  },
  {
   "cell_type": "code",
   "execution_count": null,
   "metadata": {},
   "outputs": [],
   "source": []
  },
  {
   "cell_type": "code",
   "execution_count": null,
   "metadata": {},
   "outputs": [],
   "source": [
    "\n",
    "plt.figure()\n",
    "\n",
    "plt.plot(P_fus_dK09, dS_fus_dK09, 'r--')\n",
    "plt.plot(P_fus_S11, dS_fus_S11, 'b--')\n",
    "# plt.plot(P_fus_hyb, dS_fus_hyb, 'k--')\n",
    "\n",
    "plt.xlabel('Pressure  [ GPa ]')\n",
    "plt.ylabel('dS_fus  [ $k_B$ ]')\n"
   ]
  },
  {
   "cell_type": "code",
   "execution_count": null,
   "metadata": {},
   "outputs": [],
   "source": [
    "\n",
    "plt.figure()\n",
    "\n",
    "plt.plot(P_fus_dK09, 1.5/dS_fus_dK09, 'r--')\n",
    "# plt.plot(P_fus_hyb, dS_fus_hyb, 'k--')\n",
    "\n",
    "plt.xlabel('Pressure  [ GPa ]')\n",
    "plt.ylabel('1/dS_fus  [ $k_B$ ]')\n",
    "plt.ylim(0,1.8)\n"
   ]
  },
  {
   "cell_type": "code",
   "execution_count": null,
   "metadata": {},
   "outputs": [],
   "source": []
  },
  {
   "cell_type": "code",
   "execution_count": null,
   "metadata": {},
   "outputs": [],
   "source": [
    "ind_ref = 100\n",
    "P_fus_dK09[ind_ref]"
   ]
  },
  {
   "cell_type": "code",
   "execution_count": null,
   "metadata": {},
   "outputs": [],
   "source": [
    "print('dS [kboltz/atom] = ', dS_fus_dK09[ind_ref])\n",
    "print('dV [ang^3/atom] = ', dV_fus_dK09[ind_ref])"
   ]
  },
  {
   "cell_type": "code",
   "execution_count": null,
   "metadata": {},
   "outputs": [],
   "source": [
    "\n",
    "plt.figure()\n",
    "plt.plot(P_fus_dK09, dS_fus_dK09[ind_ref]/dV_fus_dK09[ind_ref]*\n",
    "         dV_fus_dK09/dS_fus_dK09, 'k-', label='dV/dS')\n",
    "plt.plot(P_fus_dK09, dV_fus_dK09/dV_fus_dK09[ind_ref], 'r--', label='dV')\n",
    "plt.plot(P_fus_dK09, dS_fus_dK09[ind_ref]/dS_fus_dK09, 'b--', label='1/dS')\n",
    "\n",
    "plt.xlabel('Pressure [GPa]')\n",
    "plt.ylabel('Fractional Impact on Liquidus Slope')\n",
    "plt.ylim(0,1.5)\n",
    "plt.legend()\n",
    "\n",
    "plt.savefig('figs/MgSiO3-liquidus-slope-dependence.png', dpi=450)"
   ]
  },
  {
   "cell_type": "code",
   "execution_count": null,
   "metadata": {},
   "outputs": [],
   "source": []
  }
 ],
 "metadata": {
  "kernelspec": {
   "display_name": "Python 3",
   "language": "python",
   "name": "python3"
  },
  "language_info": {
   "codemirror_mode": {
    "name": "ipython",
    "version": 3
   },
   "file_extension": ".py",
   "mimetype": "text/x-python",
   "name": "python",
   "nbconvert_exporter": "python",
   "pygments_lexer": "ipython3",
   "version": "3.6.2"
  }
 },
 "nbformat": 4,
 "nbformat_minor": 2
}
