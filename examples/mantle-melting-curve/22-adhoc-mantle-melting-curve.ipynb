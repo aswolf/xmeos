{
 "cells": [
  {
   "cell_type": "markdown",
   "metadata": {},
   "source": [
    "# Integrate melting curve of pure MgSiO3\n",
    "* use direct clapeyron slope integration\n",
    "* electronic contribution ignored due to bug in adiabatic calculation"
   ]
  },
  {
   "cell_type": "code",
   "execution_count": null,
   "metadata": {},
   "outputs": [],
   "source": [
    "%run core.ipynb\n",
    "\n",
    "analysis = load_analysis()\n",
    "liq_eos_hybrid = analysis['liq_eos_hybrid']\n",
    "liq_eos_S11 = analysis['liq_eos_S11']\n",
    "liq_eos_dK09 = analysis['liq_eos_dK09']\n",
    "sol_eos = analysis['sol_eos']\n",
    "\n",
    "P_fus0 = analysis['P_fus0']\n",
    "T_fus0 = analysis['T_fus0']\n",
    "dS_fus_kB = analysis['dS_fus0']\n",
    "S_fus0 = analysis['S_fus0']\n"
   ]
  },
  {
   "cell_type": "code",
   "execution_count": null,
   "metadata": {},
   "outputs": [],
   "source": []
  },
  {
   "cell_type": "code",
   "execution_count": null,
   "metadata": {},
   "outputs": [],
   "source": [
    "PT_fus_Stx09 = pd.read_csv('data/MgSiO3-pure-melt-curve-Stixrude2009.csv')"
   ]
  },
  {
   "cell_type": "code",
   "execution_count": null,
   "metadata": {},
   "outputs": [],
   "source": []
  },
  {
   "cell_type": "markdown",
   "metadata": {},
   "source": [
    "## Calculate melting curve"
   ]
  },
  {
   "cell_type": "code",
   "execution_count": null,
   "metadata": {},
   "outputs": [],
   "source": [
    "def melting_curve_deriv(P, TVlVs, liq_eos, sol_eos, dS_fus_kB=None):\n",
    "    PV_ratio = xmeos.models.CONSTS['PV_ratio']\n",
    "    T, Vliq, Vsol = TVlVs[0], TVlVs[1], TVlVs[2]\n",
    "    # print('P', P, ', T', T, ', Vliq', Vliq, ', Vsol',Vsol)\n",
    "    \n",
    "    if dS_fus_kB is None:\n",
    "        dS = liq_eos.entropy(Vliq, T) - sol_eos.entropy(Vsol, T)\n",
    "    else:\n",
    "        dS = dS_fus_kB*xmeos.models.CONSTS['kboltz']\n",
    "        \n",
    "    # print('T = ',T,'   dS = ', dS)\n",
    "    dV = Vliq - Vsol\n",
    "     \n",
    "    \n",
    "    alpha_sol = sol_eos.thermal_exp(Vsol, T)\n",
    "    alpha_liq = liq_eos.thermal_exp(Vliq, T)\n",
    "    \n",
    "    KT_sol = sol_eos.bulk_mod(Vsol, T)\n",
    "    KT_liq = liq_eos.bulk_mod(Vliq, T)\n",
    "    \n",
    "    dTdP = dV/dS/PV_ratio\n",
    "    # print('  dTdP = ', dTdP)\n",
    "    dVdP_sol = Vsol*(alpha_sol*dTdP - 1.0/KT_sol)\n",
    "    dVdP_liq = Vliq*(alpha_liq*dTdP - 1.0/KT_liq)\n",
    "    TVV_deriv = np.hstack((dTdP, dVdP_liq, dVdP_sol))\n",
    "    return TVV_deriv"
   ]
  },
  {
   "cell_type": "code",
   "execution_count": null,
   "metadata": {},
   "outputs": [],
   "source": []
  },
  {
   "cell_type": "code",
   "execution_count": null,
   "metadata": {},
   "outputs": [],
   "source": [
    "\n",
    "def calc_melting_curve(Pinit, Tinit, liq_eos, sol_eos, \n",
    "                       Pmax=150.0, Pmin=0.0, N=101, Vinit=9.0, \n",
    "                       dS_fus_kB=None):\n",
    "    Vinit_liq = volume(Pinit, Tinit, liq_eos, Vinit=Vinit)\n",
    "    Vinit_sol = volume(Pinit, Tinit, sol_eos)\n",
    "    \n",
    "    # print(liq_eos.press(Vinit_liq, Tinit))\n",
    "    # print(sol_eos.press(Vinit_sol, Tinit))\n",
    "    \n",
    "    deriv_fun = (lambda P, TVlVs, liq_eos=liq_eos, sol_eos=sol_eos, \n",
    "                 dS_fus_kB=dS_fus_kB: (melting_curve_deriv(\n",
    "                     P, TVlVs, liq_eos, sol_eos, dS_fus_kB=dS_fus_kB) ))\n",
    "    \n",
    "    # Vinit = volume(Pinit, Tinit, eos, Vinit=Vinit_guess)\n",
    "    # Vinit = eos.volume(Pinit, Tinit, Vinit_guess)\n",
    "    def zero_temp(t, y): \n",
    "        T, Vliq, Vsol = y[0], y[1], y[2]\n",
    "        dS = liq_eos.entropy(Vliq, T) - sol_eos.entropy(Vsol, T)\n",
    "        if np.isnan(T):\n",
    "            T = 0\n",
    "            \n",
    "        return T\n",
    "    \n",
    "    zero_temp.terminal = True\n",
    "    zero_temp.direction = -1\n",
    "    \n",
    "    def zero_dS_fus(t, y, liq_eos=liq_eos, sol_eos=sol_eos): \n",
    "        T, Vliq, Vsol = y[0], y[1], y[2]\n",
    "        dS = liq_eos.entropy(Vliq, T) - sol_eos.entropy(Vsol, T)\n",
    "        if np.isnan(dS):\n",
    "            dS = 0\n",
    "        \n",
    "        return dS\n",
    "        \n",
    "    \n",
    "    zero_dS_fus.terminal = True\n",
    "    zero_dS_fus.direction = -1\n",
    "    \n",
    "    \n",
    "    P_path = np.linspace(Pinit, Pmax, N)\n",
    "    output = sp.integrate.solve_ivp(deriv_fun, P_path[[0,-1]] , \n",
    "                                    np.array([Tinit, Vinit_liq, Vinit_sol]), \n",
    "                                    t_eval=P_path, vectorized=True, events=[zero_temp, zero_dS_fus])\n",
    "    T_fus_pos, V_fus_liq_pos, V_fus_sol_pos = (\n",
    "        output['y'][0], output['y'][1], output['y'][2])\n",
    "    P_path = output.t\n",
    "    \n",
    "    \n",
    "    P_path_neg = np.linspace(P_fus0, Pmin, N)\n",
    "    output_neg = sp.integrate.solve_ivp(deriv_fun, P_path_neg[[0,-1]] , \n",
    "                                    np.array([Tinit, Vinit_liq, Vinit_sol]), \n",
    "                                    t_eval=P_path_neg, vectorized=True, events=[zero_temp, zero_dS_fus])\n",
    "    T_fus_neg, V_fus_liq_neg, V_fus_sol_neg = (\n",
    "        output_neg['y'][0], output_neg['y'][1], output_neg['y'][2])\n",
    "    \n",
    "    P_path_neg = output_neg.t\n",
    "    \n",
    "    # P_fus = np.hstack((P_path))\n",
    "    # T_fus = np.hstack((T_fus_pos))\n",
    "    # V_fus_liq = np.hstack((V_fus_liq_pos))\n",
    "    # V_fus_sol = np.hstack((V_fus_sol_pos))\n",
    "    \n",
    "    P_fus = np.hstack((P_path_neg[::-1][:-1], P_path))\n",
    "    T_fus = np.hstack((T_fus_neg[::-1][:-1], T_fus_pos))\n",
    "    V_fus_liq = np.hstack((V_fus_liq_neg[::-1][:-1], V_fus_liq_pos))\n",
    "    V_fus_sol = np.hstack((V_fus_sol_neg[::-1][:-1], V_fus_sol_pos))\n",
    "    \n",
    "    return P_fus, T_fus, V_fus_liq, V_fus_sol\n",
    "    "
   ]
  },
  {
   "cell_type": "code",
   "execution_count": null,
   "metadata": {},
   "outputs": [],
   "source": [
    "P_fus0"
   ]
  },
  {
   "cell_type": "code",
   "execution_count": null,
   "metadata": {},
   "outputs": [],
   "source": [
    "T_fus0=2700"
   ]
  },
  {
   "cell_type": "code",
   "execution_count": null,
   "metadata": {},
   "outputs": [],
   "source": [
    "P_fus_S11, T_fus_S11, V_fus_liq_S11, V_fus_sol_S11 = calc_melting_curve(\n",
    "    P_fus0, T_fus0, liq_eos_S11, sol_eos)\n",
    "P_fus_dK09, T_fus_dK09, V_fus_liq_dK09, V_fus_sol_dK09 = calc_melting_curve(\n",
    "    P_fus0, T_fus0, liq_eos_dK09, sol_eos)\n",
    "\n",
    "P_fus_S11_fix, T_fus_S11_fix, V_fus_liq_S11_fix, V_fus_sol_S11_fix = calc_melting_curve(\n",
    "    P_fus0, T_fus0, liq_eos_S11, sol_eos, dS_fus_kB=dS_fus_kB)\n",
    "P_fus_dK09_fix, T_fus_dK09_fix, V_fus_liq_dK09_fix, V_fus_sol_dK09_fix = calc_melting_curve(\n",
    "    P_fus0, T_fus0, liq_eos_dK09, sol_eos, dS_fus_kB=dS_fus_kB)\n",
    "\n"
   ]
  },
  {
   "cell_type": "code",
   "execution_count": null,
   "metadata": {},
   "outputs": [],
   "source": []
  },
  {
   "cell_type": "code",
   "execution_count": null,
   "metadata": {},
   "outputs": [],
   "source": [
    "liq_eos_hybrid0 = liq_eos_hybrid\n",
    "liq_compress_eos = liq_eos_hybrid0.compress_eos\n",
    "liq_thermal_eos = liq_eos_hybrid0.thermal_eos"
   ]
  },
  {
   "cell_type": "code",
   "execution_count": null,
   "metadata": {},
   "outputs": [],
   "source": [
    "liq_eos_hybrid = HybridEos(liq_compress_eos, liq_thermal_eos, \n",
    "                       PTS_fus0=(P_fus0, T_fus0, S_fus0), fix_ref_adiabat=True)"
   ]
  },
  {
   "cell_type": "code",
   "execution_count": null,
   "metadata": {},
   "outputs": [],
   "source": [
    "P_fus_hyb, T_fus_hyb, V_fus_liq_hyb, V_fus_sol_hyb = calc_melting_curve(\n",
    "    P_fus0, T_fus0, liq_eos_hybrid, sol_eos, Pmin = 15)"
   ]
  },
  {
   "cell_type": "code",
   "execution_count": null,
   "metadata": {},
   "outputs": [],
   "source": []
  },
  {
   "cell_type": "code",
   "execution_count": null,
   "metadata": {},
   "outputs": [],
   "source": []
  },
  {
   "cell_type": "code",
   "execution_count": null,
   "metadata": {},
   "outputs": [],
   "source": [
    "# liq_eos_S11.press(V_fus_liq_S11, T_fus_S11)\n",
    "# liq_eos_dK09.press(V_fus_liq_dK09, T_fus_dK09)\n",
    "# sol_eos.press(V_fus_sol_S11, T_fus_S11)\n",
    "# sol_eos.press(V_fus_sol_dK09, T_fus_dK09)"
   ]
  },
  {
   "cell_type": "code",
   "execution_count": null,
   "metadata": {},
   "outputs": [],
   "source": []
  },
  {
   "cell_type": "code",
   "execution_count": null,
   "metadata": {},
   "outputs": [],
   "source": [
    "P_ad_hybrid, V_ad_hybrid, T_ad_hybrid = integrate_adiabat(\n",
    "    P_fus0, T_fus0, liq_eos_hybrid)\n",
    "\n",
    "P_ad_dK09, V_ad_dK09, T_ad_dK09 = integrate_adiabat(\n",
    "    P_fus0, T_fus0, liq_eos_dK09)\n",
    "\n",
    "P_ad_S11, V_ad_S11, T_ad_S11 = integrate_adiabat(\n",
    "    P_fus0, T_fus0, liq_eos_S11)\n",
    "\n",
    "P_sol_ad, V_sol_ad, T_sol_ad = integrate_adiabat(\n",
    "    P_fus0, T_fus0, sol_eos)"
   ]
  },
  {
   "cell_type": "code",
   "execution_count": null,
   "metadata": {},
   "outputs": [],
   "source": []
  },
  {
   "cell_type": "code",
   "execution_count": null,
   "metadata": {},
   "outputs": [],
   "source": [
    "plt.figure()\n",
    "plt.plot(P_fus_hyb, T_fus_hyb, 'k-', lw=2, label='Melt Curve (hybrid)')\n",
    "plt.plot(P_fus_dK09, T_fus_dK09, 'r-', lw=2, label='Melt Curve (dK09)')\n",
    "plt.plot(P_fus_S11, T_fus_S11, 'b-', lw=2, label='Melt Curve (S11)')\n",
    "\n",
    "plt.plot(P_fus_dK09_fix, T_fus_dK09_fix, 'r:', lw=2, label='Melt Curve (dK09-fix)')\n",
    "plt.plot(P_fus_S11_fix, T_fus_S11_fix, 'b:', lw=2, label='Melt Curve (S11-fix)')\n",
    "\n",
    "plt.plot(PT_fus_Stx09['P'], PT_fus_Stx09['T'], 'k:', label='Melt Curve (Stixrude)')\n",
    "\n",
    "\n",
    "plt.plot(P_ad_hybrid, T_ad_hybrid, 'k--', lw=3, label='Adiabat (hybrid)')\n",
    "plt.plot(P_ad_dK09, T_ad_dK09, 'r--', label='Adiabat (dK09)')\n",
    "plt.plot(P_ad_S11, T_ad_S11, 'b--', label='Adiabat (S11)')\n",
    "plt.plot(P_sol_ad, T_sol_ad, 'g-.', label='Adiabat (solid)')\n",
    "\n",
    "\n",
    "plt.title('MgSiO3 Melting curve predictions')\n",
    "plt.xlabel('Pressure  [ GPa ]')\n",
    "plt.ylabel('Temperature  [ K ]')\n",
    "plt.legend()"
   ]
  },
  {
   "cell_type": "code",
   "execution_count": null,
   "metadata": {},
   "outputs": [],
   "source": []
  },
  {
   "cell_type": "code",
   "execution_count": null,
   "metadata": {},
   "outputs": [],
   "source": [
    "P = np.linspace(25,140,31)\n",
    "T_L = (4700-2700)/(140-25)*(P-25)+2700\n",
    "T_S = T_liquidus/1.09"
   ]
  },
  {
   "cell_type": "code",
   "execution_count": null,
   "metadata": {},
   "outputs": [],
   "source": [
    "plt.figure()\n",
    "plt.plot(P, T_L, 'r-', P, T_S, 'b-')"
   ]
  },
  {
   "cell_type": "code",
   "execution_count": null,
   "metadata": {},
   "outputs": [],
   "source": []
  },
  {
   "cell_type": "code",
   "execution_count": null,
   "metadata": {},
   "outputs": [],
   "source": []
  },
  {
   "cell_type": "code",
   "execution_count": null,
   "metadata": {},
   "outputs": [],
   "source": [
    "V_liq_L = np.squeeze(np.array([liq_eos_hybrid.volume(iP, iT) \n",
    "                               for iP,iT in zip(P,T_L)]))\n",
    "V_sol_S = np.squeeze(np.array([volume(iP, iT, sol_eos, Vinit=8)\n",
    "                             for iP,iT in zip(P,T_S)]))"
   ]
  },
  {
   "cell_type": "code",
   "execution_count": null,
   "metadata": {},
   "outputs": [],
   "source": [
    "liq_eos_hybrid.press(V_liq_L, T_L)\n",
    "sol_eos.press(V_sol_S, T_S)"
   ]
  },
  {
   "cell_type": "code",
   "execution_count": null,
   "metadata": {},
   "outputs": [],
   "source": [
    "S_liq_L = liq_eos_hybrid.entropy(V_liq_L, T_L)\n",
    "S_sol_S = sol_eos.entropy(V_sol_S, T_S)"
   ]
  },
  {
   "cell_type": "code",
   "execution_count": null,
   "metadata": {},
   "outputs": [],
   "source": [
    "plt.figure()\n",
    "plt.plot(P, S_liq_L,'r-', P, S_sol_S, 'b--')"
   ]
  },
  {
   "cell_type": "code",
   "execution_count": null,
   "metadata": {},
   "outputs": [],
   "source": [
    "\n",
    "plt.figure()\n",
    "plt.plot(P, (S_liq_L-S_sol_S)/xmeos.models.CONSTS['kboltz'], 'b--')"
   ]
  },
  {
   "cell_type": "code",
   "execution_count": null,
   "metadata": {},
   "outputs": [],
   "source": []
  },
  {
   "cell_type": "code",
   "execution_count": null,
   "metadata": {},
   "outputs": [],
   "source": []
  },
  {
   "cell_type": "code",
   "execution_count": null,
   "metadata": {},
   "outputs": [],
   "source": []
  },
  {
   "cell_type": "code",
   "execution_count": null,
   "metadata": {},
   "outputs": [],
   "source": [
    "\n",
    "\n",
    "S_fus_liq_S11 = liq_eos_S11.entropy(V_fus_liq_S11, T_fus_S11) \n",
    "S_fus_sol_S11 = sol_eos.entropy(V_fus_sol_S11, T_fus_S11) \n",
    "dS_fus_S11 = (S_fus_liq_S11-S_fus_sol_S11)/xmeos.models.CONSTS['kboltz']\n",
    "\n",
    "S_fus_liq_dK09 = liq_eos_dK09.entropy(V_fus_liq_dK09, T_fus_dK09) \n",
    "S_fus_sol_dK09 = sol_eos.entropy(V_fus_sol_dK09, T_fus_dK09)\n",
    "dS_fus_dK09 = (S_fus_liq_dK09-S_fus_sol_dK09)/xmeos.models.CONSTS['kboltz']\n",
    "\n",
    "S_fus_liq_hyb = liq_eos_hybrid.entropy(V_fus_liq_hyb, T_fus_hyb) \n",
    "S_fus_sol_hyb = sol_eos.entropy(V_fus_sol_hyb, T_fus_hyb)\n",
    "dS_fus_hyb = (S_fus_liq_hyb-S_fus_sol_hyb)/xmeos.models.CONSTS['kboltz']\n"
   ]
  },
  {
   "cell_type": "code",
   "execution_count": null,
   "metadata": {},
   "outputs": [],
   "source": [
    "\n",
    "plt.figure()\n",
    "\n",
    "plt.plot(P_fus_dK09, dS_fus_dK09, 'r--')\n",
    "plt.plot(P_fus_S11, dS_fus_S11, 'b--')\n",
    "plt.plot(P_fus_hyb, dS_fus_hyb, 'k--')\n",
    "\n",
    "plt.xlabel('Pressure  [ GPa ]')\n",
    "plt.ylabel('dS_fus  [ $k_B$ ]')\n"
   ]
  },
  {
   "cell_type": "code",
   "execution_count": null,
   "metadata": {},
   "outputs": [],
   "source": []
  },
  {
   "cell_type": "code",
   "execution_count": null,
   "metadata": {},
   "outputs": [],
   "source": []
  }
 ],
 "metadata": {
  "kernelspec": {
   "display_name": "Python 3",
   "language": "python",
   "name": "python3"
  },
  "language_info": {
   "codemirror_mode": {
    "name": "ipython",
    "version": 3
   },
   "file_extension": ".py",
   "mimetype": "text/x-python",
   "name": "python",
   "nbconvert_exporter": "python",
   "pygments_lexer": "ipython3",
   "version": "3.6.2"
  }
 },
 "nbformat": 4,
 "nbformat_minor": 2
}
