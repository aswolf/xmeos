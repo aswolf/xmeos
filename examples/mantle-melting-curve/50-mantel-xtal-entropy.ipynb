{
 "cells": [
  {
   "cell_type": "code",
   "execution_count": null,
   "metadata": {},
   "outputs": [],
   "source": [
    "import numpy as np\n",
    "import matplotlib.pyplot as plt\n",
    "import copy\n",
    "\n",
    "%matplotlib inline\n"
   ]
  },
  {
   "cell_type": "code",
   "execution_count": null,
   "metadata": {},
   "outputs": [],
   "source": [
    "from scipy import random\n",
    "from scipy import stats"
   ]
  },
  {
   "cell_type": "code",
   "execution_count": null,
   "metadata": {},
   "outputs": [],
   "source": [
    "import thermoengine\n",
    "from thermoengine import chem\n",
    "\n",
    "        "
   ]
  },
  {
   "cell_type": "code",
   "execution_count": null,
   "metadata": {},
   "outputs": [],
   "source": []
  },
  {
   "cell_type": "code",
   "execution_count": null,
   "metadata": {},
   "outputs": [],
   "source": [
    "chem.oxide_props['oxides']"
   ]
  },
  {
   "cell_type": "code",
   "execution_count": null,
   "metadata": {},
   "outputs": [],
   "source": []
  },
  {
   "cell_type": "code",
   "execution_count": null,
   "metadata": {},
   "outputs": [],
   "source": [
    "# Load BSE composition from Lyubetskaya2007\n",
    "oxide_names = np.array(['SiO2', 'Al2O3', 'FeO', 'MgO', 'CaO', 'Na2O'] )\n",
    "elem_names = np.array(['Si', 'Al', 'Fe', 'Mg', 'Ca', 'Na', 'O'] )\n",
    "MOL_OXIDE_TO_ELEM = np.array([\n",
    "    [1,0,0,0,0,0,2],\n",
    "    [0,2,0,0,0,0,3],\n",
    "    [0,0,1,0,0,0,1],\n",
    "    [0,0,0,1,0,0,1],\n",
    "    [0,0,0,0,1,0,1],\n",
    "    [0,0,0,0,0,2,1],\n",
    "])\n",
    "oxide_wts = np.array([60.0848, 101.96128, 71.8464, 40.3044, 56.0794, 61.97894])\n"
   ]
  },
  {
   "cell_type": "code",
   "execution_count": null,
   "metadata": {},
   "outputs": [],
   "source": [
    "oxide_wts_BSE = np.array([44.95, 3.52, 7.97, 39.50, 2.79, 0.298])\n",
    "\n",
    "mol_oxides_BSE = oxide_wts_BSE/oxide_wts\n",
    "mol_oxides_BSE = mol_oxides_BSE /np.sum(mol_oxides_BSE )\n",
    "mol_oxides_BSE"
   ]
  },
  {
   "cell_type": "code",
   "execution_count": null,
   "metadata": {},
   "outputs": [],
   "source": [
    "mol_elems_BSE = np.dot(mol_oxides_BSE, MOL_OXIDE_TO_ELEM)\n",
    "mol_elems_BSE = mol_elems_BSE/np.sum(mol_elems_BSE)\n",
    "mol_elems_BSE"
   ]
  },
  {
   "cell_type": "code",
   "execution_count": null,
   "metadata": {},
   "outputs": [],
   "source": [
    "mol_oxides_Brg = np.array([1,0,0,1,0,0])\n",
    "mol_oxides_Brg = mol_oxides_Brg/np.sum(mol_oxides_Brg)\n",
    "mol_elems_Brg = np.dot(mol_oxides_Brg, MOL_OXIDE_TO_ELEM)\n",
    "mol_elems_Brg = mol_elems_Brg/np.sum(mol_elems_Brg)\n",
    "\n",
    "mol_elems_Brg"
   ]
  },
  {
   "cell_type": "code",
   "execution_count": null,
   "metadata": {},
   "outputs": [],
   "source": [
    "elem_ratio = mol_elems_BSE/mol_elems_Brg\n",
    "ind_limit = np.argmin(elem_ratio)\n",
    "frac_Brg = elem_ratio[ind_limit]\n",
    "frac_Brg\n"
   ]
  },
  {
   "cell_type": "code",
   "execution_count": null,
   "metadata": {},
   "outputs": [],
   "source": []
  },
  {
   "cell_type": "code",
   "execution_count": null,
   "metadata": {},
   "outputs": [],
   "source": [
    "mol_elems_Resid = mol_elems_BSE-frac_Brg*mol_elems_Brg\n",
    "mol_elems_Resid = mol_elems_Resid/(1-frac_Brg)\n",
    "np.sum(mol_elems_Resid)"
   ]
  },
  {
   "cell_type": "code",
   "execution_count": null,
   "metadata": {},
   "outputs": [],
   "source": [
    "mol_elems_Resid"
   ]
  },
  {
   "cell_type": "code",
   "execution_count": null,
   "metadata": {},
   "outputs": [],
   "source": [
    "elem_names"
   ]
  },
  {
   "cell_type": "code",
   "execution_count": null,
   "metadata": {},
   "outputs": [],
   "source": [
    "mol_cats_BSE = mol_elems_BSE[:-1]/(1-mol_elems_BSE[-1])\n",
    "mol_cats_Brg = mol_elems_Brg[:-1]/(1-mol_elems_Brg[-1])\n",
    "mol_cats_Resid = mol_elems_Resid[:-1]/(1-mol_elems_Resid[-1])\n",
    "\n",
    "\n",
    "print('mol_cats_BSE = ', mol_cats_BSE)\n",
    "display()\n",
    "print('mol_cats_Brg = ')\n",
    "display(mol_cats_Brg)\n",
    "print('mol_cats_Resid = ')\n",
    "display(mol_cats_Resid)"
   ]
  },
  {
   "cell_type": "code",
   "execution_count": null,
   "metadata": {},
   "outputs": [],
   "source": [
    "import pandas as pd\n",
    "mantle_comp_df = pd.DataFrame([\n",
    "    pd.Series(data=mol_cats_BSE, index=elem_names[:-1]),\n",
    "    pd.Series(data=mol_cats_Brg, index=elem_names[:-1]),\n",
    "    pd.Series(data=mol_cats_Resid, index=elem_names[:-1])],\n",
    "    index=['BSE','Brg','Resid']).T\n",
    "display(mantle_comp_df)\n",
    "print('frac_Brg = ', frac_Brg)"
   ]
  },
  {
   "cell_type": "code",
   "execution_count": null,
   "metadata": {},
   "outputs": [],
   "source": []
  },
  {
   "cell_type": "code",
   "execution_count": null,
   "metadata": {},
   "outputs": [],
   "source": [
    "oxide_data = mantlemelt.get_oxide_data()\n",
    "morb_comp_d = mantlemelt.get_comp(kind='morb')\n",
    "mantle_comp_d = mantlemelt.get_comp(kind='mantle')\n",
    "mgsio3_comp_d =  mantlemelt.get_comp(kind='mgsio3')\n",
    "mgfesio3_comp_d =  mantlemelt.get_comp(kind='mgfesio3')\n",
    "chondrite_comp_d = mantlemelt.get_comp(kind='chondrite')\n"
   ]
  },
  {
   "cell_type": "code",
   "execution_count": null,
   "metadata": {},
   "outputs": [],
   "source": []
  },
  {
   "cell_type": "code",
   "execution_count": null,
   "metadata": {},
   "outputs": [],
   "source": [
    "\n",
    "ncat = np.sum(morb_comp_d['catoxy_ratio'])\n",
    "print('oxy fraction  = ', 1/(1+ncat))\n",
    "morb_comp_d"
   ]
  },
  {
   "cell_type": "code",
   "execution_count": null,
   "metadata": {},
   "outputs": [],
   "source": []
  },
  {
   "cell_type": "code",
   "execution_count": null,
   "metadata": {},
   "outputs": [],
   "source": [
    "mantle_comp_d"
   ]
  },
  {
   "cell_type": "code",
   "execution_count": null,
   "metadata": {},
   "outputs": [],
   "source": [
    "mantle_comp_d"
   ]
  },
  {
   "cell_type": "code",
   "execution_count": null,
   "metadata": {},
   "outputs": [],
   "source": [
    "mgsio3_comp_d"
   ]
  },
  {
   "cell_type": "code",
   "execution_count": null,
   "metadata": {},
   "outputs": [],
   "source": [
    "compB_d = mgsio3_comp_d\n",
    "compM_d = mantle_comp_d\n",
    "compR_d, molR = mantlemelt.get_comp_residual(compM_d, compB_d)\n",
    "print('moles of residual = ', molR)\n",
    "compR_d"
   ]
  },
  {
   "cell_type": "code",
   "execution_count": null,
   "metadata": {},
   "outputs": [],
   "source": [
    "X=1\n",
    "CNwid = 0.5\n",
    "Smix0, compX_d = mantlemelt.calc_binary_mixing_entropy(0, compR_d, compB_d, CNwid=CNwid)\n",
    "Smix1, compX_d = mantlemelt.calc_binary_mixing_entropy(1, compR_d, compB_d, CNwid=CNwid)\n",
    "print(Smix0-Smix1)\n",
    "compX_d"
   ]
  },
  {
   "cell_type": "code",
   "execution_count": null,
   "metadata": {},
   "outputs": [],
   "source": []
  },
  {
   "cell_type": "code",
   "execution_count": null,
   "metadata": {},
   "outputs": [],
   "source": []
  },
  {
   "cell_type": "code",
   "execution_count": null,
   "metadata": {},
   "outputs": [],
   "source": [
    "(compB_d['mol']+compR_d['mol']*molR)/(1+molR)"
   ]
  },
  {
   "cell_type": "code",
   "execution_count": null,
   "metadata": {},
   "outputs": [],
   "source": [
    "compM_d['mol']"
   ]
  },
  {
   "cell_type": "code",
   "execution_count": null,
   "metadata": {},
   "outputs": [],
   "source": []
  },
  {
   "cell_type": "code",
   "execution_count": null,
   "metadata": {},
   "outputs": [],
   "source": [
    "compB_d['catoxy_ratio']"
   ]
  },
  {
   "cell_type": "code",
   "execution_count": null,
   "metadata": {},
   "outputs": [],
   "source": [
    "compM_d['catoxy_ratio']"
   ]
  },
  {
   "cell_type": "code",
   "execution_count": null,
   "metadata": {},
   "outputs": [],
   "source": []
  },
  {
   "cell_type": "code",
   "execution_count": null,
   "metadata": {},
   "outputs": [],
   "source": [
    "ind_limit = np.argmin(compM_d['mol']-compB_d['mol'])\n",
    "\n",
    "if compM_d['mol'][ind_limit]< compB_d['mol'][ind_limit]:\n",
    "    source_fac = compB_d['mol'][ind_limit]/compM_d['mol'][ind_limit]\n",
    "    compR_mol = source_fac*compM_d['mol']-compB_d['mol']\n",
    "        \n",
    "print(source_fac)\n",
    "print(source_fac-1)\n",
    "compR_mol *= 100/np.sum(compR_mol)\n",
    "compR_mol\n"
   ]
  },
  {
   "cell_type": "code",
   "execution_count": null,
   "metadata": {},
   "outputs": [],
   "source": [
    "compR_mol_d = dict([(ox,molox) for ox, molox in zip(compM_d['oxides'], compR_mol)])\n",
    "compR_d = mantlemelt.calc_comp_details(compR_mol_d, kind='mol')\n",
    "compR_d"
   ]
  },
  {
   "cell_type": "code",
   "execution_count": null,
   "metadata": {},
   "outputs": [],
   "source": [
    "CNwid_avg = 1e-6\n",
    "CNwid_avg = 2\n",
    "CNwid_avg = 3./4\n",
    "\n",
    "\n",
    "CNwid_a = CNwid_avg\n",
    "# CNwid_a = np.array([3./4, .20, .20, .20, .20, .20])"
   ]
  },
  {
   "cell_type": "code",
   "execution_count": null,
   "metadata": {},
   "outputs": [],
   "source": [
    "mixing_binary_mant_d = mantlemelt.calc_mixing_entropy_binary(mgsio3_comp_d,mantle_comp_d,CNwid_a=CNwid_a)\n",
    "mixing_binary_chon_d = mantlemelt.calc_mixing_entropy_binary(mgsio3_comp_d,chondrite_comp_d,CNwid_a=CNwid_a)\n",
    "mixing_binary_morb_d = mantlemelt.calc_mixing_entropy_binary(mgsio3_comp_d,morb_comp_d,CNwid_a=CNwid_a)\n",
    "\n"
   ]
  },
  {
   "cell_type": "code",
   "execution_count": null,
   "metadata": {},
   "outputs": [],
   "source": [
    "mgsio3_comp_d"
   ]
  },
  {
   "cell_type": "code",
   "execution_count": null,
   "metadata": {},
   "outputs": [],
   "source": [
    "mantle_comp_d"
   ]
  },
  {
   "cell_type": "code",
   "execution_count": null,
   "metadata": {},
   "outputs": [],
   "source": []
  },
  {
   "cell_type": "code",
   "execution_count": null,
   "metadata": {},
   "outputs": [],
   "source": [
    "mixing_binary_mant_d['Natom_a']"
   ]
  },
  {
   "cell_type": "code",
   "execution_count": null,
   "metadata": {},
   "outputs": [],
   "source": [
    "mixing_binary_mant_d.keys()"
   ]
  },
  {
   "cell_type": "code",
   "execution_count": null,
   "metadata": {},
   "outputs": [],
   "source": [
    "plt.plot(mixing_binary_mant_d['X_a'],mixing_binary_mant_d['S_a'],'k-')\n",
    "dS_mant = mixing_binary_mant_d['S_a'][-1]-mixing_binary_mant_d['S_a'][0]\n",
    "plt.ylabel('Entropy of Mixing')\n",
    "plt.xlabel('Composition')\n",
    "ax = plt.gca()\n",
    "xticks = np.array([0,.2,.4,.6,.8,1.0])\n",
    "xticklbls = xticks.tolist()\n",
    "xticklbls[0] = 'MgSiO3'\n",
    "xticklbls[-1] = 'Pyrolite'\n",
    "ax.set_xticks(xticks)\n",
    "ax.set_xticklabels(xticklbls)\n",
    "plt.title('dS = '+str(dS_mant))\n"
   ]
  },
  {
   "cell_type": "code",
   "execution_count": null,
   "metadata": {},
   "outputs": [],
   "source": []
  },
  {
   "cell_type": "code",
   "execution_count": null,
   "metadata": {},
   "outputs": [],
   "source": [
    "Vratio = 0.7\n",
    "idealgas_binary_chon_d = mantlemelt.calc_idealgas_entropy_binary(mgsio3_comp_d,chondrite_comp_d,Vratio=Vratio)\n",
    "\n",
    "plt.plot(idealgas_binary_chon_d['X_a'],idealgas_binary_chon_d['S_a'],'k-',\n",
    "         idealgas_binary_chon_d['X_a'],idealgas_binary_chon_d['S_partialA_a'],'r--')\n",
    "\n",
    "print(idealgas_binary_chon_d['dS_partialA'])\n",
    "print(idealgas_binary_chon_d['dS_partialA']/1.5)"
   ]
  },
  {
   "cell_type": "code",
   "execution_count": null,
   "metadata": {},
   "outputs": [],
   "source": [
    "\n"
   ]
  },
  {
   "cell_type": "code",
   "execution_count": null,
   "metadata": {},
   "outputs": [],
   "source": [
    "mixing_binary_mgfepv_chon_d = mantlemelt.calc_mixing_entropy_binary(mgfesio3_comp_d,chondrite_comp_d,CNwid_a=CNwid_a)\n",
    "plt.plot(mixing_binary_mgfepv_chon_d['X_a'],mixing_binary_mgfepv_chon_d['S_a'],'k-',\n",
    "         mixing_binary_mgfepv_chon_d['X_a'],mixing_binary_mgfepv_chon_d['S_partialA_a'],'r--')\n",
    "\n",
    "print(mixing_binary_mgfepv_chon_d['dS_partialA'])\n",
    "print(mixing_binary_mgfepv_chon_d['dS_partialA']/1.5)\n"
   ]
  },
  {
   "cell_type": "code",
   "execution_count": null,
   "metadata": {},
   "outputs": [],
   "source": [
    "plt.plot(mixing_binary_chon_d['X_a'],mixing_binary_chon_d['S_a'],'k-',\n",
    "         mixing_binary_chon_d['X_a'],mixing_binary_chon_d['S_partialA_a'],'r--')\n",
    "\n",
    "print(mixing_binary_chon_d['dS_partialA'])\n",
    "print(mixing_binary_chon_d['dS_partialA']/1.5)"
   ]
  },
  {
   "cell_type": "code",
   "execution_count": null,
   "metadata": {},
   "outputs": [],
   "source": [
    "plt.plot(mixing_binary_mant_d['X_a'],mixing_binary_mant_d['S_a'],'k-',\n",
    "         mixing_binary_mant_d['X_a'],mixing_binary_mant_d['S_partialA_a'],'r--')\n",
    "print(mixing_binary_mant_d['dS_partialA'])\n",
    "print(mixing_binary_mant_d['dS_partialA']/1.5)"
   ]
  },
  {
   "cell_type": "code",
   "execution_count": null,
   "metadata": {},
   "outputs": [],
   "source": [
    "plt.plot(mixing_binary_morb_d['X_a'],mixing_binary_morb_d['S_a'],'k-',\n",
    "         mixing_binary_morb_d['X_a'],mixing_binary_morb_d['S_partialA_a'],'r--')\n",
    "\n",
    "print(mixing_binary_morb_d['dS_partialA'])\n",
    "print(mixing_binary_morb_d['dS_partialA']/1.5)"
   ]
  },
  {
   "cell_type": "code",
   "execution_count": null,
   "metadata": {},
   "outputs": [],
   "source": [
    "# Calculate tangent for partial molar quantity\n",
    "X_a = mixing_binary_mant_d['X_a']\n",
    "X_mantle = 1-.01*frac_mgsio3_cat_mantle\n",
    "dX = X_a[1]-X_a[0]\n",
    "dSdX_a = np.gradient(S_a,dX)\n",
    "dSdX_mant = np.interp(X_mantle,X_a,dSdX_a)\n",
    "S_mant = np.interp(X_mantle,X_a,S_a)\n",
    "S_partial_mgsio3_a = S_mant+dSdX_mant*(X_a-X_mantle)\n",
    "\n",
    "dS_partial = S_partial_mgsio3_a[0]-S_a[0]\n",
    "print(dS_partial)\n",
    "\n",
    "\n",
    "plt.plot(X_a,S_a,'k-')\n",
    "plt.plot(X_a,S_partial_mgsio3_a,'r--')\n",
    "ylim_a = plt.ylim()\n",
    "plt.plot([X_mantle,X_mantle],ylim_a,'-',color=[.7,.7,.7])\n",
    "plt.xlim(-.05,1.05)\n",
    "plt.xlim(0,1)\n",
    "xticks_a = plt.xticks()[0]\n",
    "xticklbl = [str(x) for x in xticks_a]\n",
    "xticklbl[0] = '0.0\\n' r'MgSiO$_3$'\n",
    "xticklbl[-1] = '1.0\\n' r'Pyr-MgSiO$_3$'\n",
    "xticks_all_a = np.hstack((xticks_a,X_mantle))\n",
    "xticklbl.append('\\nmantle')\n",
    "xticklbl_a = np.array(xticklbl)\n",
    "inds_a = np.argsort(xticks_all_a)\n",
    "# print(xticks_all_a[inds_a])\n",
    "# print(xticklbl_a[inds_a])\n",
    "# plt.xticks(np.hstack((xticks_a,X_mantle)),xticklbl.append('mantle'))\n",
    "plt.xticks(xticks_all_a[inds_a],xticklbl_a[inds_a])\n",
    "plt.ylim(ylim_a)\n",
    "# plt.ylim(0.5,1.75)\n",
    "plt.xlabel('Composition',fontsize=15)\n",
    "plt.ylabel(r'$S_{\\rm {mix}} / N k_B$',fontsize=20)\n",
    "plt.savefig('figs/mantle-mixing-entropy-ideal-cation.png',bbox_inches='tight',dpi=450)"
   ]
  },
  {
   "cell_type": "code",
   "execution_count": null,
   "metadata": {},
   "outputs": [],
   "source": [
    "# Calculate tangent for partial molar quantity\n",
    "dX = X_a[1]-X_a[0]\n",
    "dSdX_a = np.gradient(S_a,dX)\n",
    "dSdX_mant = np.interp(1.0,X_a,dSdX_a)\n",
    "dSdX_mant = dSdX_a[-1]\n",
    "S_mant = np.interp(1.0,X_a,S_a)\n",
    "S_mant = S_a[-1]\n",
    "S_partial_mgsio3_a = S_mant+dSdX_mant*(X_a-1.0)\n",
    "\n",
    "dS_partial = S_partial_mgsio3_a[0]-S_a[0]\n",
    "print(dS_partial)\n",
    "\n",
    "\n",
    "plt.plot(X_a,S_a,'k-')\n",
    "plt.plot(X_a,S_partial_mgsio3_a,'r--')\n",
    "ylim_a = plt.ylim()\n",
    "plt.xlim(-.05,1.05)\n",
    "plt.xlim(0,1)\n",
    "xticks_a = plt.xticks()[0]\n",
    "xticklbl = [str(x) for x in xticks_a]\n",
    "xticklbl[0] = '0.0\\n' r'MgSiO$_3$'\n",
    "xticklbl[-1] = '1.0\\n' r'Mantle'\n",
    "# print(xticks_all_a[inds_a])\n",
    "# print(xticklbl_a[inds_a])\n",
    "# plt.xticks(np.hstack((xticks_a,X_mantle)),xticklbl.append('mantle'))\n",
    "plt.xticks(xticks_a,xticklbl)\n",
    "plt.ylim(ylim_a)\n",
    "# plt.ylim(0.5,1.75)\n",
    "plt.xlabel('Composition',fontsize=15)\n",
    "plt.ylabel(r'$S_{\\rm {mix}} / N k_B$',fontsize=20)\n",
    "plt.savefig('figs/mantle-mixing-entropy-ideal-cation.png',bbox_inches='tight',dpi=450)"
   ]
  },
  {
   "cell_type": "code",
   "execution_count": null,
   "metadata": {},
   "outputs": [],
   "source": [
    "# Vratio_max = .7 # leads to ideal gas component similar to entropy of mixing component\n",
    "Vratio_max = .7\n",
    "Vratio_max = .6\n",
    "Vratio_a = (1-X_a)*1 + X_a*Vratio_max\n",
    "dS_gas_a = np.log(Vratio_a)\n",
    "dSdX_gas_a = np.gradient(dS_gas_a,dX)\n",
    "\n",
    "dSdX_gas_mant = dSdX_gas_a[-1]\n",
    "S_gas_mant = dS_gas_a[-1]\n",
    "S_partial_gas_mgsio3_a = S_gas_mant+dSdX_gas_mant*(X_a-1.0)\n",
    "dS_partial_gas = S_partial_gas_mgsio3_a[0]-dS_gas_a[0]\n",
    "\n",
    "\n",
    "print(dS_partial_gas)\n",
    "\n",
    "plt.plot(X_a,dS_gas_a,'k-')\n",
    "plt.plot(X_a,S_partial_gas_mgsio3_a,'r--')\n"
   ]
  },
  {
   "cell_type": "code",
   "execution_count": null,
   "metadata": {},
   "outputs": [],
   "source": [
    "plt.plot(X_a, 1-(1-X_a)/(1-.5*X_a),'r-',X_a,X_a,'k--')"
   ]
  },
  {
   "cell_type": "code",
   "execution_count": null,
   "metadata": {},
   "outputs": [],
   "source": []
  },
  {
   "cell_type": "code",
   "execution_count": null,
   "metadata": {},
   "outputs": [],
   "source": [
    "#\n",
    "1500/1.3"
   ]
  },
  {
   "cell_type": "code",
   "execution_count": null,
   "metadata": {},
   "outputs": [],
   "source": [
    "2500/1.252500/1.25"
   ]
  },
  {
   "cell_type": "code",
   "execution_count": null,
   "metadata": {},
   "outputs": [],
   "source": []
  },
  {
   "cell_type": "code",
   "execution_count": null,
   "metadata": {},
   "outputs": [],
   "source": []
  }
 ],
 "metadata": {
  "anaconda-cloud": {},
  "kernelspec": {
   "display_name": "Python 3",
   "language": "python",
   "name": "python3"
  },
  "language_info": {
   "codemirror_mode": {
    "name": "ipython",
    "version": 3
   },
   "file_extension": ".py",
   "mimetype": "text/x-python",
   "name": "python",
   "nbconvert_exporter": "python",
   "pygments_lexer": "ipython3",
   "version": "3.6.2"
  }
 },
 "nbformat": 4,
 "nbformat_minor": 1
}
