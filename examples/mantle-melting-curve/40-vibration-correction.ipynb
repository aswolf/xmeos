{
 "cells": [
  {
   "cell_type": "code",
   "execution_count": null,
   "metadata": {},
   "outputs": [],
   "source": [
    "import numpy as np\n",
    "import matplotlib.pyplot as plt"
   ]
  },
  {
   "cell_type": "code",
   "execution_count": null,
   "metadata": {},
   "outputs": [],
   "source": []
  },
  {
   "cell_type": "code",
   "execution_count": null,
   "metadata": {},
   "outputs": [],
   "source": [
    "def pair_pot(dist, params_ij, deriv=0):\n",
    "    k_coul = 14.39965 # eV*Ang\n",
    "    \n",
    "    q1 = params_ij['q1']\n",
    "    q2 = params_ij['q2']\n",
    "    B = params_ij['B']\n",
    "    rho = params_ij['rho']\n",
    "    C = params_ij['C']\n",
    "    \n",
    "    if deriv==0:\n",
    "        E   = +  k_coul*q1*q2/dist    + B       *np.exp(-dist/rho) -    C/dist**6\n",
    "        result = E\n",
    "    elif deriv==1:\n",
    "        dE  = -  k_coul*q1*q2/dist**2 - B/rho   *np.exp(-dist/rho) + 6* C/dist**7\n",
    "        result = dE\n",
    "    elif deriv==2:\n",
    "        d2E = +2*k_coul*q1*q2/dist**3 + B/rho**2*np.exp(-dist/rho) - 42*C/dist**8\n",
    "        result = d2E\n",
    "        \n",
    "    return result\n",
    "    \n",
    "def force_const_term(cn, dist, params_ij):\n",
    "    ang_bohr = 0.529177208\n",
    "    eV_Ha = 27.211396\n",
    "    \n",
    "    dE = pair_pot(dist, params_ij, deriv=1)\n",
    "    d2E = pair_pot(dist, params_ij, deriv=2)\n",
    "    const = cn/6*(d2E + 2/dist*dE)\n",
    "    const *= ang_bohr**2/eV_Ha # change to atomic units\n",
    "    return const\n",
    "\n",
    "def total_force_const(pair_names, cn_pairs, dist_pairs, params):\n",
    "    force_const_pairs = []\n",
    "    \n",
    "    for pair in pair_names:\n",
    "        cn = cn_pairs[pair]\n",
    "        dist = dist_pairs[pair]\n",
    "        params_ij = params[pair]\n",
    "        print('\\n -- ', pair, ' --')\n",
    "        print('cn = ', cn)\n",
    "        print('dist = ', dist)\n",
    "        \n",
    "        k_i = force_const_term(cn, dist, params_ij)\n",
    "        force_const_pairs.append(k_i)\n",
    "        \n",
    "    force_const_pairs = np.array(force_const_pairs)\n",
    "    \n",
    "    print('k_pairs = ', force_const_pairs)\n",
    "    print('rel k_pairs = ', force_const_pairs/force_const_pairs[-1])\n",
    "    force_const = np.sum(force_const_pairs)\n",
    "        \n",
    "    return force_const"
   ]
  },
  {
   "cell_type": "code",
   "execution_count": null,
   "metadata": {},
   "outputs": [],
   "source": [
    "\n",
    "def reverse_pair(pair, return_atoms=False):\n",
    "    atoms = str.split(pair, '-')\n",
    "    atoms_rev = atoms[::-1]\n",
    "    pair_rev = atoms_rev[0]+'-'+atoms_rev[1]\n",
    "    \n",
    "    if return_atoms:\n",
    "        return pair_rev, atoms[0], atoms[1]\n",
    "    else:\n",
    "        return pair_rev\n",
    "\n",
    "def init_param_pairs(params):\n",
    "    pair_names = [pair for pair in params]\n",
    "    for pair in pair_names:\n",
    "        pair_rev = reverse_pair(pair)\n",
    "        \n",
    "        if pair_rev != pair:\n",
    "            params[pair_rev] = params[pair]\n",
    "            \n",
    "    \n",
    "def init_cn_pairs(cn_pairs, comp):\n",
    "    pair_names = [pair for pair in cn_pairs]\n",
    "    for pair in pair_names:\n",
    "        pair_rev, atom_i, atom_j = reverse_pair(\n",
    "            pair, return_atoms=True)\n",
    "        \n",
    "        cn = cn_pairs[pair]\n",
    "        if pair_rev != pair:\n",
    "            cn_rev = cn*comp[atom_i]/comp[atom_j]\n",
    "            cn_pairs[pair_rev] = cn_rev\n",
    "    "
   ]
  },
  {
   "cell_type": "code",
   "execution_count": null,
   "metadata": {},
   "outputs": [],
   "source": []
  },
  {
   "cell_type": "code",
   "execution_count": null,
   "metadata": {},
   "outputs": [],
   "source": []
  },
  {
   "cell_type": "code",
   "execution_count": null,
   "metadata": {},
   "outputs": [],
   "source": []
  },
  {
   "cell_type": "code",
   "execution_count": null,
   "metadata": {},
   "outputs": [],
   "source": [
    "# Oganov2000 model\n",
    "params_O2000 = {}\n",
    "params_O2000['O-Mg']= {'q1':+1.9104, 'q2':-1.6049, 'B':1041.435, \n",
    "                      'rho':0.2866, 'C':0 }\n",
    "params_O2000['O-Si']= { 'q1':+2.9043, 'q2':-1.6049, 'B':1137.028,\n",
    "                      'rho':0.2827, 'C':0 }\n",
    "\n",
    "params_O2000['O-O']= { 'q1':-1.6049, 'q2':-1.6049, 'B':2023.8,\n",
    "                     'rho':0.2674, 'C':13.83 }\n",
    "\n",
    "init_param_pairs(params_O2000)\n",
    "\n",
    "# display(params_O2000)\n",
    "\n",
    "# params_G2007 = {}"
   ]
  },
  {
   "cell_type": "code",
   "execution_count": null,
   "metadata": {},
   "outputs": [],
   "source": [
    "# Guillot2007 model\n",
    "eV_kJ_mol = 0.0103642688\n",
    "\n",
    "\n",
    "params_G2007 = {}\n",
    "params_G2007['O-Mg']= { 'q1':+0.945, 'q2':-0.945, 'B':3150507.4*eV_kJ_mol, \n",
    "                      'rho':0.178, 'C':2632.22*eV_kJ_mol }\n",
    "params_G2007['O-Si']= { 'q1':+1.89, 'q2':-0.945, 'B':4853815.5*eV_kJ_mol,\n",
    "                      'rho':0.161, 'C':4467.07*eV_kJ_mol }\n",
    "params_G2007['O-Ti']= { 'q1':+1.89, 'q2':-0.945, 'B':4836495.0*eV_kJ_mol,\n",
    "                      'rho':0.178, 'C':4467.07*eV_kJ_mol }\n",
    "params_G2007['O-Al']= { 'q1':+1.4175, 'q2':-0.945, 'B':2753544.3*eV_kJ_mol,\n",
    "                      'rho':0.172, 'C':3336.26*eV_kJ_mol }\n",
    "params_G2007['O-Fe']= { 'q1':+0.945, 'q2':-0.945, 'B':1257488.6*eV_kJ_mol,\n",
    "                      'rho':0.190, 'C':0.0 }\n",
    "params_G2007['O-Ca']= { 'q1':+0.945, 'q2':-0.945, 'B':15019679.1*eV_kJ_mol,\n",
    "                      'rho':0.178, 'C':4077.45*eV_kJ_mol }\n",
    "params_G2007['O-Na']= { 'q1':+0.4725, 'q2':-0.945, 'B':11607587.5*eV_kJ_mol,\n",
    "                      'rho':0.170, 'C':0.0 }\n",
    "params_G2007['O-K']= { 'q1':+0.4725, 'q2':-0.945, 'B':220447.4*eV_kJ_mol,\n",
    "                     'rho':0.290, 'C':0.0 }\n",
    "\n",
    "params_G2007['O-O']= { 'q1':-0.945, 'q2':-0.945, 'B':870570.0*eV_kJ_mol,\n",
    "                     'rho':0.265, 'C':8210.17*eV_kJ_mol }\n",
    "\n",
    "\n",
    "init_param_pairs(params_G2007)\n",
    "# display(params_G2007)"
   ]
  },
  {
   "cell_type": "code",
   "execution_count": null,
   "metadata": {},
   "outputs": [],
   "source": []
  },
  {
   "cell_type": "code",
   "execution_count": null,
   "metadata": {},
   "outputs": [],
   "source": [
    "################################\n",
    "#  Bridgmanite composition\n",
    "################################\n",
    "pair_names_Brg = ['O-O','O-Mg','O-Si']\n",
    "comp_Brg = {'Mg':1./5, 'Si':1./5, 'O':3./5}\n",
    "\n",
    "\n",
    "################################\n",
    "#  Simplified BSE composition\n",
    "################################\n",
    "pair_names_BSE = ['O-O','O-Ca','O-Na','O-Mg','O-Fe','O-Al','O-Si']\n",
    "elems = ['Si', 'Al', 'Fe', 'Mg', 'Ca', 'Na', \n",
    "         'Ti', 'Cr', 'Mn', 'Ni', 'K', 'P', 'O']\n",
    "elem_names_BSE = np.hstack((elems[:6], elems[-1]))\n",
    "         \n",
    "mol_elems_BSE = np.array([\n",
    "    1.57718368e-01, 1.45564200e-02, 2.33867841e-02, 2.06614993e-01,\n",
    "    1.04886125e-02, 2.02730603e-03, 4.16902047e-04, 1.06805185e-03,\n",
    "    3.89325837e-04, 7.11119339e-04, 1.02954500e-04, 4.45573980e-05,\n",
    "    5.82474606e-01])\n",
    "\n",
    "mol_elems_BSE = np.hstack((mol_elems_BSE[:6], mol_elems_BSE[-1]))\n",
    "mol_elems_BSE /= np.sum(mol_elems_BSE)\n",
    "\n",
    "\n",
    "comp_BSE = {}\n",
    "for elem, mol_elem in zip(elem_names_BSE, mol_elems_BSE):\n",
    "    comp_BSE[elem] = mol_elem\n",
    "\n",
    "comp_BSE\n",
    "\n",
    "\n"
   ]
  },
  {
   "cell_type": "code",
   "execution_count": null,
   "metadata": {},
   "outputs": [],
   "source": []
  },
  {
   "cell_type": "code",
   "execution_count": null,
   "metadata": {},
   "outputs": [],
   "source": [
    "def init_liq_struc(comp, cn_pairs, dist_pairs):\n",
    "    liq_struc = {}\n",
    "    \n",
    "    init_cn_pairs(cn_pairs, comp)\n",
    "    init_param_pairs(dist_pairs)\n",
    "    \n",
    "    liq_struc['comp'] = comp\n",
    "    liq_struc['cn_pairs'] = cn_pairs\n",
    "    liq_struc['dist_pairs'] = dist_pairs\n",
    "    \n",
    "    return liq_struc"
   ]
  },
  {
   "cell_type": "code",
   "execution_count": null,
   "metadata": {},
   "outputs": [],
   "source": [
    "# Bridgmanite structure\n",
    "\n",
    "struc_Brg = {}\n",
    "struc_Brg['25'] = init_liq_struc(comp_Brg,\n",
    "    {'Mg-O':6.8, 'Si-O':4.8, 'O-O':13},\n",
    "    {'Mg-O':2.2, 'Si-O':1.755, 'O-O':2.7})\n",
    "\n",
    "struc_Brg['135'] = init_liq_struc(comp_Brg,\n",
    "    {'Mg-O':8.6, 'Si-O':6.0, 'O-O':13},\n",
    "    {'Mg-O':2.0, 'Si-O':1.735, 'O-O':2.35})\n",
    "\n",
    "# struc_Brg"
   ]
  },
  {
   "cell_type": "code",
   "execution_count": null,
   "metadata": {},
   "outputs": [],
   "source": [
    "# BSE structure\n",
    "\n",
    "struc_BSE = {}\n",
    "struc_BSE['25'] = init_liq_struc(comp_BSE,\n",
    "    {'Ca-O':9.0, 'Na-O':8.8, 'Mg-O':6.75, \n",
    "     'Fe-O':4.75, 'Al-O':5.75, 'Si-O':4.9, 'O-O':13},\n",
    "    {'Ca-O':2.52, 'Na-O':2.5, 'Mg-O':2.2, \n",
    "     'Fe-O':1.95, 'Al-O':1.94, 'Si-O':1.76, 'O-O':2.7})\n",
    "\n",
    "\n",
    "struc_BSE['135'] = init_liq_struc(comp_BSE,\n",
    "    {'Ca-O':10.5, 'Na-O':9.8, 'Mg-O':8.4, \n",
    "     'Fe-O':6.0, 'Al-O':6.8, 'Si-O':6.1, 'O-O':13},\n",
    "    {'Ca-O':2.2, 'Na-O':2.2, 'Mg-O':2.0, \n",
    "     'Fe-O':1.9, 'Al-O':1.86, 'Si-O':1.74, 'O-O':2.35})\n",
    "\n",
    "\n"
   ]
  },
  {
   "cell_type": "code",
   "execution_count": null,
   "metadata": {},
   "outputs": [],
   "source": [
    "# BSE structure (diff between Mg/Si)\n",
    "\n",
    "struc_BSE = {}\n",
    "struc_BSE['25'] = init_liq_struc(comp_BSE,\n",
    "    {'Ca-O':9.0, 'Na-O':8.8, 'Mg-O':6.75, \n",
    "     'Fe-O':4.75, 'Al-O':5.75, 'Si-O':4.9, 'O-O':13},\n",
    "    {'Ca-O':2.52, 'Na-O':2.5, 'Mg-O':2.2, \n",
    "     'Fe-O':1.95, 'Al-O':1.94, 'Si-O':1.765, 'O-O':2.7})\n",
    "\n",
    "\n",
    "struc_BSE['135'] = init_liq_struc(comp_BSE,\n",
    "    {'Ca-O':10.5, 'Na-O':9.8, 'Mg-O':8.4, \n",
    "     'Fe-O':6.0, 'Al-O':6.8, 'Si-O':6.1, 'O-O':13},\n",
    "    {'Ca-O':2.2, 'Na-O':2.2, 'Mg-O':2.0, \n",
    "     'Fe-O':1.9, 'Al-O':1.86, 'Si-O':1.745, 'O-O':2.35})\n",
    "\n",
    "\n"
   ]
  },
  {
   "cell_type": "code",
   "execution_count": null,
   "metadata": {},
   "outputs": [],
   "source": []
  },
  {
   "cell_type": "code",
   "execution_count": null,
   "metadata": {},
   "outputs": [],
   "source": [
    "def vib_freq(force_const, mass):\n",
    "    \"\"\"\n",
    "    In atomic units\n",
    "    \"\"\"\n",
    "    me_mp = 1836\n",
    "    omega = np.sqrt(force_const/(mass*me_mp))\n",
    "    \n",
    "    return omega\n",
    "\n",
    "def vib_period(omega):\n",
    "    s_time_au = 2.418884326505e-17\n",
    "    fs_s = 1e15\n",
    "    period = 2*np.pi/omega*s_time_au*fs_s\n",
    "    return period\n",
    "\n",
    "\n",
    "def analyze_vib_props(pair_names, mass, struc_details, params_model):\n",
    "    k = total_force_const(\n",
    "        pair_names, struc_details['cn_pairs'],\n",
    "        struc_details['dist_pairs'], params_model)\n",
    "    omega = vib_freq(k, mass)\n",
    "    period = vib_period(omega)\n",
    "    \n",
    "    vib_props = {}\n",
    "    vib_props['k'] = k\n",
    "    vib_props['omega'] = omega\n",
    "    vib_props['period'] = period\n",
    "    \n",
    "    return vib_props\n",
    "    \n",
    "    \n"
   ]
  },
  {
   "cell_type": "code",
   "execution_count": null,
   "metadata": {},
   "outputs": [],
   "source": [
    "# ang_bohr = 0.529177208\n",
    "# eV_Ha = 27.211396\n",
    "# me_mp = 1836\n",
    "# \n",
    "# k_OO = force_const_term(cn_pairs_25['OO'], dist_pairs_25['OO'], params_O2000['OO'])\n",
    "# omega_OO = vib_freq(k_OO, 16)\n",
    "# \n",
    "# vib_time = vib_period(omega_OO)\n",
    "# print(vib_time, ' fs')"
   ]
  },
  {
   "cell_type": "code",
   "execution_count": null,
   "metadata": {},
   "outputs": [],
   "source": [
    "display(struc_BSE['135']['cn_pairs'])\n",
    "display(struc_Brg['135']['cn_pairs'])"
   ]
  },
  {
   "cell_type": "code",
   "execution_count": null,
   "metadata": {},
   "outputs": [],
   "source": [
    "moxy = 16\n",
    "\n",
    "vib_props_Brg_O2000 = {}\n",
    "print('==== 25 ====')\n",
    "vib_props_Brg_O2000['25'] = analyze_vib_props(\n",
    "    pair_names_Brg, moxy, struc_Brg['25'], params_O2000)\n",
    "\n",
    "print('==== 135 ====')\n",
    "vib_props_Brg_O2000['135'] = analyze_vib_props(\n",
    "    pair_names_Brg, moxy, struc_Brg['135'], params_O2000)\n",
    "\n",
    "print(vib_props_Brg_O2000['25']['period'], ' fs')\n",
    "print(vib_props_Brg_O2000['135']['period'], ' fs')"
   ]
  },
  {
   "cell_type": "code",
   "execution_count": null,
   "metadata": {},
   "outputs": [],
   "source": [
    "62/88"
   ]
  },
  {
   "cell_type": "code",
   "execution_count": null,
   "metadata": {},
   "outputs": [],
   "source": [
    "import matplotlib.pyplot as plt\n",
    "plt.scatter?"
   ]
  },
  {
   "cell_type": "code",
   "execution_count": null,
   "metadata": {},
   "outputs": [],
   "source": [
    "moxy = 16\n",
    "\n",
    "vib_props_BSE_O2000 = {}\n",
    "print('==== 25 ====')\n",
    "vib_props_BSE_O2000['25'] = analyze_vib_props(\n",
    "    pair_names_Brg, moxy, struc_BSE['25'], params_O2000)\n",
    "\n",
    "print('==== 135 ====')\n",
    "vib_props_BSE_O2000['135'] = analyze_vib_props(\n",
    "    pair_names_Brg, moxy, struc_BSE['135'], params_O2000)\n",
    "\n",
    "print(vib_props_BSE_O2000['25']['period'], ' fs')\n",
    "print(vib_props_BSE_O2000['135']['period'], ' fs')"
   ]
  },
  {
   "cell_type": "code",
   "execution_count": null,
   "metadata": {},
   "outputs": [],
   "source": []
  },
  {
   "cell_type": "code",
   "execution_count": null,
   "metadata": {},
   "outputs": [],
   "source": []
  },
  {
   "cell_type": "code",
   "execution_count": null,
   "metadata": {},
   "outputs": [],
   "source": [
    "oxy_comp_Brg = struc_Brg['25']['comp']['O']\n",
    "\n",
    "dSvib_25 = 3*oxy_comp_Brg*np.log(\n",
    "    vib_props_Brg_O2000['25']['omega']/\n",
    "    vib_props_BSE_O2000['25']['omega'])\n",
    "\n",
    "dSvib_135 = 3*oxy_comp_Brg*np.log(\n",
    "    vib_props_Brg_O2000['135']['omega']/\n",
    "    vib_props_BSE_O2000['135']['omega'])\n",
    "\n",
    "\n",
    "print('25 GPa: ', dSvib_25, ' kB')\n",
    "print('135 GPa: ', dSvib_135, ' kB')"
   ]
  },
  {
   "cell_type": "code",
   "execution_count": null,
   "metadata": {},
   "outputs": [],
   "source": [
    "m = (0.067-0.104)/(135-25)\n",
    "b = 0.104 - 25*m\n",
    "m*135 + b\n",
    "print('m = ', m ,'; b = ', b)"
   ]
  },
  {
   "cell_type": "code",
   "execution_count": null,
   "metadata": {},
   "outputs": [],
   "source": []
  },
  {
   "cell_type": "code",
   "execution_count": null,
   "metadata": {},
   "outputs": [],
   "source": []
  },
  {
   "cell_type": "code",
   "execution_count": null,
   "metadata": {},
   "outputs": [],
   "source": []
  },
  {
   "cell_type": "code",
   "execution_count": null,
   "metadata": {},
   "outputs": [],
   "source": []
  },
  {
   "cell_type": "code",
   "execution_count": null,
   "metadata": {},
   "outputs": [],
   "source": []
  },
  {
   "cell_type": "code",
   "execution_count": null,
   "metadata": {},
   "outputs": [],
   "source": []
  },
  {
   "cell_type": "code",
   "execution_count": null,
   "metadata": {},
   "outputs": [],
   "source": [
    "vib_props_Brg = {}\n",
    "print('==== 25 ====')\n",
    "vib_props_Brg['25'] = analyze_vib_props(\n",
    "    pair_names_Brg, moxy, struc_Brg['25'], params_G2007)\n",
    "\n",
    "print('\\n==== 135 ====')\n",
    "vib_props_Brg['135'] = analyze_vib_props(\n",
    "    pair_names_Brg, moxy, struc_Brg['135'], params_G2007)\n",
    "\n",
    "\n",
    "\n",
    "print(vib_props_Brg['25']['period'], ' fs')\n",
    "print(vib_props_Brg['135']['period'], ' fs')\n"
   ]
  },
  {
   "cell_type": "code",
   "execution_count": null,
   "metadata": {},
   "outputs": [],
   "source": []
  },
  {
   "cell_type": "code",
   "execution_count": null,
   "metadata": {},
   "outputs": [],
   "source": []
  },
  {
   "cell_type": "code",
   "execution_count": null,
   "metadata": {},
   "outputs": [],
   "source": [
    "vib_props_BSE = {}\n",
    "print('==== 25 ====')\n",
    "vib_props_BSE['25'] = analyze_vib_props(\n",
    "    pair_names_BSE, moxy, struc_BSE['25'], params_G2007)\n",
    "\n",
    "print('\\n==== 135 ====')\n",
    "vib_props_BSE['135'] = analyze_vib_props(\n",
    "    pair_names_BSE, moxy, struc_BSE['135'], params_G2007)\n",
    "\n",
    "\n",
    "print(vib_props_BSE['25']['period'], ' fs')\n",
    "print(vib_props_BSE['135']['period'], ' fs')\n"
   ]
  },
  {
   "cell_type": "code",
   "execution_count": null,
   "metadata": {},
   "outputs": [],
   "source": [
    "pair_names_BSE"
   ]
  },
  {
   "cell_type": "code",
   "execution_count": null,
   "metadata": {},
   "outputs": [],
   "source": [
    "oxy_comp_Brg = struc_Brg['25']['comp']['O']\n",
    "\n",
    "dSvib_25 = 3*oxy_comp_Brg*np.log(\n",
    "    vib_props_Brg['25']['omega']/vib_props_BSE['25']['omega'])\n",
    "\n",
    "dSvib_135 = 3*oxy_comp_Brg*np.log(\n",
    "    vib_props_Brg['135']['omega']/vib_props_BSE['135']['omega'])"
   ]
  },
  {
   "cell_type": "code",
   "execution_count": null,
   "metadata": {},
   "outputs": [],
   "source": [
    "print('25 GPa: ', dSvib_25, ' kB')\n",
    "print('135 GPa: ', dSvib_135, ' kB')"
   ]
  },
  {
   "cell_type": "code",
   "execution_count": null,
   "metadata": {},
   "outputs": [],
   "source": [
    "print('25 GPa: ', dSvib_25, ' kB')\n",
    "print('135 GPa: ', dSvib_135, ' kB')"
   ]
  },
  {
   "cell_type": "code",
   "execution_count": null,
   "metadata": {},
   "outputs": [],
   "source": [
    "\n",
    "vib_props_BSE_O2000 = {}"
   ]
  },
  {
   "cell_type": "code",
   "execution_count": null,
   "metadata": {},
   "outputs": [],
   "source": []
  },
  {
   "cell_type": "code",
   "execution_count": null,
   "metadata": {},
   "outputs": [],
   "source": [
    "oxy_comp_Brg"
   ]
  },
  {
   "cell_type": "code",
   "execution_count": null,
   "metadata": {},
   "outputs": [],
   "source": [
    "3*0.6*np.log(omega_135/omega_25)"
   ]
  },
  {
   "cell_type": "code",
   "execution_count": null,
   "metadata": {},
   "outputs": [],
   "source": []
  }
 ],
 "metadata": {
  "kernelspec": {
   "display_name": "Python 3",
   "language": "python",
   "name": "python3"
  },
  "language_info": {
   "codemirror_mode": {
    "name": "ipython",
    "version": 3
   },
   "file_extension": ".py",
   "mimetype": "text/x-python",
   "name": "python",
   "nbconvert_exporter": "python",
   "pygments_lexer": "ipython3",
   "version": "3.6.2"
  }
 },
 "nbformat": 4,
 "nbformat_minor": 2
}
