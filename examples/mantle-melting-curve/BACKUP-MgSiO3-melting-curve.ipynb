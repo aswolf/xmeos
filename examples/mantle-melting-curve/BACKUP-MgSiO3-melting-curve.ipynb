{
 "cells": [
  {
   "cell_type": "markdown",
   "metadata": {},
   "source": [
    "# Integrate melting curve of pure MgSiO3\n",
    "* use direct clapeyron slope integration\n",
    "* electronic contribution ignored due to bug in adiabatic calculation"
   ]
  },
  {
   "cell_type": "code",
   "execution_count": null,
   "metadata": {},
   "outputs": [],
   "source": [
    "%run core.ipynb\n",
    "\n",
    "analysis = load_analysis()\n",
    "liq_eos_hybrid = analysis['liq_eos_hybrid']\n",
    "liq_eos_S11 = analysis['liq_eos_S11']\n",
    "liq_eos_dK09 = analysis['liq_eos_dK09']\n",
    "sol_eos = analysis['sol_eos']\n",
    "\n",
    "P_fus0 = analysis['P_fus0']\n",
    "T_fus0 = analysis['T_fus0']\n",
    "# dS_fus0 = analysis['dS_fus0']\n",
    "# S_fus0 = analysis['S_fus0']\n"
   ]
  },
  {
   "cell_type": "code",
   "execution_count": null,
   "metadata": {},
   "outputs": [],
   "source": []
  },
  {
   "cell_type": "code",
   "execution_count": null,
   "metadata": {},
   "outputs": [],
   "source": [
    "PT_fus_Stx09 = pd.read_csv('data/MgSiO3-pure-melt-curve-Stixrude2009.csv')"
   ]
  },
  {
   "cell_type": "code",
   "execution_count": null,
   "metadata": {},
   "outputs": [],
   "source": []
  },
  {
   "cell_type": "markdown",
   "metadata": {},
   "source": [
    "## Calculate melting curve"
   ]
  },
  {
   "cell_type": "code",
   "execution_count": null,
   "metadata": {},
   "outputs": [],
   "source": [
    "def melting_curve_deriv(P, TVlVs, liq_eos, sol_eos, dS_fus_kB=None):\n",
    "    PV_ratio = xmeos.models.CONSTS['PV_ratio']\n",
    "    T, Vliq, Vsol = TVlVs[0], TVlVs[1], TVlVs[2]\n",
    "    # print('P', P, ', T', T, ', Vliq', Vliq, ', Vsol',Vsol)\n",
    "    \n",
    "    if dS_fus_kB is None:\n",
    "        dS = liq_eos.entropy(Vliq, T) - sol_eos.entropy(Vsol, T)\n",
    "    else:\n",
    "        dS = dS_fus_kB*xmeos.models.CONSTS['kboltz']\n",
    "        \n",
    "    # print('   dS = ', dS)\n",
    "    dV = Vliq - Vsol\n",
    "     \n",
    "    \n",
    "    alpha_sol = sol_eos.thermal_exp(Vsol, T)\n",
    "    alpha_liq = liq_eos.thermal_exp(Vliq, T)\n",
    "    \n",
    "    KT_sol = sol_eos.bulk_mod(Vsol, T)\n",
    "    KT_liq = liq_eos.bulk_mod(Vliq, T)\n",
    "    \n",
    "    dTdP = dV/dS/PV_ratio\n",
    "    # print('  dTdP = ', dTdP)\n",
    "    dVdP_sol = Vsol*(alpha_sol*dTdP - 1.0/KT_sol)\n",
    "    dVdP_liq = Vliq*(alpha_liq*dTdP - 1.0/KT_liq)\n",
    "    TVV_deriv = np.hstack((dTdP, dVdP_liq, dVdP_sol))\n",
    "    return TVV_deriv"
   ]
  },
  {
   "cell_type": "code",
   "execution_count": null,
   "metadata": {},
   "outputs": [],
   "source": []
  },
  {
   "cell_type": "code",
   "execution_count": null,
   "metadata": {},
   "outputs": [],
   "source": [
    "\n",
    "def calc_melting_curve(Pinit, Tinit, liq_eos, sol_eos, \n",
    "                       Pmax=150.0, N=101, Vinit=9.0, dS_fus_kB=None):\n",
    "    Vinit_liq = volume(Pinit, Tinit, liq_eos, Vinit=Vinit)\n",
    "    Vinit_sol = volume(Pinit, Tinit, sol_eos)\n",
    "    \n",
    "    # print(liq_eos.press(Vinit_liq, Tinit))\n",
    "    # print(sol_eos.press(Vinit_sol, Tinit))\n",
    "    \n",
    "    deriv_fun = lambda P, TVlVs, liq_eos=liq_eos, sol_eos=sol_eos, dS_fus_kB=dS_fus_kB: (\n",
    "        melting_curve_deriv(P, TVlVs, liq_eos, sol_eos, dS_fus_kB=dS_fus_kB) )\n",
    "    \n",
    "    # Vinit = volume(Pinit, Tinit, eos, Vinit=Vinit_guess)\n",
    "    # Vinit = eos.volume(Pinit, Tinit, Vinit_guess)\n",
    "    \n",
    "    P_path = np.linspace(Pinit, Pmax, N)\n",
    "    output = sp.integrate.solve_ivp(deriv_fun, P_path[[0,-1]] , \n",
    "                                    np.array([Tinit, Vinit_liq, Vinit_sol]), \n",
    "                                    t_eval=P_path, vectorized=False)\n",
    "    T_fus_pos, V_fus_liq_pos, V_fus_sol_pos = (\n",
    "        output['y'][0], output['y'][1], output['y'][2])\n",
    "    \n",
    "    \n",
    "    # P_path_neg = np.linspace(P_fus0, Pmin, N)\n",
    "    # output_neg = sp.integrate.solve_ivp(deriv_fun, P_path_neg[[0,-1]] , \n",
    "    #                                 np.array([Vinit, Tinit]), \n",
    "    #                                 t_eval=P_path_neg, vectorized=True)\n",
    "    # V_ad_neg, T_ad_neg = output_neg['y'][0], output_neg['y'][1]\n",
    "    # \n",
    "    # P_ad = np.hstack((P_path_neg[::-1][:-1], P_path))\n",
    "    # V_ad = np.hstack((V_ad_neg[::-1][:-1], V_ad_pos))\n",
    "    # T_ad = np.hstack((T_ad_neg[::-1][:-1], T_ad_pos))\n",
    "    \n",
    "    P_fus = np.hstack((P_path))\n",
    "    T_fus = np.hstack((T_fus_pos))\n",
    "    V_fus_liq = np.hstack((V_fus_liq_pos))\n",
    "    V_fus_sol = np.hstack((V_fus_sol_pos))\n",
    "    \n",
    "    return P_fus, T_fus, V_fus_liq, V_fus_sol\n",
    "    "
   ]
  },
  {
   "cell_type": "code",
   "execution_count": null,
   "metadata": {},
   "outputs": [],
   "source": [
    "P_fus_S11, T_fus_S11, V_fus_liq_S11, V_fus_sol_S11 = calc_melting_curve(\n",
    "    P_fus0, T_fus0, liq_eos_S11, sol_eos)\n",
    "P_fus_dK09, T_fus_dK09, V_fus_liq_dK09, V_fus_sol_dK09 = calc_melting_curve(\n",
    "    P_fus0, T_fus0, liq_eos_dK09, sol_eos)\n",
    "\n",
    "dS_fus_kB = 1.5\n",
    "P_fus_S11_fix, T_fus_S11_fix, V_fus_liq_S11_fix, V_fus_sol_S11_fix = calc_melting_curve(\n",
    "    P_fus0, T_fus0, liq_eos_S11, sol_eos, dS_fus_kB=dS_fus_kB)\n",
    "P_fus_dK09_fix, T_fus_dK09_fix, V_fus_liq_dK09_fix, V_fus_sol_dK09_fix = calc_melting_curve(\n",
    "    P_fus0, T_fus0, liq_eos_dK09, sol_eos, dS_fus_kB=dS_fus_kB)\n"
   ]
  },
  {
   "cell_type": "code",
   "execution_count": null,
   "metadata": {},
   "outputs": [],
   "source": [
    "# liq_eos_S11.press(V_fus_liq_S11, T_fus_S11)\n",
    "# liq_eos_dK09.press(V_fus_liq_dK09, T_fus_dK09)\n",
    "# sol_eos.press(V_fus_sol_S11, T_fus_S11)\n",
    "# sol_eos.press(V_fus_sol_dK09, T_fus_dK09)"
   ]
  },
  {
   "cell_type": "code",
   "execution_count": null,
   "metadata": {},
   "outputs": [],
   "source": []
  },
  {
   "cell_type": "code",
   "execution_count": null,
   "metadata": {},
   "outputs": [],
   "source": [
    "P_ad_hybrid, V_ad_hybrid, T_ad_hybrid = integrate_adiabat(\n",
    "    P_fus0, T_fus0, liq_eos_hybrid)\n",
    "\n",
    "P_ad_dK09, V_ad_dK09, T_ad_dK09 = integrate_adiabat(\n",
    "    P_fus0, T_fus0, liq_eos_dK09)\n",
    "\n",
    "P_ad_S11, V_ad_S11, T_ad_S11 = integrate_adiabat(\n",
    "    P_fus0, T_fus0, liq_eos_S11)\n",
    "\n",
    "P_sol_ad, V_sol_ad, T_sol_ad = integrate_adiabat(\n",
    "    P_fus0, T_fus0, sol_eos)"
   ]
  },
  {
   "cell_type": "code",
   "execution_count": null,
   "metadata": {},
   "outputs": [],
   "source": []
  },
  {
   "cell_type": "code",
   "execution_count": null,
   "metadata": {},
   "outputs": [],
   "source": [
    "plt.figure()\n",
    "plt.plot(P_fus_dK09, T_fus_dK09, 'r-', lw=2, label='Melt Curve (dK09)')\n",
    "plt.plot(P_fus_S11, T_fus_S11, 'b-', lw=2, label='Melt Curve (S11)')\n",
    "\n",
    "plt.plot(P_fus_dK09_fix, T_fus_dK09_fix, 'r:', lw=2, label='Melt Curve (dK09-fix)')\n",
    "plt.plot(P_fus_S11_fix, T_fus_S11_fix, 'b:', lw=2, label='Melt Curve (S11-fix)')\n",
    "\n",
    "plt.plot(PT_fus_Stx09['P'], PT_fus_Stx09['T'], 'k:', label='Melt Curve (Stixrude)')\n",
    "\n",
    "\n",
    "plt.plot(P_ad_hybrid, T_ad_hybrid, 'k-', lw=3, label='Adiabat (hybrid)')\n",
    "plt.plot(P_ad_dK09, T_ad_dK09, 'r--', label='Adiabat (dK09)')\n",
    "plt.plot(P_ad_S11, T_ad_S11, 'b--', label='Adiabat (S11)')\n",
    "plt.plot(P_sol_ad, T_sol_ad, 'g-.', label='Adiabat (solid)')\n",
    "\n",
    "\n",
    "plt.title('MgSiO3 Melting curve predictions')\n",
    "plt.xlabel('Pressure  [ GPa ]')\n",
    "plt.ylabel('Temperature  [ K ]')\n",
    "plt.legend()"
   ]
  },
  {
   "cell_type": "code",
   "execution_count": null,
   "metadata": {},
   "outputs": [],
   "source": []
  },
  {
   "cell_type": "code",
   "execution_count": null,
   "metadata": {},
   "outputs": [],
   "source": []
  },
  {
   "cell_type": "code",
   "execution_count": null,
   "metadata": {},
   "outputs": [],
   "source": [
    "\n",
    "\n",
    "S_fus_liq_S11 = liq_eos_S11.entropy(V_fus_liq_S11, T_fus_S11) \n",
    "S_fus_sol_S11 = sol_eos.entropy(V_fus_sol_S11, T_fus_S11) \n",
    "dS_fus_S11 = (S_fus_liq_S11-S_fus_sol_S11)/xmeos.models.CONSTS['kboltz']\n",
    "\n",
    "S_fus_liq_dK09 = liq_eos_dK09.entropy(V_fus_liq_dK09, T_fus_dK09) \n",
    "S_fus_sol_dK09 = sol_eos.entropy(V_fus_sol_dK09, T_fus_dK09)\n",
    "dS_fus_dK09 = (S_fus_liq_dK09-S_fus_sol_dK09)/xmeos.models.CONSTS['kboltz']\n",
    "\n"
   ]
  },
  {
   "cell_type": "code",
   "execution_count": null,
   "metadata": {},
   "outputs": [],
   "source": [
    "\n",
    "plt.figure()\n",
    "\n",
    "plt.plot(P_fus_dK09, dS_fus_dK09, 'r--')\n",
    "plt.plot(P_fus_S11, dS_fus_S11, 'b--')\n",
    "\n",
    "plt.xlabel('Pressure  [ GPa ]')\n",
    "plt.ylabel('dS_fus  [ $k_B$ ]')\n"
   ]
  },
  {
   "cell_type": "code",
   "execution_count": null,
   "metadata": {},
   "outputs": [],
   "source": []
  },
  {
   "cell_type": "code",
   "execution_count": null,
   "metadata": {},
   "outputs": [],
   "source": []
  },
  {
   "cell_type": "code",
   "execution_count": null,
   "metadata": {},
   "outputs": [],
   "source": []
  },
  {
   "cell_type": "code",
   "execution_count": null,
   "metadata": {},
   "outputs": [],
   "source": []
  },
  {
   "cell_type": "code",
   "execution_count": null,
   "metadata": {},
   "outputs": [],
   "source": [
    "Vad_dK09, Tad_dK09 = liq_compress_eos.adiabatic_path(Tinit, np.linspace(0,160,101))\n",
    "Pad_dK09 = liq_compress_eos.press(Vad_dK09,Tad_dK09)\n",
    "Sad_dK09 = liq_compress_eos.entropy(Vad_dK09, Tad_dK09)\n",
    "\n",
    "Vad_S11, Tad_S11 = liq_thermal_eos.adiabatic_path(Tinit, np.linspace(0,150,101))\n",
    "Pad_S11 = liq_thermal_eos.press(Vad_S11,Tad_S11)\n",
    "Sad_S11 = liq_thermal_eos.entropy(Vad_S11, Tad_S11)\n",
    "\n",
    "plt.figure()\n",
    "plt.plot(Pad,Tad, 'r-', Pad_dK09, Tad_dK09, 'k--', Pad_S11, Tad_S11, 'b:')\n",
    "plt.legend(['hybrid','dK09','S11'], loc='lower right')\n",
    "plt.xlabel('Pressure [GPa]')\n",
    "plt.ylabel('Temp. [K]')\n",
    "plt.xlim(-2,140)\n",
    "plt.ylim(2200,4000)\n",
    "\n",
    "plt.savefig('figs/hybrid-ref-adiabat.png', dpi=450)\n",
    "# plt.figure()\n",
    "# plt.plot(Pad_dK09, Sad_dK09-np.mean(Sad_dK09) , 'k--', \n",
    "#          Pad_S11, Sad_S11 - np.mean(Sad_S11), 'b:')"
   ]
  },
  {
   "cell_type": "code",
   "execution_count": null,
   "metadata": {},
   "outputs": [],
   "source": []
  },
  {
   "cell_type": "code",
   "execution_count": null,
   "metadata": {},
   "outputs": [],
   "source": [
    "\n",
    "plt.figure()\n",
    "plt.plot(Pad[:-1],(Tad[1:]-Tad[:-1])/(Pad[1:]-Pad[:-1]), 'r-',\n",
    "         Pad_dK09[:-1], (Tad_dK09[1:]-Tad_dK09[:-1])/(Pad_dK09[1:]-Pad_dK09[:-1]), 'k--',\n",
    "         Pad_S11[:-1], (Tad_S11[1:]-Tad_S11[:-1])/(Pad_S11[1:]-Pad_S11[:-1]), 'b:')\n",
    "plt.legend(['hybrid','dK09','S11'], loc='upper right')\n",
    "plt.xlabel('Pressure [GPa]')\n",
    "plt.ylabel('dT/dP   [K/GPa]')\n",
    "plt.xlim(-2,140)\n",
    "\n",
    "plt.savefig('figs/hybrid-ref-adiabat-slope.png', dpi=450)\n"
   ]
  },
  {
   "cell_type": "code",
   "execution_count": null,
   "metadata": {},
   "outputs": [],
   "source": []
  },
  {
   "cell_type": "code",
   "execution_count": null,
   "metadata": {},
   "outputs": [],
   "source": []
  },
  {
   "cell_type": "markdown",
   "metadata": {},
   "source": [
    "## Adjust liquid entropy to be realistic at reference point on melting curve"
   ]
  },
  {
   "cell_type": "code",
   "execution_count": null,
   "metadata": {},
   "outputs": [],
   "source": [
    "def adjust_melting_entropy(P_fus0, T_fus0, sol_eos, liq_eos, dS_fus=1.5, Vliq_init=9.1):\n",
    "    Vliq_fus0 = volume(P_fus0, T_fus0, liq_eos, Vinit=9)\n",
    "    Vsol_fus0 = volume(P_fus0, T_fus0, sol_eos)\n",
    "    \n",
    "    # print(Vliq_fus0)\n",
    "    # print(Vsol_fus0)\n",
    "\n",
    "    # print(liq_eos.press(Vliq_fus0, T_fus0))\n",
    "    # print(sol_eos.press(Vsol_fus0, T_fus0))\n",
    "\n",
    "    liq_eos.set_param_values(0, param_names='S0')\n",
    "\n",
    "    Sliq_fus0_init = liq_eos.entropy(Vliq_fus0, T_fus0)\n",
    "    Ssol_fus0 = sol_eos.entropy(Vsol_fus0, T_fus0)\n",
    "\n",
    "    S0 = Ssol_fus0 + dS_fus*CONSTS['kboltz'] - Sliq_fus0_init\n",
    "    liq_eos.set_param_values(S0, param_names='S0')\n",
    "    \n",
    "    TOL = 1e-5\n",
    "    S_error = (liq_eos.entropy(Vliq_fus0, T_fus0)\n",
    "               - sol_eos.entropy(Vsol_fus0, T_fus0))/CONSTS['kboltz']-dS_fus\n",
    "    assert np.abs(S_error)<TOL, (\n",
    "        'fusion entropy does not match expectation... something wrong here.'\n",
    "    )\n",
    "    return S0\n",
    "\n",
    "\n"
   ]
  },
  {
   "cell_type": "code",
   "execution_count": null,
   "metadata": {},
   "outputs": [],
   "source": [
    "P_fus0 = 25\n",
    "T_fus0 = 2900\n",
    "\n",
    "adjust_melting_entropy(P_fus0, T_fus0, mgpv_eos, liq_eos, dS_fus=1.5)\n",
    "adjust_melting_entropy(P_fus0, T_fus0, mgpv_eos, liq_eos_dK09, dS_fus=1.5)\n",
    "\n",
    "print('S0( S11) = ', liq_eos.get_param_values(param_names='S0')[0])\n",
    "print('S0(dK09) = ', liq_eos_dK09.get_param_values(param_names='S0')[0])"
   ]
  },
  {
   "cell_type": "code",
   "execution_count": null,
   "metadata": {},
   "outputs": [],
   "source": [
    "def dK09_funs():\n",
    "    liq_funs = {}\n",
    "    # liq_funs['entropy'] = lambda V, T: liq_eos.entropy(V, T)[0]\n",
    "    liq_funs['entropy']  = liq_eos.entropy\n",
    "    liq_funs['bulk_mod'] = liq_eos.bulk_mod\n",
    "    liq_funs['alpha']    = liq_eos.thermal_exp\n",
    "    liq_funs['press']    = liq_eos.press\n",
    "    liq_funs['gibbs']    = lambda V, T: (\n",
    "        liq_eos.internal_energy(V, T) \n",
    "        -T*liq_eos.entropy(V, T) \n",
    "        +liq_eos.press(V, T)*V/CONSTS['PV_ratio'])\n",
    "    liq_funs['volume']   = lambda P, T: volume(P, T, liq_eos)\n",
    "    \n",
    "    sol_funs = {}\n",
    "    sol_funs['entropy']  = mgpv_eos.entropy\n",
    "    sol_funs['bulk_mod'] = mgpv_eos.bulk_mod\n",
    "    sol_funs['alpha']    = mgpv_eos.thermal_exp\n",
    "    sol_funs['press']    = mgpv_eos.press\n",
    "    sol_funs['gibbs']    = lambda V, T: (\n",
    "        mgpv_eos.internal_energy(V, T) \n",
    "        -T*mgpv_eos.entropy(V, T) \n",
    "        +mgpv_eos.press(V, T)*V/CONSTS['PV_ratio'])\n",
    "    \n",
    "    sol_funs['volume']   = lambda P, T: volume(P, T, mgpv_eos)\n",
    "    \n",
    "    return liq_funs, sol_funs\n",
    "\n",
    "def S11_funs():\n",
    "    return args\n",
    "\n",
    "def hybrid_funs():\n",
    "    return args"
   ]
  },
  {
   "cell_type": "code",
   "execution_count": null,
   "metadata": {},
   "outputs": [],
   "source": [
    "liq_funs, sol_funs = dK09_funs()\n",
    "print(liq_funs['entropy'](9, 2500))\n",
    "print(sol_funs['entropy'](9, 2500))\n",
    "\n",
    "print(liq_funs['bulk_mod'](9, 2500))\n",
    "print(sol_funs['bulk_mod'](9, 2500))\n",
    "\n",
    "print(liq_funs['alpha'](9, 2500))\n",
    "print(sol_funs['alpha'](9, 2500))\n",
    "\n",
    "print(liq_funs['volume'](9, 2500))\n",
    "print(sol_funs['volume'](9, 2500))\n",
    "\n",
    "\n",
    "print(liq_funs['gibbs'](9, 2500))\n",
    "print(sol_funs['gibbs'](9, 2500))"
   ]
  },
  {
   "cell_type": "code",
   "execution_count": null,
   "metadata": {},
   "outputs": [],
   "source": []
  },
  {
   "cell_type": "code",
   "execution_count": null,
   "metadata": {},
   "outputs": [],
   "source": [
    "def melt_bound(P, T_Vl_Vs, liq_funs, sol_funs):\n",
    "    T, Vl, Vs = T_Vl_Vs[:]\n",
    "    \n",
    "    Sl = liq_funs['entropy'](Vl, T)\n",
    "    Ss = sol_funs['entropy'](Vs, T)\n",
    "    \n",
    "    dV = Vl-Vs\n",
    "    dS = Sl-Ss\n",
    "    \n",
    "    KT_l = liq_funs['bulk_mod'](Vl, T)\n",
    "    KT_s = sol_funs['bulk_mod'](Vs, T)\n",
    "    \n",
    "    alpha_l = liq_funs['alpha'](Vl, T)\n",
    "    alpha_s = sol_funs['alpha'](Vs, T)\n",
    "     \n",
    "    dTdP = dV/dS/CONSTS['PV_ratio']\n",
    "    dVldP = -Vl/KT_l + alpha_l*Vl*dTdP\n",
    "    dVsdP = -Vs/KT_s + alpha_s*Vs*dTdP\n",
    "    \n",
    "    derivs = [dTdP, dVldP, dVsdP]\n",
    "    return derivs\n",
    "\n",
    "\n",
    "\n",
    "\n",
    "\n",
    "# solve_ivp(fun=lambda t, y: fun(t, y, *dK09_funs()), ...)"
   ]
  },
  {
   "cell_type": "code",
   "execution_count": null,
   "metadata": {},
   "outputs": [],
   "source": [
    "P0 = 25\n",
    "T0 = 2900\n",
    "liq_dK09, sol_dK09 = dK09_funs()\n",
    "V0l = liq_dK09['volume'](P0, T0)\n",
    "V0s = sol_dK09['volume'](P0, T0)\n",
    "dG0 = liq_dK09['gibbs'](V0l, T0)-sol_dK09['gibbs'](V0s, T0)\n",
    "P_mod = np.linspace(P0, 136, 101)\n",
    "\n",
    "output = sp.integrate.solve_ivp(lambda t, y: melt_bound(t, y, *(liq_dK09, sol_dK09)),\n",
    "                       [P0,136], [T0, V0l, V0s], t_eval=P_mod, vectorized=True)\n",
    "T_mod = output['y'][0]\n",
    "Vl_mod = output['y'][1]\n",
    "Vs_mod = output['y'][2]\n",
    "\n"
   ]
  },
  {
   "cell_type": "code",
   "execution_count": null,
   "metadata": {},
   "outputs": [],
   "source": [
    "P0 = 25\n",
    "T0 = 2900\n",
    "liq_dK09, sol_dK09 = dK09_funs()\n",
    "V0l = liq_dK09['volume'](P0, T0)\n",
    "V0s = sol_dK09['volume'](P0, T0)\n",
    "P_mod = np.linspace(P0, 12.5, 101)\n",
    "\n",
    "output = sp.integrate.solve_ivp(lambda t, y: melt_bound(t, y, *(liq_dK09, sol_dK09)),\n",
    "                                [P0,12.5], [T0, V0l, V0s], t_eval=P_mod, vectorized=True)\n",
    "T_mod = output['y'][0]\n",
    "Vl_mod = output['y'][1]\n",
    "Vs_mod = output['y'][2]"
   ]
  },
  {
   "cell_type": "code",
   "execution_count": null,
   "metadata": {},
   "outputs": [],
   "source": [
    "plt.figure()\n",
    "plt.plot(P_mod, T_mod, 'k-')\n"
   ]
  },
  {
   "cell_type": "code",
   "execution_count": null,
   "metadata": {},
   "outputs": [],
   "source": [
    "plt.figure()\n",
    "plt.plot(PT_fus_Stx09['P'], PT_fus_Stx09['T'], 'k--')"
   ]
  },
  {
   "cell_type": "code",
   "execution_count": null,
   "metadata": {},
   "outputs": [],
   "source": []
  },
  {
   "cell_type": "code",
   "execution_count": null,
   "metadata": {},
   "outputs": [],
   "source": [
    "dP = P_mod[1]-P_mod[0]\n",
    "dTdP_num = np.gradient(T_mod, dP)\n",
    "dV_mod = Vl_mod-Vs_mod\n",
    "\n",
    "Sl_mod = liq_dK09['entropy'](Vl_mod, T_mod)\n",
    "Ss_mod = sol_dK09['entropy'](Vs_mod, T_mod)\n",
    "dS_mod = Sl_mod-Ss_mod\n",
    "\n",
    "dTdP_man = dV_mod/dS_mod/CONSTS['PV_ratio']\n",
    "\n",
    "dG_mod = liq_dK09['gibbs'](Vl_mod, T_mod)-sol_dK09['gibbs'](Vs_mod, T_mod)\n",
    "\n",
    "plt.figure()\n",
    "plt.plot(P_mod, (liq_dK09['gibbs'](Vl_mod, T_mod)\n",
    "                 -sol_dK09['gibbs'](Vs_mod, T_mod)-dG0), 'k-')\n",
    "\n",
    "plt.figure()\n",
    "plt.plot(P_mod, dTdP_num, 'k-', P_mod, dTdP_man, 'r--')\n",
    "\n",
    "plt.figure()\n",
    "plt.plot(P_mod, dTdP_num/dTdP_man - 1, 'r--')\n",
    "\n",
    "plt.figure()\n",
    "plt.plot(P_mod, dV_mod, 'k-')\n",
    "plt.figure()\n",
    "plt.plot(P_mod, dS_mod, 'k-')"
   ]
  },
  {
   "cell_type": "code",
   "execution_count": null,
   "metadata": {},
   "outputs": [],
   "source": [
    "\n",
    "plt.figure()\n",
    "# \n",
    "\n",
    "plt.plot(P_mod, P_mod - liq_dK09['press'](Vl_mod, T_mod), 'r--')\n",
    "plt.plot(P_mod, P_mod - sol_dK09['press'](Vs_mod, T_mod), 'k--')\n"
   ]
  },
  {
   "cell_type": "code",
   "execution_count": null,
   "metadata": {},
   "outputs": [],
   "source": []
  },
  {
   "cell_type": "code",
   "execution_count": null,
   "metadata": {},
   "outputs": [],
   "source": []
  },
  {
   "cell_type": "code",
   "execution_count": null,
   "metadata": {},
   "outputs": [],
   "source": [
    "def trace_phase_bound(Pinit, Tinit, Plim, phase1_eos, phase2_eos, \n",
    "                      Vinit1=None, Vinit2=None, N=100, full_output=False):\n",
    "    \n",
    "    Pbound = np.linspace(Pinit, Plim, N)\n",
    "    Tbound = np.zeros(N)\n",
    "    Tbound[0] = Tinit\n",
    "    \n",
    "    V1_bound = np.zeros(N)\n",
    "    V2_bound = np.zeros(N)\n",
    "    S1_bound = np.zeros(N)\n",
    "    S2_bound = np.zeros(N)\n",
    "    dV_bound = np.zeros(N)\n",
    "    dS_bound = np.zeros(N)\n",
    "    \n",
    "    dP = Pbound[1]-Pbound[0]\n",
    "    \n",
    "    Vphase1_init = volume(Pinit, Tinit, phase1_eos, Vinit=Vinit1)\n",
    "    Vphase2_init = volume(Pinit, Tinit, phase2_eos, Vinit=Vinit2)\n",
    "\n",
    "    for ind, (P, T) in enumerate(zip(Pbound[:-1], Tbound[:-1])):\n",
    "        Vphase1 = volume(P, T, phase1_eos, Vinit=Vphase1_init)\n",
    "        Vphase2 = volume(P, T, phase2_eos, Vinit=Vphase2_init)\n",
    "        Sphase1 = phase1_eos.entropy(Vphase1, T)[0]\n",
    "        Sphase2 = phase2_eos.entropy(Vphase2, T)[0]\n",
    "        \n",
    "        dV = Vphase2-Vphase1\n",
    "        dS = Sphase2 - Sphase1\n",
    "        \n",
    "        dV_bound[ind] = dV\n",
    "        dS_bound[ind] = dS\n",
    "        V1_bound[ind] = Vphase1\n",
    "        V2_bound[ind] = Vphase2\n",
    "        S1_bound[ind] = Sphase1\n",
    "        S2_bound[ind] = Sphase2\n",
    "        \n",
    "        dTdP = dV/dS/CONSTS['PV_ratio']\n",
    "        dT = dTdP*dP\n",
    "        \n",
    "        Pbound[ind+1] = P+dP\n",
    "        Tbound[ind+1] = T+dT\n",
    "        \n",
    "        Vphase1_init = Vphase1\n",
    "        Vphase2_init = Vphase2\n",
    "\n",
    "    if full_output:\n",
    "        output = {}\n",
    "        output['V1'] = V1_bound\n",
    "        output['V2'] = V2_bound\n",
    "        output['S1'] = S1_bound\n",
    "        output['S2'] = S2_bound\n",
    "        output['dV'] = dV_bound\n",
    "        output['dS'] = dS_bound\n",
    "        return Pbound, Tbound, output\n",
    "    else:\n",
    "        return Pbound, Tbound\n",
    "    return Pbound, Tbound"
   ]
  },
  {
   "cell_type": "code",
   "execution_count": null,
   "metadata": {},
   "outputs": [],
   "source": [
    "def trace_hybrid_phase_bound(Pinit, Tinit, Plim, \n",
    "                             sol_eos, liq_thermal_eos, liq_compress_eos,\n",
    "                             Vinit_sol=None, N=100, full_output=False):\n",
    "    \n",
    "    Pbound = np.linspace(Pinit, Plim, N)\n",
    "    Tbound = np.zeros(N)\n",
    "    Tbound[0] = Tinit\n",
    "    \n",
    "    dP = Pbound[1]-Pbound[0]\n",
    "    \n",
    "    Vsol_bound = np.zeros(N)\n",
    "    Vliq_bound = np.zeros(N)\n",
    "    dV_bound = np.zeros(N)\n",
    "    dS_bound = np.zeros(N)\n",
    "    \n",
    "    Vsol_init = volume(Pinit, Tinit, sol_eos, Vinit=Vinit_sol)\n",
    "    Vliq_init = hybrid_volume(Pinit, Tinit)\n",
    "\n",
    "    for ind, (P, T) in enumerate(zip(Pbound[:-1], Tbound[:-1])):\n",
    "        Vsol = volume(P, T, sol_eos, Vinit=Vsol_init)\n",
    "        Vliq = hybrid_volume(P, T, Vinit=Vliq_init)\n",
    "        \n",
    "        Vsol_bound[ind] = Vsol\n",
    "        Vliq_bound[ind] = Vliq\n",
    "        \n",
    "        \n",
    "        dV = Vliq-Vsol\n",
    "        dS = (hybrid_entropy(Vliq, T) \n",
    "              - sol_eos.entropy(Vsol, T))[0]\n",
    "        \n",
    "        dV_bound[ind] = dV\n",
    "        dS_bound[ind] = dS\n",
    "        \n",
    "        dTdP = dV/dS/CONSTS['PV_ratio']\n",
    "        dT = dTdP*dP\n",
    "        \n",
    "        Pbound[ind+1] = P+dP\n",
    "        Tbound[ind+1] = T+dT\n",
    "        \n",
    "        Vsol_init = Vsol\n",
    "        Vliq_init = Vliq\n",
    "        \n",
    "\n",
    "    if full_output:\n",
    "        output = {}\n",
    "        output['dV'] = dV_bound\n",
    "        output['dS'] = dS_bound\n",
    "        output['Vliq'] = Vliq_bound\n",
    "        output['Vsol'] = Vsol_bound\n",
    "        return Pbound, Tbound, output\n",
    "    else:\n",
    "        return Pbound, Tbound"
   ]
  },
  {
   "cell_type": "code",
   "execution_count": null,
   "metadata": {},
   "outputs": [],
   "source": [
    "P_fus_LM, T_fus_LM =  trace_phase_bound(P_fus0, T_fus0, 136, mgpv_eos, liq_eos)\n",
    "P_fus_dK09_LM, T_fus_dK09_LM =  trace_phase_bound(\n",
    "    P_fus0, T_fus0, 136, mgpv_eos, liq_eos_dK09, Vinit2=9)\n",
    "P_fus_hybrid_LM, T_fus_hybrid_LM =  trace_hybrid_phase_bound(\n",
    "    P_fus0, T_fus0, 136, mgpv_eos, liq_eos, liq_eos_dK09)\n"
   ]
  },
  {
   "cell_type": "code",
   "execution_count": null,
   "metadata": {},
   "outputs": [],
   "source": [
    "P_fus_UM, T_fus_UM =  trace_phase_bound(P_fus0, T_fus0, 12.5, mgpv_eos, liq_eos)\n",
    "P_fus_dK09_UM, T_fus_dK09_UM =  trace_phase_bound(\n",
    "    P_fus0, T_fus0, 12.5, mgpv_eos, liq_eos_dK09, Vinit2=9)\n",
    "P_fus_hybrid_UM, T_fus_hybrid_UM =  trace_hybrid_phase_bound(\n",
    "    P_fus0, T_fus0, 12.5, mgpv_eos, liq_eos, liq_eos_dK09)\n"
   ]
  },
  {
   "cell_type": "code",
   "execution_count": null,
   "metadata": {},
   "outputs": [],
   "source": []
  },
  {
   "cell_type": "code",
   "execution_count": null,
   "metadata": {},
   "outputs": [],
   "source": []
  },
  {
   "cell_type": "code",
   "execution_count": null,
   "metadata": {},
   "outputs": [],
   "source": [
    "P_fus, T_fus =  trace_phase_bound(P_fus0, T_fus0, 136, mgpv_eos, liq_eos)\n",
    "P_fus_dK09, T_fus_dK09, output_dK09 =  trace_phase_bound(P_fus0, T_fus0, 136, \n",
    "                                            mgpv_eos, liq_eos_dK09, Vinit2=9, \n",
    "                                                         full_output=True)\n"
   ]
  },
  {
   "cell_type": "code",
   "execution_count": null,
   "metadata": {},
   "outputs": [],
   "source": [
    "P_fus_hybrid0, T_fus_hybrid0 =  trace_inconsistent_hybrid_phase_bound(\n",
    "    P_fus0, T_fus0, 136, mgpv_eos, liq_eos, liq_eos_dK09, Vinit_liq_compress=9)\n"
   ]
  },
  {
   "cell_type": "code",
   "execution_count": null,
   "metadata": {},
   "outputs": [],
   "source": [
    "P_fus_hybrid, T_fus_hybrid, output_hybrid =  trace_hybrid_phase_bound(\n",
    "    P_fus0, T_fus0, 136, mgpv_eos, liq_eos, liq_eos_dK09, full_output=True)\n"
   ]
  },
  {
   "cell_type": "code",
   "execution_count": null,
   "metadata": {},
   "outputs": [],
   "source": [
    "T_fus0"
   ]
  },
  {
   "cell_type": "code",
   "execution_count": null,
   "metadata": {},
   "outputs": [],
   "source": [
    "P_fus_dK09, T_fus_dK09, output_dK09 =  trace_phase_bound(P_fus0, T_fus0, 12.5, \n",
    "                                            mgpv_eos, liq_eos_dK09, Vinit2=9, \n",
    "                                                         full_output=True)\n",
    "P_fus_hybrid, T_fus_hybrid, output_hybrid =  trace_hybrid_phase_bound(\n",
    "    P_fus0, T_fus0, 12.5, mgpv_eos, liq_eos, liq_eos_dK09, full_output=True)\n"
   ]
  },
  {
   "cell_type": "code",
   "execution_count": null,
   "metadata": {},
   "outputs": [],
   "source": [
    "T0=1400\n",
    "P_fus_dK09, T_fus_dK09, output_dK09 =  trace_phase_bound(10, T0, 25, \n",
    "                                            mgpv_eos, liq_eos_dK09, Vinit2=9, \n",
    "                                                         full_output=True)\n",
    "P_fus_hybrid, T_fus_hybrid, output_hybrid =  trace_hybrid_phase_bound(\n",
    "    10, T0, 25, mgpv_eos, liq_eos, liq_eos_dK09, full_output=True)\n"
   ]
  },
  {
   "cell_type": "code",
   "execution_count": null,
   "metadata": {},
   "outputs": [],
   "source": [
    "plt.figure()\n",
    "plt.plot(P_fus_dK09, output_dK09['V1'], 'k--',\n",
    "        P_fus_dK09, output_dK09['V2'], 'r-')\n",
    "plt.title('Vol')\n",
    "\n",
    "plt.figure()\n",
    "plt.plot(P_fus_dK09, output_dK09['S1'], 'k--',\n",
    "        P_fus_dK09, output_dK09['S2'], 'r-')\n",
    "plt.title('Entropy')\n",
    "\n",
    "\n",
    "plt.figure()\n",
    "plt.plot(P_fus_dK09, output_dK09['dS'], 'k--',\n",
    "        P_fus_hybrid, output_hybrid['dS'], 'r-')\n",
    "plt.title('dS')\n",
    "\n",
    "plt.figure()\n",
    "plt.plot(P_fus_dK09, output_dK09['dV'], 'k--',\n",
    "        P_fus_hybrid, output_hybrid['dV'], 'r-')\n",
    "plt.title('dV')\n",
    "\n",
    "plt.figure()\n",
    "plt.plot(P_fus_dK09, T_fus_dK09, 'k--',\n",
    "        P_fus_hybrid, T_fus_hybrid, 'r-')\n",
    "plt.title('Melt curve')\n",
    "\n"
   ]
  },
  {
   "cell_type": "code",
   "execution_count": null,
   "metadata": {},
   "outputs": [],
   "source": []
  },
  {
   "cell_type": "code",
   "execution_count": null,
   "metadata": {},
   "outputs": [],
   "source": []
  },
  {
   "cell_type": "code",
   "execution_count": null,
   "metadata": {},
   "outputs": [],
   "source": [
    "plt.figure()\n",
    "\n",
    "plt.plot(P_fus_hybrid, Vliq_hybrid,'k-',P_fus_hybrid,Vsol_hybrid,'b-')"
   ]
  },
  {
   "cell_type": "code",
   "execution_count": null,
   "metadata": {},
   "outputs": [],
   "source": [
    "plt.figure()\n",
    "plt.plot(P_fus, T_fus-2900, 'b-',\n",
    "        P_fus_dK09, (T_fus_dK09-2900), 'r-',\n",
    "        P_fus_hybrid0, T_fus_hybrid0-2900, 'k--',\n",
    "        P_fus_hybrid, T_fus_hybrid-2900, 'g--')\n",
    "plt.legend(['S11','dK09','crap-hybrid','hybrid'])\n"
   ]
  },
  {
   "cell_type": "code",
   "execution_count": null,
   "metadata": {},
   "outputs": [],
   "source": []
  },
  {
   "cell_type": "code",
   "execution_count": null,
   "metadata": {},
   "outputs": [],
   "source": [
    "plt.figure()\n",
    "plt.plot(P_fus_hybrid,T_fus_hybrid)"
   ]
  },
  {
   "cell_type": "code",
   "execution_count": null,
   "metadata": {},
   "outputs": [],
   "source": []
  },
  {
   "cell_type": "code",
   "execution_count": null,
   "metadata": {},
   "outputs": [],
   "source": [
    "# V_hybrid = np.array([hybrid_volume(iP,iT)[0] for (iP,iT) in zip(P_fus_hybrid, T_fus_hybrid)])\n",
    "S_liq = hybrid_entropy(Vliq_hybrid, T_fus_hybrid)\n",
    "#V_sol = np.array([volume(iP,iT, mgpv_eos) for (iP,iT) in zip(P_fus_hybrid, T_fus_hybrid)])\n",
    "# mgpv_eos.\n",
    "S_sol = mgpv_eos.entropy(Vsol_hybrid, T_fus_hybrid)"
   ]
  },
  {
   "cell_type": "code",
   "execution_count": null,
   "metadata": {},
   "outputs": [],
   "source": [
    "plt.figure()\n",
    "\n",
    "plt.plot(P_fus_hybrid, S_liq,'k-',P_fus_hybrid,S_sol,'b-')\n",
    "\n",
    "plt.figure()\n",
    "\n",
    "plt.plot(P_fus_hybrid[1:], np.diff(S_liq)/np.diff(P_fus_hybrid),'b-')"
   ]
  },
  {
   "cell_type": "code",
   "execution_count": null,
   "metadata": {},
   "outputs": [],
   "source": []
  },
  {
   "cell_type": "code",
   "execution_count": null,
   "metadata": {},
   "outputs": [],
   "source": [
    "Vmod = np.linspace(6,15,100)\n",
    "\n",
    "T_S0 = liq_eos.ref_temp_adiabat(Vmod)\n",
    "T_S0_dK09 = liq_eos_dK09.ref_temp_adiabat(Vmod)\n",
    "\n",
    "Pmod = liq_eos_dK09.press(Vmod, T_S0)"
   ]
  },
  {
   "cell_type": "code",
   "execution_count": null,
   "metadata": {},
   "outputs": [],
   "source": [
    "plt.figure()\n",
    "plt.plot(Vmod, T_S0, 'k-', Vmod, T_S0_dK09,'r--')\n",
    "\n",
    "plt.figure()\n",
    "plt.plot(Pmod, T_S0, 'k-', Pmod, T_S0_dK09,'r--')\n"
   ]
  },
  {
   "cell_type": "code",
   "execution_count": null,
   "metadata": {},
   "outputs": [],
   "source": [
    "\n",
    "plt.figure()\n",
    "plt.plot(P_fus, T_fus-2900, 'b-',\n",
    "        P_fus_dK09, (T_fus_dK09-2900)/1.5, 'r--')\n",
    "plt.legend(['S11','dK09 scaled'])\n",
    "#plt.ylim(2500,5000)"
   ]
  },
  {
   "cell_type": "code",
   "execution_count": null,
   "metadata": {},
   "outputs": [],
   "source": []
  },
  {
   "cell_type": "code",
   "execution_count": null,
   "metadata": {},
   "outputs": [],
   "source": []
  },
  {
   "cell_type": "markdown",
   "metadata": {},
   "source": [
    "# NOTE: Vinit value is off by 2% for some reason, needs addressing"
   ]
  },
  {
   "cell_type": "code",
   "execution_count": null,
   "metadata": {},
   "outputs": [],
   "source": [
    "liq_thermal_eos = liq_eos\n",
    "liq_compress_eos = liq_eos_dK09\n",
    "\n",
    "Pinit = P_fus0\n",
    "Tinit = T_fus0\n",
    "Vinit = liq_compress_eos.volume(Pinit, Tinit)\n",
    "dV = 0.01*Vinit\n",
    "\n",
    "dPdT = liq_compress_eos.press(Vinit, Tinit+.5)-liq_compress_eos.press(Vinit, Tinit-.5)\n",
    "Cv = liq_thermal_eos.heat_capacity(Vinit, Tinit)\n",
    "gamma_hybrid = Vinit*dPdT/Cv/CONSTS['PV_ratio']\n",
    "\n",
    "gamma_compress = liq_compress_eos.gamma(Vinit, Tinit)\n",
    "gamma_thermal = liq_thermal_eos.gamma(Vinit, Tinit)\n",
    "\n",
    "dTdV = -gamma_hybrid*Tinit/Vinit\n",
    "print(dTdV)\n",
    "dT = -dTdV*dV\n",
    "T = Tinit+dT\n",
    "print(T)\n",
    "print(gamma_compress, gamma_thermal, gamma_hybrid)"
   ]
  },
  {
   "cell_type": "code",
   "execution_count": null,
   "metadata": {},
   "outputs": [],
   "source": []
  },
  {
   "cell_type": "code",
   "execution_count": null,
   "metadata": {},
   "outputs": [],
   "source": []
  },
  {
   "cell_type": "code",
   "execution_count": null,
   "metadata": {},
   "outputs": [],
   "source": []
  },
  {
   "cell_type": "code",
   "execution_count": null,
   "metadata": {},
   "outputs": [],
   "source": []
  },
  {
   "cell_type": "code",
   "execution_count": null,
   "metadata": {},
   "outputs": [],
   "source": [
    "def trace_hybrid_adiabat(Pinit, Tinit, Plim, liq_thermal_eos, liq_compress_eos,\n",
    "                         Vinit=None, N=100):\n",
    "    \n",
    "    Pad = np.zeros(N)\n",
    "    Tad = np.zeros(N)\n",
    "    gamma = np.zeroes(N)\n",
    "    Tad[0] = Tinit\n",
    "    Pad[0] = Pinit\n",
    "    \n",
    "    Vinit = volume(Pinit, Tinit, liq_compress_eos, Vinit=Vinit)\n",
    "    dV = 0.01*Vinit\n",
    "\n",
    "    for ind, (P, T) in enumerate(zip(Pbound[:-1], Tbound[:-1])):\n",
    "        Pinit = liq_compress_eos.\n",
    "        dPdT = (liq_compress_eos.press(Vinit, Tinit+.5)\n",
    "                - liq_compress_eos.press(Vinit, Tinit-.5))\n",
    "        Cv = liq_thermal_eos.heat_capacity(Vinit, Tinit)\n",
    "        gamma_hybrid = Vinit*dPdT/Cv/CONSTS['PV_ratio']\n",
    "        \n",
    "        dTdV = -gamma_hybrid*Tinit/Vinit\n",
    "\n",
    "        dT = -dTdV*dV\n",
    "        \n",
    "        \n",
    "        gamma[ind] = gamma_hybrid\n",
    "        Tad[ind+1] = Tinit+dT\n",
    "        Pad[ind]\n",
    "        \n",
    "        \n",
    "        \n",
    "        Vsol = volume(P, T, sol_eos, Vinit=Vsol_init)\n",
    "        Vliq = volume(P, T, liq_compress_eos, Vinit=Vliq_init)\n",
    "        \n",
    "        dV = Vliq-Vsol\n",
    "        dS = (liq_thermal_eos.entropy(Vliq, T) \n",
    "              - sol_eos.entropy(Vsol, T))[0]\n",
    "        \n",
    "        dTdP = dV/dS/CONSTS['PV_ratio']\n",
    "        dT = dTdP*dP\n",
    "        \n",
    "        Pbound[ind+1] = P+dP\n",
    "        Tbound[ind+1] = T+dT\n",
    "        \n",
    "        Vsol_init = Vsol\n",
    "        Vliq_init = Vliq\n",
    "\n",
    "    return Pbound, Tbound"
   ]
  },
  {
   "cell_type": "code",
   "execution_count": null,
   "metadata": {},
   "outputs": [],
   "source": []
  },
  {
   "cell_type": "code",
   "execution_count": null,
   "metadata": {},
   "outputs": [],
   "source": []
  },
  {
   "cell_type": "code",
   "execution_count": null,
   "metadata": {},
   "outputs": [],
   "source": [
    "liq_eos.heat_capacity(Vmod,T_S0)"
   ]
  },
  {
   "cell_type": "code",
   "execution_count": null,
   "metadata": {},
   "outputs": [],
   "source": [
    "(liq_eos.internal_energy(Vmod,T_S0+.5)-liq_eos.internal_energy(Vmod,T_S0-.5))/liq_eos.heat_capacity(Vmod,T_S0)"
   ]
  },
  {
   "cell_type": "code",
   "execution_count": null,
   "metadata": {},
   "outputs": [],
   "source": []
  }
 ],
 "metadata": {
  "kernelspec": {
   "display_name": "Python 3",
   "language": "python",
   "name": "python3"
  },
  "language_info": {
   "codemirror_mode": {
    "name": "ipython",
    "version": 3
   },
   "file_extension": ".py",
   "mimetype": "text/x-python",
   "name": "python",
   "nbconvert_exporter": "python",
   "pygments_lexer": "ipython3",
   "version": "3.6.2"
  }
 },
 "nbformat": 4,
 "nbformat_minor": 2
}
