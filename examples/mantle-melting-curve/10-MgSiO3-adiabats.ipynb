{
 "cells": [
  {
   "cell_type": "markdown",
   "metadata": {},
   "source": [
    "# Compare MgSiO3 adiabats for different liquid models\n",
    "* electronic contribution ignored due to bug in adiabatic calculation\n",
    "* Compare RTpress dK09 and S11 models, as well as hybrid eos"
   ]
  },
  {
   "cell_type": "code",
   "execution_count": null,
   "metadata": {},
   "outputs": [],
   "source": [
    "%run core.ipynb\n",
    "\n",
    "analysis = load_analysis()\n",
    "\n",
    "datamodel = analysis['datamodel']\n",
    "datamodel_dK09 = analysis['datamodel_dK09']\n",
    "liq_eos_S11 = datamodel['eos_mod']\n",
    "liq_eos_dK09 = datamodel_dK09['eos_mod']\n",
    "liq_eos_S11.apply_electronic = False\n",
    "liq_eos_dK09.apply_electronic = False\n",
    "\n",
    "# liq_eos_S11.apply_electronic = True\n",
    "# liq_eos_dK09.apply_electronic = True"
   ]
  },
  {
   "cell_type": "code",
   "execution_count": null,
   "metadata": {},
   "outputs": [],
   "source": [
    "mgpv_eos = eoslib.MgPv_Mosenfelder2009()"
   ]
  },
  {
   "cell_type": "code",
   "execution_count": null,
   "metadata": {},
   "outputs": [],
   "source": [
    "liq_thermal_eos = liq_eos_S11\n",
    "liq_compress_eos = liq_eos_dK09\n",
    "sol_eos = mgpv_eos"
   ]
  },
  {
   "cell_type": "code",
   "execution_count": null,
   "metadata": {},
   "outputs": [],
   "source": []
  },
  {
   "cell_type": "markdown",
   "metadata": {},
   "source": [
    "## Adjust liquid entropies at well-constrained fusion location"
   ]
  },
  {
   "cell_type": "code",
   "execution_count": null,
   "metadata": {},
   "outputs": [],
   "source": [
    "P_fus0 = 25\n",
    "T_fus0 = 2900\n",
    "dS_fus0=1.5\n",
    "Pmax = 150.0\n",
    "\n",
    "\n",
    "Vsol_fus0 = volume(P_fus0, T_fus0, sol_eos)\n",
    "S_sol0 = sol_eos.entropy(Vsol_fus0, T_fus0)\n",
    "S_fus0 = S_sol0 + dS_fus0*CONSTS['kboltz']"
   ]
  },
  {
   "cell_type": "code",
   "execution_count": null,
   "metadata": {},
   "outputs": [],
   "source": [
    "adjust_fusion_entropy(liq_eos_dK09, S_fus0, P_fus0, T_fus0, Vinit=9)\n",
    "adjust_fusion_entropy(liq_eos_S11, S_fus0, P_fus0, T_fus0, Vinit=9)\n",
    "liq_eos_hybrid = HybridEos(liq_compress_eos, liq_thermal_eos, \n",
    "                       PTS_fus0=(P_fus0, T_fus0, S_fus0), fix_ref_adiabat=True)"
   ]
  },
  {
   "cell_type": "code",
   "execution_count": null,
   "metadata": {},
   "outputs": [],
   "source": []
  },
  {
   "cell_type": "code",
   "execution_count": null,
   "metadata": {},
   "outputs": [],
   "source": [
    "V_fus0_dK09 = volume(P_fus0, T_fus0, liq_eos_dK09, Vinit=9)\n",
    "V_fus0_S11 = volume(P_fus0, T_fus0, liq_eos_S11, Vinit=9)\n",
    "\n",
    "print('P_fus0 = ', liq_eos_dK09.press(V_fus0_dK09, T_fus0))\n",
    "print('P_fus0 = ', liq_eos_S11.press(V_fus0_S11, T_fus0))\n",
    "\n",
    "print('dS_fus0/kboltz = ', (liq_eos_dK09.entropy(V_fus0_dK09, T_fus0)-S_fus0)/CONSTS['kboltz'])\n",
    "print('dS_fus0/kboltz = ', (liq_eos_S11.entropy(V_fus0_S11, T_fus0)-S_fus0)/CONSTS['kboltz'])"
   ]
  },
  {
   "cell_type": "code",
   "execution_count": null,
   "metadata": {},
   "outputs": [],
   "source": []
  },
  {
   "cell_type": "code",
   "execution_count": null,
   "metadata": {},
   "outputs": [],
   "source": []
  },
  {
   "cell_type": "markdown",
   "metadata": {},
   "source": [
    "## Integrate Adiabats"
   ]
  },
  {
   "cell_type": "code",
   "execution_count": null,
   "metadata": {},
   "outputs": [],
   "source": [
    "P_ad_hybrid, V_ad_hybrid, T_ad_hybrid = integrate_adiabat(\n",
    "    P_fus0, T_fus0, liq_eos_hybrid, Pmin=0, Pmax=Pmax)\n",
    "\n",
    "P_ad_dK09, V_ad_dK09, T_ad_dK09 = integrate_adiabat(\n",
    "    P_fus0, T_fus0, liq_eos_dK09, Pmin=0, Pmax=Pmax)\n",
    "\n",
    "P_ad_S11, V_ad_S11, T_ad_S11 = integrate_adiabat(\n",
    "    P_fus0, T_fus0, liq_eos_S11, Pmin=0, Pmax=Pmax)\n",
    "\n",
    "\n",
    "P_sol_ad, V_sol_ad, T_sol_ad = integrate_adiabat(\n",
    "    P_fus0, T_fus0, sol_eos, Pmin=0, Pmax=Pmax)\n",
    "\n",
    "# P_sol_ad = np.linspace(P_fus0, Pmax, 101)\n",
    "# V_sol_ad, T_sol_ad = sol_eos.adiabatic_path(T_fus0, P_sol_ad)"
   ]
  },
  {
   "cell_type": "code",
   "execution_count": null,
   "metadata": {},
   "outputs": [],
   "source": []
  },
  {
   "cell_type": "code",
   "execution_count": null,
   "metadata": {},
   "outputs": [],
   "source": [
    "plt.figure()\n",
    "plt.plot(P_ad_hybrid, T_ad_hybrid, 'k-', lw=3, label='Hybrid ad')\n",
    "plt.plot(P_ad_dK09, T_ad_dK09, 'r--', label='dK09 ad')\n",
    "plt.plot(P_ad_S11, T_ad_S11, 'b--', label='S11 ad')\n",
    "plt.plot(P_sol_ad, T_sol_ad, 'g:', label='Mg-Pv')\n",
    "\n",
    "\n",
    "plt.title('MgSiO3 Adiabats')\n",
    "plt.xlabel('Pressure  [ GPa ]')\n",
    "plt.ylabel('Temperature  [ K ]')\n",
    "plt.legend()"
   ]
  },
  {
   "cell_type": "code",
   "execution_count": null,
   "metadata": {},
   "outputs": [],
   "source": []
  },
  {
   "cell_type": "markdown",
   "metadata": {},
   "source": [
    "## Validate consistency of adiabats "
   ]
  },
  {
   "cell_type": "code",
   "execution_count": null,
   "metadata": {},
   "outputs": [],
   "source": [
    "S_ad_S11 = liq_eos_S11.entropy(V_ad_S11, T_ad_S11)\n",
    "S_ad_dK09 = liq_eos_dK09.entropy(V_ad_dK09, T_ad_dK09)\n",
    "S_ad_hybrid = liq_eos_hybrid.entropy(V_ad_hybrid, T_ad_hybrid)\n",
    "S_sol_ad = sol_eos.entropy(V_sol_ad, T_sol_ad)\n",
    "\n",
    "\n",
    "dS_ad_S11 = (S_ad_S11-np.mean(S_ad_S11))/(S_fus0-S_sol0)\n",
    "dS_ad_dK09 = (S_ad_dK09-np.mean(S_ad_dK09))/(S_fus0-S_sol0)\n",
    "dS_ad_hybrid = (S_ad_hybrid-np.mean(S_ad_hybrid))/(S_fus0-S_sol0)\n",
    "dS_sol_ad = (S_sol_ad-np.mean(S_sol_ad))/(S_fus0-S_sol0)\n"
   ]
  },
  {
   "cell_type": "code",
   "execution_count": null,
   "metadata": {},
   "outputs": [],
   "source": [
    "plt.figure()\n",
    "plt.plot(P_ad_hybrid, 100*dS_ad_hybrid, 'k-')\n",
    "plt.plot(P_ad_dK09, 100*dS_ad_dK09, 'r--')\n",
    "plt.plot(P_ad_S11, 100*dS_ad_S11, 'b--')\n",
    "plt.plot(P_sol_ad, 100*dS_sol_ad, 'g:')\n",
    "\n",
    "plt.title('Relative entropy deviation along adiabat')\n",
    "plt.xlabel('Pressure  [ GPa ]')\n",
    "plt.ylabel('$\\Delta S$ / $S_{fus}$  [ % ]')"
   ]
  },
  {
   "cell_type": "code",
   "execution_count": null,
   "metadata": {},
   "outputs": [],
   "source": []
  },
  {
   "cell_type": "code",
   "execution_count": null,
   "metadata": {},
   "outputs": [],
   "source": [
    "analysis['liq_eos_hybrid'] = liq_eos_hybrid\n",
    "analysis['liq_eos_S11'] = liq_eos_S11\n",
    "analysis['liq_eos_dK09'] = liq_eos_dK09\n",
    "analysis['sol_eos'] = sol_eos\n",
    "\n",
    "analysis['P_fus0'] = P_fus0\n",
    "analysis['T_fus0'] = T_fus0\n",
    "analysis['dS_fus0'] = dS_fus0\n",
    "analysis['S_fus0'] = S_fus0\n",
    "\n",
    "save_analysis(analysis)"
   ]
  },
  {
   "cell_type": "code",
   "execution_count": null,
   "metadata": {},
   "outputs": [],
   "source": []
  }
 ],
 "metadata": {
  "kernelspec": {
   "display_name": "Python 3",
   "language": "python",
   "name": "python3"
  },
  "language_info": {
   "codemirror_mode": {
    "name": "ipython",
    "version": 3
   },
   "file_extension": ".py",
   "mimetype": "text/x-python",
   "name": "python",
   "nbconvert_exporter": "python",
   "pygments_lexer": "ipython3",
   "version": "3.6.2"
  }
 },
 "nbformat": 4,
 "nbformat_minor": 2
}
