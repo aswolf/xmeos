{
 "cells": [
  {
   "cell_type": "code",
   "execution_count": null,
   "metadata": {},
   "outputs": [],
   "source": [
    "import matplotlib.pyplot as plt\n",
    "from mpl_toolkits.axes_grid1 import make_axes_locatable\n",
    "%matplotlib notebook\n",
    "import numpy as np\n",
    "import pandas as pd\n",
    "from scipy import interpolate\n",
    "from scipy import interpolate\n",
    "import scipy as sp\n",
    "import pickle\n",
    "\n",
    "import xmeos\n",
    "from xmeos import models\n",
    "from xmeos import datamod\n",
    "from xmeos import eoslib\n",
    "\n",
    "from collections import OrderedDict\n",
    "CONSTS = models.CONSTS"
   ]
  },
  {
   "cell_type": "code",
   "execution_count": null,
   "metadata": {
    "code_folding": []
   },
   "outputs": [],
   "source": [
    "def write_output( file_name, data_tbl_a, data_units_a,\n",
    "                 param_d, comment=\"\" ):\n",
    "\n",
    "    '''Write output.'''\n",
    "\n",
    "    file_path = param_d['datadir']+file_name\n",
    "    data_units = ' '.join([np.str(unit_val) for unit_val in data_units_a])\n",
    "    header = param_d['header_default']+data_units\n",
    "    size = '5 ' + str(int(data_tbl_a.shape[0])) + '\\n'\n",
    "    header = size + header\n",
    "    if comment is not \"\":\n",
    "        header = header + '\\n' + comment\n",
    "    np.savetxt( file_path, data_tbl_a, header=header)\n",
    "\n",
    "#====================================================================\n",
    "def write_data_table( file_name, data_cols_L, data_units_L,\n",
    "                     param_d, comment=\"\" ):\n",
    "\n",
    "    '''Write data table with scale factors for each column.\n",
    "\n",
    "    Input:\n",
    "        file_name: string giving path to data file\n",
    "        data_cols_L: list of arrays defining each column\n",
    "        data_units_L: list of scale factors or string IDs (keys for param_d)\n",
    "            referring to each scale factor\n",
    "        param_d: dictionary containing output header and scale \n",
    "            factor info'''\n",
    "\n",
    "    data_units_a = []\n",
    "    for units in data_units_L:\n",
    "        if isinstance( units, str ):\n",
    "            data_units_a.append( param_d[units] )\n",
    "        else:\n",
    "            data_units_a.append( units )\n",
    "\n",
    "    data_units_a = np.array( data_units_a )\n",
    "    data_tbl_a = np.vstack( data_cols_L ).T\n",
    "    write_output( file_name, data_tbl_a, data_units_a, param_d, comment=comment )\n",
    "    \n",
    "    \n",
    "def get_output_constants(mass_avg, datadir):\n",
    "    Nmol=6.0221413e+23\n",
    "    output_d = OrderedDict()\n",
    "    output_d['header_default'] = \"Pressure, Entropy, Quantity\\n\"\\\n",
    "        \"column * scaling factor should be SI units\\n\"\\\n",
    "        \"scaling factors (constant) for each column given on line below\\n\"\n",
    "    #output_d['datadir'] = 'data/lookup/lookup-rough/'\n",
    "    #output_d['datadir'] = 'data/lookup/lookup-hires/'\n",
    "    # output_d['datadir'] = 'data/lookup/lookup-hires-RTmelt/'\n",
    "    output_d['datadir'] = datadir\n",
    "\n",
    "    # NOTE: All extensive quantities changed from per atom to per unit mass\n",
    "    # assert 'mass_avg' in param_d, \"'mass_avg' must be set in param_d \" \\\n",
    "    #     \"in order to report extensive quantities per unit mass\"\n",
    "    # assert 'Nmol' in param_d, \"'Nmol' is unset in param_d\"\n",
    "\n",
    "    # All output constants in mks units\n",
    "    output_d['1'] = 1 # No unit change\n",
    "    output_d['g'] = 1e-3 # mass [g] -> [kg]\n",
    "    output_d['per_mass']  = Nmol/(mass_avg*output_d['g'])\n",
    "\n",
    "    output_d['GPa'] = 1e9 # P:  [GPa] -> [Pa]\n",
    "    output_d['GPa-1'] = 1e-9 # 1/P:  [1/GPa] -> [1/Pa]\n",
    "    output_d['eV'] = 1.60217657e-19 \\\n",
    "        *output_d['per_mass'] # E, H, T*S, T*Cp:  [eV/atom] -> [J/kg]\n",
    "    output_d['g_cc'] = 1e3 # rho:  [g/cc] -> [kg/m^3]\n",
    "    return output_d\n",
    "\n",
    "\n",
    "def write_all_data_tables(phasename, props, datadir='./'):\n",
    "    \"\"\"\n",
    "    Write phase-specific data files\n",
    "    \"\"\"\n",
    "\n",
    "    output = get_output_constants(props['molar_mass'], datadir)\n",
    "    \n",
    "    write_data_table('temperature_' + phasename + '.dat',\n",
    "                     (props[key].ravel() for key in \n",
    "                      ('P', 'S', 'T')),\n",
    "                     ('GPa', 'eV', 1), output)\n",
    "    write_data_table('density_' + phasename + '.dat',\n",
    "                     (props[key].ravel() for key in \n",
    "                      ('P', 'S', 'rho')),\n",
    "                     ('GPa', 'eV','g_cc'), output)\n",
    "    write_data_table('heat_capacity_' + phasename + '.dat',\n",
    "                     (props[key].ravel() for key in \n",
    "                      ('P', 'S', 'C_P')),\n",
    "                     ('GPa','eV','eV'), output)\n",
    "    write_data_table('thermal_exp_' + phasename + '.dat',\n",
    "                     (props[key].ravel() for key in \n",
    "                      ('P', 'S', 'alpha')),\n",
    "                     ('GPa','eV',1), output)\n",
    "    write_data_table('adiabat_temp_grad_'+phasename+'.dat',\n",
    "                     (props[key].ravel() for key in \n",
    "                      ('P', 'S', 'dTdP_S')),\n",
    "                     ('GPa','eV','GPa-1'), output)\n",
    "    pass"
   ]
  },
  {
   "cell_type": "code",
   "execution_count": null,
   "metadata": {},
   "outputs": [],
   "source": []
  },
  {
   "cell_type": "code",
   "execution_count": null,
   "metadata": {},
   "outputs": [],
   "source": [
    "# 5 301\n",
    "# Pressure, Entropy, Quantity\n",
    "# column * scaling factor should be SI units\n",
    "# scaling factors (constant) for each column given on line below\n",
    "# 55692628932.82327 2993.025100070677\n"
   ]
  },
  {
   "cell_type": "code",
   "execution_count": null,
   "metadata": {},
   "outputs": [],
   "source": []
  },
  {
   "cell_type": "code",
   "execution_count": null,
   "metadata": {
    "code_folding": [
     0
    ]
   },
   "outputs": [],
   "source": [
    "def volume(P, T, eos_mod, Vinit=None, TOL=1e-3, bounds_error=True):\n",
    "\n",
    "\n",
    "    def press_diff(V, P=P, T=T):\n",
    "        return eos_mod.press(V, T) - P\n",
    "\n",
    "    def press_diff_sqr(V, P=P, T=T):\n",
    "        return (eos_mod.press(V, T) - P)**2\n",
    "\n",
    "    def press_deriv(V, P=P, T=T):\n",
    "        K = eos_mod.bulk_mod(V, T)\n",
    "        dPdV = -K/V\n",
    "        return dPdV\n",
    "\n",
    "    \n",
    "    if Vinit is None:\n",
    "        V0, = eos_mod.get_param_values(param_names='V0')\n",
    "        V_min0 = 0.8*V0\n",
    "    else:\n",
    "        V_min0 = Vinit\n",
    "        \n",
    "    V_min = sp.optimize.fmin(press_diff, V_min0, disp=False)\n",
    "\n",
    "    #assert np.isscalar(Vinit), 'Vinit must be a scalar val.'\n",
    "    # V = sp.optimize.fsolve(press_diff, Vinit, fprime=press_deriv)\n",
    "    \n",
    "    #V_min = sp.optimize.fmin(press_diff, Vinit, disp=False)\n",
    "\n",
    "    if +press_diff(V_min) > +TOL:\n",
    "        if bounds_error:\n",
    "            raise ValueError(\n",
    "                'The EOS is being sampled at an unphysical '\n",
    "                'location! The target pressure is not accesible '\n",
    "                'at this temperature.'\n",
    "            )\n",
    "        V = np.nan\n",
    "\n",
    "    elif Vinit is None:\n",
    "        output = sp.optimize.minimize(\n",
    "            press_diff_sqr, [0.8*V_min], bounds=[(None, V_min)],\n",
    "            options={'disp':False})\n",
    "        V, = output.x\n",
    "\n",
    "    else:\n",
    "        #output = sp.optimize.minimize(\n",
    "        #    press_diff_sqr, [Vinit], bounds=[(None, V_min)],\n",
    "        #    options={'disp':False})\n",
    "        #V, = output.x\n",
    "        V = sp.optimize.fsolve(press_diff, Vinit, fprime=press_deriv)\n",
    "    return V\n"
   ]
  },
  {
   "cell_type": "code",
   "execution_count": null,
   "metadata": {
    "code_folding": []
   },
   "outputs": [],
   "source": [
    "def adjust_fusion_entropy(liq_eos, S_fus0, P_fus0, T_fus0, Vinit=9):\n",
    "    Vliq_fus0 = volume(P_fus0, T_fus0, liq_eos, Vinit=Vinit)[0]\n",
    "    S0 = liq_eos_S11.get_param_values('S0')\n",
    "    \n",
    "    S0 = liq_eos.get_param_values('S0')\n",
    "    dS_adj = liq_eos.entropy(Vliq_fus0, T_fus0) - S_fus0\n",
    "    \n",
    "    S0 -= dS_adj\n",
    "    liq_eos.set_param_values(param_names='S0', param_values=S0)\n",
    "    print('S_fus0 diff = ', \n",
    "          liq_eos.entropy(Vliq_fus0, T_fus0)-S_fus0)"
   ]
  },
  {
   "cell_type": "code",
   "execution_count": null,
   "metadata": {},
   "outputs": [],
   "source": []
  },
  {
   "cell_type": "code",
   "execution_count": null,
   "metadata": {},
   "outputs": [],
   "source": [
    "sol_eos = eoslib.MgPv_Mosenfelder2009()"
   ]
  },
  {
   "cell_type": "code",
   "execution_count": null,
   "metadata": {},
   "outputs": [],
   "source": [
    "%run core.ipynb\n",
    "\n",
    "analysis = load_analysis()"
   ]
  },
  {
   "cell_type": "code",
   "execution_count": null,
   "metadata": {},
   "outputs": [],
   "source": [
    "datamodel = analysis['datamodel']\n",
    "datamodel_dK09 = analysis['datamodel_dK09']\n",
    "data = datamodel['data']\n",
    "liq_eos_S11 = datamodel['eos_mod']\n",
    "liq_eos_dK09 = datamodel_dK09['eos_mod']\n",
    "\n",
    "# eos_mod.apply_electronic = True\n",
    "# eos_mod_dK09.apply_electronic = True\n",
    "liq_eos_S11.apply_electronic = False\n",
    "liq_eos_dK09.apply_electronic = False"
   ]
  },
  {
   "cell_type": "code",
   "execution_count": null,
   "metadata": {},
   "outputs": [],
   "source": []
  },
  {
   "cell_type": "code",
   "execution_count": null,
   "metadata": {},
   "outputs": [],
   "source": [
    "P_fus0 = 25\n",
    "T_fus0 = 2900\n",
    "dS_fus=1.5\n",
    "\n",
    "Vsol_fus0 = volume(P_fus0, T_fus0, sol_eos)\n",
    "S_sol0 = sol_eos.entropy(Vsol_fus0, T_fus0)\n",
    "S_fus0 = S_sol0 + dS_fus*CONSTS['kboltz']\n",
    "\n",
    "adjust_fusion_entropy(liq_eos_S11, S_fus0, P_fus0, T_fus0, Vinit=9)\n",
    "adjust_fusion_entropy(liq_eos_dK09, S_fus0, P_fus0, T_fus0, Vinit=9)"
   ]
  },
  {
   "cell_type": "code",
   "execution_count": null,
   "metadata": {},
   "outputs": [],
   "source": []
  },
  {
   "cell_type": "code",
   "execution_count": null,
   "metadata": {},
   "outputs": [],
   "source": []
  },
  {
   "cell_type": "code",
   "execution_count": null,
   "metadata": {},
   "outputs": [],
   "source": [
    "def get_adiabatic_props(Pgrid, Tfoot_grid, eos):\n",
    "    Vad_grid, Tad_grid = eos.adiabatic_path_grid(Tfoot_grid, Pgrid)\n",
    "    props = eos.material_properties(Vad_grid, Tad_grid)\n",
    "    props['molar_mass'] = eos.molar_mass\n",
    "    return props"
   ]
  },
  {
   "cell_type": "code",
   "execution_count": null,
   "metadata": {},
   "outputs": [],
   "source": [
    "# Original data tables:\n",
    "# dP = 1/2 GPa\n",
    "# dT = 30 K\n",
    "# roughly 300 Press pts by 300 entropy pts = 10^5 data values\n",
    "# For \n",
    "\n",
    "Pgrid = np.arange(0,1.01e3,0.5)\n",
    "Tfoot_grid_liq = np.arange(1e3,4401,30)\n",
    "Tfoot_grid_sol = np.arange(260,4001,30)"
   ]
  },
  {
   "cell_type": "code",
   "execution_count": null,
   "metadata": {},
   "outputs": [],
   "source": [
    "# sol_props = get_adiabatic_props(Pgrid, Tfoot_grid_sol, sol_eos)"
   ]
  },
  {
   "cell_type": "code",
   "execution_count": null,
   "metadata": {},
   "outputs": [],
   "source": [
    "# Pgrid = np.arange(0, 1.01e3, 0.5)\n",
    "# Tfoot_grid_liq = np.arange(1e3,3850,30)\n",
    "# liq_props = get_adiabatic_props(Pgrid, Tfoot_grid_liq, liq_eos_dK09)"
   ]
  },
  {
   "cell_type": "code",
   "execution_count": null,
   "metadata": {},
   "outputs": [],
   "source": []
  },
  {
   "cell_type": "code",
   "execution_count": null,
   "metadata": {},
   "outputs": [],
   "source": [
    "# write_all_data_tables('solid', sol_props, \n",
    "#                       datadir='data_tables/1TPa-dK09-elec-free/')"
   ]
  },
  {
   "cell_type": "code",
   "execution_count": null,
   "metadata": {},
   "outputs": [],
   "source": [
    "# write_all_data_tables('melt', liq_props, \n",
    "#                       datadir='data_tables/1TPa-dK09-elec-free/')"
   ]
  },
  {
   "cell_type": "code",
   "execution_count": null,
   "metadata": {},
   "outputs": [],
   "source": []
  },
  {
   "cell_type": "code",
   "execution_count": null,
   "metadata": {},
   "outputs": [],
   "source": []
  },
  {
   "cell_type": "code",
   "execution_count": null,
   "metadata": {},
   "outputs": [],
   "source": []
  },
  {
   "cell_type": "code",
   "execution_count": null,
   "metadata": {},
   "outputs": [],
   "source": []
  },
  {
   "cell_type": "markdown",
   "metadata": {},
   "source": [
    "# Calculate Andrault-like melting bounds"
   ]
  },
  {
   "cell_type": "code",
   "execution_count": null,
   "metadata": {},
   "outputs": [],
   "source": [
    "H13_liq = pd.read_csv('data/Hamano2013-liquidus.csv')\n",
    "H13_sol = pd.read_csv('data/Hamano2013-solidus.csv')\n",
    "S09_liq = pd.read_csv('data/Stixrude2009-liquidus.csv')\n",
    "S09_sol = pd.read_csv('data/Stixrude2009-solidus.csv')\n",
    "A11_liq = pd.read_csv('data/Andrault2011-liquidus.csv')\n",
    "A11_sol = pd.read_csv('data/Andrault2011-solidus.csv')\n",
    "\n"
   ]
  },
  {
   "cell_type": "code",
   "execution_count": null,
   "metadata": {},
   "outputs": [],
   "source": [
    "def overwrite_zero_val(table):\n",
    "    y0 = sp.interpolate.interp1d(table['P'], table['T'], fill_value='extrapolate')(0)\n",
    "    table['P'][0] = 0.0\n",
    "    table['T'][0] = y0\n",
    "    \n",
    "overwrite_zero_val(H13_liq)\n",
    "overwrite_zero_val(H13_sol)\n",
    "overwrite_zero_val(S09_liq)\n",
    "overwrite_zero_val(S09_sol)"
   ]
  },
  {
   "cell_type": "code",
   "execution_count": null,
   "metadata": {},
   "outputs": [],
   "source": []
  },
  {
   "cell_type": "code",
   "execution_count": null,
   "metadata": {},
   "outputs": [],
   "source": []
  },
  {
   "cell_type": "code",
   "execution_count": null,
   "metadata": {},
   "outputs": [],
   "source": []
  },
  {
   "cell_type": "code",
   "execution_count": null,
   "metadata": {},
   "outputs": [],
   "source": [
    "slope_liq = (4700-2700)/(140-25)\n",
    "P0_liq = 25.0\n",
    "T0_liq = 2700.0\n",
    "T_liq = slope_liq*(Pgrid-P0_liq)+T0_liq\n",
    "T_sol = T_liq/1.09"
   ]
  },
  {
   "cell_type": "code",
   "execution_count": null,
   "metadata": {},
   "outputs": [],
   "source": [
    "plt.figure()\n",
    "plt.plot(Pgrid, T_liq, 'r-',label='lin')\n",
    "plt.plot(Pgrid, T_sol, 'b-',label='')\n",
    "plt.plot(H13_liq['P'], H13_liq['T'], 'r--', label='H13')\n",
    "plt.plot(H13_sol['P'], H13_sol['T'], 'b--', label='')\n",
    "plt.plot(S09_liq['P'], S09_liq['T'], 'r:', label='S09')\n",
    "plt.plot(S09_sol['P'], S09_sol['T'], 'b:', label='')\n",
    "plt.plot(A11_liq['P'], A11_liq['T'], 'r-.', label='A11')\n",
    "plt.plot(A11_sol['P'], A11_sol['T'], 'b-.', label='')\n",
    "plt.xlim(0,150)\n",
    "plt.ylim(1500,6000)\n",
    "plt.legend()\n",
    "plt.xlabel('P')\n",
    "plt.ylabel('T')"
   ]
  },
  {
   "cell_type": "code",
   "execution_count": null,
   "metadata": {},
   "outputs": [],
   "source": [
    "Pth_liq = 23.0\n",
    "Pth_sol = 23.5\n",
    "\n",
    "Pmantle_liq = np.hstack([H13_liq['P'][H13_liq['P']<Pth_liq], \n",
    "                         Pgrid[Pgrid>Pth_liq]])\n",
    "Tmantle_liq = np.hstack([H13_liq['T'][H13_liq['P']<Pth_liq], \n",
    "                         T_liq[Pgrid>Pth_liq]])\n",
    "Pmantle_sol = np.hstack([H13_sol['P'][H13_sol['P']<Pth_sol], \n",
    "                         Pgrid[Pgrid>Pth_sol]])\n",
    "Tmantle_sol = np.hstack([H13_sol['T'][H13_sol['P']<Pth_sol], \n",
    "                         T_sol[Pgrid>Pth_sol]])\n",
    "\n",
    "plt.figure()\n",
    "plt.plot(Pmantle_liq, Tmantle_liq, 'r-',\n",
    "        Pmantle_sol, Tmantle_sol, 'b-')\n",
    "plt.xlim(0, 150)\n",
    "plt.ylim(1500,5000)\n",
    "plt.xlabel('P')\n",
    "plt.ylabel('T')"
   ]
  },
  {
   "cell_type": "code",
   "execution_count": null,
   "metadata": {},
   "outputs": [],
   "source": []
  },
  {
   "cell_type": "code",
   "execution_count": null,
   "metadata": {
    "code_folding": []
   },
   "outputs": [],
   "source": [
    "def poly_smooth_curve(xbnds, fun_left, fun_right, coef4=0.0, coef5=0.0):\n",
    "    \n",
    "    \n",
    "    xfrac=.01\n",
    "    dx = 0.5*xfrac*np.diff(xbnds)\n",
    "    x0, x1 = xbnds[:]\n",
    "    \n",
    "    # remap x to [-1,1] range\n",
    "    \n",
    "    y0 = fun_left(x0)\n",
    "    y1 = fun_right(x1)\n",
    "    \n",
    "    \n",
    "    \n",
    "    # dydx0 = (y0-fun_left(x0-dx))/dx\n",
    "    # dydx1 = (y1-fun_right(x1-dx))/dx\n",
    "    dydx0 = (y0-fun_left(x0-dx))/xfrac\n",
    "    dydx1 = (y1-fun_right(x1-dx))/xfrac\n",
    "    \n",
    "    # yfit = np.array([y0, dydx0, y1, dydx1])\n",
    "    # Mfit = np.array([\n",
    "    #     [x0**3, x0**2, x0, 1.0],\n",
    "    #     [3*x0**2, 2*x0, 1.0, 0.0],\n",
    "    #     [x1**3, x1**2, x1, 1.0],\n",
    "    #     [3*x1**2, 2*x1, 1.0, 0.0]\n",
    "    # ])\n",
    "    \n",
    "    # Mfit = np.array([\n",
    "    #     [-1, +1, -1, 1],\n",
    "    #     [3*(+1), 2*(-1), 1, 0],\n",
    "    #     [+1, +1, +1, 1],\n",
    "    #     [3*(+1), 2*(+1), 1, 0]\n",
    "    # ])\n",
    "    \n",
    "    yfit = np.array([y0, dydx0, y1, dydx1, coef4, coef5])\n",
    "    Mfit = np.array([\n",
    "        [-1, +1, -1, +1, -1, 1],\n",
    "        [5*(+1), 4*(-1), 3*(+1), 2*(-1), 1, 0],\n",
    "        [+1, +1, +1, +1, +1, 1],\n",
    "        [5*(+1), 4*(+1), 3*(+1), 2*(+1), 1, 0],\n",
    "        [0, 1, 0, 0, 0, 0],\n",
    "        [1, 0, 0, 0, 0, 0]\n",
    "    ])\n",
    "    \n",
    "    # print(Mfit)\n",
    "    \n",
    "    # coef = np.linalg.solve(Mfit, yfit)\n",
    "    output = sp.linalg.lstsq(Mfit, yfit)\n",
    "    coef = output[0]\n",
    "    \n",
    "    def fun(x, xbnds=xbnds, coef=coef):\n",
    "        xrange = np.diff(xbnds)\n",
    "        xfrac = (x-xbnds[0])/xrange\n",
    "        xscl = 2*xfrac - 1\n",
    "        y = np.polyval(coef, xscl)\n",
    "        return y\n",
    "    \n",
    "    return fun, coef"
   ]
  },
  {
   "cell_type": "code",
   "execution_count": null,
   "metadata": {},
   "outputs": [],
   "source": []
  },
  {
   "cell_type": "code",
   "execution_count": null,
   "metadata": {},
   "outputs": [],
   "source": [
    "order=5\n",
    "coef_exp = np.arange(order,-.1,-1)\n",
    "\n",
    "ix = -1\n",
    "ix = +1\n",
    "# ix = -.5\n",
    "deriv_exp = np.maximum(coef_exp-1,0)\n",
    "ix_wts = (ix*np.ones(order+1))**coef_exp\n",
    "ideriv_wts = coef_exp*(ix*np.ones(order+1))**deriv_exp\n",
    "ideriv_wts"
   ]
  },
  {
   "cell_type": "code",
   "execution_count": null,
   "metadata": {},
   "outputs": [],
   "source": []
  },
  {
   "cell_type": "code",
   "execution_count": null,
   "metadata": {},
   "outputs": [],
   "source": [
    "def constrain_poly_smooth_curve(xbnds, fun_left, fun_right, order=5):\n",
    "    \n",
    "    \n",
    "    xfrac=.01\n",
    "    dx = 0.5*xfrac*np.diff(xbnds)\n",
    "    x0, x1 = xbnds[:]\n",
    "    \n",
    "    # remap x to [-1,1] range\n",
    "    \n",
    "    y0 = fun_left(x0)\n",
    "    y1 = fun_right(x1)\n",
    "    \n",
    "    \n",
    "    \n",
    "    # dydx0 = (y0-fun_left(x0-dx))/dx\n",
    "    # dydx1 = (y1-fun_right(x1-dx))/dx\n",
    "    dydx0 = (y0-fun_left(x0-dx))/xfrac\n",
    "    dydx1 = (y1-fun_right(x1-dx))/xfrac\n",
    "    \n",
    "    # yfit = np.array([y0, dydx0, y1, dydx1])\n",
    "    # Mfit = np.array([\n",
    "    #     [x0**3, x0**2, x0, 1.0],\n",
    "    #     [3*x0**2, 2*x0, 1.0, 0.0],\n",
    "    #     [x1**3, x1**2, x1, 1.0],\n",
    "    #     [3*x1**2, 2*x1, 1.0, 0.0]\n",
    "    # ])\n",
    "    \n",
    "    # Mfit = np.array([\n",
    "    #     [-1, +1, -1, 1],\n",
    "    #     [3*(+1), 2*(-1), 1, 0],\n",
    "    #     [+1, +1, +1, 1],\n",
    "    #     [3*(+1), 2*(+1), 1, 0]\n",
    "    # ])\n",
    "    \n",
    "    coef_exp = np.arange(order,0)\n",
    "    -np.ones(order+1)\n",
    "    \n",
    "    yfit = np.array([y0, dydx0, y1, dydx1, coef4, coef5])\n",
    "    Mfit = np.array([\n",
    "        [-1, +1, -1, +1, -1, 1],\n",
    "        [5*(+1), 4*(-1), 3*(+1), 2*(-1), 1, 0],\n",
    "        [+1, +1, +1, +1, +1, 1],\n",
    "        [5*(+1), 4*(+1), 3*(+1), 2*(+1), 1, 0],\n",
    "        [0, 1, 0, 0, 0, 0],\n",
    "        [1, 0, 0, 0, 0, 0]\n",
    "    ])\n",
    "    \n",
    "    # print(Mfit)\n",
    "    \n",
    "    # coef = np.linalg.solve(Mfit, yfit)\n",
    "    output = sp.linalg.lstsq(Mfit, yfit)\n",
    "    coef = output[0]\n",
    "    \n",
    "    def fun(x, xbnds=xbnds, coef=coef):\n",
    "        xrange = np.diff(xbnds)\n",
    "        xfrac = (x-xbnds[0])/xrange\n",
    "        xscl = 2*xfrac - 1\n",
    "        y = np.polyval(coef, xscl)\n",
    "        return y\n",
    "    \n",
    "    return fun, coef"
   ]
  },
  {
   "cell_type": "code",
   "execution_count": null,
   "metadata": {},
   "outputs": [],
   "source": []
  },
  {
   "cell_type": "code",
   "execution_count": null,
   "metadata": {},
   "outputs": [],
   "source": []
  },
  {
   "cell_type": "code",
   "execution_count": null,
   "metadata": {},
   "outputs": [],
   "source": []
  },
  {
   "cell_type": "code",
   "execution_count": null,
   "metadata": {},
   "outputs": [],
   "source": []
  },
  {
   "cell_type": "code",
   "execution_count": null,
   "metadata": {},
   "outputs": [],
   "source": []
  },
  {
   "cell_type": "code",
   "execution_count": null,
   "metadata": {},
   "outputs": [],
   "source": [
    "# Smoothing bounds leaving Trans Zone intact\n",
    "# Pbnds_smth_liq = [11.5, 23.0]\n",
    "# Pbnds_smth_sol = [21.5, 25.5]\n",
    "\n",
    "# Smoothing bounds masking transition zone/upper mantle variability in entropy\n",
    "# Smoothing bounds masking transition zone/upper mantle variability in entropy\n",
    "Pbnds_smth_liq = [4.0, 23.0]\n",
    "# Pbnds_smth_sol = [7.0, 30.0]\n",
    "Pbnds_smth_sol = [4.0, 28.0]\n",
    "# coef4=-120, coef5=+55\n",
    "# 8, -10, +20"
   ]
  },
  {
   "cell_type": "code",
   "execution_count": null,
   "metadata": {},
   "outputs": [],
   "source": [
    "fun_liq_loP = sp.interpolate.interp1d(H13_liq['P'], H13_liq['T'], \n",
    "                                      kind='cubic', fill_value='extrapolate' )\n",
    "fun_liq_hiP = sp.interpolate.interp1d(Pgrid, T_liq,\n",
    "                                      kind='cubic', fill_value='extrapolate' )\n",
    "\n",
    "\n",
    "fun_liq, coef_liq = poly_smooth_curve(Pbnds_smth_liq, fun_liq_loP, fun_liq_hiP)\n",
    "coef_liq"
   ]
  },
  {
   "cell_type": "code",
   "execution_count": null,
   "metadata": {},
   "outputs": [],
   "source": [
    "fun_sol_loP = sp.interpolate.interp1d(H13_sol['P'], H13_sol['T'], \n",
    "                                      kind='cubic', fill_value='extrapolate' )\n",
    "fun_sol_hiP = sp.interpolate.interp1d(Pgrid, T_sol,\n",
    "                                      kind='cubic', fill_value='extrapolate' )\n",
    "\n",
    "fun_sol, coef_sol = poly_smooth_curve(Pbnds_smth_sol, fun_sol_loP, fun_sol_hiP, coef4=-135, coef5=+68)\n",
    "coef_sol"
   ]
  },
  {
   "cell_type": "code",
   "execution_count": null,
   "metadata": {},
   "outputs": [],
   "source": [
    "Pmod_liq = np.linspace(*Pbnds_smth_liq, 101)\n",
    "Pmod_sol = np.linspace(*Pbnds_smth_sol, 101)\n",
    "plt.figure()\n",
    "plt.plot(Pmantle_liq, Tmantle_liq, 'r-',\n",
    "        Pmantle_sol, Tmantle_sol, 'b-')\n",
    "plt.plot(Pmod_liq, fun_liq(Pmod_liq), 'c-')\n",
    "plt.plot(Pmod_sol, fun_sol(Pmod_sol), 'c-')\n",
    "plt.xlim(0, 150)\n",
    "plt.ylim(1500,5000)\n",
    "plt.xlabel('P')\n",
    "plt.ylabel('T')"
   ]
  },
  {
   "cell_type": "code",
   "execution_count": null,
   "metadata": {},
   "outputs": [],
   "source": []
  },
  {
   "cell_type": "code",
   "execution_count": null,
   "metadata": {},
   "outputs": [],
   "source": [
    "\n",
    "Pmantle_liq_adj = np.hstack([Pmantle_liq[Pmantle_liq < Pmod_liq[0]], \n",
    "                             Pmod_liq, \n",
    "                             Pmantle_liq[Pmantle_liq > Pmod_liq[-1]]])\n",
    "     \n",
    "Tmantle_liq_adj = np.hstack([Tmantle_liq[Pmantle_liq < Pmod_liq[0]], \n",
    "                             fun_liq(Pmod_liq),\n",
    "                             Tmantle_liq[Pmantle_liq > Pmod_liq[-1]]])\n",
    "    \n",
    "\n",
    "    \n",
    "Pmantle_sol_adj = np.hstack([Pmantle_sol[Pmantle_sol < Pmod_sol[0]], \n",
    "                             Pmod_sol, \n",
    "                             Pmantle_sol[Pmantle_sol > Pmod_sol[-1]]])\n",
    "     \n",
    "Tmantle_sol_adj = np.hstack([Tmantle_sol[Pmantle_sol < Pmod_sol[0]], \n",
    "                             fun_sol(Pmod_sol),\n",
    "                             Tmantle_sol[Pmantle_sol > Pmod_sol[-1]]])\n",
    "     "
   ]
  },
  {
   "cell_type": "code",
   "execution_count": null,
   "metadata": {},
   "outputs": [],
   "source": [
    "fun_liq_adj = sp.interpolate.interp1d(Pmantle_liq_adj, Tmantle_liq_adj)\n",
    "fun_sol_adj = sp.interpolate.interp1d(Pmantle_sol_adj, Tmantle_sol_adj)"
   ]
  },
  {
   "cell_type": "code",
   "execution_count": null,
   "metadata": {},
   "outputs": [],
   "source": [
    "# Pvals = np.arange(0,150,2)\n",
    "Pvals = np.arange(0,1000,1)\n",
    "# Pvals = np.arange(0,50,.5)\n",
    "Tvals_liq = fun_liq_adj(Pvals)\n",
    "Tvals_sol = fun_sol_adj(Pvals)"
   ]
  },
  {
   "cell_type": "code",
   "execution_count": null,
   "metadata": {},
   "outputs": [],
   "source": [
    "def eval_vol(Pvals, Tvals, mod_eos, Vinit=10.0):\n",
    "    Vvals = np.zeros(Pvals.size)\n",
    "    iV = Vinit\n",
    "    for ind, (iP, iT) in enumerate(zip(Pvals, Tvals)):\n",
    "        iV = volume(iP, iT, mod_eos, Vinit=iV)\n",
    "        Vvals[ind] = iV\n",
    "        \n",
    "    return Vvals, Pvals, Tvals\n",
    "    \n",
    "# Vsol, Psol, Tsol = eval_vol(Pmantle_sol_adj[::10], Tmantle_sol_adj[::10], sol_eos, Vinit=9.0)\n",
    "# Vliq, Pliq, Tliq = eval_vol(Pmantle_liq_adj[::10], Tmantle_liq_adj[::10], liq_eos_dK09, Vinit=12.0)\n",
    "    \n",
    "Vsol, Psol, Tsol = eval_vol(Pvals, Tvals_sol, sol_eos, Vinit=9.0)\n",
    "Ssol = sol_eos.entropy(Vsol, Tsol)\n",
    "Vliq, Pliq, Tliq = eval_vol(Pvals, Tvals_liq, liq_eos_dK09, Vinit=12.0)\n",
    "Sliq = liq_eos_dK09.entropy(Vliq, Tliq)\n",
    "                  "
   ]
  },
  {
   "cell_type": "code",
   "execution_count": null,
   "metadata": {},
   "outputs": [],
   "source": [
    "plt.figure()\n",
    "plt.plot(Psol, Tsol, 'b-')\n",
    "plt.plot(Pliq, Tliq, 'r-')\n",
    "plt.xlabel('P')\n",
    "plt.ylabel('T')\n",
    "\n",
    "plt.figure()\n",
    "plt.plot(Psol, Ssol/models.CONSTS['kboltz'], 'b-')\n",
    "plt.plot(Pliq, Sliq/models.CONSTS['kboltz'], 'r-')\n",
    "plt.xlabel('P')\n",
    "plt.ylabel('S')\n",
    "\n"
   ]
  },
  {
   "cell_type": "code",
   "execution_count": null,
   "metadata": {},
   "outputs": [],
   "source": []
  },
  {
   "cell_type": "code",
   "execution_count": null,
   "metadata": {},
   "outputs": [],
   "source": [
    "# Smoothing bounds leaving Trans Zone intact\n",
    "# Pbnds_smth_liq = [11.5, 23.0]\n",
    "# Pbnds_smth_sol = [21.5, 25.5]\n",
    "\n",
    "# Smoothing bounds masking transition zone/upper mantle variability in entropy\n",
    "# Smoothing bounds masking transition zone/upper mantle variability in entropy\n",
    "Pbnds_smth_liq = [4.0, 23.0]\n",
    "# Pbnds_smth_sol = [7.0, 30.0]\n",
    "# Pbnds_smth_sol = [4.0, 28.0]\n",
    "Pbnds_smth_sol = [10.0, 28.0]\n",
    "# coef4=-120, coef5=+55\n",
    "# 8, -10, +20"
   ]
  },
  {
   "cell_type": "code",
   "execution_count": null,
   "metadata": {},
   "outputs": [],
   "source": [
    "Sfun_sol0 = sp.interpolate.interp1d(Psol, Ssol/models.CONSTS['kboltz'], \n",
    "                                      kind='cubic', fill_value='extrapolate' )\n",
    "\n",
    "Sfun_sol, Scoef_sol = poly_smooth_curve(Pbnds_smth_sol, Sfun_sol0, Sfun_sol0, \n",
    "                                        coef4=-7e-3, coef5=+3e-3)\n",
    "Scoef_sol"
   ]
  },
  {
   "cell_type": "code",
   "execution_count": null,
   "metadata": {},
   "outputs": [],
   "source": []
  },
  {
   "cell_type": "code",
   "execution_count": null,
   "metadata": {},
   "outputs": [],
   "source": [
    "Pmod_sol = np.linspace(*Pbnds_smth_sol, 101)\n",
    "plt.figure()\n",
    "\n",
    "plt.plot(Pliq, Sliq/models.CONSTS['kboltz'], 'r-')\n",
    "plt.plot(Psol, Ssol/models.CONSTS['kboltz'], 'b-')\n",
    "plt.plot(Pmod_sol, Sfun_sol(Pmod_sol), 'c-')\n",
    "# plt.xlim(8, 42)\n",
    "# plt.ylim(3.65, 3.72)\n",
    "plt.xlabel('P')\n",
    "plt.ylabel('S')"
   ]
  },
  {
   "cell_type": "code",
   "execution_count": null,
   "metadata": {},
   "outputs": [],
   "source": []
  },
  {
   "cell_type": "code",
   "execution_count": null,
   "metadata": {},
   "outputs": [],
   "source": []
  },
  {
   "cell_type": "code",
   "execution_count": null,
   "metadata": {},
   "outputs": [],
   "source": [
    "Psol, Ssol/models.CONSTS['kboltz']\n",
    "\n",
    "Pmantle_sol_adj = np.hstack([Psol[Psol < Pmod_sol[0]], \n",
    "                             Pmod_sol, \n",
    "                             Psol[Psol > Pmod_sol[-1]]])\n",
    "     \n",
    "Smantle_sol_adj = np.hstack([Ssol[Psol < Pmod_sol[0]], \n",
    "                             Sfun_sol(Pmod_sol)*models.CONSTS['kboltz'],\n",
    "                             Ssol[Psol > Pmod_sol[-1]]])\n",
    "     "
   ]
  },
  {
   "cell_type": "code",
   "execution_count": null,
   "metadata": {},
   "outputs": [],
   "source": [
    "plt.figure()\n",
    "\n",
    "plt.plot(Psol, Ssol/models.CONSTS['kboltz'], 'b-')\n",
    "plt.plot(Pmantle_sol_adj, Smantle_sol_adj/models.CONSTS['kboltz'], 'c--')\n",
    "# plt.xlim(8, 42)\n",
    "# plt.ylim(3.65, 3.72)\n",
    "plt.xlabel('P')\n",
    "plt.ylabel('S')"
   ]
  },
  {
   "cell_type": "code",
   "execution_count": null,
   "metadata": {},
   "outputs": [],
   "source": []
  },
  {
   "cell_type": "code",
   "execution_count": null,
   "metadata": {},
   "outputs": [],
   "source": [
    "Sfun_liq_adj = sp.interpolate.interp1d(Pliq, Sliq)\n",
    "Sfun_sol_adj = sp.interpolate.interp1d(Pmantle_sol_adj, Smantle_sol_adj)"
   ]
  },
  {
   "cell_type": "code",
   "execution_count": null,
   "metadata": {},
   "outputs": [],
   "source": [
    "# Pvals = np.arange(0,150,2)\n",
    "Pvals = np.arange(0,1000,1)\n",
    "# Pvals = np.arange(0,50,.5)\n",
    "Svals_liq = Sfun_liq_adj(Pvals)\n",
    "Svals_sol = Sfun_sol_adj(Pvals)"
   ]
  },
  {
   "cell_type": "code",
   "execution_count": null,
   "metadata": {},
   "outputs": [],
   "source": [
    "                  "
   ]
  },
  {
   "cell_type": "code",
   "execution_count": null,
   "metadata": {},
   "outputs": [],
   "source": [
    "plt.figure()\n",
    "plt.plot(Pvals, Svals_liq/models.CONSTS['kboltz'], 'r-')\n",
    "plt.plot(Pvals, Svals_sol/models.CONSTS['kboltz'], 'b-')\n",
    "plt.xlabel('P')\n",
    "plt.ylabel('S')\n",
    "\n"
   ]
  },
  {
   "cell_type": "code",
   "execution_count": null,
   "metadata": {},
   "outputs": [],
   "source": []
  },
  {
   "cell_type": "code",
   "execution_count": null,
   "metadata": {},
   "outputs": [],
   "source": [
    "datadir='./data_tables/1TPa-dK09-elec-free/'\n",
    "molar_mass = sol_eos.molar_mass\n",
    "output = get_output_constants(molar_mass, datadir)\n",
    "write_data_table('solidus_A11_H13.dat', (Pvals, Svals_sol), ('GPa', 'eV'), output)\n",
    "write_data_table('liquidus_A11_H13.dat', (Pvals, Svals_liq), ('GPa', 'eV'), output)\n",
    "\n",
    "# write_data_table('solidus_temp_A11_H13.dat', (Psol, Tsol), ('GPa', '1'), output)\n",
    "# write_data_table('liquidus_temp_A11_H13.dat', (Pliq, Tliq), ('GPa', '1'), output)\n"
   ]
  },
  {
   "cell_type": "code",
   "execution_count": null,
   "metadata": {},
   "outputs": [],
   "source": []
  },
  {
   "cell_type": "code",
   "execution_count": null,
   "metadata": {},
   "outputs": [],
   "source": []
  },
  {
   "cell_type": "code",
   "execution_count": null,
   "metadata": {},
   "outputs": [],
   "source": []
  },
  {
   "cell_type": "code",
   "execution_count": null,
   "metadata": {},
   "outputs": [],
   "source": [
    "# Pvals = np.arange(0,150,2)\n",
    "Pvals = np.arange(0,1000,1)\n",
    "# Pvals = np.arange(0,50,1)\n",
    "Tvals_liq = fun_liq_adj(Pvals)\n",
    "Tvals_sol = fun_sol_adj(Pvals)"
   ]
  },
  {
   "cell_type": "code",
   "execution_count": null,
   "metadata": {},
   "outputs": [],
   "source": [
    "def eval_vol(Pvals, Tvals, mod_eos, Vinit=10.0):\n",
    "    Vvals = np.zeros(Pvals.size)\n",
    "    iV = Vinit\n",
    "    for ind, (iP, iT) in enumerate(zip(Pvals, Tvals)):\n",
    "        iV = volume(iP, iT, mod_eos, Vinit=iV)\n",
    "        Vvals[ind] = iV\n",
    "        \n",
    "    return Vvals, Pvals, Tvals\n",
    "    \n",
    "# Vsol, Psol, Tsol = eval_vol(Pmantle_sol_adj[::10], Tmantle_sol_adj[::10], sol_eos, Vinit=9.0)\n",
    "# Vliq, Pliq, Tliq = eval_vol(Pmantle_liq_adj[::10], Tmantle_liq_adj[::10], liq_eos_dK09, Vinit=12.0)\n",
    "    \n",
    "# Vsol, Psol, Tsol = eval_vol(Pvals, Tvals_sol, sol_eos, Vinit=9.0)\n",
    "# Ssol = sol_eos.entropy(Vsol, Tsol)\n",
    "# Vliq, Pliq, Tliq = eval_vol(Pvals, Tvals_liq, liq_eos_dK09, Vinit=12.0)\n",
    "# Sliq = liq_eos_dK09.entropy(Vliq, Tliq)\n",
    "                 \n",
    "Pbnd = Pbnds_smth_sol[1]\n",
    "# dP = 0.1\n",
    "\n",
    "def calc_d2S(Pbnd, coef, eos_mod, dP=0.1):\n",
    "    Pvals = Pbnd + dP*np.array([-1,0,+1])\n",
    "    Tvals = np.polyval(coef, Pvals)\n",
    "    \n",
    "    V, P, T = eval_vol(Pvals, Tvals, eos_mod, Vinit=9.0)\n",
    "    S = eos_mod.entropy(V, T)/models.CONSTS['kboltz']\n",
    "    \n",
    "    Scoef = np.polyfit((P-Pbnd)/20.0, S, 2)\n",
    "    Scurv = Scoef[0]\n",
    "    return Scurv\n",
    "\n",
    "\n",
    "def calc_d2S_jacobian(Pbnd, coef, eos_mod, dP=0.1):\n",
    "    Scurv0 = calc_d2S(Pbnd, coef, eos_mod, dP=dP)\n",
    "    Nparam = len(coef)\n",
    "    J = np.zeros(Nparam)\n",
    "    \n",
    "    dparam = 1e-3\n",
    "    for ind, idparam in enumerate(dparam*np.eye(Nparam)):\n",
    "        dScurv0 = calc_d2S(Pbnd, coef+idparam, eos_mod, dP=0.1) - Scurv0\n",
    "        J[ind] = dScurv0/dparam\n",
    "        \n",
    "    return J\n"
   ]
  },
  {
   "cell_type": "code",
   "execution_count": null,
   "metadata": {},
   "outputs": [],
   "source": [
    "d2S0 = calc_d2S(Pbnd, coef_sol, sol_eos)\n",
    "J = calc_d2S_jacobian(Pbnd, coef_sol, sol_eos)"
   ]
  },
  {
   "cell_type": "code",
   "execution_count": null,
   "metadata": {},
   "outputs": [],
   "source": []
  },
  {
   "cell_type": "code",
   "execution_count": null,
   "metadata": {},
   "outputs": [],
   "source": []
  },
  {
   "cell_type": "code",
   "execution_count": null,
   "metadata": {},
   "outputs": [],
   "source": []
  },
  {
   "cell_type": "code",
   "execution_count": null,
   "metadata": {},
   "outputs": [],
   "source": []
  },
  {
   "cell_type": "code",
   "execution_count": null,
   "metadata": {},
   "outputs": [],
   "source": []
  },
  {
   "cell_type": "code",
   "execution_count": null,
   "metadata": {},
   "outputs": [],
   "source": [
    "plt.figure()\n",
    "plt.plot(Pvals, Ssol, 'k-')"
   ]
  },
  {
   "cell_type": "code",
   "execution_count": null,
   "metadata": {},
   "outputs": [],
   "source": []
  },
  {
   "cell_type": "code",
   "execution_count": null,
   "metadata": {},
   "outputs": [],
   "source": []
  },
  {
   "cell_type": "code",
   "execution_count": null,
   "metadata": {},
   "outputs": [],
   "source": [
    "Pmod_liq = np.linspace(*Pbnds_smth_liq, 101)\n",
    "Pmod_sol = np.linspace(*Pbnds_smth_sol, 101)\n",
    "plt.figure()\n",
    "plt.plot(Pmantle_liq, Tmantle_liq, 'r-',\n",
    "        Pmantle_sol, Tmantle_sol, 'b-')\n",
    "plt.plot(Pmod_liq, fun_liq(Pmod_liq), 'c-')\n",
    "plt.plot(Pmod_sol, fun_sol(Pmod_sol), 'c-')\n",
    "plt.xlim(0, 150)\n",
    "plt.ylim(1500,5000)\n",
    "plt.xlabel('P')\n",
    "plt.ylabel('T')"
   ]
  },
  {
   "cell_type": "code",
   "execution_count": null,
   "metadata": {},
   "outputs": [],
   "source": []
  },
  {
   "cell_type": "code",
   "execution_count": null,
   "metadata": {},
   "outputs": [],
   "source": []
  },
  {
   "cell_type": "code",
   "execution_count": null,
   "metadata": {},
   "outputs": [],
   "source": []
  },
  {
   "cell_type": "code",
   "execution_count": null,
   "metadata": {},
   "outputs": [],
   "source": [
    "\n",
    "Pmantle_liq_adj = np.hstack([Pmantle_liq[Pmantle_liq < Pmod_liq[0]], \n",
    "                             Pmod_liq, \n",
    "                             Pmantle_liq[Pmantle_liq > Pmod_liq[-1]]])\n",
    "     \n",
    "Tmantle_liq_adj = np.hstack([Tmantle_liq[Pmantle_liq < Pmod_liq[0]], \n",
    "                             np.polyval(coef_liq, Pmod_liq),\n",
    "                             Tmantle_liq[Pmantle_liq > Pmod_liq[-1]]])\n",
    "    \n",
    "\n",
    "    \n",
    "Pmantle_sol_adj = np.hstack([Pmantle_sol[Pmantle_sol < Pmod_sol[0]], \n",
    "                             Pmod_sol, \n",
    "                             Pmantle_sol[Pmantle_sol > Pmod_sol[-1]]])\n",
    "     \n",
    "Tmantle_sol_adj = np.hstack([Tmantle_sol[Pmantle_sol < Pmod_sol[0]], \n",
    "                             np.polyval(coef_sol, Pmod_sol),\n",
    "                             Tmantle_sol[Pmantle_sol > Pmod_sol[-1]]])\n",
    "     "
   ]
  },
  {
   "cell_type": "code",
   "execution_count": null,
   "metadata": {},
   "outputs": [],
   "source": [
    "plt.figure()\n",
    "plt.plot(Pmantle_liq_adj, Tmantle_liq_adj, 'r-',\n",
    "        Pmantle_sol_adj, Tmantle_sol_adj, 'b-')\n",
    "\n",
    "# plt.plot(H13_liq['P'], H13_liq['T'], 'm--', label='H13')\n",
    "# plt.plot(H13_sol['P'], H13_sol['T'], 'c--', label='')\n",
    "# \n",
    "# plt.plot(A11_liq['P'], A11_liq['T'], 'r-.', label='A11')\n",
    "# plt.plot(A11_sol['P'], A11_sol['T'], 'b-.', label='')\n",
    "\n",
    "\n",
    "plt.xlim(0, 150)\n",
    "plt.ylim(1500,5000)\n",
    "plt.xlabel('P')\n",
    "plt.ylabel('T')\n",
    "\n"
   ]
  },
  {
   "cell_type": "code",
   "execution_count": null,
   "metadata": {},
   "outputs": [],
   "source": []
  },
  {
   "cell_type": "code",
   "execution_count": null,
   "metadata": {},
   "outputs": [],
   "source": [
    "fun_liq_adj = sp.interpolate.interp1d(Pmantle_liq_adj, Tmantle_liq_adj)\n",
    "fun_sol_adj = sp.interpolate.interp1d(Pmantle_sol_adj, Tmantle_sol_adj)"
   ]
  },
  {
   "cell_type": "code",
   "execution_count": null,
   "metadata": {},
   "outputs": [],
   "source": []
  },
  {
   "cell_type": "code",
   "execution_count": null,
   "metadata": {},
   "outputs": [],
   "source": []
  },
  {
   "cell_type": "code",
   "execution_count": null,
   "metadata": {},
   "outputs": [],
   "source": []
  },
  {
   "cell_type": "code",
   "execution_count": null,
   "metadata": {},
   "outputs": [],
   "source": [
    "# Pvals = np.arange(0,150,2)\n",
    "# Pvals = np.arange(0,1000,1)\n",
    "Pvals = np.arange(0,50,1)\n",
    "Tvals_liq = fun_liq_adj(Pvals)\n",
    "Tvals_sol = fun_sol_adj(Pvals)"
   ]
  },
  {
   "cell_type": "code",
   "execution_count": null,
   "metadata": {},
   "outputs": [],
   "source": [
    "def eval_vol(Pvals, Tvals, mod_eos, Vinit=10.0):\n",
    "    Vvals = np.zeros(Pvals.size)\n",
    "    iV = Vinit\n",
    "    for ind, (iP, iT) in enumerate(zip(Pvals, Tvals)):\n",
    "        iV = volume(iP, iT, mod_eos, Vinit=iV)\n",
    "        Vvals[ind] = iV\n",
    "        \n",
    "    return Vvals, Pvals, Tvals\n",
    "    \n",
    "# Vsol, Psol, Tsol = eval_vol(Pmantle_sol_adj[::10], Tmantle_sol_adj[::10], sol_eos, Vinit=9.0)\n",
    "# Vliq, Pliq, Tliq = eval_vol(Pmantle_liq_adj[::10], Tmantle_liq_adj[::10], liq_eos_dK09, Vinit=12.0)\n",
    "    \n",
    "Vsol, Psol, Tsol = eval_vol(Pvals, Tvals_sol, sol_eos, Vinit=9.0)\n",
    "Ssol = sol_eos.entropy(Vsol, Tsol)\n",
    "Vliq, Pliq, Tliq = eval_vol(Pvals, Tvals_liq, liq_eos_dK09, Vinit=12.0)\n",
    "Sliq = liq_eos_dK09.entropy(Vliq, Tliq)\n",
    "                  "
   ]
  },
  {
   "cell_type": "code",
   "execution_count": null,
   "metadata": {},
   "outputs": [],
   "source": [
    "plt.figure()\n",
    "plt.plot(Psol, Tsol, 'b-')\n",
    "plt.plot(Pliq, Tliq, 'r-')\n",
    "plt.xlabel('P')\n",
    "plt.ylabel('T')\n",
    "\n",
    "plt.figure()\n",
    "plt.plot(Psol, Ssol/models.CONSTS['kboltz'], 'b-')\n",
    "plt.plot(Pliq, Sliq/models.CONSTS['kboltz'], 'r-')\n",
    "plt.xlabel('P')\n",
    "plt.ylabel('S')\n",
    "\n"
   ]
  },
  {
   "cell_type": "code",
   "execution_count": null,
   "metadata": {},
   "outputs": [],
   "source": []
  },
  {
   "cell_type": "code",
   "execution_count": null,
   "metadata": {},
   "outputs": [],
   "source": [
    "\n",
    "plt.figure()\n",
    "plt.plot(Psol, Vsol, 'b-')\n",
    "plt.plot(Pliq, Vliq, 'r-')\n",
    "plt.xlabel('P')\n",
    "plt.ylabel('V')\n",
    "\n",
    "\n",
    "plt.figure()\n",
    "plt.plot(Psol, (Sliq-Ssol)/models.CONSTS['kboltz'], 'k-')\n",
    "plt.xlabel('P')\n",
    "plt.ylabel('dS')"
   ]
  },
  {
   "cell_type": "code",
   "execution_count": null,
   "metadata": {},
   "outputs": [],
   "source": []
  },
  {
   "cell_type": "code",
   "execution_count": null,
   "metadata": {},
   "outputs": [],
   "source": [
    "datadir='./data_tables/1TPa-dK09-elec-free/'\n",
    "molar_mass = sol_eos.molar_mass\n",
    "output = get_output_constants(molar_mass, datadir)\n",
    "write_data_table('solidus_A11_H13.dat', (Psol, Ssol), ('GPa', 'eV'), output)\n",
    "write_data_table('liquidus_A11_H13.dat', (Pliq, Sliq), ('GPa', 'eV'), output)\n",
    "\n",
    "write_data_table('solidus_temp_A11_H13.dat', (Psol, Tsol), ('GPa', '1'), output)\n",
    "write_data_table('liquidus_temp_A11_H13.dat', (Pliq, Tliq), ('GPa', '1'), output)\n"
   ]
  },
  {
   "cell_type": "code",
   "execution_count": null,
   "metadata": {},
   "outputs": [],
   "source": [
    "Psol, Ssol, Tsol\n",
    "Pliq, Sliq, Tliq\n",
    "\n",
    "\n"
   ]
  },
  {
   "cell_type": "code",
   "execution_count": null,
   "metadata": {},
   "outputs": [],
   "source": []
  },
  {
   "cell_type": "code",
   "execution_count": null,
   "metadata": {},
   "outputs": [],
   "source": []
  },
  {
   "cell_type": "code",
   "execution_count": null,
   "metadata": {},
   "outputs": [],
   "source": []
  },
  {
   "cell_type": "code",
   "execution_count": null,
   "metadata": {},
   "outputs": [],
   "source": []
  },
  {
   "cell_type": "code",
   "execution_count": null,
   "metadata": {},
   "outputs": [],
   "source": [
    "adiabat_temp_grad_melt.dat\n",
    "density_melt.dat\n",
    "heat_capacity_melt.dat\n",
    "temperature_melt.dat\n",
    "thermal_exp_melt.dat"
   ]
  },
  {
   "cell_type": "code",
   "execution_count": null,
   "metadata": {},
   "outputs": [],
   "source": [
    "adiabat_temp_grad_melt.dat\n",
    "density_melt.dat\n",
    "heat_capacity_melt.dat\n",
    "temperature_melt.dat\n",
    "thermal_exp_melt.dat\n",
    "\n",
    "adiabat_temp_grad_solid.dat\n",
    "density_solid.dat\n",
    "heat_capacity_solid.dat\n",
    "temperature_solid.dat\n",
    "thermal_exp_solid.dat\n",
    "\n",
    "liquidus_andrault2011.dat\n",
    "solidus_andrault2011.dat\n",
    "\n",
    "liquidus_stixrude2009.dat\n",
    "solidus_stixrude2009.dat"
   ]
  },
  {
   "cell_type": "code",
   "execution_count": null,
   "metadata": {},
   "outputs": [],
   "source": []
  },
  {
   "cell_type": "code",
   "execution_count": null,
   "metadata": {},
   "outputs": [],
   "source": []
  },
  {
   "cell_type": "code",
   "execution_count": null,
   "metadata": {},
   "outputs": [],
   "source": [
    "write_data_table('test_output_density.dat', \n",
    "                 (props[key].ravel() for key in ('P', 'S', 'rho')),\n",
    "                 ('GPa','eV','g_cc'), output_d, comment=\"\" )"
   ]
  },
  {
   "cell_type": "code",
   "execution_count": null,
   "metadata": {},
   "outputs": [],
   "source": []
  },
  {
   "cell_type": "code",
   "execution_count": null,
   "metadata": {},
   "outputs": [],
   "source": []
  },
  {
   "cell_type": "code",
   "execution_count": null,
   "metadata": {},
   "outputs": [],
   "source": [
    "\n",
    "cmap = plt.get_cmap('coolwarm', len(Tfoot_grid))\n",
    "        \n",
    "colors = cmap(np.linspace(0,1,len(Tfoot_grid)))"
   ]
  },
  {
   "cell_type": "code",
   "execution_count": null,
   "metadata": {},
   "outputs": [],
   "source": []
  },
  {
   "cell_type": "code",
   "execution_count": null,
   "metadata": {},
   "outputs": [],
   "source": []
  },
  {
   "cell_type": "code",
   "execution_count": null,
   "metadata": {},
   "outputs": [],
   "source": [
    "plt.figure()\n",
    "[plt.plot(iP,irho,color=icol) for iP,irho,icol \n",
    " in zip(props['P'],props['rho'], colors)]\n",
    "plt.xlabel('P [GPa]')\n",
    "plt.ylabel('rho [g/cc]')\n",
    "\n",
    "plt.figure()\n",
    "[plt.plot(iP,igamma,color=icol) for iP,igamma,icol \n",
    " in zip(props['P'],props['gamma'], colors)]\n",
    "plt.xlabel('P [GPa]')\n",
    "plt.ylabel('gamma')\n",
    "\n",
    "plt.figure()\n",
    "lines_Cv = [plt.plot(iP,iCv/models.CONSTS['kboltz'],':', label='Cv', \n",
    "                     color=icol)[0] for iP,iCv,icol in \n",
    "            zip(props['P'], props['C_V'], colors)]\n",
    "lines_Cp = [plt.plot(iP,iCp/models.CONSTS['kboltz'],'-', label='Cp', \n",
    "                     color=icol)[0] for iP,iCp,icol in \n",
    "            zip(props['P'], props['C_P'], colors)]\n",
    "\n",
    "plt.xlabel('P [GPa]')\n",
    "plt.ylabel('Heat Capacity [kB]')\n",
    "plt.legend([lines_Cp[0],lines_Cv[0]], ['Cp','Cv'])\n",
    "\n",
    "plt.figure()\n",
    "[plt.plot(iP,ialpha*1e5,color=icol) \n",
    " for iP,ialpha,icol in zip(props['P'], props['alpha'], colors)]\n",
    "plt.xlabel('P [GPa]')\n",
    "plt.ylabel('alpha [1e-5/K]')\n",
    "\n",
    "\n",
    "plt.figure()\n",
    "lines_KT = [plt.plot(iP,iKT,':', color=icol)[0]\n",
    " for iP,iKT,icol in zip(props['P'], props['K_T'], colors)]\n",
    "lines_KS = [plt.plot(iP,iKS,'-', color=icol)[0]\n",
    " for iP,iKS,icol in zip(props['P'], props['K_S'], colors)]\n",
    "plt.xlabel('P [GPa]')\n",
    "plt.ylabel('Bulk Modulus [GPa]')\n",
    "plt.legend([lines_KS[0],lines_KT[0]], ['KS','KT'])\n",
    "\n",
    "plt.figure()\n",
    "[plt.plot(iP,idTdPs,color=icol) \n",
    " for iP,idTdPs,icol in zip(props['P'], props['dTdP_S'], colors)]\n",
    "plt.xlabel('P [GPa]')\n",
    "plt.ylabel('adiabatic gradient [K/GPa]')\n"
   ]
  },
  {
   "cell_type": "code",
   "execution_count": null,
   "metadata": {},
   "outputs": [],
   "source": [
    "props['T'].shape"
   ]
  },
  {
   "cell_type": "code",
   "execution_count": null,
   "metadata": {},
   "outputs": [],
   "source": [
    "props['T']"
   ]
  },
  {
   "cell_type": "code",
   "execution_count": null,
   "metadata": {},
   "outputs": [],
   "source": []
  },
  {
   "cell_type": "code",
   "execution_count": null,
   "metadata": {},
   "outputs": [],
   "source": [
    "Pgrid = np.arange(0,150.1,10)\n",
    "Vgrid, Tgrid = sol_eos.adiabatic_path(4000,Pgrid)\n",
    "\n",
    "Sgrid = sol_eos.entropy(Vgrid, Tgrid)\n",
    "plt.figure()\n",
    "plt.plot(Pgrid, Tgrid, '-')\n",
    "\n",
    "plt.figure()\n",
    "plt.plot(Pgrid, Sgrid/models.CONSTS['kboltz'], '-')"
   ]
  },
  {
   "cell_type": "code",
   "execution_count": null,
   "metadata": {},
   "outputs": [],
   "source": []
  },
  {
   "cell_type": "code",
   "execution_count": null,
   "metadata": {},
   "outputs": [],
   "source": []
  },
  {
   "cell_type": "code",
   "execution_count": null,
   "metadata": {},
   "outputs": [],
   "source": []
  },
  {
   "cell_type": "code",
   "execution_count": null,
   "metadata": {},
   "outputs": [],
   "source": []
  },
  {
   "cell_type": "code",
   "execution_count": null,
   "metadata": {},
   "outputs": [],
   "source": []
  },
  {
   "cell_type": "code",
   "execution_count": null,
   "metadata": {},
   "outputs": [],
   "source": []
  },
  {
   "cell_type": "code",
   "execution_count": null,
   "metadata": {},
   "outputs": [],
   "source": []
  },
  {
   "cell_type": "code",
   "execution_count": null,
   "metadata": {},
   "outputs": [],
   "source": [
    "Pgrid = np.arange(10,550.1,10)\n",
    "Vgrid, Tgrid = liq_eos_dK09.adiabatic_path(4000,Pgrid)\n",
    "Sgrid = liq_eos_dK09.entropy(Vgrid, Tgrid)\n",
    "plt.figure()\n",
    "plt.plot(Pgrid, Tgrid, 'ko-')\n",
    "\n",
    "plt.figure()\n",
    "plt.plot(Pgrid,Sgrid-np.mean(Sgrid),'r-')"
   ]
  },
  {
   "cell_type": "code",
   "execution_count": null,
   "metadata": {},
   "outputs": [],
   "source": []
  },
  {
   "cell_type": "code",
   "execution_count": null,
   "metadata": {},
   "outputs": [],
   "source": [
    "eos_mod.apply_electronic = False\n",
    "Pgrid = np.arange(0,1.01e3,10)\n",
    "Tfoot_grid = np.arange(1e3,4401,200)\n",
    "\n",
    "#Tfoot_grid = np.arange(1e3,10.1e3,1000)\n",
    "Vad_grid, Tad_grid = eos_mod.adiabatic_path_grid(Tfoot_grid,Pgrid)\n",
    "props = eos_mod.material_properties(Vad_grid, Tad_grid)"
   ]
  },
  {
   "cell_type": "code",
   "execution_count": null,
   "metadata": {},
   "outputs": [],
   "source": [
    "delS = props['S']-np.mean(props['S'],1)[:,np.newaxis]\n",
    "S_avg_err = np.sqrt(np.mean(delS**2))\n",
    "print('Avg Entropy Error = ', S_avg_err)"
   ]
  },
  {
   "cell_type": "code",
   "execution_count": null,
   "metadata": {},
   "outputs": [],
   "source": []
  },
  {
   "cell_type": "code",
   "execution_count": null,
   "metadata": {},
   "outputs": [],
   "source": [
    "plt.figure()\n",
    "[plt.plot(iP,irho,color=icol) for iP,irho,icol \n",
    " in zip(props['P'],props['rho'], colors)]\n",
    "plt.xlabel('P [GPa]')\n",
    "plt.ylabel('rho [g/cc]')\n",
    "\n",
    "plt.figure()\n",
    "[plt.plot(iP,igamma,color=icol) for iP,igamma,icol \n",
    " in zip(props['P'],props['gamma'], colors)]\n",
    "plt.xlabel('P [GPa]')\n",
    "plt.ylabel('gamma')\n",
    "\n",
    "plt.figure()\n",
    "lines_Cv = [plt.plot(iP,iCv/models.CONSTS['kboltz'],':', label='Cv', \n",
    "                     color=icol)[0] for iP,iCv,icol in \n",
    "            zip(props['P'], props['C_V'], colors)]\n",
    "lines_Cp = [plt.plot(iP,iCp/models.CONSTS['kboltz'],'-', label='Cp', \n",
    "                     color=icol)[0] for iP,iCp,icol in \n",
    "            zip(props['P'], props['C_P'], colors)]\n",
    "\n",
    "plt.xlabel('P [GPa]')\n",
    "plt.ylabel('Heat Capacity [kB]')\n",
    "plt.legend([lines_Cp[0],lines_Cv[0]], ['Cp','Cv'])\n",
    "\n",
    "plt.figure()\n",
    "[plt.plot(iP,ialpha*1e5,color=icol) \n",
    " for iP,ialpha,icol in zip(props['P'], props['alpha'], colors)]\n",
    "plt.xlabel('P [GPa]')\n",
    "plt.ylabel('alpha [1e-5/K]')\n",
    "\n",
    "\n",
    "plt.figure()\n",
    "lines_KT = [plt.plot(iP,iKT,':', color=icol)[0]\n",
    " for iP,iKT,icol in zip(props['P'], props['K_T'], colors)]\n",
    "lines_KS = [plt.plot(iP,iKS,'-', color=icol)[0]\n",
    " for iP,iKS,icol in zip(props['P'], props['K_S'], colors)]\n",
    "plt.xlabel('P [GPa]')\n",
    "plt.ylabel('Bulk Modulus [GPa]')\n",
    "plt.legend([lines_KS[0],lines_KT[0]], ['KS','KT'])\n",
    "\n",
    "plt.figure()\n",
    "[plt.plot(iP,idTdPs,color=icol) \n",
    " for iP,idTdPs,icol in zip(props['P'], props['dTdP_S'], colors)]\n",
    "plt.xlabel('P [GPa]')\n",
    "plt.ylabel('adiabatic gradient [K/GPa]')\n"
   ]
  },
  {
   "cell_type": "code",
   "execution_count": null,
   "metadata": {},
   "outputs": [],
   "source": [
    "props.keys()"
   ]
  },
  {
   "cell_type": "code",
   "execution_count": null,
   "metadata": {},
   "outputs": [],
   "source": []
  },
  {
   "cell_type": "code",
   "execution_count": null,
   "metadata": {},
   "outputs": [],
   "source": [
    "props['C_P']/models.CONSTS['kboltz']"
   ]
  },
  {
   "cell_type": "code",
   "execution_count": null,
   "metadata": {},
   "outputs": [],
   "source": []
  },
  {
   "cell_type": "code",
   "execution_count": null,
   "metadata": {},
   "outputs": [],
   "source": []
  },
  {
   "cell_type": "code",
   "execution_count": null,
   "metadata": {},
   "outputs": [],
   "source": []
  },
  {
   "cell_type": "code",
   "execution_count": null,
   "metadata": {},
   "outputs": [],
   "source": []
  },
  {
   "cell_type": "code",
   "execution_count": null,
   "metadata": {},
   "outputs": [],
   "source": []
  }
 ],
 "metadata": {
  "kernelspec": {
   "display_name": "Python 3",
   "language": "python",
   "name": "python3"
  },
  "language_info": {
   "codemirror_mode": {
    "name": "ipython",
    "version": 3
   },
   "file_extension": ".py",
   "mimetype": "text/x-python",
   "name": "python",
   "nbconvert_exporter": "python",
   "pygments_lexer": "ipython3",
   "version": "3.6.2"
  }
 },
 "nbformat": 4,
 "nbformat_minor": 2
}
