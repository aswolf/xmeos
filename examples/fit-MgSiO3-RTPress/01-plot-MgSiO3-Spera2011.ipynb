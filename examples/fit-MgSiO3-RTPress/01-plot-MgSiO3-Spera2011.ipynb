{
 "cells": [
  {
   "cell_type": "markdown",
   "metadata": {},
   "source": [
    "# Load and Visualize MgSiO3 melt Data\n",
    "* Focus on classical simulations of Spera et al. (2011)\n",
    "    * we only analyze simulations produced with high-pressure potential set of Oganov et al. (2000)\n",
    "* Also load First Principles MD data from deKoker et al. (2009)"
   ]
  },
  {
   "cell_type": "code",
   "execution_count": 1,
   "metadata": {},
   "outputs": [],
   "source": [
    "import matplotlib.pyplot as plt\n",
    "%matplotlib inline\n",
    "import numpy as np\n",
    "import pandas as pd\n",
    "import pickle\n",
    "# import emcee\n",
    "\n",
    "import xmeos\n",
    "from xmeos import models\n",
    "from xmeos import datamod"
   ]
  },
  {
   "cell_type": "markdown",
   "metadata": {},
   "source": [
    "## Load Analysis File\n",
    "* This pickle file stores all of the intermediate results from the notebooks"
   ]
  },
  {
   "cell_type": "code",
   "execution_count": 2,
   "metadata": {},
   "outputs": [],
   "source": [
    "# Average molar mass of MgSiO3\n",
    "mass_avg = (24.31+28.09+3*16.0)/5.0 # g/(mol atom)\n",
    "\n",
    "CONSTS = models.CONSTS\n",
    "\n",
    "\n",
    "def read_data_Spera2011():\n",
    "    title = 'Spera2011'\n",
    "    delT = 500\n",
    "    datasource = 'data/MgSiO3-Oganov-md-Spera2011.csv'\n",
    "    data = pd.read_csv(datasource)\n",
    "    \n",
    "    Vconv = CONSTS['ang3percc']*mass_avg/CONSTS['Nmol'] # (ang^3/atom) / (cc/g)\n",
    "    Econv = mass_avg/CONSTS['kJ_molpereV'] # (eV/atom) / (kJ/g)\n",
    "\n",
    "    data = datamod.load_data(V=data['vol[cc/gm]'], P=data['P [GPa]'],\n",
    "                             T=data['T [K]'], E=data['Etot [kJ/gm]'],\n",
    "                             Perr=data['P_err [GPa]'],\n",
    "                             Terr=data['T_err [K]'], \n",
    "                             Eerr=data['Etot_err [kJ/gm]'],\n",
    "                             title=title, datasource=datasource,\n",
    "                             Vconv=Vconv, Econv=Econv, mass_avg=mass_avg)\n",
    "    \n",
    "    # datamod.set_uncertainty_scale(data)\n",
    "    tbl = data['table']\n",
    "    \n",
    "    tbl['T_label'] = delT*np.round(tbl['T']/delT)\n",
    "    Tlbl = np.unique(tbl['T_label'])\n",
    "    data['T_labels'] = Tlbl\n",
    "    \n",
    "    Vlbl = np.unique(tbl['V'])\n",
    "    tbl['V_label'] = np.round(tbl['V'], decimals=2)\n",
    "    data['V_labels'] = Vlbl\n",
    "    \n",
    "    return data\n",
    "\n",
    "def read_data_deKoker2009():\n",
    "    title = 'deKoker2009'\n",
    "    delT = 1000\n",
    "    datasource = 'data/MgSiO3-fpmd-deKoker2009.csv'\n",
    "    VX = 38.9 #cc^3/mol formula (From Stixrude and ddKarki 2005)\n",
    "    natom = 5\n",
    "    \n",
    "    # E = [kJ/mol formula]\n",
    "    Vconv = CONSTS['ang3percc']/natom/CONSTS['Nmol'] # (ang^3/atom) / (cc/mol)\n",
    "    Econv = 1/natom/CONSTS['kJ_molpereV'] # (eV/atom) / (kJ/mol)\n",
    "    \n",
    "    data = pd.read_csv(datasource)\n",
    "    data = datamod.load_data(V=VX*data['V/VX'], P=data['P'],\n",
    "                             T=data['T'], E=data['E'],\n",
    "                             title=title, datasource=datasource,\n",
    "                             Vconv=Vconv, Econv=Econv, mass_avg=mass_avg)\n",
    "    \n",
    "    # datamod.set_uncertainty_scale(data)\n",
    "    tbl = data['table']\n",
    "    \n",
    "    tbl['T_label'] = delT*np.round(tbl['T']/delT)\n",
    "    Tlbl = np.unique(tbl['T_label'])\n",
    "    delT = np.min(np.diff(Tlbl))\n",
    "    Tlbl = np.arange(Tlbl[0],Tlbl[-1]+delT/2,delT)\n",
    "    data['T_labels'] = Tlbl\n",
    "    \n",
    "    Vlbl = np.unique(tbl['V'])\n",
    "    tbl['V_label'] = np.round(tbl['V'], decimals=2)\n",
    "    data['V_labels'] = Vlbl\n",
    "    \n",
    "    return data\n",
    "        \n",
    "def load_datasets():\n",
    "    datasets = {}\n",
    "    datasets['Spera2011'] = read_data_Spera2011()\n",
    "    datasets['deKoker2009'] = read_data_deKoker2009()\n",
    "    return datasets\n",
    "\n",
    "datasets = load_datasets()\n"
   ]
  },
  {
   "cell_type": "code",
   "execution_count": null,
   "metadata": {},
   "outputs": [],
   "source": []
  },
  {
   "cell_type": "code",
   "execution_count": 3,
   "metadata": {},
   "outputs": [],
   "source": [
    "analysis_file = 'data/analysis.pkl'\n",
    "try:\n",
    "    with open(analysis_file, 'rb') as f:\n",
    "        analysis = pickle.load(f)\n",
    "except:\n",
    "    analysis = {}"
   ]
  },
  {
   "cell_type": "code",
   "execution_count": 4,
   "metadata": {},
   "outputs": [],
   "source": [
    "# Store data for later use\n",
    "analysis['composition'] = 'MgSiO3'\n",
    "analysis['datasets'] = datasets\n",
    "\n",
    "with open(analysis_file, 'wb') as f:\n",
    "    pickle.dump(analysis, f)\n",
    "\n"
   ]
  },
  {
   "cell_type": "code",
   "execution_count": null,
   "metadata": {},
   "outputs": [],
   "source": []
  },
  {
   "cell_type": "code",
   "execution_count": 5,
   "metadata": {
    "scrolled": true
   },
   "outputs": [
    {
     "data": {
      "text/html": [
       "<div>\n",
       "<style>\n",
       "    .dataframe thead tr:only-child th {\n",
       "        text-align: right;\n",
       "    }\n",
       "\n",
       "    .dataframe thead th {\n",
       "        text-align: left;\n",
       "    }\n",
       "\n",
       "    .dataframe tbody tr th {\n",
       "        vertical-align: top;\n",
       "    }\n",
       "</style>\n",
       "<table border=\"1\" class=\"dataframe\">\n",
       "  <thead>\n",
       "    <tr style=\"text-align: right;\">\n",
       "      <th></th>\n",
       "      <th>V</th>\n",
       "      <th>T</th>\n",
       "      <th>P</th>\n",
       "      <th>E</th>\n",
       "      <th>Verr</th>\n",
       "      <th>Terr</th>\n",
       "      <th>Perr</th>\n",
       "      <th>Eerr</th>\n",
       "      <th>T_label</th>\n",
       "      <th>V_label</th>\n",
       "    </tr>\n",
       "  </thead>\n",
       "  <tbody>\n",
       "    <tr>\n",
       "      <th>0</th>\n",
       "      <td>14.187387</td>\n",
       "      <td>2559</td>\n",
       "      <td>-0.88</td>\n",
       "      <td>-20.740898</td>\n",
       "      <td>0</td>\n",
       "      <td>19</td>\n",
       "      <td>0.19</td>\n",
       "      <td>0.000083</td>\n",
       "      <td>2500.0</td>\n",
       "      <td>14.19</td>\n",
       "    </tr>\n",
       "    <tr>\n",
       "      <th>1</th>\n",
       "      <td>14.187387</td>\n",
       "      <td>3058</td>\n",
       "      <td>-0.77</td>\n",
       "      <td>-20.571909</td>\n",
       "      <td>0</td>\n",
       "      <td>22</td>\n",
       "      <td>0.21</td>\n",
       "      <td>0.000021</td>\n",
       "      <td>3000.0</td>\n",
       "      <td>14.19</td>\n",
       "    </tr>\n",
       "    <tr>\n",
       "      <th>2</th>\n",
       "      <td>14.187387</td>\n",
       "      <td>3537</td>\n",
       "      <td>-0.59</td>\n",
       "      <td>-20.411336</td>\n",
       "      <td>0</td>\n",
       "      <td>24</td>\n",
       "      <td>0.21</td>\n",
       "      <td>0.000021</td>\n",
       "      <td>3500.0</td>\n",
       "      <td>14.19</td>\n",
       "    </tr>\n",
       "    <tr>\n",
       "      <th>3</th>\n",
       "      <td>14.187387</td>\n",
       "      <td>4005</td>\n",
       "      <td>-0.33</td>\n",
       "      <td>-20.258619</td>\n",
       "      <td>0</td>\n",
       "      <td>29</td>\n",
       "      <td>0.24</td>\n",
       "      <td>0.000041</td>\n",
       "      <td>4000.0</td>\n",
       "      <td>14.19</td>\n",
       "    </tr>\n",
       "    <tr>\n",
       "      <th>4</th>\n",
       "      <td>14.187387</td>\n",
       "      <td>4484</td>\n",
       "      <td>0.01</td>\n",
       "      <td>-20.108494</td>\n",
       "      <td>0</td>\n",
       "      <td>32</td>\n",
       "      <td>0.24</td>\n",
       "      <td>0.000021</td>\n",
       "      <td>4500.0</td>\n",
       "      <td>14.19</td>\n",
       "    </tr>\n",
       "  </tbody>\n",
       "</table>\n",
       "</div>"
      ],
      "text/plain": [
       "           V     T     P          E  Verr  Terr  Perr      Eerr  T_label  \\\n",
       "0  14.187387  2559 -0.88 -20.740898     0    19  0.19  0.000083   2500.0   \n",
       "1  14.187387  3058 -0.77 -20.571909     0    22  0.21  0.000021   3000.0   \n",
       "2  14.187387  3537 -0.59 -20.411336     0    24  0.21  0.000021   3500.0   \n",
       "3  14.187387  4005 -0.33 -20.258619     0    29  0.24  0.000041   4000.0   \n",
       "4  14.187387  4484  0.01 -20.108494     0    32  0.24  0.000021   4500.0   \n",
       "\n",
       "   V_label  \n",
       "0    14.19  \n",
       "1    14.19  \n",
       "2    14.19  \n",
       "3    14.19  \n",
       "4    14.19  "
      ]
     },
     "execution_count": 5,
     "metadata": {},
     "output_type": "execute_result"
    }
   ],
   "source": [
    "data = datasets['Spera2011']\n",
    "# View data tables\n",
    "tbl = data['table']\n",
    "tbl.head()"
   ]
  },
  {
   "cell_type": "code",
   "execution_count": null,
   "metadata": {},
   "outputs": [],
   "source": []
  },
  {
   "cell_type": "markdown",
   "metadata": {},
   "source": [
    "## Visualize MD data of Spera et al. (2011)"
   ]
  },
  {
   "cell_type": "code",
   "execution_count": 6,
   "metadata": {},
   "outputs": [
    {
     "data": {
      "image/png": "[encoded data removed]",
      "text/plain": [
       "<matplotlib.figure.Figure at 0x10ba43208>"
      ]
     },
     "metadata": {},
     "output_type": "display_data"
    },
    {
     "data": {
      "image/png": "[encoded data removed]",
      "text/plain": [
       "<matplotlib.figure.Figure at 0x10ee2de48>"
      ]
     },
     "metadata": {},
     "output_type": "display_data"
    }
   ],
   "source": [
    "# Set colorbar temperature properties\n",
    "cmap = plt.get_cmap('coolwarm',len(data['T_labels']))\n",
    "delT = np.diff(data['T_labels'])[0]\n",
    "\n",
    "\n",
    "\n",
    "plt.figure()\n",
    "plt.scatter(tbl['V'],tbl['P'],c=tbl['T'], cmap=cmap)\n",
    "plt.xlabel(r'Volume  [$\\AA^3$/atom]')\n",
    "plt.ylabel(r'Pressure  [GPa]')\n",
    "cbar = plt.colorbar()\n",
    "cbar.set_ticks(data['T_labels'])\n",
    "cbar.set_label('Temperature [K]')\n",
    "plt.clim(data['T_labels'][0]-delT/2,data['T_labels'][-1]+delT/2)\n",
    "\n",
    "\n",
    "plt.figure()\n",
    "plt.scatter(tbl['V'],tbl['E'],c=tbl['T'], cmap=cmap)\n",
    "plt.xlabel(r'Volume  [$\\AA^3$/atom]')\n",
    "plt.ylabel(r'Energy  [eV/atom]')\n",
    "cbar = plt.colorbar()\n",
    "cbar.set_ticks(data['T_labels'])\n",
    "cbar.set_label('Temperature [K]')\n",
    "plt.clim(data['T_labels'][0]-delT/2,data['T_labels'][-1]+delT/2)"
   ]
  },
  {
   "cell_type": "code",
   "execution_count": null,
   "metadata": {},
   "outputs": [],
   "source": []
  }
 ],
 "metadata": {
  "kernelspec": {
   "display_name": "Python 3",
   "language": "python",
   "name": "python3"
  },
  "language_info": {
   "codemirror_mode": {
    "name": "ipython",
    "version": 3
   },
   "file_extension": ".py",
   "mimetype": "text/x-python",
   "name": "python",
   "nbconvert_exporter": "python",
   "pygments_lexer": "ipython3",
   "version": "3.6.2"
  }
 },
 "nbformat": 4,
 "nbformat_minor": 2
}
