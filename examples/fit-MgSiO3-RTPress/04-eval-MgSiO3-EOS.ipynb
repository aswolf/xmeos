{
 "cells": [
  {
   "cell_type": "code",
   "execution_count": 2,
   "metadata": {
    "collapsed": true
   },
   "outputs": [],
   "source": [
    "import matplotlib.pyplot as plt\n",
    "%matplotlib notebook\n",
    "import numpy as np\n",
    "import pandas as pd\n",
    "from scipy import interpolate\n",
    "import pickle\n",
    "\n",
    "import xmeos\n",
    "from xmeos import models\n",
    "from xmeos import datamod\n",
    "\n",
    "from collections import OrderedDict\n",
    "CONSTS = models.CONSTS"
   ]
  },
  {
   "cell_type": "code",
   "execution_count": 3,
   "metadata": {
    "collapsed": true
   },
   "outputs": [],
   "source": [
    "analysis_file = 'data/analysis.pkl'\n",
    "with open(analysis_file, 'rb') as f:\n",
    "    analysis = pickle.load(f)"
   ]
  },
  {
   "cell_type": "code",
   "execution_count": 4,
   "metadata": {},
   "outputs": [
    {
     "data": {
      "text/plain": [
       "{'KT': None,\n",
       " 'P': array(0),\n",
       " 'T': array(1673),\n",
       " 'V': array(12.803751383249672),\n",
       " 'alpha': None,\n",
       " 'wt': 10}"
      ]
     },
     "execution_count": 4,
     "metadata": {},
     "output_type": "execute_result"
    }
   ],
   "source": [
    "props_Lange = analysis['props_Lange']\n",
    "props_Ghiorso = analysis['props_Ghiorso']\n",
    "datamodel = analysis['datamodel']\n",
    "data = datamodel['data']\n",
    "\n",
    "eos_mod = datamodel['eos_mod']\n",
    "data['exp_constraint']\n"
   ]
  },
  {
   "cell_type": "code",
   "execution_count": 5,
   "metadata": {},
   "outputs": [
    {
     "data": {
      "text/plain": [
       "OrderedDict([('P', 0),\n",
       "             ('T', 1673),\n",
       "             ('V', 11.790827550351612),\n",
       "             ('KT', 10.487930644160759),\n",
       "             ('KS', 10.871889894046701),\n",
       "             ('Cv', array([ 4.25430641])),\n",
       "             ('therm_exp', 0.00010195032601739767),\n",
       "             ('gamma', 0.21464005351665716)])"
      ]
     },
     "metadata": {},
     "output_type": "display_data"
    },
    {
     "data": {
      "text/plain": [
       "{'KT': 19.3500111762087,\n",
       " 'P': 0,\n",
       " 'T': 1673,\n",
       " 'V': 12.803751383249672,\n",
       " 'alpha': 8.481830207765933e-05,\n",
       " 'betaT': 0.05167955671413378,\n",
       " 'dVdT': 0.001635}"
      ]
     },
     "metadata": {},
     "output_type": "display_data"
    }
   ],
   "source": [
    "display(eos_mod.material_properties(props_Lange['P'],props_Lange['T']))\n",
    "display(props_Lange)"
   ]
  },
  {
   "cell_type": "code",
   "execution_count": 14,
   "metadata": {
    "collapsed": true
   },
   "outputs": [],
   "source": [
    "Tfoot_grid = np.arange(1500,6001,500)\n",
    "Pgrid = np.arange(0,150.1,1)\n",
    "Vad_grid, Tad_grid = eos_mod.adiabatic_path_grid(Tfoot_grid, Pgrid)"
   ]
  },
  {
   "cell_type": "code",
   "execution_count": 1,
   "metadata": {},
   "outputs": [
    {
     "ename": "NameError",
     "evalue": "name 'plt' is not defined",
     "output_type": "error",
     "traceback": [
      "\u001b[0;31m---------------------------------------------------------------------------\u001b[0m",
      "\u001b[0;31mNameError\u001b[0m                                 Traceback (most recent call last)",
      "\u001b[0;32m<ipython-input-1-8cd55d7088f6>\u001b[0m in \u001b[0;36m<module>\u001b[0;34m()\u001b[0m\n\u001b[0;32m----> 1\u001b[0;31m \u001b[0mplt\u001b[0m\u001b[0;34m.\u001b[0m\u001b[0mfigure\u001b[0m\u001b[0;34m(\u001b[0m\u001b[0;34m)\u001b[0m\u001b[0;34m\u001b[0m\u001b[0m\n\u001b[0m\u001b[1;32m      2\u001b[0m \u001b[0;32mfor\u001b[0m \u001b[0mTad\u001b[0m \u001b[0;32min\u001b[0m \u001b[0mTad_grid\u001b[0m\u001b[0;34m:\u001b[0m\u001b[0;34m\u001b[0m\u001b[0m\n\u001b[1;32m      3\u001b[0m     \u001b[0mplt\u001b[0m\u001b[0;34m.\u001b[0m\u001b[0mplot\u001b[0m\u001b[0;34m(\u001b[0m\u001b[0mPgrid\u001b[0m\u001b[0;34m,\u001b[0m \u001b[0mTad\u001b[0m\u001b[0;34m,\u001b[0m \u001b[0;34m'-'\u001b[0m\u001b[0;34m)\u001b[0m\u001b[0;34m\u001b[0m\u001b[0m\n\u001b[1;32m      4\u001b[0m \u001b[0;34m\u001b[0m\u001b[0m\n",
      "\u001b[0;31mNameError\u001b[0m: name 'plt' is not defined"
     ]
    }
   ],
   "source": [
    "plt.figure()\n",
    "for Tad in Tad_grid:\n",
    "    plt.plot(Pgrid, Tad, '-')\n",
    "    "
   ]
  },
  {
   "cell_type": "code",
   "execution_count": null,
   "metadata": {
    "collapsed": true
   },
   "outputs": [],
   "source": [
    "plt.figure()\n",
    "for Vad in Vad_grid:\n",
    "    plt.plot(Pgrid, Vad, '-')"
   ]
  },
  {
   "cell_type": "code",
   "execution_count": null,
   "metadata": {
    "collapsed": true
   },
   "outputs": [],
   "source": []
  },
  {
   "cell_type": "code",
   "execution_count": null,
   "metadata": {
    "collapsed": true
   },
   "outputs": [],
   "source": [
    "cmap = plt.get_cmap('RdBu')\n",
    "plt.imshow(corr, cmap=cmap)\n",
    "plt.clim(-1,1)\n",
    "plt.colorbar()"
   ]
  },
  {
   "cell_type": "code",
   "execution_count": null,
   "metadata": {
    "collapsed": true
   },
   "outputs": [],
   "source": [
    "eos_mod = datamodel['eos_mod']\n",
    "tbl = datamodel['data']['table']\n",
    "Tlbl = data['T_labels']\n",
    "delT = Tlbl[1]-Tlbl[0]\n",
    "\n",
    "\n",
    "cmap = plt.get_cmap('coolwarm',len(Tlbl))\n",
    "clims = [Tlbl[0]-delT/2,Tlbl[-1]+delT/2]\n",
    "V0 = params['V0']\n",
    "\n",
    "Vmod = V0*np.linspace(.4,1.1,1001)\n",
    "\n",
    "\n",
    "plt.figure()\n",
    "for iT in Tlbl:\n",
    "    icol = cmap((iT-clims[0])/(clims[1]-clims[0]))\n",
    "    plt.plot(Vmod/V0, eos_mod.press(Vmod,iT), '-', color=icol)\n",
    "    \n",
    "plt.scatter(tbl['V']/V0,tbl['P'],c=tbl['T'], cmap=cmap)\n",
    "plt.clim(clims)\n",
    "plt.xlabel(r'$V$ / $V_0$')\n",
    "plt.ylabel(r'Pressure  [GPa]')\n",
    "cbar = plt.colorbar()\n",
    "cbar.set_ticks(Tlbl)\n",
    "\n"
   ]
  },
  {
   "cell_type": "code",
   "execution_count": null,
   "metadata": {
    "collapsed": true
   },
   "outputs": [],
   "source": [
    "plt.figure()\n",
    "for iT in Tlbl:\n",
    "    icol = cmap((iT-clims[0])/(clims[1]-clims[0]))\n",
    "    plt.plot(Vmod/V0, eos_mod.internal_energy(Vmod,iT), '-', color=icol)\n",
    "    \n",
    "plt.scatter(tbl['V']/V0,tbl['E'],c=tbl['T'], cmap=cmap)\n",
    "plt.xlabel(r'$V$ / $V_0$')\n",
    "plt.ylabel(r'Energy  [eV/atom]')\n",
    "plt.colorbar()\n",
    "plt.clim(clims)\n",
    "cbar.set_ticks(Tlbl)"
   ]
  },
  {
   "cell_type": "code",
   "execution_count": null,
   "metadata": {
    "collapsed": true
   },
   "outputs": [],
   "source": []
  },
  {
   "cell_type": "code",
   "execution_count": null,
   "metadata": {
    "collapsed": true
   },
   "outputs": [],
   "source": []
  }
 ],
 "metadata": {
  "kernelspec": {
   "display_name": "Python 3",
   "language": "python",
   "name": "python3"
  },
  "language_info": {
   "codemirror_mode": {
    "name": "ipython",
    "version": 3
   },
   "file_extension": ".py",
   "mimetype": "text/x-python",
   "name": "python",
   "nbconvert_exporter": "python",
   "pygments_lexer": "ipython3",
   "version": "3.6.2"
  }
 },
 "nbformat": 4,
 "nbformat_minor": 2
}
