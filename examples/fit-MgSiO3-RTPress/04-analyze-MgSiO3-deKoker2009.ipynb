{
 "cells": [
  {
   "cell_type": "markdown",
   "metadata": {},
   "source": [
    "# Load and Visualize MgSiO3 melt Data\n",
    "* Focus on classical simulations of Spera et al. (2011)\n",
    "    * we only analyze simulations produced with high-pressure potential set of Oganov et al. (2000)\n",
    "* Also load First Principles MD data from deKoker et al. (2009)"
   ]
  },
  {
   "cell_type": "code",
   "execution_count": null,
   "metadata": {},
   "outputs": [],
   "source": [
    "import matplotlib.pyplot as plt\n",
    "%matplotlib notebook\n",
    "import numpy as np\n",
    "import pandas as pd\n",
    "import pickle\n",
    "\n",
    "import xmeos\n",
    "from xmeos import models\n",
    "from xmeos import datamod\n",
    "CONSTS = models.CONSTS\n",
    "import copy"
   ]
  },
  {
   "cell_type": "code",
   "execution_count": null,
   "metadata": {},
   "outputs": [],
   "source": [
    "analysis_file = 'data/analysis.pkl'\n",
    "with open(analysis_file, 'rb') as f:\n",
    "    analysis = pickle.load(f)\n",
    "    \n",
    "datasets = analysis['datasets']\n",
    "param_tex_str = analysis['param_tex_str']\n",
    "eos_electronic = analysis['eos_electronic']\n",
    "\n",
    "\n"
   ]
  },
  {
   "cell_type": "code",
   "execution_count": null,
   "metadata": {},
   "outputs": [],
   "source": [
    "data = datasets['deKoker2009']\n",
    "data_S11 = datasets['Spera2011']\n",
    "# View data tables\n",
    "tbl = data['table']\n",
    "tbl"
   ]
  },
  {
   "cell_type": "code",
   "execution_count": null,
   "metadata": {},
   "outputs": [],
   "source": []
  },
  {
   "cell_type": "markdown",
   "metadata": {},
   "source": [
    "## Visualize FPMD data of deKoker et al. (2009)"
   ]
  },
  {
   "cell_type": "code",
   "execution_count": null,
   "metadata": {},
   "outputs": [],
   "source": [
    "datamodel_S11 = analysis['datamodel']\n",
    "eos_mod = copy.deepcopy(datamodel_S11['eos_mod'])\n",
    "datamodel = datamod.init_datamodel(data, eos_mod)\n",
    "\n",
    "eos_mod.apply_electronic=True\n",
    "# Set colorbar temperature properties\n",
    "#cmap = plt.get_cmap('coolwarm',len(data['T_labels']))\n",
    "cmap = plt.get_cmap('coolwarm')\n",
    "\n",
    "delT = np.diff(data['T_labels'])[0]\n",
    "\n",
    "\n",
    "dE0 = 13.75\n",
    "E0 = eos_mod.get_params()['E0'] + dE0\n",
    "eos_mod.set_param_values(E0,param_names='E0')\n",
    "\n",
    "V0 = eos_mod.get_params()['V0']\n",
    "\n",
    "eos_electronic.set_param_values(param_names=['V0'], param_values=V0)\n",
    "\n",
    "\n",
    "\n",
    "Tlbl = data['T_labels']\n",
    "# cmap = plt.get_cmap('coolwarm',len(Tlbl))\n",
    "clims = [Tlbl[0]-delT/2,Tlbl[-1]+delT/2]\n",
    "\n",
    "Vmod = V0*np.linspace(.35,1.2,1001)"
   ]
  },
  {
   "cell_type": "code",
   "execution_count": null,
   "metadata": {},
   "outputs": [],
   "source": [
    "P_electron = eos_electronic.press(tbl['V'],tbl['T'])\n",
    "E_electron = eos_electronic.energy(tbl['V'],tbl['T'])\n",
    "\n",
    "tbl['P'] -= P_electron\n",
    "tbl['E'] -= E_electron"
   ]
  },
  {
   "cell_type": "code",
   "execution_count": null,
   "metadata": {},
   "outputs": [],
   "source": [
    "\n",
    "tbl_S11 = data_S11['table']\n",
    "\n",
    "plt.figure()\n",
    "plt.scatter(tbl['V'],tbl['P'],c=tbl['T'], cmap=cmap)\n",
    "plt.scatter(tbl_S11['V'],tbl_S11['P'],c=tbl_S11['T'], s=10, cmap=cmap)\n",
    "\n",
    "for iT in data['T_labels']:\n",
    "    icol = cmap((iT-clims[0])/(clims[1]-clims[0]))\n",
    "    plt.plot(Vmod, eos_mod.press(Vmod,iT),'--',color=icol)\n",
    "    \n",
    "plt.xlabel(r'Volume  [$\\AA^3$/atom]')\n",
    "plt.ylabel(r'Pressure  [GPa]')\n",
    "cbar = plt.colorbar()\n",
    "cbar.set_ticks(data['T_labels'])\n",
    "cbar.set_label('Temperature [K]')\n",
    "plt.clim(data['T_labels'][0]-delT/2,data['T_labels'][-1]+delT/2)\n",
    "\n",
    "# plt.ylim(-2,15);\n",
    "plt.plot(Vmod,0*Vmod,'k-')\n"
   ]
  },
  {
   "cell_type": "code",
   "execution_count": null,
   "metadata": {},
   "outputs": [],
   "source": []
  },
  {
   "cell_type": "code",
   "execution_count": null,
   "metadata": {},
   "outputs": [],
   "source": [
    "tbl_S11 = data_S11['table']\n",
    "\n",
    "plt.figure()\n",
    "plt.scatter(tbl['V'],tbl['P'],c=tbl['T'], cmap=cmap)\n",
    "plt.scatter(tbl_S11['V'],tbl_S11['P'],c=tbl_S11['T'], s=10, cmap=cmap)\n",
    "\n",
    "for iT in data['T_labels']:\n",
    "    icol = cmap((iT-clims[0])/(clims[1]-clims[0]))\n",
    "    plt.plot(Vmod, eos_mod.press(Vmod,iT),'--',color=icol)\n",
    "    \n",
    "plt.xlabel(r'Volume  [$\\AA^3$/atom]')\n",
    "plt.ylabel(r'Pressure  [GPa]')\n",
    "cbar = plt.colorbar()\n",
    "cbar.set_ticks(data['T_labels'])\n",
    "cbar.set_label('Temperature [K]')\n",
    "plt.clim(data['T_labels'][0]-delT/2,data['T_labels'][-1]+delT/2)\n",
    "\n",
    "# plt.ylim(-2,15);\n",
    "plt.plot(Vmod,0*Vmod,'k-')\n"
   ]
  },
  {
   "cell_type": "code",
   "execution_count": null,
   "metadata": {},
   "outputs": [],
   "source": [
    "eos_mod.apply_electronic=True"
   ]
  },
  {
   "cell_type": "code",
   "execution_count": null,
   "metadata": {},
   "outputs": [],
   "source": [
    "\n",
    "\n",
    "plt.figure()\n",
    "plt.scatter(tbl['V'],tbl['E'],c=tbl['T'], cmap=cmap)\n",
    "\n",
    "\n",
    "for iT in data['T_labels']:\n",
    "    icol = cmap((iT-clims[0])/(clims[1]-clims[0]))\n",
    "    plt.plot(Vmod, eos_mod.internal_energy(Vmod,iT),'--',color=icol)\n",
    "    \n",
    "plt.xlabel(r'Volume  [$\\AA^3$/atom]')\n",
    "plt.ylabel(r'Energy  [eV/atom]')\n",
    "cbar = plt.colorbar()\n",
    "cbar.set_ticks(data['T_labels'])\n",
    "cbar.set_label('Temperature [K]')\n",
    "plt.clim(data['T_labels'][0]-delT/2,data['T_labels'][-1]+delT/2)"
   ]
  },
  {
   "cell_type": "code",
   "execution_count": null,
   "metadata": {},
   "outputs": [],
   "source": [
    "Tplt = [2000,2500,3000,3500,4000,4500,5000,5500,6000,6500,7000,7500,8000]\n",
    "cmap = plt.get_cmap('coolwarm',1000)\n",
    "plt.figure()\n",
    "plt.scatter(tbl['P'],tbl['E'],c=tbl['T'], cmap=cmap)\n",
    "plt.scatter(tbl_S11['P'],tbl_S11['E']+dE0,c=tbl_S11['T'], s=10, cmap=cmap)\n",
    "\n",
    "# for iT in Tplt:\n",
    "#    icol = cmap((iT-clims[0])/(clims[1]-clims[0]))\n",
    "#    plt.plot(eos_mod.press(Vmod,iT),eos_mod.internal_energy(Vmod,iT),'-',color=icol)\n",
    "    \n",
    "plt.xlabel(r'Press  [GPa]')\n",
    "plt.ylabel(r'Energy  [eV/atom]')\n",
    "cbar = plt.colorbar()\n",
    "cbar.set_ticks(data['T_labels'])\n",
    "cbar.set_label('Temperature [K]')\n",
    "plt.clim(data['T_labels'][0]-delT/2,data['T_labels'][-1]+delT/2)"
   ]
  },
  {
   "cell_type": "code",
   "execution_count": null,
   "metadata": {},
   "outputs": [],
   "source": []
  },
  {
   "cell_type": "code",
   "execution_count": null,
   "metadata": {},
   "outputs": [],
   "source": [
    "fit_calcs = ['compress','refstate','gamma','bcoef','thermal']\n",
    "fix_params = ['S0','Cvlimfac','mexp']\n",
    "#fix_params = ['S0','Cvlimfac']\n",
    "datamodel['eos_mod'].set_param_values([3/5,1], param_names=['mexp','Cvlimfac'])\n",
    "\n",
    "datamod.select_fit_params(datamodel, fit_calcs, fix_params=fix_params)\n",
    "datamodel['fit_params']"
   ]
  },
  {
   "cell_type": "code",
   "execution_count": null,
   "metadata": {},
   "outputs": [],
   "source": [
    "datamod.fit(datamodel)\n",
    "datamod.fit(datamodel, apply_bulk_mod_wt=True)"
   ]
  },
  {
   "cell_type": "code",
   "execution_count": null,
   "metadata": {},
   "outputs": [],
   "source": [
    "display('R2fit = ', datamodel['posterior']['R2fit'])\n",
    "display('Model Residual Error = ', datamodel['posterior']['fit_err'])\n",
    "display(datamodel['posterior']['param_tbl'])"
   ]
  },
  {
   "cell_type": "code",
   "execution_count": null,
   "metadata": {},
   "outputs": [],
   "source": [
    "0.5*(0.9984082415491753+.5*0.999203583185508+.5*0.9912831441297527)"
   ]
  },
  {
   "cell_type": "code",
   "execution_count": null,
   "metadata": {},
   "outputs": [],
   "source": [
    "display('R2fit = ', datamodel['posterior']['R2fit'])\n",
    "display('Model Residual Error = ', datamodel['posterior']['fit_err'])\n",
    "display(datamodel['posterior']['param_tbl'])"
   ]
  },
  {
   "cell_type": "code",
   "execution_count": null,
   "metadata": {},
   "outputs": [],
   "source": [
    ".5*(0.9987942999872395+.5*0.9993227967648857+.5*0.9919267300481781)"
   ]
  },
  {
   "cell_type": "code",
   "execution_count": null,
   "metadata": {},
   "outputs": [],
   "source": [
    ".9972-.9968"
   ]
  },
  {
   "cell_type": "code",
   "execution_count": null,
   "metadata": {},
   "outputs": [],
   "source": []
  },
  {
   "cell_type": "code",
   "execution_count": null,
   "metadata": {},
   "outputs": [],
   "source": [
    "plt.figure()\n",
    "\n",
    "posterior = datamodel['posterior']\n",
    "corr = posterior['corr']\n",
    "\n",
    "param_labels = [param_tex_str[name] for name in posterior['param_names']]\n",
    "\n",
    "\n",
    "cmap = plt.get_cmap('coolwarm')\n",
    "Nparam = len(param_labels)\n",
    "\n",
    "corr_plt = np.flipud(np.ma.masked_where(np.eye(Nparam),corr))\n",
    "plt.pcolormesh(corr_plt,cmap=cmap)\n",
    "\n",
    "\n",
    "# plt.imshow(corr, cmap=cmap)\n",
    "plt.clim(-1,1)\n",
    "plt.colorbar(label=r'Correlation Coefficient')\n",
    "\n",
    "plt.xticks(.5+np.arange(len(param_labels)),param_labels)\n",
    "plt.yticks(np.flipud(.5+np.arange(len(param_labels))),param_labels)\n",
    "\n",
    "for (index,val) in np.ndenumerate(np.flipud(corr)):\n",
    "    if index[1]!=Nparam-1-index[0]:\n",
    "        plt.text(index[1]+.5,index[0]+.5,'%+.2f'%(val),fontsize=9,\n",
    "                 horizontalalignment='center', verticalalignment='center')\n",
    "\n",
    "plt.setp(plt.gca().get_xticklines(),visible=False);\n",
    "plt.setp(plt.gca().get_yticklines(),visible=False);\n",
    "\n",
    "#plt.plot((0,11),(5,5),'k-',linewidth=2)\n",
    "#plt.plot((0,11),(7,7),'k-',linewidth=2)\n",
    "#plt.plot((4,4),(0,11),'k-',linewidth=2)\n",
    "#plt.plot((6,6),(0,11),'k-',linewidth=2)\n",
    "#plt.show()"
   ]
  },
  {
   "cell_type": "code",
   "execution_count": null,
   "metadata": {},
   "outputs": [],
   "source": []
  },
  {
   "cell_type": "code",
   "execution_count": null,
   "metadata": {},
   "outputs": [],
   "source": []
  },
  {
   "cell_type": "code",
   "execution_count": null,
   "metadata": {},
   "outputs": [],
   "source": [
    "from collections import OrderedDict\n",
    "eos_mod = datamodel['eos_mod']\n",
    "Tref = 1673\n",
    "Vref = eos_mod.volume(0,Tref)\n",
    "refvals = OrderedDict()\n",
    "refvals['Vref'] = Vref\n",
    "refvals['Kref'] = eos_mod.bulk_mod(Vref,Tref)\n",
    "refvals['Cvref'] = eos_mod.heat_capacity(Vref,Tref)/models.CONSTS['kboltz']\n",
    "display(refvals)"
   ]
  },
  {
   "cell_type": "code",
   "execution_count": null,
   "metadata": {},
   "outputs": [],
   "source": [
    "# datamod.fit(datamodel, apply_bulk_mod_wt=True)"
   ]
  },
  {
   "cell_type": "code",
   "execution_count": null,
   "metadata": {},
   "outputs": [],
   "source": []
  },
  {
   "cell_type": "code",
   "execution_count": null,
   "metadata": {},
   "outputs": [],
   "source": [
    "# Set colorbar temperature properties\n",
    "cmap = plt.get_cmap('coolwarm',len(data['T_labels']))\n",
    "delT = np.diff(data['T_labels'])[0]\n",
    "Vmod = V0*np.linspace(.39,1.2,1001)\n",
    "\n",
    "\n",
    "plt.figure()\n",
    "plt.scatter(tbl['V'],tbl['P'],c=tbl['T'], cmap=cmap)\n",
    "\n",
    "for iT in data['T_labels']:\n",
    "    icol = cmap((iT-clims[0])/(clims[1]-clims[0]))\n",
    "    plt.plot(Vmod, eos_mod.press(Vmod,iT),'-',color=icol)\n",
    "    \n",
    "plt.xlabel(r'Volume  [$\\AA^3$/atom]')\n",
    "plt.ylabel(r'Pressure  [GPa]')\n",
    "cbar = plt.colorbar()\n",
    "cbar.set_ticks(data['T_labels'])\n",
    "cbar.set_label('Temperature [K]')\n",
    "plt.clim(data['T_labels'][0]-delT/2,data['T_labels'][-1]+delT/2)\n"
   ]
  },
  {
   "cell_type": "code",
   "execution_count": null,
   "metadata": {},
   "outputs": [],
   "source": [
    "plt.figure()\n",
    "plt.scatter(tbl['V'],tbl['E'],c=tbl['T'], cmap=cmap)\n",
    "\n",
    "\n",
    "for iT in data['T_labels']:\n",
    "    icol = cmap((iT-clims[0])/(clims[1]-clims[0]))\n",
    "    plt.plot(Vmod, eos_mod.internal_energy(Vmod,iT),'-',color=icol)\n",
    "    \n",
    "plt.xlabel(r'Volume  [$\\AA^3$/atom]')\n",
    "plt.ylabel(r'Energy  [eV/atom]')\n",
    "cbar = plt.colorbar()\n",
    "cbar.set_ticks(data['T_labels'])\n",
    "cbar.set_label('Temperature [K]')\n",
    "plt.clim(data['T_labels'][0]-delT/2,data['T_labels'][-1]+delT/2)"
   ]
  },
  {
   "cell_type": "code",
   "execution_count": null,
   "metadata": {},
   "outputs": [],
   "source": [
    "def material_properties(Pref, Tref, eos_mod, Vref=None):\n",
    "    if Vref is None:\n",
    "        Vref = eos_mod.volume(Pref, Tref, Vinit=12.8)[0]\n",
    "        \n",
    "    KT = eos_mod.bulk_mod(Vref,Tref)[0]\n",
    "    CV = eos_mod.heat_capacity(Vref,Tref)\n",
    "    alpha =  eos_mod.thermal_exp(Vref,Tref)[0]\n",
    "    gamma =  eos_mod.gamma(Vref,Tref)[0]\n",
    "    KS = KT*(1+alpha*gamma*Tref)\n",
    "    props = OrderedDict()\n",
    "    props['P'] = Pref\n",
    "    props['T'] = Tref\n",
    "    props['V'] = Vref\n",
    "    props['KT'] = KT\n",
    "    props['KS'] =  KS\n",
    "    props['Cv'] = CV/CONSTS['kboltz']\n",
    "    props['therm_exp'] = alpha\n",
    "    props['gamma'] = gamma\n",
    "    return props\n",
    "\n",
    "model_props = material_properties(0,1673, eos_mod)\n",
    "display(model_props)"
   ]
  },
  {
   "cell_type": "code",
   "execution_count": null,
   "metadata": {},
   "outputs": [],
   "source": [
    "display(analysis['props_Lange'])\n",
    "display(analysis['props_Ghiorso'])"
   ]
  },
  {
   "cell_type": "code",
   "execution_count": null,
   "metadata": {},
   "outputs": [],
   "source": []
  },
  {
   "cell_type": "code",
   "execution_count": null,
   "metadata": {},
   "outputs": [],
   "source": [
    "# Save fitted model\n",
    "analysis['datamodel_dK09'] = datamodel\n",
    "with open(analysis_file, 'wb') as f:\n",
    "    pickle.dump(analysis, f)"
   ]
  },
  {
   "cell_type": "code",
   "execution_count": null,
   "metadata": {},
   "outputs": [],
   "source": []
  }
 ],
 "metadata": {
  "kernelspec": {
   "display_name": "Python 3",
   "language": "python",
   "name": "python3"
  },
  "language_info": {
   "codemirror_mode": {
    "name": "ipython",
    "version": 3
   },
   "file_extension": ".py",
   "mimetype": "text/x-python",
   "name": "python",
   "nbconvert_exporter": "python",
   "pygments_lexer": "ipython3",
   "version": "3.6.2"
  }
 },
 "nbformat": 4,
 "nbformat_minor": 2
}
