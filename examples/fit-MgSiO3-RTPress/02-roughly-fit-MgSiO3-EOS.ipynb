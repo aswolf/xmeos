{
 "cells": [
  {
   "cell_type": "code",
   "execution_count": null,
   "metadata": {},
   "outputs": [],
   "source": [
    "import matplotlib.pyplot as plt\n",
    "%matplotlib notebook\n",
    "import numpy as np\n",
    "import pandas as pd\n",
    "from scipy import interpolate\n",
    "import pickle\n",
    "from scipy import optimize\n",
    "\n",
    "\n",
    "import xmeos\n",
    "from xmeos import models\n",
    "from xmeos import datamod"
   ]
  },
  {
   "cell_type": "code",
   "execution_count": null,
   "metadata": {},
   "outputs": [],
   "source": [
    "analysis_file = 'data/analysis.pkl'\n",
    "with open(analysis_file, 'rb') as f:\n",
    "    analysis = pickle.load(f)"
   ]
  },
  {
   "cell_type": "code",
   "execution_count": null,
   "metadata": {},
   "outputs": [],
   "source": []
  },
  {
   "cell_type": "code",
   "execution_count": null,
   "metadata": {},
   "outputs": [],
   "source": [
    "# Set colorbar temperature properties\n",
    "data = analysis['datasets']['Spera2011']\n",
    "tbl = data['table']\n",
    "delT = 500\n",
    "tbl['Tlbl'] = delT*np.round(tbl['T']/delT)\n",
    "Tlbl = np.unique(tbl['Tlbl'])\n",
    "T_avg = data['T_avg']\n",
    "cmap = plt.get_cmap('coolwarm',len(Tlbl))"
   ]
  },
  {
   "cell_type": "code",
   "execution_count": null,
   "metadata": {},
   "outputs": [],
   "source": [
    "tbl.head()"
   ]
  },
  {
   "cell_type": "code",
   "execution_count": null,
   "metadata": {},
   "outputs": [],
   "source": []
  },
  {
   "cell_type": "markdown",
   "metadata": {},
   "source": [
    "## Initialize RTPress EOS model"
   ]
  },
  {
   "cell_type": "code",
   "execution_count": null,
   "metadata": {},
   "outputs": [],
   "source": [
    "# Extract reference isotherm and roughly estimate \n",
    "#   compression parameters using interpolation\n",
    "T0 = 4000\n",
    "T0 = 3000\n",
    "\n",
    "S0 = 0 # Ignore absolute entropy for simplicity\n",
    "\n",
    "kind_compress = 'Vinet'\n",
    "compress_path_const = 'T'\n",
    "kind_gamma = 'GammaFiniteStrain'\n",
    "kind_electronic = 'CvPowLaw'\n",
    "# kind_RTpoly = 'logV'\n",
    "kind_RTpoly = 'V' # V poly model has improved behavior at high compressions\n",
    "RTpoly_order = 4\n",
    "ref_energy_type='E0'\n",
    "natom = 1\n",
    "molar_mass = (24.31+28.09+3*16.0)/5.0 # g/(mol atom)\n",
    "\n",
    "eos_mod = models.RTPressEos(kind_compress=kind_compress,\n",
    "                            compress_path_const=compress_path_const,\n",
    "                            kind_gamma=kind_gamma, kind_RTpoly=kind_RTpoly,\n",
    "                            kind_electronic=kind_electronic,\n",
    "                            apply_electronic=False,\n",
    "                            RTpoly_order=RTpoly_order, ref_energy_type=ref_energy_type,\n",
    "                            natom=natom, molar_mass=molar_mass\n",
    "                           )\n",
    "eos_mod.refstate.ref_state['T0'] = T0\n",
    "eos_mod.set_param_values(S0, param_names='S0')\n"
   ]
  },
  {
   "cell_type": "code",
   "execution_count": null,
   "metadata": {},
   "outputs": [],
   "source": []
  },
  {
   "cell_type": "markdown",
   "metadata": {},
   "source": [
    "## Extract and Fit Reference Isotherm\n",
    "* Get Reference isotherm from data\n",
    "* Determine compression EOS parameters by taking appropriate derivatives"
   ]
  },
  {
   "cell_type": "code",
   "execution_count": null,
   "metadata": {},
   "outputs": [],
   "source": [
    "analysis['props_3000']"
   ]
  },
  {
   "cell_type": "code",
   "execution_count": null,
   "metadata": {},
   "outputs": [],
   "source": []
  },
  {
   "cell_type": "code",
   "execution_count": null,
   "metadata": {},
   "outputs": [],
   "source": [
    "# Extract reference isotherm and roughly estimate \n",
    "#   compression parameters using interpolation\n",
    "msk_T0 = tbl['Tlbl']==T0\n",
    "tbl_T0 = tbl.loc[msk_T0]\n",
    "E0 = interpolate.pchip_interpolate(tbl_T0['P'],tbl_T0['E'],0)\n",
    "V0 = interpolate.pchip_interpolate(tbl_T0['P'],tbl_T0['V'],0)\n",
    "dVdP0 = interpolate.pchip_interpolate(tbl_T0['P'],tbl_T0['V'],0,der=1)\n",
    "d2PdV20 = interpolate.pchip_interpolate(\n",
    "    tbl_T0['V'][::-1],tbl_T0['P'][::-1],V0,der=2)\n",
    "K0 = -V0*dVdP0\n",
    "KP0 = -(1+V0*d2PdV20*dVdP0)\n",
    "\n",
    "# V0 = analysis['props_3000']['V']\n",
    "# K0 = .9*analysis['props_3500']['KT']\n",
    "# KP0=6\n",
    "\n",
    "rho_conv = 2.35023*14.1735882\n",
    "# V0 = rho_conv*.408031\n",
    "# K0 = 13.6262\n",
    "# KP0 = 7.66573\n",
    "\n",
    "print('E0 = ',E0)\n",
    "# print('F0 = ',F0)\n",
    "print('V0 = ',V0)\n",
    "print('K0 = ',K0)\n",
    "print('KP0 = ',KP0)\n",
    "\n",
    "\n",
    "print('V0 = ',V0/rho_conv)\n",
    "print('V/V4K = ',V0/rho_conv/.408031)\n",
    "\n",
    "eos_mod.set_param_values([V0,K0,KP0,E0], ['V0','K0','KP0','E0'])"
   ]
  },
  {
   "cell_type": "code",
   "execution_count": null,
   "metadata": {},
   "outputs": [],
   "source": []
  },
  {
   "cell_type": "code",
   "execution_count": null,
   "metadata": {},
   "outputs": [],
   "source": [
    "# Plot rough compress EOS as a Vinet model\n",
    "eos_compress = models.CompressEos(kind=kind_compress, path_const='T')\n",
    "eos_compress.set_param_values([V0,K0,KP0],param_names=['V0','K0','KP0'])\n",
    "\n",
    "Vmod = V0*np.linspace(.4,1.1,1001)\n",
    "\n",
    "plt.figure()\n",
    "plt.plot(tbl_T0['V'],tbl_T0['P'],'ko')\n",
    "plt.plot(Vmod, eos_compress.press(Vmod),'r-')\n",
    "plt.xlabel(r'Volume  [$\\AA^3$/atom]')\n",
    "plt.ylabel(r'Pressure  [GPa]')"
   ]
  },
  {
   "cell_type": "code",
   "execution_count": null,
   "metadata": {},
   "outputs": [],
   "source": []
  },
  {
   "cell_type": "markdown",
   "metadata": {},
   "source": [
    "## Roughly fit average Gruneisen gamma value\n",
    "* Use Mie-Gruneisen linear relation between thermal energy and pressure to determine average numerical gamma value\n",
    "* Roughly fit Finite Strain Gamma model that captures the overall trend"
   ]
  },
  {
   "cell_type": "code",
   "execution_count": null,
   "metadata": {},
   "outputs": [],
   "source": [
    "plt.figure()\n",
    "Vuniq = np.unique(tbl['V'])\n",
    "gamma_avg = np.zeros(Vuniq.size)\n",
    "cmap = plt.get_cmap('coolwarm',len(Vuniq))\n",
    "\n",
    "for ind, iV in enumerate(Vuniq):\n",
    "    imask = (tbl['V']==Vuniq[ind])\n",
    "    iE_V = models.CONSTS['PV_ratio']*tbl['E'][imask]/iV\n",
    "    iP = tbl['P'][imask]\n",
    "    ipoly = np.polyfit(iP,iE_V,1)\n",
    "    plt.plot(iP-np.mean(iP),iE_V-np.mean(iE_V),'o-',\n",
    "             color=cmap(ind/len(Vuniq)), lw=2)\n",
    "    plt.xlabel(r'$\\Delta P$')\n",
    "    plt.ylabel(r'$\\Delta E / V$')\n",
    "    gamma_avg[ind] = 1/ipoly[0]\n",
    "    \n",
    "\n",
    "gamma_avg_md = pd.DataFrame(np.array([Vuniq,gamma_avg]).T,\n",
    "                            columns=['V','gamma'])\n"
   ]
  },
  {
   "cell_type": "code",
   "execution_count": null,
   "metadata": {},
   "outputs": [],
   "source": []
  },
  {
   "cell_type": "code",
   "execution_count": null,
   "metadata": {},
   "outputs": [],
   "source": [
    "# Construct a rough model of average gamma values by hand tuning\n",
    "kind_gamma = 'GammaFiniteStrain'\n",
    "gamma0 = 0.01\n",
    "gammap0 = -2.2\n",
    "eos_gamma = models.GammaEos(kind=kind_gamma)\n",
    "eos_gamma.set_param_values([V0,gamma0,gammap0],['V0','gamma0','gammap0'])\n",
    "\n",
    "Vmod = V0*np.linspace(.4,1.1,1001)\n",
    "\n",
    "plt.figure()\n",
    "plt.plot(gamma_avg_md['V'], gamma_avg_md['gamma'],'ko')\n",
    "plt.plot(Vmod, eos_gamma.gamma(Vmod), 'r-')\n",
    "plt.xlabel(r'Volume  [$\\AA^3$/atom]')\n",
    "plt.ylabel(r'Average  $\\gamma$')"
   ]
  },
  {
   "cell_type": "code",
   "execution_count": null,
   "metadata": {},
   "outputs": [],
   "source": [
    "eos_mod.set_param_values([gamma0, gammap0], ['gamma0','gammap0'])"
   ]
  },
  {
   "cell_type": "code",
   "execution_count": null,
   "metadata": {},
   "outputs": [],
   "source": []
  },
  {
   "cell_type": "markdown",
   "metadata": {},
   "source": [
    "## Extract Constant-Volume Heat Capacity trends\n",
    "* Extract constant-volume trends and fit Rosenfeld-Tarazona model to each\n",
    "* Describe volume-dependence of Rosenfeld-Tarazona coefficient"
   ]
  },
  {
   "cell_type": "code",
   "execution_count": null,
   "metadata": {},
   "outputs": [],
   "source": [
    "plt.figure()\n",
    "Vuniq = np.unique(tbl['V'])\n",
    "gamma_num = np.zeros(Vuniq.size)\n",
    "cmap = plt.get_cmap('coolwarm',len(Vuniq))\n",
    "\n",
    "mexp=3/5\n",
    "bcoef_V = np.zeros(Vuniq.size)\n",
    "\n",
    "for ind, iV in enumerate(Vuniq):\n",
    "    imask = (tbl['V']==Vuniq[ind])\n",
    "    iE = tbl['E'][imask]\n",
    "    iT = tbl['T'][imask]\n",
    "    itherm_perturb = (iT/T0)**mexp-1\n",
    "    ipoly = np.polyfit(itherm_perturb,iE,1)\n",
    "    plt.plot(itherm_perturb,iE-ipoly[1],'o-',\n",
    "             color=cmap(ind/len(Vuniq)), lw=2)\n",
    "    bcoef_V[ind] = ipoly[0]\n",
    "    plt.xlabel(r'$(T/T_0)^{3/5}-1$')\n",
    "    plt.ylabel(r'$\\Delta E$')"
   ]
  },
  {
   "cell_type": "code",
   "execution_count": null,
   "metadata": {},
   "outputs": [],
   "source": [
    "V_dev = eos_mod.calc_RT_vol_dev(Vuniq)\n",
    "bpoly = np.polyfit(V_dev, bcoef_V, RTpoly_order)\n",
    "bcoefs = bpoly[::-1]\n",
    "\n",
    "bcoef_param_names = eos_mod.get_array_param_names('bcoef')\n",
    "eos_mod.set_param_values(bcoefs, param_names=bcoef_param_names)\n",
    "print('b-coefficients = ', np.round(bcoefs,decimals=3))"
   ]
  },
  {
   "cell_type": "code",
   "execution_count": null,
   "metadata": {},
   "outputs": [],
   "source": [
    "Vmod = V0*np.linspace(.45,1.1,1001)\n",
    "Vmod_dev = eos_mod.calc_RT_vol_dev(Vmod)\n",
    "\n",
    "plt.figure()\n",
    "plt.plot(V_dev, bcoef_V,'ko-')\n",
    "# plt.plot(Vmod_dev, np.polyval(bpoly, Vmod_dev),'r--')\n",
    "plt.plot(Vmod_dev, eos_mod.calc_RTcoefs(Vmod),'r--')\n",
    "plt.xlabel(r'$\\log_e (V/V_0)$')\n",
    "plt.ylabel('RT b-coeffecient')"
   ]
  },
  {
   "cell_type": "code",
   "execution_count": null,
   "metadata": {},
   "outputs": [],
   "source": []
  },
  {
   "cell_type": "markdown",
   "metadata": {},
   "source": [
    "## Review Rough Initial EOS parameter guesses"
   ]
  },
  {
   "cell_type": "code",
   "execution_count": null,
   "metadata": {},
   "outputs": [],
   "source": [
    "Vmod = V0*np.linspace(.4,1.1,1001)\n",
    "params_init = eos_mod.get_params()"
   ]
  },
  {
   "cell_type": "code",
   "execution_count": null,
   "metadata": {},
   "outputs": [],
   "source": [
    "# Define pretty latex printing\n",
    "param_tex_str = {}\n",
    "param_tex_str['V0'] = r\"$V_0$\"\n",
    "param_tex_str['K0'] = r\"$K_0$\"\n",
    "param_tex_str['KP0'] = r\"$K'_0$\"\n",
    "param_tex_str['gamma0'] = r\"$\\gamma_0$\"\n",
    "param_tex_str['gammap0'] = r\"$\\gamma'_0$\"\n",
    "param_tex_str['mexp'] = r\"$m$\"\n",
    "param_tex_str['Cvlimfac'] = r\"$C_V^{\\rm lim}$\"\n",
    "param_tex_str['S0'] = r\"$S_0$\"\n",
    "param_tex_str['E0'] = r\"$E_0$\"\n",
    "for ind in np.arange(RTpoly_order+1):\n",
    "    param_tex_str['_bcoef_{:d}'.format(ind)] = r\"$b_{:d}$\".format(ind)\n",
    "    \n",
    "    \n",
    "# param_tex_str['_bcoef_0'] = r\"$b_0$\"\n",
    "# param_tex_str['_bcoef_1'] = r\"$b_1$\"\n",
    "# param_tex_str['_bcoef_2'] = r\"$b_2$\"\n",
    "# param_tex_str['_bcoef_3'] = r\"$b_3$\"\n",
    "# param_tex_str['_bcoef_4'] = r\"$b_4$\""
   ]
  },
  {
   "cell_type": "code",
   "execution_count": null,
   "metadata": {},
   "outputs": [],
   "source": [
    "param_tex_str"
   ]
  },
  {
   "cell_type": "code",
   "execution_count": null,
   "metadata": {},
   "outputs": [],
   "source": [
    "analysis['gamma_avg_md'] = gamma_avg_md\n",
    "analysis['params_init'] = params_init\n",
    "analysis['eos_mod'] = eos_mod\n",
    "analysis['param_tex_str'] = param_tex_str\n",
    "with open(analysis_file, 'wb') as f:\n",
    "    pickle.dump(analysis, f)"
   ]
  },
  {
   "cell_type": "code",
   "execution_count": null,
   "metadata": {},
   "outputs": [],
   "source": []
  },
  {
   "cell_type": "markdown",
   "metadata": {},
   "source": [
    "## View Rough Initial Guess for ALL data\n",
    "* This is obviously not the best model, but it is at least in the neighborhood of a reasonable model\n",
    "* This rough model will act as an initial guess for model fitting"
   ]
  },
  {
   "cell_type": "code",
   "execution_count": null,
   "metadata": {},
   "outputs": [],
   "source": [
    "cmap = plt.get_cmap('coolwarm',len(Tlbl))\n",
    "clims = [Tlbl[0]-delT/2,Tlbl[-1]+delT/2]\n",
    "\n",
    "\n",
    "plt.figure()\n",
    "for iT in data['T_avg']:\n",
    "    icol = cmap((iT-clims[0])/(clims[1]-clims[0]))\n",
    "    plt.plot(Vmod/V0, eos_mod.press(Vmod,iT), '-', color=icol)\n",
    "    \n",
    "plt.scatter(tbl['V']/V0,tbl['P'],c=tbl['T'], cmap=cmap)\n",
    "plt.clim(clims)\n",
    "plt.xlabel(r'$V$ / $V_0$')\n",
    "plt.ylabel(r'Pressure  [GPa]')\n",
    "cbar = plt.colorbar()\n",
    "cbar.set_ticks(Tlbl)\n",
    "\n",
    "\n",
    "\n",
    "plt.figure()\n",
    "for iT in data['T_avg']:\n",
    "    icol = cmap((iT-clims[0])/(clims[1]-clims[0]))\n",
    "    plt.plot(Vmod/V0, eos_mod.internal_energy(Vmod,iT), '-', color=icol)\n",
    "    \n",
    "plt.scatter(tbl['V']/V0,tbl['E'],c=tbl['T'], cmap=cmap)\n",
    "plt.xlabel(r'$V$ / $V_0$')\n",
    "plt.ylabel(r'Energy  [eV/atom]')\n",
    "plt.colorbar()\n",
    "plt.clim(clims)\n",
    "cbar.set_ticks(Tlbl)\n",
    "\n"
   ]
  },
  {
   "cell_type": "code",
   "execution_count": null,
   "metadata": {},
   "outputs": [],
   "source": []
  },
  {
   "cell_type": "code",
   "execution_count": null,
   "metadata": {},
   "outputs": [],
   "source": []
  }
 ],
 "metadata": {
  "kernelspec": {
   "display_name": "Python 3",
   "language": "python",
   "name": "python3"
  },
  "language_info": {
   "codemirror_mode": {
    "name": "ipython",
    "version": 3
   },
   "file_extension": ".py",
   "mimetype": "text/x-python",
   "name": "python",
   "nbconvert_exporter": "python",
   "pygments_lexer": "ipython3",
   "version": "3.6.2"
  }
 },
 "nbformat": 4,
 "nbformat_minor": 2
}
